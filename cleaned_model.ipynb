{
  "cells": [
    {
      "cell_type": "code",
      "execution_count": 18,
      "metadata": {
        "colab": {
          "base_uri": "https://localhost:8080/"
        },
        "id": "68ceTS8Jz7jz",
        "outputId": "b43f13f7-ea6b-4199-e037-4ad43fd887f7"
      },
      "outputs": [],
      "source": [
        "# !pip install emoji nlp_id transformers tensorflow_addons catboost"
      ]
    },
    {
      "cell_type": "code",
      "execution_count": 19,
      "metadata": {
        "colab": {
          "base_uri": "https://localhost:8080/"
        },
        "id": "78X9EeF4yuTA",
        "outputId": "8d24bcee-bcc1-416e-b2b7-9fa9e17fd88a"
      },
      "outputs": [],
      "source": [
        "import os\n",
        "from termcolor import colored\n",
        "from tqdm import tqdm\n",
        "import warnings\n",
        "from IPython.display import clear_output\n",
        "warnings.filterwarnings(\"ignore\", category=DeprecationWarning) \n",
        "\n",
        "import pandas as pd\n",
        "import random\n",
        "import numpy as np\n",
        "import seaborn as sns\n",
        "import matplotlib.pyplot as plt\n",
        "\n",
        "import cv2\n",
        "\n",
        "import re\n",
        "import emoji\n",
        "from nlp_id import Lemmatizer, StopWord\n",
        "import string\n",
        "\n",
        "from sklearn.model_selection import train_test_split\n",
        "\n",
        "import tensorflow as tf\n",
        "import tensorflow_addons as tfa\n",
        "import keras.backend as K\n",
        "\n",
        "from transformers import TFBertModel\n",
        "from transformers import AutoTokenizer\n",
        "\n",
        "import sys\n",
        "IN_COLAB = 'google.colab' in sys.modules\n",
        "if IN_COLAB:\n",
        "  from google.colab import drive\n",
        "  drive.mount('/content/drive', force_remount=True)\n",
        "\n",
        "RUN_OPTIONAL_CELLS = True"
      ]
    },
    {
      "cell_type": "code",
      "execution_count": 20,
      "metadata": {
        "id": "tUrWQEtuzba8"
      },
      "outputs": [],
      "source": [
        "def get_path(path:str):\n",
        "  '''\n",
        "  Dynamic Path Finding for cloud and local computing\n",
        "  '''\n",
        "  CLOUD_PATH = '/content/drive/MyDrive/Cloud Computing Data/datathon_2022/'\n",
        "  if IN_COLAB:\n",
        "    return (CLOUD_PATH+path).replace('//', '/')\n",
        "  return path\n",
        "    "
      ]
    },
    {
      "cell_type": "code",
      "execution_count": 21,
      "metadata": {
        "id": "BAtxCxdpyuTB"
      },
      "outputs": [],
      "source": [
        "train = pd.read_csv(get_path('data/train.csv'), parse_dates=['created_at'])\n",
        "test = pd.read_csv(get_path('data/test.csv'), parse_dates=['created_at'])\n",
        "target = pd.DataFrame({'label': train['label'].values})\n",
        "DROP = ['url', 'user_id']"
      ]
    },
    {
      "cell_type": "markdown",
      "metadata": {},
      "source": [
        "# Data Preparation"
      ]
    },
    {
      "cell_type": "markdown",
      "metadata": {
        "id": "tVsrz6SPyuTC"
      },
      "source": [
        "## Image"
      ]
    },
    {
      "cell_type": "code",
      "execution_count": 22,
      "metadata": {
        "id": "mPWrL_b3yuTD"
      },
      "outputs": [],
      "source": [
        "IMG_SHAPE = (260, 260, 3)"
      ]
    },
    {
      "cell_type": "code",
      "execution_count": 23,
      "metadata": {
        "id": "erubofOhyuTE"
      },
      "outputs": [],
      "source": [
        "def _load_img(file_path:str):\n",
        "    \"\"\"\n",
        "        convert file_path to numpy array image with shape: globals()['IMG_SHAPE']\n",
        "        param:\n",
        "            file_path: .csv or folder path of a image\n",
        "    \"\"\"\n",
        "    if file_path.endswith('.csv'):\n",
        "        data = pd.read_csv(file_path)\n",
        "        img_arr = None\n",
        "        for inx, row in tqdm(data.iterrows(), total=len(data)):\n",
        "            nw_img_path = row['media']\n",
        "            if img_arr is None:\n",
        "                img_arr = cv2.resize(cv2.cvtColor(cv2.imread(f'{get_path(\"data/media/\"+nw_img_path)}'), cv2.COLOR_RGB2BGR), IMG_SHAPE[:-1]).reshape(1, *IMG_SHAPE)\n",
        "            else:\n",
        "                img_arr = np.vstack([img_arr, cv2.resize(cv2.cvtColor(cv2.imread(f'{get_path(\"data/media/\"+nw_img_path)}'), cv2.COLOR_RGB2BGR), IMG_SHAPE[:-1]).reshape(1, *IMG_SHAPE)])\n",
        "        return img_arr\n",
        "    else:\n",
        "        img_arr = None\n",
        "        for current_file in os.listdir(file_path):\n",
        "            if not current_file.endswith('.jpg'):\n",
        "                continue\n",
        "            nw_img_path = os.path.join(file_path, current_file)\n",
        "            if img_arr is None:\n",
        "                img_arr = cv2.resize(cv2.cvtColor(cv2.imread(f'{get_path(\"data/media/\"+nw_img_path)}'), cv2.COLOR_RGB2BGR), IMG_SHAPE[:-1]).reshape(1, *IMG_SHAPE)\n",
        "            else:\n",
        "                img_arr = np.vstack([img_arr, cv2.resize(cv2.cvtColor(cv2.imread(f'{get_path(\"data/media/\"+nw_img_path)}'), cv2.COLOR_RGB2BGR), IMG_SHAPE[:-1]).reshape(1, *IMG_SHAPE)])\n",
        "        return img_arr\n",
        "        \n",
        "def get_image_dataset():\n",
        "    \"\"\"\n",
        "        get original image dataset\n",
        "        return:\n",
        "            train_img\n",
        "            test_img\n",
        "            target\n",
        "    \"\"\"\n",
        "    target = pd.read_csv(get_path(f'checkpoints/img_arr_(600, 600, 3)_target.csv'))\n",
        "    file_name = get_path(f'checkpoints/img_arr_{IMG_SHAPE}')\n",
        "    if os.path.exists(file_name+'.npy'):\n",
        "        train_img = np.load(file_name+'.npy')\n",
        "    else:\n",
        "        train_img = _load_img(get_path('data/train.csv'))\n",
        "        np.save(file_name, train_img)\n",
        "    \n",
        "    test_name = get_path(f'checkpoints/test_img_arr_{IMG_SHAPE}')\n",
        "    if os.path.exists(test_name+'.npy'):\n",
        "        test_img = np.load(test_name+'.npy')\n",
        "    else:\n",
        "        test_img = _load_img(get_path('data/test.csv'))\n",
        "        np.save(test_name, test_img)\n",
        "    return train_img, test_img, target\n",
        "\n",
        "def get_oversampled_train_image_dataset(test_split_ratio:float = 0.2):\n",
        "    \"\"\"\n",
        "        return oversampled training data with validation split that avoid data leakage\n",
        "        return\n",
        "            train_x, val_x, train_y, val_y\n",
        "    \"\"\"\n",
        "    train_img, test_img, target = get_image_dataset()\n",
        "\n",
        "    train_x, val_x, train_y, val_y = train_test_split(train_img, target, test_size=test_split_ratio)\n",
        "    \n",
        "    pos_features = train_x[train_y['label'] == 1]\n",
        "    neg_features = train_x[~(train_y['label'] == 1)]\n",
        "\n",
        "    pos_labels = train_y[train_y['label'] == 1]\n",
        "    neg_labels = train_y[train_y['label'] == 0]\n",
        "\n",
        "    assert len(pos_features)+len(neg_features) == len(pos_labels)+len(neg_labels)\n",
        "\n",
        "    nw_features = pos_features[:]\n",
        "    nw_labels = pos_labels.copy(deep=True)\n",
        "\n",
        "    train_img = np.concatenate([pos_features, neg_features, nw_features, nw_features])\n",
        "    target = pd.concat([pos_labels, neg_labels, nw_labels, nw_labels], axis=0)\n",
        "    assert len(train_img) == len(target)\n",
        "    return train_img, val_x, target, val_y"
      ]
    },
    {
      "cell_type": "markdown",
      "metadata": {
        "id": "OlbhMsQmeePu"
      },
      "source": [
        "## Text"
      ]
    },
    {
      "cell_type": "code",
      "execution_count": 25,
      "metadata": {
        "id": "Wf3afSE4eePu"
      },
      "outputs": [],
      "source": [
        "MAX_WORD = 50\n",
        "\n",
        "def get_text_dataset():\n",
        "    return train['text'].copy(), test['text'].copy(), target.copy()"
      ]
    },
    {
      "cell_type": "markdown",
      "metadata": {},
      "source": [
        "### Max Word untuk Parameter Model Text"
      ]
    },
    {
      "cell_type": "code",
      "execution_count": 26,
      "metadata": {
        "colab": {
          "base_uri": "https://localhost:8080/",
          "height": 296
        },
        "id": "CrE2xdemeeP1",
        "outputId": "bdf2ca02-325e-4c2a-9d92-359284342d6c"
      },
      "outputs": [
        {
          "name": "stdout",
          "output_type": "stream",
          "text": [
            "Maksimal kata pada variabel text : \u001b[32m56\u001b[0m\n"
          ]
        },
        {
          "data": {
            "image/png": "[encoded data removed]",
            "text/plain": [
              "<Figure size 640x480 with 1 Axes>"
            ]
          },
          "metadata": {},
          "output_type": "display_data"
        }
      ],
      "source": [
        "sns.histplot(train['text'].map(lambda x: len(x.split())))\n",
        "plt.axvline(MAX_WORD, color='green', label='treshold untuk text truncation')\n",
        "plt.legend()\n",
        "plt.ylabel('Banyak Dokumen')\n",
        "plt.xlabel('Panjang Dokumen')\n",
        "plt.savefig('max_word.jpg')\n",
        "print(f'Maksimal kata pada variabel text :', colored(train['text'].map(lambda x: len(x.split())).max(), 'green'))"
      ]
    },
    {
      "cell_type": "markdown",
      "metadata": {
        "id": "BaDvcqyCeeP2"
      },
      "source": [
        "### Positive and Negative Words"
      ]
    },
    {
      "cell_type": "code",
      "execution_count": 27,
      "metadata": {
        "colab": {
          "base_uri": "https://localhost:8080/",
          "height": 279
        },
        "id": "BjaJUARIeeP2",
        "outputId": "9147752f-b5f8-46bc-b458-934ac7c4914f"
      },
      "outputs": [
        {
          "data": {
            "image/png": "[encoded data removed]",
            "text/plain": [
              "<Figure size 640x480 with 1 Axes>"
            ]
          },
          "metadata": {},
          "output_type": "display_data"
        }
      ],
      "source": [
        "sentword_score = {}\n",
        "\n",
        "def load_sentword(filename):\n",
        "  file = open(get_path(filename), \"r\")\n",
        "  file.readline()\n",
        "  for line in file:\n",
        "    word, score = line.strip().split(\"\\t\")\n",
        "    score = int(score)\n",
        "    sentword_score[word] = score\n",
        "  file.close()\n",
        "\n",
        "load_sentword(\"tools/negative.tsv\")\n",
        "load_sentword(\"tools/positive.tsv\")\n",
        "\n",
        "import matplotlib.patches as mpatches\n",
        "\n",
        "num_pos = []\n",
        "num_neg = []\n",
        "scores  = []\n",
        "\n",
        "for _, row in train.iterrows():\n",
        "  tokens = row[\"text\"].split()\n",
        "  label = row[target.columns[0]]\n",
        "  num_negative, num_positive = 0, 0\n",
        "\n",
        "  for token in tokens:\n",
        "    if token in sentword_score:\n",
        "      if (sentword_score[token] < 0):\n",
        "        num_negative += 1\n",
        "      elif (sentword_score[token] > 0):\n",
        "        num_positive += 1\n",
        "  num_pos.append(num_positive)\n",
        "  num_neg.append(num_negative)\n",
        "  scores.append(label)\n",
        "\n",
        "# # tambahkan kolom di dataframe\n",
        "# train[\"pos_words\"] = num_pos\n",
        "# train[\"neg_words\"] = num_neg\n",
        "\n",
        "num_pos = np.array(num_pos)\n",
        "num_neg = np.array(num_neg)\n",
        "num_pos = num_pos + np.random.normal(0, 0.2, len(num_pos))\n",
        "num_neg = num_neg + np.random.normal(0, 0.2, len(num_neg))\n",
        "\n",
        "colors = ['g' if score == 1 else 'r' for score in scores]\n",
        "plt.scatter(num_pos, num_neg, c = colors, alpha=0.3)\n",
        "plt.xlabel('# positive words')\n",
        "plt.ylabel('# negative words')\n",
        "\n",
        "# Legend\n",
        "red_patch = mpatches.Patch(color='red', label='Negative')\n",
        "green_patch = mpatches.Patch(color='green', label='Positive')\n",
        "\n",
        "plt.legend(handles=[red_patch, green_patch])\n",
        "plt.savefig('pos_neg_word.jpg')\n",
        "plt.show()"
      ]
    },
    {
      "cell_type": "markdown",
      "metadata": {
        "id": "WeoUY4a5eeP3"
      },
      "source": [
        "## Tabular"
      ]
    },
    {
      "cell_type": "code",
      "execution_count": null,
      "metadata": {},
      "outputs": [],
      "source": [
        "def get_date_feature(df:pd.DataFrame, col:str) -> pd.DataFrame:\n",
        "    df['year'] = df[col].dt.year\n",
        "    df['month'] = df[col].dt.month\n",
        "    df['week'] = np.int32(df[col].dt.isocalendar().week)\n",
        "    df['weekday'] = df[col].dt.weekday\n",
        "    df['quarter'] = df[col].dt.quarter\n",
        "    df['day_of_year'] = df[col].dt.day_of_year\n",
        "    df['day'] = df[col].dt.day\n",
        "    df['day_of_week'] = df[col].dt.day_of_week\n",
        "    return df"
      ]
    },
    {
      "cell_type": "code",
      "execution_count": 28,
      "metadata": {
        "colab": {
          "base_uri": "https://localhost:8080/"
        },
        "id": "D-qh1Yd7eeP3",
        "outputId": "6aabfa1a-f712-4040-f324-a83e9c5ec145"
      },
      "outputs": [
        {
          "data": {
            "text/plain": [
              "Index(['created_at', 'id', 'user_id', 'user_name', 'url', 'text', 'media',\n",
              "       'label'],\n",
              "      dtype='object')"
            ]
          },
          "execution_count": 28,
          "metadata": {},
          "output_type": "execute_result"
        }
      ],
      "source": [
        "train.columns"
      ]
    },
    {
      "cell_type": "code",
      "execution_count": 29,
      "metadata": {
        "id": "s49S64VQeeP3"
      },
      "outputs": [],
      "source": [
        "def get_positive_negative_word(df, is_train):\n",
        "    def load_sentword(filename):\n",
        "        file = open(get_path(filename), \"r\")\n",
        "        file.readline()\n",
        "        for line in file:\n",
        "            word, score = line.strip().split(\"\\t\")\n",
        "            score = int(score)\n",
        "            sentword_score[word] = score\n",
        "        file.close()\n",
        "\n",
        "    load_sentword(\"tools/negative.tsv\")\n",
        "    load_sentword(\"tools/positive.tsv\")\n",
        "\n",
        "    num_pos = []\n",
        "    num_neg = []\n",
        "    tot_pos = []\n",
        "    tot_neg = []\n",
        "\n",
        "    if is_train:\n",
        "        temp = train\n",
        "    else:\n",
        "        temp = test\n",
        "\n",
        "    for _, row in temp.iterrows():\n",
        "        tokens = row[\"text\"].split()\n",
        "        num_negative, num_positive, total_positive, total_negative = 0, 0, 0, 0\n",
        "\n",
        "        for token in tokens:\n",
        "            if token in sentword_score:\n",
        "                if (sentword_score[token] < 0):\n",
        "                    total_negative += sentword_score[token]\n",
        "                    num_negative += 1\n",
        "                    \n",
        "                elif (sentword_score[token] > 0):\n",
        "                    total_positive += sentword_score[token]\n",
        "                    num_positive += 1\n",
        "        num_pos.append(num_positive)\n",
        "        num_neg.append(num_negative)\n",
        "        tot_pos.append(total_positive)\n",
        "        tot_neg.append(total_negative)\n",
        "\n",
        "    # tambahkan kolom di dataframe\n",
        "    df[\"pos_words\"] = num_pos\n",
        "    df[\"neg_words\"] = num_neg\n",
        "    df[\"sum_pos_words\"] = tot_pos\n",
        "    df[\"sum_neg_words\"] = tot_neg\n",
        "    return df\n",
        "\n",
        "def get_tabular_dataset():\n",
        "    \"\"\"\n",
        "        return:\n",
        "            train\n",
        "            test\n",
        "            target\n",
        "    \"\"\"\n",
        "    tabular_train = train.copy()\n",
        "    tabular_test = test.copy()\n",
        "\n",
        "    tabular_train = get_date_feature(tabular_train, 'created_at')\n",
        "    tabular_test = get_date_feature(tabular_test, 'created_at')\n",
        "\n",
        "    tabular_train = tabular_train.drop(['created_at', 'id', 'user_id', 'user_name', 'url', 'text', 'media', 'label'], axis=1)\n",
        "    tabular_test = tabular_test.drop(['created_at', 'id', 'user_id', 'user_name', 'url', 'text', 'media'], axis=1)\n",
        "    \n",
        "    tabular_train = get_positive_negative_word(tabular_train, 1)\n",
        "    tabular_test = get_positive_negative_word(tabular_test, 0)\n",
        "    \n",
        "    iklim = pd.read_csv(get_path('data/iklim_cleaned.csv'))\n",
        "\n",
        "    tabular_train = pd.merge(tabular_train, iklim, left_on=['month', 'year'], right_on=['bulan', 'tahun'], validate='many_to_one')\n",
        "    tabular_test = pd.merge(tabular_test, iklim, left_on=['month', 'year'], right_on=['bulan', 'tahun'], validate='many_to_one')\n",
        "    return tabular_train, tabular_test, target.copy()"
      ]
    },
    {
      "cell_type": "markdown",
      "metadata": {
        "id": "9XxGPJLzeeP4"
      },
      "source": [
        "# Modelling"
      ]
    },
    {
      "cell_type": "code",
      "execution_count": 30,
      "metadata": {},
      "outputs": [],
      "source": [
        "def f1_loss(y_true, y_pred):\n",
        "    \"\"\"\n",
        "        f1 differentiable for loss function \n",
        "    \"\"\"\n",
        "    true_positives = K.sum(K.round(K.clip(y_true * y_pred, 0, 1)))\n",
        "    possible_positives = K.sum(K.round(K.clip(y_true, 0, 1)))\n",
        "    predicted_positives = K.sum(K.round(K.clip(y_pred, 0, 1)))\n",
        "    precision = true_positives / (predicted_positives + K.epsilon())\n",
        "    recall = true_positives / (possible_positives + K.epsilon())\n",
        "    return 2 * (precision * recall) / (precision+recall + K.epsilon())\n",
        "import tensorflow as tf\n",
        "import keras\n",
        "from keras import layers, activations, losses, optimizers, initializers, regularizers, metrics, Input, models\n",
        "import sklearn.metrics as skMetrics\n",
        "from sklearn.model_selection import train_test_split\n",
        "\n",
        "def plot_hist(hist):\n",
        "    \"\"\"\n",
        "        Hist TF .fit Visualization for parameter finding\n",
        "    \"\"\"\n",
        "    fig = plt.figure()\n",
        "    fig.add_subplot(1, 2, 1)\n",
        "    plt.plot(hist.history['acc'], label = 'train')\n",
        "    plt.plot(hist.history['val_acc'], label = 'validation')\n",
        "    plt.xlabel('acc')\n",
        "    plt.legend()\n",
        "    fig.add_subplot(1, 2, 2)\n",
        "    plt.plot(hist.history['mae'], label = 'train')\n",
        "    plt.plot(hist.history['val_mae'], label = 'validation')\n",
        "    plt.xlabel('mae')\n",
        "    plt.legend()"
      ]
    },
    {
      "cell_type": "markdown",
      "metadata": {},
      "source": [
        "## Text Model Preparation"
      ]
    },
    {
      "cell_type": "code",
      "execution_count": 31,
      "metadata": {
        "id": "dV0Rhl5FeeP4"
      },
      "outputs": [],
      "source": [
        "tokenizer = AutoTokenizer.from_pretrained(\"indolem/indobertweet-base-uncased\")\n",
        "bert_model = TFBertModel.from_pretrained(\"indolem/indobertweet-base-uncased\", \\\n",
        "                                         output_attentions=True, \\\n",
        "                                         from_pt = True)\n",
        "\n",
        "def bert_tokenize(documents, is_tuple = False):\n",
        "  if not is_tuple:\n",
        "    tokenized = tokenizer(documents, padding='max_length', max_length=MAX_WORD, truncation=True)\n",
        "  else:\n",
        "    tokenized = tokenizer(documents[0], documents[1], padding='max_length', max_length=MAX_WORD, truncation=True)\n",
        "  ids = np.array(tokenized['input_ids'])\n",
        "  ams = np.array(tokenized['token_type_ids'])\n",
        "  msk = np.array(tokenized['attention_mask'])\n",
        "  return ids, ams, msk\n",
        "clear_output()"
      ]
    },
    {
      "cell_type": "markdown",
      "metadata": {
        "id": "h7R8F9vdsxuQ"
      },
      "source": [
        "## Machine Learning Finishing Model"
      ]
    },
    {
      "cell_type": "code",
      "execution_count": 32,
      "metadata": {
        "id": "oEOHvIzys0Vh"
      },
      "outputs": [],
      "source": [
        "################################################ Text model ################################################\n",
        "input_ids_layer = tf.keras.layers.Input(shape=(MAX_WORD,), \n",
        "                                        name='input_ids', \n",
        "                                        dtype='int32')\n",
        "input_attention_mask = tf.keras.layers.Input(shape=(MAX_WORD,), \n",
        "                                             name='input_attention_mask', \n",
        "                                             dtype='int32')\n",
        "input_type_ids = tf.keras.layers.Input(shape=(MAX_WORD,), \n",
        "                                       name='input_type_ids', \n",
        "                                       dtype='int32')\n",
        "last_hidden_state = bert_model([input_ids_layer, input_attention_mask, input_type_ids]).last_hidden_state\n",
        "for layer in bert_model.layers:\n",
        "    layer.trainable = False\n",
        "cls_last_output = last_hidden_state[:, 0, :]\n",
        "dense_t_1 = layers.Dense(450, activation='relu', kernel_initializer = tf.keras.initializers.GlorotNormal(seed = 42),bias_initializer = 'zeros',\n",
        "                                   kernel_regularizer = tf.keras.regularizers.L1(l1=1e-3),\n",
        "                                   bias_regularizer = tf.keras.regularizers.L1(1e-3))(cls_last_output)\n",
        "dropout_t_1 = layers.Dropout(.5)(dense_t_1)\n",
        "output_text = tf.keras.layers.Dense(1, \n",
        "                              activation = 'sigmoid',\n",
        "                              bias_initializer = 'zeros',\n",
        "                              name = 'dense_classifier')(dropout_t_1)\n",
        "####\n",
        "text_model = tf.keras.Model([input_ids_layer, input_attention_mask, input_type_ids], output_text)\n",
        "text_model.compile('adam', \n",
        "              loss = losses.BinaryCrossentropy(),\n",
        "              metrics = [f1_loss, 'acc', 'mae'])\n",
        "##############################################################################################################\n",
        "\n",
        "################################################ Image Model #################################################\n",
        "from keras.applications import EfficientNetB2\n",
        "from keras.applications.efficientnet import preprocess_input\n",
        "\n",
        "input_img = Input(shape=IMG_SHAPE, dtype=tf.float32)\n",
        "efficientNetB7_layer = EfficientNetB2()(preprocess_input(input_img))\n",
        "efficientNetB7_layer.trainable = False\n",
        "flatten_layer = layers.Flatten()(efficientNetB7_layer)\n",
        "dense_layer = layers.Dense(300, activation='relu', kernel_initializer = tf.keras.initializers.GlorotNormal(seed = 42), bias_initializer = 'zeros',\n",
        "                                   kernel_regularizer = tf.keras.regularizers.L1(l1=1e-3),\n",
        "                                   bias_regularizer = tf.keras.regularizers.L1(1e-3))(flatten_layer)\n",
        "dropout_layer = layers.Dropout(.5)(dense_layer)\n",
        "output_img = tf.keras.layers.Dense(1, activation = 'sigmoid')(dropout_layer)\n",
        "####\n",
        "img_model = tf.keras.Model(input_img, output_img)\n",
        "img_model.compile('adam', loss = losses.BinaryCrossentropy(), metrics = [f1_loss, 'acc', 'mae'])\n",
        "##############################################################################################################\n",
        "\n",
        "############################################# Concat with tabular ############################################\n",
        "tbr_train, test_tbr, _ = get_tabular_dataset()\n",
        "train_img, test_img, target = get_image_dataset()\n",
        "train_text, test_text, target = get_text_dataset()\n",
        "\n",
        "train_text, val_text, train_y, val_y, train_tbr, val_tbr, train_img, val_img  = train_test_split(train_text, target, tbr_train, train_img, test_size=.2, stratify=target)\n",
        "\n",
        "train_ids, train_ams, train_msk = bert_tokenize(list(train_text))\n",
        "val_ids, val_ams, val_msk = bert_tokenize(list(val_text))\n",
        "test_ids, test_ams, test_msk = bert_tokenize(list(test_text))\n",
        "##############################################################################################################"
      ]
    },
    {
      "cell_type": "code",
      "execution_count": 162,
      "metadata": {
        "id": "tI3tUQy4xW4h"
      },
      "outputs": [],
      "source": [
        "from keras import callbacks\n",
        "val_mae_earlystopping = callbacks.EarlyStopping('val_f1_score', patience=30, mode='max', restore_best_weights=True)\n",
        "hist = text_model.fit(\n",
        "    x = [train_ids, train_ams, train_msk],\n",
        "    y = tf.cast(train_y, tf.float32),\n",
        "    epochs = 300,\n",
        "    batch_size = 32,\n",
        "    validation_data = ([val_ids, val_ams, val_msk], tf.cast(val_y, tf.float32)),\n",
        "    callbacks=[val_mae_earlystopping]\n",
        ")\n",
        "hist2 = img_model.fit(\n",
        "    x = train_img,\n",
        "    y = tf.cast(train_y, tf.float32),\n",
        "    epochs = 300,\n",
        "    batch_size = 32,\n",
        "    validation_data = (val_img, tf.cast(val_y, tf.float32)),\n",
        "    callbacks=[val_mae_earlystopping]\n",
        ")\n",
        "clear_output()"
      ]
    },
    {
      "cell_type": "code",
      "execution_count": 163,
      "metadata": {
        "colab": {
          "base_uri": "https://localhost:8080/"
        },
        "id": "nl2WdNIs50Z0",
        "outputId": "27bc12e9-145e-48b3-dd6f-810647317c5c"
      },
      "outputs": [
        {
          "name": "stdout",
          "output_type": "stream",
          "text": [
            "IMG Model\n",
            "Training F1 :\t 0.902654867256637\n",
            "Validation F1 :\t 0.624113475177305\n",
            "TXT Model\n",
            "Training F1 :\t 0.6918238993710691\n",
            "Validation F1 :\t 0.6545454545454545\n"
          ]
        }
      ],
      "source": [
        "print('IMG Model')\n",
        "print(f\"{colored('Training F1 :', 'cyan')}\\t\", skMetrics.f1_score(train_y, [int(x>.5) for x in img_model.predict(train_img, verbose=0)]))\n",
        "print(f\"{colored('Validation F1 :', 'red')}\\t\", skMetrics.f1_score(val_y, [int(x>.5) for x in img_model.predict(val_img, verbose=0)]))\n",
        "print('TXT Model')\n",
        "print(f\"{colored('Training F1 :', 'cyan')}\\t\", skMetrics.f1_score(train_y, [int(x>.5) for x in text_model.predict([train_ids, train_ams, train_msk], verbose=0)]))\n",
        "print(f\"{colored('Validation F1 :', 'red')}\\t\", skMetrics.f1_score(val_y, [int(x>.5) for x in text_model.predict([val_ids, val_ams, val_msk], verbose=0)]))"
      ]
    },
    {
      "cell_type": "code",
      "execution_count": 164,
      "metadata": {
        "id": "sFmO9SR4yc4d"
      },
      "outputs": [],
      "source": [
        "train_tbr['imgPred'] = img_model.predict(train_img, verbose = 0)\n",
        "val_tbr['imgPred'] = img_model.predict(val_img, verbose = 0)\n",
        "test_tbr['imgPred'] = img_model.predict(test_img, verbose = 0)\n",
        "\n",
        "train_tbr['textPred'] = text_model.predict([train_ids, train_ams, train_msk], verbose = 0)\n",
        "val_tbr['textPred'] = text_model.predict([val_ids, val_ams, val_msk], verbose = 0)\n",
        "test_tbr['textPred'] = text_model.predict([test_ids, test_ams, test_msk], verbose = 0)"
      ]
    },
    {
      "cell_type": "code",
      "execution_count": 165,
      "metadata": {
        "colab": {
          "base_uri": "https://localhost:8080/"
        },
        "id": "mS6ht3D9xn3L",
        "outputId": "07bd515b-833a-4e4e-e7ac-5605478a878f"
      },
      "outputs": [
        {
          "name": "stdout",
          "output_type": "stream",
          "text": [
            "Training F1 :\t 0.9530956848030019\n",
            "Validation F1 :\t 0.6875\n"
          ]
        }
      ],
      "source": [
        "from xgboost import XGBClassifier\n",
        "from catboost import CatBoostClassifier\n",
        "from sklearn.ensemble import RandomForestClassifier\n",
        "\n",
        "final_model = XGBClassifier(\n",
        "    n_estimators = 1000,\n",
        "    # max_depth=5\n",
        "    learning_rate= 0.001,\n",
        "    tree_method = 'gpu_hist'\n",
        ")\n",
        "final_model.fit(train_tbr, train_y)\n",
        "clear_output()\n",
        "print(f\"{colored('Training F1 :', 'cyan')}\\t\", skMetrics.f1_score(train_y, [int(x>.5) for x in final_model.predict(train_tbr)]))\n",
        "print(f\"{colored('Validation F1 :', 'red')}\\t\", skMetrics.f1_score(val_y, [int(x>.5) for x in final_model.predict(val_tbr)]))"
      ]
    },
    {
      "cell_type": "code",
      "execution_count": null,
      "metadata": {
        "colab": {
          "base_uri": "https://localhost:8080/",
          "height": 166
        },
        "id": "YFT40Grl-THs",
        "outputId": "de72ce61-5c1f-41dc-eaf5-a88ba345859e"
      },
      "outputs": [],
      "source": [
        "try:\n",
        "    plt.barh(final_model.feature_names_in_, final_model.feature_importances_)\n",
        "except AttributeError:\n",
        "    print('No feature importance found')"
      ]
    },
    {
      "cell_type": "code",
      "execution_count": 166,
      "metadata": {
        "colab": {
          "base_uri": "https://localhost:8080/",
          "height": 424
        },
        "id": "V6pzzitXwkW_",
        "outputId": "848c63b5-2e2f-4af7-ece3-73d7ba6f1e4f"
      },
      "outputs": [
        {
          "data": {
            "text/html": [
              "\n",
              "  <div id=\"df-91ede682-578b-48a7-aa62-8b3f52b5de17\">\n",
              "    <div class=\"colab-df-container\">\n",
              "      <div>\n",
              "<style scoped>\n",
              "    .dataframe tbody tr th:only-of-type {\n",
              "        vertical-align: middle;\n",
              "    }\n",
              "\n",
              "    .dataframe tbody tr th {\n",
              "        vertical-align: top;\n",
              "    }\n",
              "\n",
              "    .dataframe thead th {\n",
              "        text-align: right;\n",
              "    }\n",
              "</style>\n",
              "<table border=\"1\" class=\"dataframe\">\n",
              "  <thead>\n",
              "    <tr style=\"text-align: right;\">\n",
              "      <th></th>\n",
              "      <th>id</th>\n",
              "      <th>label</th>\n",
              "    </tr>\n",
              "  </thead>\n",
              "  <tbody>\n",
              "    <tr>\n",
              "      <th>0</th>\n",
              "      <td>1213309429254250496</td>\n",
              "      <td>0</td>\n",
              "    </tr>\n",
              "    <tr>\n",
              "      <th>1</th>\n",
              "      <td>1216196702647939072</td>\n",
              "      <td>0</td>\n",
              "    </tr>\n",
              "    <tr>\n",
              "      <th>2</th>\n",
              "      <td>1216296533735309312</td>\n",
              "      <td>0</td>\n",
              "    </tr>\n",
              "    <tr>\n",
              "      <th>3</th>\n",
              "      <td>1234385081482956800</td>\n",
              "      <td>0</td>\n",
              "    </tr>\n",
              "    <tr>\n",
              "      <th>4</th>\n",
              "      <td>1214853229567041537</td>\n",
              "      <td>0</td>\n",
              "    </tr>\n",
              "    <tr>\n",
              "      <th>...</th>\n",
              "      <td>...</td>\n",
              "      <td>...</td>\n",
              "    </tr>\n",
              "    <tr>\n",
              "      <th>1006</th>\n",
              "      <td>1212371781350084608</td>\n",
              "      <td>0</td>\n",
              "    </tr>\n",
              "    <tr>\n",
              "      <th>1007</th>\n",
              "      <td>1232075152042541056</td>\n",
              "      <td>1</td>\n",
              "    </tr>\n",
              "    <tr>\n",
              "      <th>1008</th>\n",
              "      <td>1213315563595845633</td>\n",
              "      <td>0</td>\n",
              "    </tr>\n",
              "    <tr>\n",
              "      <th>1009</th>\n",
              "      <td>1212970781610663936</td>\n",
              "      <td>0</td>\n",
              "    </tr>\n",
              "    <tr>\n",
              "      <th>1010</th>\n",
              "      <td>1231973813132365825</td>\n",
              "      <td>0</td>\n",
              "    </tr>\n",
              "  </tbody>\n",
              "</table>\n",
              "<p>1011 rows × 2 columns</p>\n",
              "</div>\n",
              "      <button class=\"colab-df-convert\" onclick=\"convertToInteractive('df-91ede682-578b-48a7-aa62-8b3f52b5de17')\"\n",
              "              title=\"Convert this dataframe to an interactive table.\"\n",
              "              style=\"display:none;\">\n",
              "        \n",
              "  <svg xmlns=\"http://www.w3.org/2000/svg\" height=\"24px\"viewBox=\"0 0 24 24\"\n",
              "       width=\"24px\">\n",
              "    <path d=\"M0 0h24v24H0V0z\" fill=\"none\"/>\n",
              "    <path d=\"M18.56 5.44l.94 2.06.94-2.06 2.06-.94-2.06-.94-.94-2.06-.94 2.06-2.06.94zm-11 1L8.5 8.5l.94-2.06 2.06-.94-2.06-.94L8.5 2.5l-.94 2.06-2.06.94zm10 10l.94 2.06.94-2.06 2.06-.94-2.06-.94-.94-2.06-.94 2.06-2.06.94z\"/><path d=\"M17.41 7.96l-1.37-1.37c-.4-.4-.92-.59-1.43-.59-.52 0-1.04.2-1.43.59L10.3 9.45l-7.72 7.72c-.78.78-.78 2.05 0 2.83L4 21.41c.39.39.9.59 1.41.59.51 0 1.02-.2 1.41-.59l7.78-7.78 2.81-2.81c.8-.78.8-2.07 0-2.86zM5.41 20L4 18.59l7.72-7.72 1.47 1.35L5.41 20z\"/>\n",
              "  </svg>\n",
              "      </button>\n",
              "      \n",
              "  <style>\n",
              "    .colab-df-container {\n",
              "      display:flex;\n",
              "      flex-wrap:wrap;\n",
              "      gap: 12px;\n",
              "    }\n",
              "\n",
              "    .colab-df-convert {\n",
              "      background-color: #E8F0FE;\n",
              "      border: none;\n",
              "      border-radius: 50%;\n",
              "      cursor: pointer;\n",
              "      display: none;\n",
              "      fill: #1967D2;\n",
              "      height: 32px;\n",
              "      padding: 0 0 0 0;\n",
              "      width: 32px;\n",
              "    }\n",
              "\n",
              "    .colab-df-convert:hover {\n",
              "      background-color: #E2EBFA;\n",
              "      box-shadow: 0px 1px 2px rgba(60, 64, 67, 0.3), 0px 1px 3px 1px rgba(60, 64, 67, 0.15);\n",
              "      fill: #174EA6;\n",
              "    }\n",
              "\n",
              "    [theme=dark] .colab-df-convert {\n",
              "      background-color: #3B4455;\n",
              "      fill: #D2E3FC;\n",
              "    }\n",
              "\n",
              "    [theme=dark] .colab-df-convert:hover {\n",
              "      background-color: #434B5C;\n",
              "      box-shadow: 0px 1px 3px 1px rgba(0, 0, 0, 0.15);\n",
              "      filter: drop-shadow(0px 1px 2px rgba(0, 0, 0, 0.3));\n",
              "      fill: #FFFFFF;\n",
              "    }\n",
              "  </style>\n",
              "\n",
              "      <script>\n",
              "        const buttonEl =\n",
              "          document.querySelector('#df-91ede682-578b-48a7-aa62-8b3f52b5de17 button.colab-df-convert');\n",
              "        buttonEl.style.display =\n",
              "          google.colab.kernel.accessAllowed ? 'block' : 'none';\n",
              "\n",
              "        async function convertToInteractive(key) {\n",
              "          const element = document.querySelector('#df-91ede682-578b-48a7-aa62-8b3f52b5de17');\n",
              "          const dataTable =\n",
              "            await google.colab.kernel.invokeFunction('convertToInteractive',\n",
              "                                                     [key], {});\n",
              "          if (!dataTable) return;\n",
              "\n",
              "          const docLinkHtml = 'Like what you see? Visit the ' +\n",
              "            '<a target=\"_blank\" href=https://colab.research.google.com/notebooks/data_table.ipynb>data table notebook</a>'\n",
              "            + ' to learn more about interactive tables.';\n",
              "          element.innerHTML = '';\n",
              "          dataTable['output_type'] = 'display_data';\n",
              "          await google.colab.output.renderOutput(dataTable, element);\n",
              "          const docLink = document.createElement('div');\n",
              "          docLink.innerHTML = docLinkHtml;\n",
              "          element.appendChild(docLink);\n",
              "        }\n",
              "      </script>\n",
              "    </div>\n",
              "  </div>\n",
              "  "
            ],
            "text/plain": [
              "                       id  label\n",
              "0     1213309429254250496      0\n",
              "1     1216196702647939072      0\n",
              "2     1216296533735309312      0\n",
              "3     1234385081482956800      0\n",
              "4     1214853229567041537      0\n",
              "...                   ...    ...\n",
              "1006  1212371781350084608      0\n",
              "1007  1232075152042541056      1\n",
              "1008  1213315563595845633      0\n",
              "1009  1212970781610663936      0\n",
              "1010  1231973813132365825      0\n",
              "\n",
              "[1011 rows x 2 columns]"
            ]
          },
          "execution_count": 166,
          "metadata": {},
          "output_type": "execute_result"
        }
      ],
      "source": [
        "pred = final_model.predict(test_tbr[train_tbr.columns])\n",
        "output = pd.DataFrame()\n",
        "output['id'] = test.id\n",
        "output['label'] = pred\n",
        "output"
      ]
    },
    {
      "cell_type": "code",
      "execution_count": 167,
      "metadata": {
        "colab": {
          "base_uri": "https://localhost:8080/"
        },
        "id": "9zhTnp2UwkXA",
        "outputId": "f5e2610c-4f65-4d80-cae8-91309f8d767a"
      },
      "outputs": [
        {
          "data": {
            "text/plain": [
              "0    803\n",
              "1    208\n",
              "Name: label, dtype: int64"
            ]
          },
          "execution_count": 167,
          "metadata": {},
          "output_type": "execute_result"
        }
      ],
      "source": [
        "output['label'].value_counts()"
      ]
    },
    {
      "cell_type": "code",
      "execution_count": 168,
      "metadata": {
        "id": "iaHgNGIcwkXA"
      },
      "outputs": [],
      "source": [
        "output.to_csv('95_69.csv', index=False)"
      ]
    }
  ],
  "metadata": {
    "accelerator": "GPU",
    "colab": {
      "machine_shape": "hm",
      "provenance": []
    },
    "gpuClass": "premium",
    "kernelspec": {
      "display_name": "Python 3.10.7 64-bit",
      "language": "python",
      "name": "python3"
    },
    "language_info": {
      "codemirror_mode": {
        "name": "ipython",
        "version": 3
      },
      "file_extension": ".py",
      "mimetype": "text/x-python",
      "name": "python",
      "nbconvert_exporter": "python",
      "pygments_lexer": "ipython3",
      "version": "3.10.7"
    },
    "orig_nbformat": 4,
    "vscode": {
      "interpreter": {
        "hash": "26de051ba29f2982a8de78e945f0abaf191376122a1563185a90213a26c5da77"
      }
    }
  },
  "nbformat": 4,
  "nbformat_minor": 0
}
