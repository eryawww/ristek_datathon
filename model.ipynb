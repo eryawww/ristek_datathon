{
  "cells": [
    {
      "cell_type": "markdown",
      "metadata": {
        "id": "view-in-github",
        "colab_type": "text"
      },
      "source": [
        "<a href=\"https://colab.research.google.com/github/eryawww/ristek_datathon/blob/master/model.ipynb\" target=\"_parent\"><img src=\"https://colab.research.google.com/assets/colab-badge.svg\" alt=\"Open In Colab\"/></a>"
      ]
    },
    {
      "cell_type": "code",
      "source": [
        "!pip install emoji nlp_id transformers tensorflow_addons catboost"
      ],
      "metadata": {
        "colab": {
          "base_uri": "https://localhost:8080/"
        },
        "id": "68ceTS8Jz7jz",
        "outputId": "bc8af04a-2b6e-48c9-dcb3-d9ddfff9d4a3"
      },
      "execution_count": 1,
      "outputs": [
        {
          "output_type": "stream",
          "name": "stdout",
          "text": [
            "Looking in indexes: https://pypi.org/simple, https://us-python.pkg.dev/colab-wheels/public/simple/\n",
            "Collecting emoji\n",
            "  Downloading emoji-2.2.0.tar.gz (240 kB)\n",
            "\u001b[K     |████████████████████████████████| 240 kB 19.5 MB/s \n",
            "\u001b[?25hCollecting nlp_id\n",
            "  Downloading nlp_id-0.1.13.0.tar.gz (7.9 MB)\n",
            "\u001b[K     |████████████████████████████████| 7.9 MB 4.8 MB/s \n",
            "\u001b[?25hCollecting transformers\n",
            "  Downloading transformers-4.25.1-py3-none-any.whl (5.8 MB)\n",
            "\u001b[K     |████████████████████████████████| 5.8 MB 53.3 MB/s \n",
            "\u001b[?25hCollecting tensorflow_addons\n",
            "  Downloading tensorflow_addons-0.18.0-cp38-cp38-manylinux_2_17_x86_64.manylinux2014_x86_64.whl (1.1 MB)\n",
            "\u001b[K     |████████████████████████████████| 1.1 MB 76.6 MB/s \n",
            "\u001b[?25hCollecting catboost\n",
            "  Downloading catboost-1.1.1-cp38-none-manylinux1_x86_64.whl (76.6 MB)\n",
            "\u001b[K     |████████████████████████████████| 76.6 MB 3.0 MB/s \n",
            "\u001b[?25hCollecting scikit-learn==1.1.0\n",
            "  Downloading scikit_learn-1.1.0-cp38-cp38-manylinux_2_17_x86_64.manylinux2014_x86_64.whl (31.0 MB)\n",
            "\u001b[K     |████████████████████████████████| 31.0 MB 1.2 MB/s \n",
            "\u001b[?25hCollecting nltk==3.4.5\n",
            "  Downloading nltk-3.4.5.zip (1.5 MB)\n",
            "\u001b[K     |████████████████████████████████| 1.5 MB 83.1 MB/s \n",
            "\u001b[?25hCollecting wget==3.2\n",
            "  Downloading wget-3.2.zip (10 kB)\n",
            "Requirement already satisfied: six in /usr/local/lib/python3.8/dist-packages (from nltk==3.4.5->nlp_id) (1.15.0)\n",
            "Requirement already satisfied: threadpoolctl>=2.0.0 in /usr/local/lib/python3.8/dist-packages (from scikit-learn==1.1.0->nlp_id) (3.1.0)\n",
            "Requirement already satisfied: joblib>=1.0.0 in /usr/local/lib/python3.8/dist-packages (from scikit-learn==1.1.0->nlp_id) (1.2.0)\n",
            "Requirement already satisfied: numpy>=1.17.3 in /usr/local/lib/python3.8/dist-packages (from scikit-learn==1.1.0->nlp_id) (1.21.6)\n",
            "Requirement already satisfied: scipy>=1.3.2 in /usr/local/lib/python3.8/dist-packages (from scikit-learn==1.1.0->nlp_id) (1.7.3)\n",
            "Collecting huggingface-hub<1.0,>=0.10.0\n",
            "  Downloading huggingface_hub-0.11.1-py3-none-any.whl (182 kB)\n",
            "\u001b[K     |████████████████████████████████| 182 kB 84.2 MB/s \n",
            "\u001b[?25hCollecting tokenizers!=0.11.3,<0.14,>=0.11.1\n",
            "  Downloading tokenizers-0.13.2-cp38-cp38-manylinux_2_17_x86_64.manylinux2014_x86_64.whl (7.6 MB)\n",
            "\u001b[K     |████████████████████████████████| 7.6 MB 80.2 MB/s \n",
            "\u001b[?25hRequirement already satisfied: pyyaml>=5.1 in /usr/local/lib/python3.8/dist-packages (from transformers) (6.0)\n",
            "Requirement already satisfied: tqdm>=4.27 in /usr/local/lib/python3.8/dist-packages (from transformers) (4.64.1)\n",
            "Requirement already satisfied: packaging>=20.0 in /usr/local/lib/python3.8/dist-packages (from transformers) (21.3)\n",
            "Requirement already satisfied: filelock in /usr/local/lib/python3.8/dist-packages (from transformers) (3.8.0)\n",
            "Requirement already satisfied: regex!=2019.12.17 in /usr/local/lib/python3.8/dist-packages (from transformers) (2022.6.2)\n",
            "Requirement already satisfied: requests in /usr/local/lib/python3.8/dist-packages (from transformers) (2.23.0)\n",
            "Requirement already satisfied: typing-extensions>=3.7.4.3 in /usr/local/lib/python3.8/dist-packages (from huggingface-hub<1.0,>=0.10.0->transformers) (4.1.1)\n",
            "Requirement already satisfied: pyparsing!=3.0.5,>=2.0.2 in /usr/local/lib/python3.8/dist-packages (from packaging>=20.0->transformers) (3.0.9)\n",
            "Requirement already satisfied: typeguard>=2.7 in /usr/local/lib/python3.8/dist-packages (from tensorflow_addons) (2.7.1)\n",
            "Requirement already satisfied: graphviz in /usr/local/lib/python3.8/dist-packages (from catboost) (0.10.1)\n",
            "Requirement already satisfied: pandas>=0.24.0 in /usr/local/lib/python3.8/dist-packages (from catboost) (1.3.5)\n",
            "Requirement already satisfied: plotly in /usr/local/lib/python3.8/dist-packages (from catboost) (5.5.0)\n",
            "Requirement already satisfied: matplotlib in /usr/local/lib/python3.8/dist-packages (from catboost) (3.2.2)\n",
            "Requirement already satisfied: pytz>=2017.3 in /usr/local/lib/python3.8/dist-packages (from pandas>=0.24.0->catboost) (2022.6)\n",
            "Requirement already satisfied: python-dateutil>=2.7.3 in /usr/local/lib/python3.8/dist-packages (from pandas>=0.24.0->catboost) (2.8.2)\n",
            "Requirement already satisfied: cycler>=0.10 in /usr/local/lib/python3.8/dist-packages (from matplotlib->catboost) (0.11.0)\n",
            "Requirement already satisfied: kiwisolver>=1.0.1 in /usr/local/lib/python3.8/dist-packages (from matplotlib->catboost) (1.4.4)\n",
            "Requirement already satisfied: tenacity>=6.2.0 in /usr/local/lib/python3.8/dist-packages (from plotly->catboost) (8.1.0)\n",
            "Requirement already satisfied: idna<3,>=2.5 in /usr/local/lib/python3.8/dist-packages (from requests->transformers) (2.10)\n",
            "Requirement already satisfied: urllib3!=1.25.0,!=1.25.1,<1.26,>=1.21.1 in /usr/local/lib/python3.8/dist-packages (from requests->transformers) (1.24.3)\n",
            "Requirement already satisfied: chardet<4,>=3.0.2 in /usr/local/lib/python3.8/dist-packages (from requests->transformers) (3.0.4)\n",
            "Requirement already satisfied: certifi>=2017.4.17 in /usr/local/lib/python3.8/dist-packages (from requests->transformers) (2022.9.24)\n",
            "Building wheels for collected packages: emoji, nlp-id, nltk, wget\n",
            "  Building wheel for emoji (setup.py) ... \u001b[?25l\u001b[?25hdone\n",
            "  Created wheel for emoji: filename=emoji-2.2.0-py3-none-any.whl size=234926 sha256=717c0239878142d8cebe353c4d1927fe0d8d5ed43a64f925dc3068d996efc04a\n",
            "  Stored in directory: /root/.cache/pip/wheels/86/62/9e/a6b27a681abcde69970dbc0326ff51955f3beac72f15696984\n",
            "  Building wheel for nlp-id (setup.py) ... \u001b[?25l\u001b[?25hdone\n",
            "  Created wheel for nlp-id: filename=nlp_id-0.1.13.0-py3-none-any.whl size=8074943 sha256=cb0b2fe769a65068df5d3f126d6beb315a236cf7044828ebb8d4d336bd43b1f8\n",
            "  Stored in directory: /root/.cache/pip/wheels/c9/40/1e/1f65670842151a87e008b5df647bf5d8b034e762e1934fd7f3\n",
            "  Building wheel for nltk (setup.py) ... \u001b[?25l\u001b[?25hdone\n",
            "  Created wheel for nltk: filename=nltk-3.4.5-py3-none-any.whl size=1449920 sha256=05a9895649db9bae75c6b43a5a50e52b219017232973e6e26ead0d38d4d062c5\n",
            "  Stored in directory: /root/.cache/pip/wheels/23/18/48/8fd6ec11da38406b309470566d6f099c04805d2ec61d7829e7\n",
            "  Building wheel for wget (setup.py) ... \u001b[?25l\u001b[?25hdone\n",
            "  Created wheel for wget: filename=wget-3.2-py3-none-any.whl size=9674 sha256=0fdb0887ab0ef7068fbe115d0a27f115de012d232383b422095f7d5123635349\n",
            "  Stored in directory: /root/.cache/pip/wheels/bd/a8/c3/3cf2c14a1837a4e04bd98631724e81f33f462d86a1d895fae0\n",
            "Successfully built emoji nlp-id nltk wget\n",
            "Installing collected packages: wget, tokenizers, scikit-learn, nltk, huggingface-hub, transformers, tensorflow-addons, nlp-id, emoji, catboost\n",
            "  Attempting uninstall: scikit-learn\n",
            "    Found existing installation: scikit-learn 1.0.2\n",
            "    Uninstalling scikit-learn-1.0.2:\n",
            "      Successfully uninstalled scikit-learn-1.0.2\n",
            "  Attempting uninstall: nltk\n",
            "    Found existing installation: nltk 3.7\n",
            "    Uninstalling nltk-3.7:\n",
            "      Successfully uninstalled nltk-3.7\n",
            "Successfully installed catboost-1.1.1 emoji-2.2.0 huggingface-hub-0.11.1 nlp-id-0.1.13.0 nltk-3.4.5 scikit-learn-1.1.0 tensorflow-addons-0.18.0 tokenizers-0.13.2 transformers-4.25.1 wget-3.2\n"
          ]
        }
      ]
    },
    {
      "cell_type": "code",
      "execution_count": 2,
      "metadata": {
        "colab": {
          "base_uri": "https://localhost:8080/"
        },
        "id": "78X9EeF4yuTA",
        "outputId": "73038c5d-4176-4852-8082-f7d978105aea"
      },
      "outputs": [
        {
          "output_type": "stream",
          "name": "stdout",
          "text": [
            "Mounted at /content/drive\n"
          ]
        }
      ],
      "source": [
        "import os\n",
        "from termcolor import colored\n",
        "from tqdm import tqdm\n",
        "import warnings\n",
        "from IPython.display import clear_output\n",
        "warnings.filterwarnings(\"ignore\", category=DeprecationWarning) \n",
        "\n",
        "import pandas as pd\n",
        "import random\n",
        "import numpy as np\n",
        "import seaborn as sns\n",
        "import matplotlib.pyplot as plt\n",
        "\n",
        "import cv2\n",
        "\n",
        "import re\n",
        "import emoji\n",
        "from nlp_id import Lemmatizer, StopWord\n",
        "import string\n",
        "\n",
        "from sklearn.model_selection import train_test_split\n",
        "\n",
        "import tensorflow as tf\n",
        "import tensorflow_addons as tfa\n",
        "import keras.backend as K\n",
        "\n",
        "from transformers import TFBertModel\n",
        "from transformers import AutoTokenizer\n",
        "\n",
        "import sys\n",
        "IN_COLAB = 'google.colab' in sys.modules\n",
        "if IN_COLAB:\n",
        "  from google.colab import drive\n",
        "  drive.mount('/content/drive', force_remount=True)\n",
        "\n",
        "RUN_OPTIONAL_CELLS = True"
      ]
    },
    {
      "cell_type": "code",
      "execution_count": 3,
      "metadata": {
        "id": "tUrWQEtuzba8"
      },
      "outputs": [],
      "source": [
        "def get_path(path:str):\n",
        "  '''\n",
        "  Dynamic Path Finding for cloud and local computing\n",
        "  '''\n",
        "  CLOUD_PATH = '/content/drive/MyDrive/Cloud Computing Data/datathon_2022/'\n",
        "  if IN_COLAB:\n",
        "    return (CLOUD_PATH+path).replace('//', '/')\n",
        "  return path\n",
        "    "
      ]
    },
    {
      "cell_type": "code",
      "execution_count": 4,
      "metadata": {
        "id": "BAtxCxdpyuTB"
      },
      "outputs": [],
      "source": [
        "train = pd.read_csv(get_path('data/train.csv'), parse_dates=['created_at'])\n",
        "test = pd.read_csv(get_path('data/test.csv'), parse_dates=['created_at'])\n",
        "target = pd.DataFrame({'label': train['label'].values})\n",
        "DROP = ['url', 'user_id']"
      ]
    },
    {
      "cell_type": "markdown",
      "metadata": {
        "id": "tVsrz6SPyuTC"
      },
      "source": [
        "# Image Data"
      ]
    },
    {
      "cell_type": "code",
      "execution_count": 5,
      "metadata": {
        "id": "mPWrL_b3yuTD"
      },
      "outputs": [],
      "source": [
        "IMG_SHAPE = (260, 260, 3)\n",
        "IMG_SOURCE = ['external', 'native'] # native, external, external_2"
      ]
    },
    {
      "cell_type": "code",
      "execution_count": 6,
      "metadata": {
        "id": "erubofOhyuTE"
      },
      "outputs": [],
      "source": [
        "def _load_img(file_path:str):\n",
        "    \"\"\"\n",
        "        convert file_path to numpy array image with shape: globals()['IMG_SHAPE']\n",
        "        param:\n",
        "            file_path: .csv or folder path of a image\n",
        "    \"\"\"\n",
        "    if file_path.endswith('.csv'):\n",
        "        data = pd.read_csv(file_path)\n",
        "        img_arr = None\n",
        "        for inx, row in tqdm(data.iterrows(), total=len(data)):\n",
        "            nw_img_path = row['media']\n",
        "            if img_arr is None:\n",
        "                img_arr = cv2.resize(cv2.cvtColor(cv2.imread(f'{get_path(\"data/media/\"+nw_img_path)}'), cv2.COLOR_RGB2BGR), IMG_SHAPE[:-1]).reshape(1, *IMG_SHAPE)\n",
        "            else:\n",
        "                img_arr = np.vstack([img_arr, cv2.resize(cv2.cvtColor(cv2.imread(f'{get_path(\"data/media/\"+nw_img_path)}'), cv2.COLOR_RGB2BGR), IMG_SHAPE[:-1]).reshape(1, *IMG_SHAPE)])\n",
        "        return img_arr\n",
        "    else:\n",
        "        img_arr = None\n",
        "        for current_file in os.listdir(file_path):\n",
        "            if not current_file.endswith('.jpg'):\n",
        "                continue\n",
        "            nw_img_path = os.path.join(file_path, current_file)\n",
        "            if img_arr is None:\n",
        "                img_arr = cv2.resize(cv2.cvtColor(cv2.imread(f'{get_path(\"data/media/\"+nw_img_path)}'), cv2.COLOR_RGB2BGR), IMG_SHAPE[:-1]).reshape(1, *IMG_SHAPE)\n",
        "            else:\n",
        "                img_arr = np.vstack([img_arr, cv2.resize(cv2.cvtColor(cv2.imread(f'{get_path(\"data/media/\"+nw_img_path)}'), cv2.COLOR_RGB2BGR), IMG_SHAPE[:-1]).reshape(1, *IMG_SHAPE)])\n",
        "        return img_arr"
      ]
    },
    {
      "cell_type": "markdown",
      "metadata": {
        "id": "hTPdDv1ByuTF"
      },
      "source": [
        "## Internal Data"
      ]
    },
    {
      "cell_type": "markdown",
      "metadata": {
        "id": "5yldGjHieePq"
      },
      "source": [
        "## Tabular"
      ]
    },
    {
      "cell_type": "code",
      "execution_count": 7,
      "metadata": {
        "id": "qXOBfgN0eePr"
      },
      "outputs": [],
      "source": [
        "def get_date_feature(df:pd.DataFrame, col:str) -> pd.DataFrame:\n",
        "    df['year'] = df[col].dt.year\n",
        "    df['month'] = df[col].dt.month\n",
        "    df['week'] = np.int32(df[col].dt.isocalendar().week)\n",
        "    df['weekday'] = df[col].dt.weekday\n",
        "    df['quarter'] = df[col].dt.quarter\n",
        "    df['day_of_year'] = df[col].dt.day_of_year\n",
        "    df['day'] = df[col].dt.day\n",
        "    df['day_of_week'] = df[col].dt.day_of_week\n",
        "    return df"
      ]
    },
    {
      "cell_type": "markdown",
      "metadata": {
        "id": "q93aNVsveePs"
      },
      "source": [
        "## Image"
      ]
    },
    {
      "cell_type": "code",
      "execution_count": 8,
      "metadata": {
        "id": "TK8SMaKayuTF"
      },
      "outputs": [],
      "source": [
        "def get_image_dataset():\n",
        "    \"\"\"\n",
        "        get original image dataset\n",
        "        return:\n",
        "            train_img\n",
        "            test_img\n",
        "            target\n",
        "    \"\"\"\n",
        "    target = pd.read_csv(get_path(f'checkpoints/img_arr_(600, 600, 3)_target.csv'))\n",
        "    file_name = get_path(f'checkpoints/img_arr_{IMG_SHAPE}')\n",
        "    if os.path.exists(file_name+'.npy'):\n",
        "        train_img = np.load(file_name+'.npy')\n",
        "    else:\n",
        "        train_img = _load_img(get_path('data/train.csv'))\n",
        "        np.save(file_name, train_img)\n",
        "    \n",
        "    test_name = get_path(f'checkpoints/test_img_arr_{IMG_SHAPE}')\n",
        "    if os.path.exists(test_name+'.npy'):\n",
        "        test_img = np.load(test_name+'.npy')\n",
        "    else:\n",
        "        test_img = _load_img(get_path('data/test.csv'))\n",
        "        np.save(test_name, test_img)\n",
        "    return train_img, test_img, target\n",
        "\n",
        "def get_oversampled_train_image_dataset(test_split_ratio:float = 0.2):\n",
        "    \"\"\"\n",
        "        return oversampled training data with validation split that avoid data leakage\n",
        "        return\n",
        "            train_x, val_x, train_y, val_y\n",
        "    \"\"\"\n",
        "    train_img, test_img, target = get_image_dataset()\n",
        "\n",
        "    train_x, val_x, train_y, val_y = train_test_split(train_img, target, test_size=test_split_ratio)\n",
        "    \n",
        "    pos_features = train_x[train_y['label'] == 1]\n",
        "    neg_features = train_x[~(train_y['label'] == 1)]\n",
        "\n",
        "    pos_labels = train_y[train_y['label'] == 1]\n",
        "    neg_labels = train_y[train_y['label'] == 0]\n",
        "\n",
        "    assert len(pos_features)+len(neg_features) == len(pos_labels)+len(neg_labels)\n",
        "\n",
        "    nw_features = pos_features[:]\n",
        "    nw_labels = pos_labels.copy(deep=True)\n",
        "\n",
        "    train_img = np.concatenate([pos_features, neg_features, nw_features, nw_features])\n",
        "    target = pd.concat([pos_labels, neg_labels, nw_labels, nw_labels], axis=0)\n",
        "    assert len(train_img) == len(target)\n",
        "    return train_img, val_x, target, val_y"
      ]
    },
    {
      "cell_type": "markdown",
      "metadata": {
        "id": "OlbhMsQmeePu"
      },
      "source": [
        "## Text"
      ]
    },
    {
      "cell_type": "code",
      "execution_count": 9,
      "metadata": {
        "id": "Wf3afSE4eePu"
      },
      "outputs": [],
      "source": [
        "MAX_WORD = 50"
      ]
    },
    {
      "cell_type": "markdown",
      "metadata": {
        "id": "XzktIgnjeePv"
      },
      "source": [
        "### Tokenization"
      ]
    },
    {
      "cell_type": "code",
      "execution_count": 10,
      "metadata": {
        "id": "ciom0m_ReePv"
      },
      "outputs": [],
      "source": [
        "emoticons_str = r\"\"\"\n",
        "    (?:\n",
        "        [:=;] # Eyes\n",
        "        [oO\\-]? # Nose (optional)\n",
        "        [D\\)\\]\\(\\]/\\\\OpP] # Mouth\n",
        "    )\"\"\"\n",
        "\n",
        "regex_str = []\n",
        "regex_str.append(emoticons_str)\n",
        "regex_str.append(r'<[^>]+>') # HTML tags\n",
        "regex_str.append(r'(?:@[\\w_]+)') # @-mentions\n",
        "regex_str.append(r'(?:&[\\w_]+)')\n",
        "regex_str.append(r\"(?:\\#+[\\w_]+[\\w\\'_\\-]*[\\w_]+)\") # hash-tags\n",
        "regex_str.append(r'http[s]?://(?:[a-z]|[0-9]|[$-_@.&amp;+]|[!*\\(\\),]|(?:%[0-9a-f][0-9a-f]))+') # URLs\n",
        "regex_str.append(r'(?:(?:\\d+,?)+(?:\\.?\\d+)?)') # numbers\n",
        "regex_str.append(r\"(?:[a-z][a-z'\\-_]+[a-z])\") # words with - and '\n",
        "regex_str.append(r'(?:[\\w_]+)') # other words\n",
        "regex_str.append(r'(?:\\S)') # anything else\n",
        "\n",
        "tokens_re = re.compile(r'('+'|'.join(regex_str)+')', re.VERBOSE | re.IGNORECASE)\n",
        "emoticon_re = re.compile(r'^'+emoticons_str+'$', re.VERBOSE | re.IGNORECASE)\n",
        "\n",
        "def tokenize(sentence):\n",
        "    return [emoji.demojize(term) for term in tokens_re.findall(sentence)]"
      ]
    },
    {
      "cell_type": "markdown",
      "metadata": {
        "id": "ZzaLQhOJeePv"
      },
      "source": [
        "### Stopwords and Lemmatisation"
      ]
    },
    {
      "cell_type": "code",
      "execution_count": 11,
      "metadata": {
        "id": "sCAOUJbUeePv"
      },
      "outputs": [],
      "source": [
        "lemmatizer = Lemmatizer()\n",
        "stopword = StopWord()\n",
        "\n",
        "punctuation = list(string.punctuation)\n",
        "stops = stopword.get_stopword() + punctuation + ['rt', 'via', '…','•','“']\n",
        "\n",
        "def stopwords_and_lemmatize(tokenized_sentence):\n",
        "  processed_words = []\n",
        "  for word in tokenized_sentence:\n",
        "    if word.lower() not in stops:\n",
        "      processed_words.append(lemmatizer.lemmatize(word))\n",
        "  return processed_words"
      ]
    },
    {
      "cell_type": "markdown",
      "metadata": {
        "id": "MmHrVlSPeePw"
      },
      "source": [
        "### Final Pipeline"
      ]
    },
    {
      "cell_type": "code",
      "execution_count": 12,
      "metadata": {
        "id": "Ob7I4Cu3eePw"
      },
      "outputs": [],
      "source": [
        "def preprocess_text(sentence):\n",
        "    return stopwords_and_lemmatize(tokenize(sentence))"
      ]
    },
    {
      "cell_type": "code",
      "execution_count": 13,
      "metadata": {
        "id": "Yyq2ek_heePx"
      },
      "outputs": [],
      "source": [
        "def get_vtext_dataset():\n",
        "    raise NotImplementedError\n",
        "    \"\"\"\n",
        "        get original text dataset\n",
        "        return:\n",
        "            train_vtext\n",
        "            test_vtext\n",
        "            target\n",
        "    \"\"\"\n",
        "    from gensim.models.fasttext import load_facebook_model\n",
        "    ft = load_facebook_model('pretrained/fastText/cc.id.300.bin')\n",
        "\n",
        "    target = pd.read_csv(get_path(f'checkpoints/img_arr_(600, 600, 3)_target.csv'))\n",
        "    file_name = get_path(f'checkpoints/text_vtext_{IMG_SHAPE}')\n",
        "    if os.path.exists(file_name+'.npy'):\n",
        "        train_text = np.load(file_name+'.npy')\n",
        "    else:\n",
        "        train_text = None\n",
        "        for inx, row in train.iterrows():\n",
        "            # Continue\n",
        "            if train_text is None:\n",
        "                train_text = np.array(preprocess_text(row['text']))\n",
        "            else:\n",
        "                pass\n",
        "            np.save(file_name, img_arr)\n",
        "    \n",
        "    test_name = get_path(f'checkpoints/test_img_arr_{IMG_SHAPE}')\n",
        "    if os.path.exists(test_name+'.npy'):\n",
        "        test_img_arr = np.load(test_name+'.npy')\n",
        "    else:\n",
        "        test_img_arr = _load_img(get_path('data/test.csv'))\n",
        "        np.save(test_name, test_img_arr)\n",
        "    return img_arr, test_img_arr, target\n",
        "\n",
        "def get_text_dataset():\n",
        "    return train['text'].copy(), test['text'].copy(), target.copy()"
      ]
    },
    {
      "cell_type": "markdown",
      "metadata": {
        "id": "63EomNjRyuTF"
      },
      "source": [
        "## External Data"
      ]
    },
    {
      "cell_type": "code",
      "execution_count": 14,
      "metadata": {
        "id": "g0_MkAsfyuTH"
      },
      "outputs": [],
      "source": [
        "pass\n",
        "if 'external' in IMG_SOURCE:\n",
        "    pass"
      ]
    },
    {
      "cell_type": "markdown",
      "metadata": {
        "id": "ISPiztGYeePx"
      },
      "source": [
        "# Metrics and Template"
      ]
    },
    {
      "cell_type": "code",
      "execution_count": 15,
      "metadata": {
        "id": "Xfch0_3IeePy"
      },
      "outputs": [],
      "source": [
        "def f1_score(y_true, y_pred):\n",
        "    true_positives = K.sum(K.round(K.clip(y_true * y_pred, 0, 1)))\n",
        "    possible_positives = K.sum(K.round(K.clip(y_true, 0, 1)))\n",
        "    predicted_positives = K.sum(K.round(K.clip(y_pred, 0, 1)))\n",
        "    precision = true_positives / (predicted_positives + K.epsilon())\n",
        "    recall = true_positives / (possible_positives + K.epsilon())\n",
        "    return 2 * (precision * recall) / (precision+recall + K.epsilon())"
      ]
    },
    {
      "cell_type": "markdown",
      "metadata": {
        "id": "XtoA6PbeyuTJ"
      },
      "source": [
        "# Modelling"
      ]
    },
    {
      "cell_type": "code",
      "execution_count": 16,
      "metadata": {
        "id": "arq-6rIeyuTJ"
      },
      "outputs": [],
      "source": [
        "import tensorflow as tf\n",
        "import keras\n",
        "from keras import layers, activations, losses, optimizers, initializers, regularizers, metrics, Input, models\n",
        "import sklearn.metrics as skMetrics\n",
        "from sklearn.model_selection import train_test_split\n",
        "\n",
        "def plot_hist(hist):\n",
        "    fig = plt.figure()\n",
        "    fig.add_subplot(1, 2, 1)\n",
        "    plt.plot(hist.history['acc'], label = 'train')\n",
        "    plt.plot(hist.history['val_acc'], label = 'validation')\n",
        "    plt.xlabel('acc')\n",
        "    plt.legend()\n",
        "    fig.add_subplot(1, 2, 2)\n",
        "    plt.plot(hist.history['mae'], label = 'train')\n",
        "    plt.plot(hist.history['val_mae'], label = 'validation')\n",
        "    plt.xlabel('mae')\n",
        "    plt.legend()"
      ]
    },
    {
      "cell_type": "markdown",
      "metadata": {
        "id": "BcvGbnUUyuTJ"
      },
      "source": [
        "## EfficientNetB"
      ]
    },
    {
      "cell_type": "code",
      "execution_count": 17,
      "metadata": {
        "id": "MI3K90_yDvnf"
      },
      "outputs": [],
      "source": [
        "# from sklearn.model_selection import train_test_split\n",
        "\n",
        "# img_arr, test_img_arr, target = get_image_dataset()\n",
        "\n",
        "# train_x, val_x, train_y, val_y = train_test_split(img_arr, target, test_size=0.2, stratify=target)"
      ]
    },
    {
      "cell_type": "code",
      "execution_count": 18,
      "metadata": {
        "id": "Qy4_DKRcyuTK"
      },
      "outputs": [],
      "source": [
        "# from keras.applications import EfficientNetB4\n",
        "# from keras.applications.efficientnet import preprocess_input\n",
        "\n",
        "# input_layer = Input(shape=IMG_SHAPE, dtype=tf.float32)\n",
        "# efficientNetB7_layer = EfficientNetB4()(preprocess_input(input_layer))\n",
        "# efficientNetB7_layer.trainable = False\n",
        "# flatten_layer = layers.Flatten()(efficientNetB7_layer)\n",
        "# dense_layer = layers.Dense(400, activation='relu')(flatten_layer)\n",
        "# dropout_layer = layers.Dropout(.2)(dense_layer)\n",
        "# dense_layer = layers.Dense(200, activation='relu')(flatten_layer)\n",
        "# dropout_layer = layers.Dropout(.2)(dense_layer)\n",
        "# output_layer = layers.Dense(1, activation='sigmoid')(dropout_layer)\n",
        "\n",
        "# model = keras.Model(inputs=input_layer, outputs=output_layer)\n",
        "\n",
        "# model.compile('adam', loss=losses.BinaryCrossentropy(), metrics=['mae', 'acc'])"
      ]
    },
    {
      "cell_type": "code",
      "execution_count": 19,
      "metadata": {
        "id": "MFln23cIyuTK"
      },
      "outputs": [],
      "source": [
        "# callback = tf.keras.callbacks.EarlyStopping(monitor='val_mae', patience=7, restore_best_weights=True)\n",
        "# hist = model.fit(train_x, train_y, validation_data=(val_x, val_y), batch_size=64, epochs=20, callbacks=[callback])"
      ]
    },
    {
      "cell_type": "code",
      "execution_count": 20,
      "metadata": {
        "id": "KO_knTjyA6hx"
      },
      "outputs": [],
      "source": [
        "# model.save(get_path('model2_150neuron.h5'))"
      ]
    },
    {
      "cell_type": "markdown",
      "metadata": {
        "id": "-xO-_se5eeP0"
      },
      "source": [
        "## Full Complex Model"
      ]
    },
    {
      "cell_type": "markdown",
      "metadata": {
        "id": "dUzWH6FzeeP0"
      },
      "source": [
        "### Data Analyst"
      ]
    },
    {
      "cell_type": "code",
      "execution_count": 21,
      "metadata": {
        "colab": {
          "base_uri": "https://localhost:8080/",
          "height": 296
        },
        "id": "CrE2xdemeeP1",
        "outputId": "a0a1ae5e-c84a-49ce-e0d0-ff43acd409ec"
      },
      "outputs": [
        {
          "output_type": "stream",
          "name": "stdout",
          "text": [
            "Maksimal kata pada variabel text : 56\n"
          ]
        },
        {
          "output_type": "display_data",
          "data": {
            "text/plain": [
              "<Figure size 432x288 with 1 Axes>"
            ],
            "image/png": "[encoded data removed]"
          },
          "metadata": {
            "needs_background": "light"
          }
        }
      ],
      "source": [
        "if RUN_OPTIONAL_CELLS:\n",
        "    sns.histplot(train['text'].map(lambda x: len(x.split())))\n",
        "    plt.axvline(MAX_WORD, color='green', label='max word')\n",
        "    plt.legend()\n",
        "    print(f'Maksimal kata pada variabel text :', colored(train['text'].map(lambda x: len(x.split())).max(), 'green'))"
      ]
    },
    {
      "cell_type": "markdown",
      "metadata": {
        "id": "PGTzrNk9eeP2"
      },
      "source": [
        "### Data Preparation"
      ]
    },
    {
      "cell_type": "markdown",
      "metadata": {
        "id": "BaDvcqyCeeP2"
      },
      "source": [
        "#### Plot Pos-Neg Words"
      ]
    },
    {
      "cell_type": "code",
      "execution_count": 22,
      "metadata": {
        "colab": {
          "base_uri": "https://localhost:8080/",
          "height": 54
        },
        "id": "BjaJUARIeeP2",
        "outputId": "96d7df22-71d8-4fed-e80e-ed0d3bed892c"
      },
      "outputs": [
        {
          "output_type": "display_data",
          "data": {
            "text/plain": [
              "<Figure size 432x288 with 1 Axes>"
            ],
            "image/png": "[encoded data removed]"
          },
          "metadata": {
            "needs_background": "light"
          }
        }
      ],
      "source": [
        "sentword_score = {}\n",
        "\n",
        "def load_sentword(filename):\n",
        "  file = open(get_path(filename), \"r\")\n",
        "  file.readline()\n",
        "  for line in file:\n",
        "    word, score = line.strip().split(\"\\t\")\n",
        "    score = int(score)\n",
        "    sentword_score[word] = score\n",
        "  file.close()\n",
        "\n",
        "load_sentword(\"tools/negative.tsv\")\n",
        "load_sentword(\"tools/positive.tsv\")\n",
        "\n",
        "import matplotlib.patches as mpatches\n",
        "\n",
        "num_pos = []\n",
        "num_neg = []\n",
        "scores  = []\n",
        "\n",
        "for _, row in train.iterrows():\n",
        "  tokens = tokenize(row[\"text\"])\n",
        "  label = row[target.columns[0]]\n",
        "  num_negative, num_positive = 0, 0\n",
        "\n",
        "  for token in tokens:\n",
        "    if token in sentword_score:\n",
        "      if (sentword_score[token] < 0):\n",
        "        num_negative += 1\n",
        "      elif (sentword_score[token] > 0):\n",
        "        num_positive += 1\n",
        "  num_pos.append(num_positive)\n",
        "  num_neg.append(num_negative)\n",
        "  scores.append(label)\n",
        "\n",
        "# tambahkan kolom di dataframe\n",
        "train[\"pos_words\"] = num_pos\n",
        "train[\"neg_words\"] = num_neg\n",
        "\n",
        "# add jitters\n",
        "num_pos = np.array(num_pos)\n",
        "num_neg = np.array(num_neg)\n",
        "num_pos = num_pos + np.random.normal(0, 0.2, len(num_pos))\n",
        "num_neg = num_neg + np.random.normal(0, 0.2, len(num_neg))\n",
        "\n",
        "if RUN_OPTIONAL_CELLS:\n",
        "  colors = ['g' if score == 1 else 'r' for score in scores]\n",
        "  plt.scatter(num_pos, num_neg, c = colors, alpha=0.3)\n",
        "  plt.xlabel('# positive words')\n",
        "  plt.ylabel('# negative words')\n",
        "\n",
        "  # Legend\n",
        "  red_patch = mpatches.Patch(color='red', label='Negative')\n",
        "  green_patch = mpatches.Patch(color='green', label='Positive')\n",
        "\n",
        "  plt.legend(handles=[red_patch, green_patch])\n",
        "  plt.show()"
      ]
    },
    {
      "cell_type": "markdown",
      "metadata": {
        "id": "WeoUY4a5eeP3"
      },
      "source": [
        "#### Tabular Data"
      ]
    },
    {
      "cell_type": "code",
      "execution_count": 23,
      "metadata": {
        "colab": {
          "base_uri": "https://localhost:8080/"
        },
        "id": "D-qh1Yd7eeP3",
        "outputId": "868e67f4-848c-4f5e-f7f6-55feecfded19"
      },
      "outputs": [
        {
          "output_type": "execute_result",
          "data": {
            "text/plain": [
              "Index(['created_at', 'id', 'user_id', 'user_name', 'url', 'text', 'media',\n",
              "       'label', 'pos_words', 'neg_words'],\n",
              "      dtype='object')"
            ]
          },
          "metadata": {},
          "execution_count": 23
        }
      ],
      "source": [
        "train.columns"
      ]
    },
    {
      "cell_type": "code",
      "execution_count": 24,
      "metadata": {
        "id": "s49S64VQeeP3"
      },
      "outputs": [],
      "source": [
        "def get_positive_negative_word(df, is_train):\n",
        "    def load_sentword(filename):\n",
        "        file = open(get_path(filename), \"r\")\n",
        "        file.readline()\n",
        "        for line in file:\n",
        "            word, score = line.strip().split(\"\\t\")\n",
        "            score = int(score)\n",
        "            sentword_score[word] = score\n",
        "        file.close()\n",
        "\n",
        "    load_sentword(\"tools/negative.tsv\")\n",
        "    load_sentword(\"tools/positive.tsv\")\n",
        "\n",
        "    num_pos = []\n",
        "    num_neg = []\n",
        "    tot_pos = []\n",
        "    tot_neg = []\n",
        "\n",
        "    if is_train:\n",
        "        temp = train\n",
        "    else:\n",
        "        temp = test\n",
        "\n",
        "    for _, row in temp.iterrows():\n",
        "        tokens = tokenize(row[\"text\"])\n",
        "        num_negative, num_positive, total_positive, total_negative = 0, 0, 0, 0\n",
        "\n",
        "        for token in tokens:\n",
        "            if token in sentword_score:\n",
        "                if (sentword_score[token] < 0):\n",
        "                    total_negative += sentword_score[token]\n",
        "                    num_negative += 1\n",
        "                    \n",
        "                elif (sentword_score[token] > 0):\n",
        "                    total_positive += sentword_score[token]\n",
        "                    num_positive += 1\n",
        "        num_pos.append(num_positive)\n",
        "        num_neg.append(num_negative)\n",
        "        tot_pos.append(total_positive)\n",
        "        tot_neg.append(total_negative)\n",
        "\n",
        "    # tambahkan kolom di dataframe\n",
        "    df[\"pos_words\"] = num_pos\n",
        "    df[\"neg_words\"] = num_neg\n",
        "    df[\"sum_pos_words\"] = tot_pos\n",
        "    df[\"sum_neg_words\"] = tot_neg\n",
        "    return df\n",
        "\n",
        "def get_tabular_dataset():\n",
        "    \"\"\"\n",
        "        return:\n",
        "            train\n",
        "            test\n",
        "            target\n",
        "    \"\"\"\n",
        "    tabular_train = train.copy()\n",
        "    tabular_test = test.copy()\n",
        "\n",
        "    tabular_train = get_date_feature(tabular_train, 'created_at')\n",
        "    tabular_test = get_date_feature(tabular_test, 'created_at')\n",
        "\n",
        "    tabular_train = tabular_train.drop(['created_at', 'id', 'user_id', 'user_name', 'url', 'text', 'media', 'label'], axis=1)\n",
        "    tabular_test = tabular_test.drop(['created_at', 'id', 'user_id', 'user_name', 'url', 'text', 'media'], axis=1)\n",
        "    \n",
        "    tabular_train = get_positive_negative_word(tabular_train, 1)\n",
        "    tabular_test = get_positive_negative_word(tabular_test, 0)\n",
        "    \n",
        "    iklim = pd.read_csv(get_path('data/iklim_cleaned.csv'))\n",
        "\n",
        "    tabular_train = pd.merge(tabular_train, iklim, left_on=['month', 'year'], right_on=['bulan', 'tahun'], validate='many_to_one')\n",
        "    tabular_test = pd.merge(tabular_test, iklim, left_on=['month', 'year'], right_on=['bulan', 'tahun'], validate='many_to_one')\n",
        "    return tabular_train, tabular_test, target.copy()"
      ]
    },
    {
      "cell_type": "markdown",
      "metadata": {
        "id": "9XxGPJLzeeP4"
      },
      "source": [
        "### Model Architecture"
      ]
    },
    {
      "cell_type": "markdown",
      "metadata": {
        "id": "ID8piNNieeP4"
      },
      "source": [
        "Image Pipeline"
      ]
    },
    {
      "cell_type": "code",
      "execution_count": 25,
      "metadata": {
        "id": "vm5ScRfieeP4"
      },
      "outputs": [],
      "source": [
        "# model = models.load_model('models/modelb2_400 .5 200 .5.h5')\n",
        "# img_output = model.layers[-2].output"
      ]
    },
    {
      "cell_type": "markdown",
      "metadata": {
        "id": "kN2X9CiweeP4"
      },
      "source": [
        "Text Pipeline"
      ]
    },
    {
      "cell_type": "code",
      "execution_count": 26,
      "metadata": {
        "id": "dV0Rhl5FeeP4"
      },
      "outputs": [],
      "source": [
        "tokenizer = AutoTokenizer.from_pretrained(\"indolem/indobertweet-base-uncased\")\n",
        "bert_model = TFBertModel.from_pretrained(\"indolem/indobertweet-base-uncased\", \\\n",
        "                                         output_attentions=True, \\\n",
        "                                         from_pt = True)\n",
        "\n",
        "def bert_tokenize(documents, is_tuple = False):\n",
        "  if not is_tuple:\n",
        "    tokenized = tokenizer(documents, padding='max_length', max_length=MAX_WORD, truncation=True)\n",
        "  else:\n",
        "    tokenized = tokenizer(documents[0], documents[1], padding='max_length', max_length=MAX_WORD, truncation=True)\n",
        "  ids = np.array(tokenized['input_ids'])\n",
        "  ams = np.array(tokenized['token_type_ids'])\n",
        "  msk = np.array(tokenized['attention_mask'])\n",
        "  return ids, ams, msk\n",
        "clear_output()"
      ]
    },
    {
      "cell_type": "code",
      "source": [
        "def f1_loss(y_true, y_pred):\n",
        "    \n",
        "    tp = K.sum(K.cast(y_true*y_pred, 'float'), axis=0)\n",
        "    tn = K.sum(K.cast((1-y_true)*(1-y_pred), 'float'), axis=0)\n",
        "    fp = K.sum(K.cast((1-y_true)*y_pred, 'float'), axis=0)\n",
        "    fn = K.sum(K.cast(y_true*(1-y_pred), 'float'), axis=0)\n",
        "\n",
        "    p = tp / (tp + fp + K.epsilon())\n",
        "    r = tp / (tp + fn + K.epsilon())\n",
        "\n",
        "    f1 = 2*p*r / (p+r+K.epsilon())\n",
        "    f1 = tf.where(tf.math.is_nan(f1), tf.zeros_like(f1), f1)\n",
        "    return 1 - K.mean(f1)"
      ],
      "metadata": {
        "id": "Fmd2zTj_w8Di"
      },
      "execution_count": 27,
      "outputs": []
    },
    {
      "cell_type": "markdown",
      "source": [
        "##### Deep Learning Finishing Layer"
      ],
      "metadata": {
        "id": "GmLa_dnXsg-J"
      }
    },
    {
      "cell_type": "code",
      "execution_count": 33,
      "metadata": {
        "id": "xEULnPUqeeP6"
      },
      "outputs": [],
      "source": [
        "# Text model ##############################################################\n",
        "input_ids_layer = tf.keras.layers.Input(shape=(MAX_WORD,), \n",
        "                                        name='input_ids', \n",
        "                                        dtype='int32')\n",
        "input_attention_mask = tf.keras.layers.Input(shape=(MAX_WORD,), \n",
        "                                             name='input_attention_mask', \n",
        "                                             dtype='int32')\n",
        "input_type_ids = tf.keras.layers.Input(shape=(MAX_WORD,), \n",
        "                                       name='input_type_ids', \n",
        "                                       dtype='int32')\n",
        "last_hidden_state = bert_model([input_ids_layer, input_attention_mask, input_type_ids]).last_hidden_state\n",
        "for layer in bert_model.layers:\n",
        "    layer.trainable = False\n",
        "cls_last_output = last_hidden_state[:, 0, :]\n",
        "dense_t_1 = layers.Dense(450, activation='relu', kernel_initializer = tf.keras.initializers.GlorotNormal(seed = 42),bias_initializer = 'zeros',\n",
        "                                   kernel_regularizer = tf.keras.regularizers.L1(l1=1e-3),\n",
        "                                   bias_regularizer = tf.keras.regularizers.L1(1e-3))(cls_last_output)\n",
        "dropout_t_1 = layers.Dropout(.5)(dense_t_1)\n",
        "############################################################################\n",
        "\n",
        "# Image Model ##############################################################\n",
        "from keras.applications import EfficientNetB2\n",
        "from keras.applications.efficientnet import preprocess_input\n",
        "\n",
        "input_img = Input(shape=IMG_SHAPE, dtype=tf.float32)\n",
        "efficientNetB7_layer = EfficientNetB2()(preprocess_input(input_img))\n",
        "efficientNetB7_layer.trainable = False\n",
        "flatten_layer = layers.Flatten()(efficientNetB7_layer)\n",
        "dense_layer = layers.Dense(200, activation='relu', kernel_initializer = tf.keras.initializers.GlorotNormal(seed = 42), bias_initializer = 'zeros',\n",
        "                                   kernel_regularizer = tf.keras.regularizers.L1(l1=1e-3),\n",
        "                                   bias_regularizer = tf.keras.regularizers.L1(1e-3))(flatten_layer)\n",
        "dropout_layer = layers.Dropout(.5)(dense_layer)\n",
        "############################################################################\n",
        "\n",
        "# Concat Last Layer with tabular ###########################################\n",
        "input_tabular = Input(shape=(18, ), dtype=tf.float32)\n",
        "concat_features = tf.keras.layers.concatenate([dropout_layer, dropout_t_1, input_tabular], axis = 1)\n",
        "dense_concated_layer_1 = layers.Dense(300, activation='relu', kernel_initializer = tf.keras.initializers.GlorotNormal(seed = 42), bias_initializer = 'zeros',\n",
        "                                   kernel_regularizer = tf.keras.regularizers.L1(l1=1e-3),\n",
        "                                   bias_regularizer = tf.keras.regularizers.L1(1e-3))(concat_features)\n",
        "dropout_concated_layer = layers.Dropout(.5)(dense_concated_layer_1)\n",
        "dense_concated_layer_2 = layers.Dense(150, activation='relu', kernel_initializer = tf.keras.initializers.GlorotNormal(seed = 42), bias_initializer = 'zeros',\n",
        "                                   kernel_regularizer = tf.keras.regularizers.L1(l1=1e-3),\n",
        "                                   bias_regularizer = tf.keras.regularizers.L1(1e-3))(dropout_concated_layer)\n",
        "dropout_concated_layer2 = layers.Dropout(.5)(dense_concated_layer_2)\n",
        "output = layers.Dense(1, activation='sigmoid')(dropout_concated_layer2)\n",
        "############################################################################\n",
        "\n",
        "###################### RELEASE THE BEAST ###################################\n",
        "model = keras.Model(inputs=[input_ids_layer, input_attention_mask, input_type_ids, input_img, input_tabular], outputs=output)\n",
        "model.compile('adam', loss=losses.BinaryCrossentropy(), metrics=[f1_score, 'mae', 'acc'])"
      ]
    },
    {
      "cell_type": "code",
      "execution_count": null,
      "metadata": {
        "id": "w8mGz8KeeeP7",
        "colab": {
          "base_uri": "https://localhost:8080/"
        },
        "outputId": "0dacf8ce-eb57-4d7c-ef9d-0de9b94fe01e"
      },
      "outputs": [
        {
          "output_type": "stream",
          "name": "stdout",
          "text": [
            "Epoch 1/200\n",
            "19/19 [==============================] - 16s 853ms/step - loss: 0.8472 - f1_score: 0.0000e+00 - mae: 0.3435 - acc: 0.7842 - val_loss: 0.8399 - val_f1_score: 0.0000e+00 - val_mae: 0.3443 - val_acc: 0.7862\n",
            "Epoch 2/200\n",
            "19/19 [==============================] - 16s 856ms/step - loss: 0.8444 - f1_score: 0.0000e+00 - mae: 0.3420 - acc: 0.7842 - val_loss: 0.8374 - val_f1_score: 0.0000e+00 - val_mae: 0.3441 - val_acc: 0.7862\n",
            "Epoch 3/200\n",
            "19/19 [==============================] - 16s 841ms/step - loss: 0.8411 - f1_score: 0.0000e+00 - mae: 0.3506 - acc: 0.7842 - val_loss: 0.8339 - val_f1_score: 0.0000e+00 - val_mae: 0.3404 - val_acc: 0.7862\n",
            "Epoch 4/200\n",
            "19/19 [==============================] - 16s 839ms/step - loss: 0.8372 - f1_score: 0.0058 - mae: 0.3397 - acc: 0.7858 - val_loss: 0.8311 - val_f1_score: 0.0000e+00 - val_mae: 0.3415 - val_acc: 0.7862\n",
            "Epoch 5/200\n",
            "19/19 [==============================] - 16s 845ms/step - loss: 0.8317 - f1_score: 0.0000e+00 - mae: 0.3412 - acc: 0.7850 - val_loss: 0.8272 - val_f1_score: 0.0000e+00 - val_mae: 0.3407 - val_acc: 0.7862\n",
            "Epoch 6/200\n",
            "19/19 [==============================] - 16s 841ms/step - loss: 0.8292 - f1_score: 0.0000e+00 - mae: 0.3361 - acc: 0.7842 - val_loss: 0.8238 - val_f1_score: 0.0000e+00 - val_mae: 0.3361 - val_acc: 0.7862\n",
            "Epoch 7/200\n",
            "19/19 [==============================] - 15s 814ms/step - loss: 0.8258 - f1_score: 0.0212 - mae: 0.3445 - acc: 0.7850 - val_loss: 0.8211 - val_f1_score: 0.0000e+00 - val_mae: 0.3408 - val_acc: 0.7862\n",
            "Epoch 8/200\n",
            "19/19 [==============================] - 16s 827ms/step - loss: 0.8275 - f1_score: 0.0000e+00 - mae: 0.3415 - acc: 0.7842 - val_loss: 0.8203 - val_f1_score: 0.0000e+00 - val_mae: 0.3354 - val_acc: 0.7862\n",
            "Epoch 9/200\n",
            "19/19 [==============================] - 16s 836ms/step - loss: 0.8255 - f1_score: 0.0000e+00 - mae: 0.3386 - acc: 0.7834 - val_loss: 0.8191 - val_f1_score: 0.0000e+00 - val_mae: 0.3413 - val_acc: 0.7862\n",
            "Epoch 10/200\n",
            "19/19 [==============================] - 16s 845ms/step - loss: 0.8229 - f1_score: 0.0000e+00 - mae: 0.3403 - acc: 0.7842 - val_loss: 0.8161 - val_f1_score: 0.0000e+00 - val_mae: 0.3416 - val_acc: 0.7862\n",
            "Epoch 11/200\n",
            "19/19 [==============================] - 16s 850ms/step - loss: 0.8167 - f1_score: 0.0000e+00 - mae: 0.3431 - acc: 0.7842 - val_loss: 0.8118 - val_f1_score: 0.0000e+00 - val_mae: 0.3424 - val_acc: 0.7862\n",
            "Epoch 12/200\n",
            "19/19 [==============================] - 16s 821ms/step - loss: 0.8140 - f1_score: 0.0000e+00 - mae: 0.3435 - acc: 0.7842 - val_loss: 0.8089 - val_f1_score: 0.0000e+00 - val_mae: 0.3386 - val_acc: 0.7862\n",
            "Epoch 13/200\n",
            "19/19 [==============================] - 16s 834ms/step - loss: 0.8136 - f1_score: 0.0000e+00 - mae: 0.3431 - acc: 0.7850 - val_loss: 0.8067 - val_f1_score: 0.0000e+00 - val_mae: 0.3400 - val_acc: 0.7862\n",
            "Epoch 14/200\n",
            "19/19 [==============================] - 16s 856ms/step - loss: 0.8062 - f1_score: 0.0000e+00 - mae: 0.3440 - acc: 0.7850 - val_loss: 0.8028 - val_f1_score: 0.0000e+00 - val_mae: 0.3374 - val_acc: 0.7862\n",
            "Epoch 15/200\n",
            "19/19 [==============================] - 16s 825ms/step - loss: 0.8074 - f1_score: 0.0000e+00 - mae: 0.3382 - acc: 0.7850 - val_loss: 0.8006 - val_f1_score: 0.0000e+00 - val_mae: 0.3347 - val_acc: 0.7862\n",
            "Epoch 16/200\n",
            "19/19 [==============================] - 16s 854ms/step - loss: 0.8024 - f1_score: 0.0000e+00 - mae: 0.3378 - acc: 0.7850 - val_loss: 0.7987 - val_f1_score: 0.0000e+00 - val_mae: 0.3399 - val_acc: 0.7862\n",
            "Epoch 17/200\n",
            "19/19 [==============================] - 16s 869ms/step - loss: 0.8003 - f1_score: 0.0000e+00 - mae: 0.3349 - acc: 0.7850 - val_loss: 0.7950 - val_f1_score: 0.0000e+00 - val_mae: 0.3402 - val_acc: 0.7862\n",
            "Epoch 18/200\n",
            "19/19 [==============================] - 16s 872ms/step - loss: 0.7934 - f1_score: 0.0000e+00 - mae: 0.3404 - acc: 0.7850 - val_loss: 0.7896 - val_f1_score: 0.0000e+00 - val_mae: 0.3449 - val_acc: 0.7862\n",
            "Epoch 19/200\n",
            "19/19 [==============================] - 16s 865ms/step - loss: 0.7934 - f1_score: 0.0081 - mae: 0.3449 - acc: 0.7809 - val_loss: 0.7865 - val_f1_score: 0.0000e+00 - val_mae: 0.3396 - val_acc: 0.7862\n",
            "Epoch 20/200\n",
            "19/19 [==============================] - 16s 854ms/step - loss: 0.7930 - f1_score: 0.0000e+00 - mae: 0.3418 - acc: 0.7801 - val_loss: 0.7848 - val_f1_score: 0.0000e+00 - val_mae: 0.3385 - val_acc: 0.7862\n",
            "Epoch 21/200\n",
            "19/19 [==============================] - 16s 864ms/step - loss: 0.7875 - f1_score: 0.0000e+00 - mae: 0.3397 - acc: 0.7850 - val_loss: 0.7822 - val_f1_score: 0.0000e+00 - val_mae: 0.3392 - val_acc: 0.7862\n",
            "Epoch 22/200\n",
            "19/19 [==============================] - 16s 833ms/step - loss: 0.7855 - f1_score: 0.0000e+00 - mae: 0.3331 - acc: 0.7842 - val_loss: 0.7810 - val_f1_score: 0.0000e+00 - val_mae: 0.3335 - val_acc: 0.7862\n",
            "Epoch 23/200\n",
            "19/19 [==============================] - 16s 836ms/step - loss: 0.7846 - f1_score: 0.0000e+00 - mae: 0.3386 - acc: 0.7842 - val_loss: 0.7800 - val_f1_score: 0.0000e+00 - val_mae: 0.3400 - val_acc: 0.7862\n",
            "Epoch 24/200\n",
            "19/19 [==============================] - 16s 856ms/step - loss: 0.7820 - f1_score: 0.0000e+00 - mae: 0.3392 - acc: 0.7850 - val_loss: 0.7780 - val_f1_score: 0.0000e+00 - val_mae: 0.3397 - val_acc: 0.7862\n",
            "Epoch 25/200\n",
            "19/19 [==============================] - 16s 846ms/step - loss: 0.7813 - f1_score: 0.0096 - mae: 0.3412 - acc: 0.7850 - val_loss: 0.7768 - val_f1_score: 0.0000e+00 - val_mae: 0.3396 - val_acc: 0.7862\n",
            "Epoch 26/200\n",
            "19/19 [==============================] - 16s 844ms/step - loss: 0.7779 - f1_score: 0.0000e+00 - mae: 0.3381 - acc: 0.7850 - val_loss: 0.7739 - val_f1_score: 0.0000e+00 - val_mae: 0.3347 - val_acc: 0.7862\n",
            "Epoch 27/200\n",
            "19/19 [==============================] - 15s 811ms/step - loss: 0.7748 - f1_score: 0.0000e+00 - mae: 0.3387 - acc: 0.7850 - val_loss: 0.7706 - val_f1_score: 0.0000e+00 - val_mae: 0.3393 - val_acc: 0.7862\n",
            "Epoch 28/200\n",
            "19/19 [==============================] - 15s 818ms/step - loss: 0.7705 - f1_score: 0.0000e+00 - mae: 0.3402 - acc: 0.7850 - val_loss: 0.7662 - val_f1_score: 0.0000e+00 - val_mae: 0.3395 - val_acc: 0.7862\n",
            "Epoch 29/200\n",
            "19/19 [==============================] - 16s 831ms/step - loss: 0.7673 - f1_score: 0.0000e+00 - mae: 0.3419 - acc: 0.7850 - val_loss: 0.7630 - val_f1_score: 0.0000e+00 - val_mae: 0.3392 - val_acc: 0.7862\n",
            "Epoch 30/200\n",
            "19/19 [==============================] - 16s 825ms/step - loss: 0.7751 - f1_score: 0.0088 - mae: 0.3393 - acc: 0.7850 - val_loss: 0.7629 - val_f1_score: 0.0000e+00 - val_mae: 0.3392 - val_acc: 0.7862\n",
            "Epoch 31/200\n",
            "19/19 [==============================] - 15s 808ms/step - loss: 0.7655 - f1_score: 0.0000e+00 - mae: 0.3412 - acc: 0.7842 - val_loss: 0.7631 - val_f1_score: 0.0000e+00 - val_mae: 0.3390 - val_acc: 0.7862\n",
            "Epoch 32/200\n",
            "19/19 [==============================] - 16s 835ms/step - loss: 0.7681 - f1_score: 0.0000e+00 - mae: 0.3412 - acc: 0.7850 - val_loss: 0.7633 - val_f1_score: 0.0000e+00 - val_mae: 0.3316 - val_acc: 0.7862\n",
            "Epoch 33/200\n",
            "19/19 [==============================] - 16s 844ms/step - loss: 0.7660 - f1_score: 0.0000e+00 - mae: 0.3369 - acc: 0.7850 - val_loss: 0.7593 - val_f1_score: 0.0000e+00 - val_mae: 0.3410 - val_acc: 0.7862\n",
            "Epoch 34/200\n",
            "19/19 [==============================] - 16s 837ms/step - loss: 0.7600 - f1_score: 0.0000e+00 - mae: 0.3429 - acc: 0.7842 - val_loss: 0.7550 - val_f1_score: 0.0000e+00 - val_mae: 0.3425 - val_acc: 0.7862\n",
            "Epoch 35/200\n",
            "19/19 [==============================] - 16s 853ms/step - loss: 0.7556 - f1_score: 0.0000e+00 - mae: 0.3402 - acc: 0.7842 - val_loss: 0.7505 - val_f1_score: 0.0000e+00 - val_mae: 0.3383 - val_acc: 0.7862\n",
            "Epoch 36/200\n",
            "19/19 [==============================] - 16s 849ms/step - loss: 0.7516 - f1_score: 0.0000e+00 - mae: 0.3395 - acc: 0.7850 - val_loss: 0.7478 - val_f1_score: 0.0000e+00 - val_mae: 0.3393 - val_acc: 0.7862\n",
            "Epoch 37/200\n",
            "19/19 [==============================] - 16s 829ms/step - loss: 0.7496 - f1_score: 0.0137 - mae: 0.3391 - acc: 0.7867 - val_loss: 0.7474 - val_f1_score: 0.0000e+00 - val_mae: 0.3295 - val_acc: 0.7862\n",
            "Epoch 38/200\n",
            "19/19 [==============================] - 16s 825ms/step - loss: 0.7501 - f1_score: 0.0000e+00 - mae: 0.3404 - acc: 0.7850 - val_loss: 0.7456 - val_f1_score: 0.0000e+00 - val_mae: 0.3432 - val_acc: 0.7862\n",
            "Epoch 39/200\n",
            "19/19 [==============================] - 15s 815ms/step - loss: 0.7523 - f1_score: 0.0000e+00 - mae: 0.3425 - acc: 0.7817 - val_loss: 0.7442 - val_f1_score: 0.0000e+00 - val_mae: 0.3360 - val_acc: 0.7862\n",
            "Epoch 40/200\n",
            "19/19 [==============================] - 16s 831ms/step - loss: 0.7473 - f1_score: 0.0000e+00 - mae: 0.3318 - acc: 0.7850 - val_loss: 0.7443 - val_f1_score: 0.0000e+00 - val_mae: 0.3376 - val_acc: 0.7862\n",
            "Epoch 41/200\n",
            "19/19 [==============================] - 16s 845ms/step - loss: 0.7474 - f1_score: 0.0000e+00 - mae: 0.3391 - acc: 0.7842 - val_loss: 0.7431 - val_f1_score: 0.0000e+00 - val_mae: 0.3375 - val_acc: 0.7862\n",
            "Epoch 42/200\n",
            "19/19 [==============================] - 16s 841ms/step - loss: 0.7465 - f1_score: 0.0000e+00 - mae: 0.3336 - acc: 0.7850 - val_loss: 0.7417 - val_f1_score: 0.0000e+00 - val_mae: 0.3495 - val_acc: 0.7862\n",
            "Epoch 43/200\n",
            "19/19 [==============================] - 16s 836ms/step - loss: 0.7457 - f1_score: 0.0000e+00 - mae: 0.3421 - acc: 0.7850 - val_loss: 0.7387 - val_f1_score: 0.0000e+00 - val_mae: 0.3378 - val_acc: 0.7862\n",
            "Epoch 44/200\n",
            "19/19 [==============================] - 16s 830ms/step - loss: 0.7472 - f1_score: 0.0088 - mae: 0.3356 - acc: 0.7850 - val_loss: 0.7381 - val_f1_score: 0.0000e+00 - val_mae: 0.3283 - val_acc: 0.7862\n",
            "Epoch 45/200\n",
            "19/19 [==============================] - 15s 811ms/step - loss: 0.7461 - f1_score: 0.0053 - mae: 0.3385 - acc: 0.7817 - val_loss: 0.7368 - val_f1_score: 0.0000e+00 - val_mae: 0.3378 - val_acc: 0.7862\n",
            "Epoch 46/200\n",
            "19/19 [==============================] - 16s 856ms/step - loss: 0.7428 - f1_score: 0.0000e+00 - mae: 0.3350 - acc: 0.7834 - val_loss: 0.7387 - val_f1_score: 0.0000e+00 - val_mae: 0.3456 - val_acc: 0.7862\n",
            "Epoch 47/200\n",
            "19/19 [==============================] - 16s 867ms/step - loss: 0.7468 - f1_score: 0.0132 - mae: 0.3424 - acc: 0.7834 - val_loss: 0.7383 - val_f1_score: 0.0000e+00 - val_mae: 0.3352 - val_acc: 0.7862\n",
            "Epoch 48/200\n",
            "19/19 [==============================] - 16s 867ms/step - loss: 0.7466 - f1_score: 0.0000e+00 - mae: 0.3352 - acc: 0.7850 - val_loss: 0.7378 - val_f1_score: 0.0000e+00 - val_mae: 0.3365 - val_acc: 0.7862\n",
            "Epoch 49/200\n",
            "19/19 [==============================] - 16s 853ms/step - loss: 0.7404 - f1_score: 0.0000e+00 - mae: 0.3400 - acc: 0.7850 - val_loss: 0.7351 - val_f1_score: 0.0000e+00 - val_mae: 0.3337 - val_acc: 0.7862\n",
            "Epoch 50/200\n",
            "19/19 [==============================] - 16s 823ms/step - loss: 0.7363 - f1_score: 0.0000e+00 - mae: 0.3342 - acc: 0.7850 - val_loss: 0.7306 - val_f1_score: 0.0000e+00 - val_mae: 0.3378 - val_acc: 0.7862\n",
            "Epoch 51/200\n",
            "19/19 [==============================] - 16s 841ms/step - loss: 0.7358 - f1_score: 0.0062 - mae: 0.3427 - acc: 0.7792 - val_loss: 0.7288 - val_f1_score: 0.0000e+00 - val_mae: 0.3386 - val_acc: 0.7862\n",
            "Epoch 52/200\n",
            "19/19 [==============================] - 16s 845ms/step - loss: 0.7354 - f1_score: 0.0070 - mae: 0.3392 - acc: 0.7850 - val_loss: 0.7269 - val_f1_score: 0.0000e+00 - val_mae: 0.3375 - val_acc: 0.7862\n",
            "Epoch 53/200\n",
            "19/19 [==============================] - 16s 859ms/step - loss: 0.7331 - f1_score: 0.0000e+00 - mae: 0.3461 - acc: 0.7834 - val_loss: 0.7249 - val_f1_score: 0.0000e+00 - val_mae: 0.3373 - val_acc: 0.7862\n",
            "Epoch 54/200\n",
            "19/19 [==============================] - 16s 851ms/step - loss: 0.7267 - f1_score: 0.0000e+00 - mae: 0.3363 - acc: 0.7850 - val_loss: 0.7216 - val_f1_score: 0.0000e+00 - val_mae: 0.3370 - val_acc: 0.7862\n",
            "Epoch 55/200\n",
            "19/19 [==============================] - 16s 832ms/step - loss: 0.7216 - f1_score: 0.0000e+00 - mae: 0.3309 - acc: 0.7850 - val_loss: 0.7201 - val_f1_score: 0.0000e+00 - val_mae: 0.3373 - val_acc: 0.7862\n",
            "Epoch 56/200\n",
            "19/19 [==============================] - 16s 859ms/step - loss: 0.7260 - f1_score: 0.0129 - mae: 0.3491 - acc: 0.7801 - val_loss: 0.7201 - val_f1_score: 0.0000e+00 - val_mae: 0.3342 - val_acc: 0.7862\n",
            "Epoch 57/200\n",
            "19/19 [==============================] - 16s 838ms/step - loss: 0.7220 - f1_score: 0.0000e+00 - mae: 0.3345 - acc: 0.7850 - val_loss: 0.7269 - val_f1_score: 0.0000e+00 - val_mae: 0.3663 - val_acc: 0.7862\n",
            "Epoch 58/200\n",
            "19/19 [==============================] - 16s 853ms/step - loss: 0.7239 - f1_score: 0.0000e+00 - mae: 0.3352 - acc: 0.7850 - val_loss: 0.7177 - val_f1_score: 0.0000e+00 - val_mae: 0.3455 - val_acc: 0.7862\n",
            "Epoch 59/200\n",
            "19/19 [==============================] - 15s 812ms/step - loss: 0.7265 - f1_score: 0.0096 - mae: 0.3396 - acc: 0.7842 - val_loss: 0.7152 - val_f1_score: 0.0000e+00 - val_mae: 0.3376 - val_acc: 0.7862\n",
            "Epoch 60/200\n",
            "19/19 [==============================] - 16s 845ms/step - loss: 0.7240 - f1_score: 0.0000e+00 - mae: 0.3389 - acc: 0.7842 - val_loss: 0.7148 - val_f1_score: 0.0000e+00 - val_mae: 0.3372 - val_acc: 0.7862\n",
            "Epoch 61/200\n",
            "19/19 [==============================] - 16s 859ms/step - loss: 0.7172 - f1_score: 0.0226 - mae: 0.3370 - acc: 0.7850 - val_loss: 0.7147 - val_f1_score: 0.0000e+00 - val_mae: 0.3304 - val_acc: 0.7862\n",
            "Epoch 62/200\n",
            "19/19 [==============================] - 16s 831ms/step - loss: 0.7176 - f1_score: 0.0000e+00 - mae: 0.3327 - acc: 0.7850 - val_loss: 0.7129 - val_f1_score: 0.0000e+00 - val_mae: 0.3367 - val_acc: 0.7862\n",
            "Epoch 63/200\n",
            "19/19 [==============================] - 16s 825ms/step - loss: 0.7121 - f1_score: 0.0000e+00 - mae: 0.3382 - acc: 0.7850 - val_loss: 0.7094 - val_f1_score: 0.0000e+00 - val_mae: 0.3403 - val_acc: 0.7862\n",
            "Epoch 64/200\n",
            "19/19 [==============================] - 16s 835ms/step - loss: 0.7110 - f1_score: 0.0000e+00 - mae: 0.3304 - acc: 0.7850 - val_loss: 0.7072 - val_f1_score: 0.0000e+00 - val_mae: 0.3370 - val_acc: 0.7862\n",
            "Epoch 65/200\n",
            "19/19 [==============================] - 16s 864ms/step - loss: 0.7130 - f1_score: 0.0000e+00 - mae: 0.3367 - acc: 0.7850 - val_loss: 0.7077 - val_f1_score: 0.0000e+00 - val_mae: 0.3409 - val_acc: 0.7862\n",
            "Epoch 66/200\n",
            "19/19 [==============================] - 15s 807ms/step - loss: 0.7116 - f1_score: 0.0070 - mae: 0.3366 - acc: 0.7850 - val_loss: 0.7070 - val_f1_score: 0.0000e+00 - val_mae: 0.3373 - val_acc: 0.7862\n",
            "Epoch 67/200\n",
            "19/19 [==============================] - 16s 848ms/step - loss: 0.7106 - f1_score: 0.0000e+00 - mae: 0.3399 - acc: 0.7850 - val_loss: 0.7055 - val_f1_score: 0.0000e+00 - val_mae: 0.3373 - val_acc: 0.7862\n",
            "Epoch 68/200\n",
            "19/19 [==============================] - 16s 869ms/step - loss: 0.7054 - f1_score: 0.0000e+00 - mae: 0.3390 - acc: 0.7850 - val_loss: 0.7045 - val_f1_score: 0.0000e+00 - val_mae: 0.3472 - val_acc: 0.7862\n",
            "Epoch 69/200\n",
            "19/19 [==============================] - 16s 838ms/step - loss: 0.7071 - f1_score: 0.0000e+00 - mae: 0.3412 - acc: 0.7850 - val_loss: 0.7011 - val_f1_score: 0.0000e+00 - val_mae: 0.3365 - val_acc: 0.7862\n",
            "Epoch 70/200\n",
            "19/19 [==============================] - 16s 859ms/step - loss: 0.7028 - f1_score: 0.0000e+00 - mae: 0.3391 - acc: 0.7850 - val_loss: 0.6988 - val_f1_score: 0.0000e+00 - val_mae: 0.3372 - val_acc: 0.7862\n",
            "Epoch 71/200\n",
            "19/19 [==============================] - 16s 823ms/step - loss: 0.6998 - f1_score: 0.0000e+00 - mae: 0.3379 - acc: 0.7850 - val_loss: 0.6949 - val_f1_score: 0.0000e+00 - val_mae: 0.3337 - val_acc: 0.7862\n",
            "Epoch 72/200\n",
            "19/19 [==============================] - 16s 854ms/step - loss: 0.6959 - f1_score: 0.0000e+00 - mae: 0.3330 - acc: 0.7850 - val_loss: 0.6921 - val_f1_score: 0.0000e+00 - val_mae: 0.3376 - val_acc: 0.7862\n",
            "Epoch 73/200\n",
            "19/19 [==============================] - 16s 820ms/step - loss: 0.6954 - f1_score: 0.0000e+00 - mae: 0.3399 - acc: 0.7825 - val_loss: 0.6916 - val_f1_score: 0.0000e+00 - val_mae: 0.3338 - val_acc: 0.7862\n",
            "Epoch 74/200\n",
            "19/19 [==============================] - 16s 852ms/step - loss: 0.6920 - f1_score: 0.0000e+00 - mae: 0.3327 - acc: 0.7850 - val_loss: 0.6888 - val_f1_score: 0.0000e+00 - val_mae: 0.3448 - val_acc: 0.7862\n",
            "Epoch 75/200\n",
            "19/19 [==============================] - 16s 823ms/step - loss: 0.6915 - f1_score: 0.0000e+00 - mae: 0.3439 - acc: 0.7842 - val_loss: 0.6866 - val_f1_score: 0.0000e+00 - val_mae: 0.3337 - val_acc: 0.7862\n",
            "Epoch 76/200\n",
            "19/19 [==============================] - 16s 839ms/step - loss: 0.6874 - f1_score: 0.0000e+00 - mae: 0.3357 - acc: 0.7850 - val_loss: 0.6857 - val_f1_score: 0.0000e+00 - val_mae: 0.3391 - val_acc: 0.7862\n",
            "Epoch 77/200\n",
            "19/19 [==============================] - 15s 807ms/step - loss: 0.6913 - f1_score: 0.0000e+00 - mae: 0.3408 - acc: 0.7825 - val_loss: 0.6859 - val_f1_score: 0.0000e+00 - val_mae: 0.3355 - val_acc: 0.7862\n",
            "Epoch 78/200\n",
            "19/19 [==============================] - 16s 838ms/step - loss: 0.6885 - f1_score: 0.0000e+00 - mae: 0.3370 - acc: 0.7850 - val_loss: 0.6844 - val_f1_score: 0.0000e+00 - val_mae: 0.3366 - val_acc: 0.7862\n",
            "Epoch 79/200\n",
            "19/19 [==============================] - 16s 846ms/step - loss: 0.6886 - f1_score: 0.0208 - mae: 0.3385 - acc: 0.7768 - val_loss: 0.6854 - val_f1_score: 0.0000e+00 - val_mae: 0.3216 - val_acc: 0.7862\n",
            "Epoch 80/200\n",
            "19/19 [==============================] - 16s 827ms/step - loss: 0.6945 - f1_score: 0.0000e+00 - mae: 0.3347 - acc: 0.7842 - val_loss: 0.6855 - val_f1_score: 0.0000e+00 - val_mae: 0.3393 - val_acc: 0.7862\n",
            "Epoch 81/200\n",
            "19/19 [==============================] - 16s 840ms/step - loss: 0.6908 - f1_score: 0.0050 - mae: 0.3442 - acc: 0.7784 - val_loss: 0.6901 - val_f1_score: 0.0000e+00 - val_mae: 0.3170 - val_acc: 0.7862\n",
            "Epoch 82/200\n",
            "19/19 [==============================] - 16s 846ms/step - loss: 0.6922 - f1_score: 0.0000e+00 - mae: 0.3297 - acc: 0.7850 - val_loss: 0.6846 - val_f1_score: 0.0000e+00 - val_mae: 0.3399 - val_acc: 0.7862\n",
            "Epoch 83/200\n",
            "19/19 [==============================] - 16s 849ms/step - loss: 0.6841 - f1_score: 0.0000e+00 - mae: 0.3422 - acc: 0.7850 - val_loss: 0.6816 - val_f1_score: 0.0000e+00 - val_mae: 0.3472 - val_acc: 0.7862\n",
            "Epoch 84/200\n",
            "19/19 [==============================] - 16s 827ms/step - loss: 0.6823 - f1_score: 0.0000e+00 - mae: 0.3404 - acc: 0.7850 - val_loss: 0.6782 - val_f1_score: 0.0000e+00 - val_mae: 0.3339 - val_acc: 0.7862\n",
            "Epoch 85/200\n",
            "19/19 [==============================] - 16s 826ms/step - loss: 0.6797 - f1_score: 0.0000e+00 - mae: 0.3325 - acc: 0.7850 - val_loss: 0.6772 - val_f1_score: 0.0000e+00 - val_mae: 0.3464 - val_acc: 0.7862\n",
            "Epoch 86/200\n",
            "19/19 [==============================] - 16s 826ms/step - loss: 0.6810 - f1_score: 0.0000e+00 - mae: 0.3416 - acc: 0.7842 - val_loss: 0.6763 - val_f1_score: 0.0000e+00 - val_mae: 0.3364 - val_acc: 0.7862\n",
            "Epoch 87/200\n",
            "19/19 [==============================] - 16s 838ms/step - loss: 0.6810 - f1_score: 0.0212 - mae: 0.3383 - acc: 0.7809 - val_loss: 0.6776 - val_f1_score: 0.0000e+00 - val_mae: 0.3305 - val_acc: 0.7862\n",
            "Epoch 88/200\n",
            "19/19 [==============================] - 16s 841ms/step - loss: 0.6900 - f1_score: 0.0179 - mae: 0.3335 - acc: 0.7825 - val_loss: 0.6791 - val_f1_score: 0.0000e+00 - val_mae: 0.3324 - val_acc: 0.7862\n",
            "Epoch 89/200\n",
            "19/19 [==============================] - 16s 850ms/step - loss: 0.6819 - f1_score: 0.0000e+00 - mae: 0.3354 - acc: 0.7850 - val_loss: 0.6785 - val_f1_score: 0.0000e+00 - val_mae: 0.3362 - val_acc: 0.7862\n",
            "Epoch 90/200\n",
            "19/19 [==============================] - 16s 853ms/step - loss: 0.6791 - f1_score: 0.0000e+00 - mae: 0.3350 - acc: 0.7850 - val_loss: 0.6765 - val_f1_score: 0.0000e+00 - val_mae: 0.3245 - val_acc: 0.7862\n",
            "Epoch 91/200\n",
            "19/19 [==============================] - 17s 873ms/step - loss: 0.6782 - f1_score: 0.0000e+00 - mae: 0.3278 - acc: 0.7850 - val_loss: 0.6736 - val_f1_score: 0.0000e+00 - val_mae: 0.3392 - val_acc: 0.7862\n",
            "Epoch 92/200\n",
            "19/19 [==============================] - 16s 834ms/step - loss: 0.6791 - f1_score: 0.0000e+00 - mae: 0.3431 - acc: 0.7850 - val_loss: 0.6728 - val_f1_score: 0.0000e+00 - val_mae: 0.3376 - val_acc: 0.7862\n",
            "Epoch 93/200\n",
            "19/19 [==============================] - 16s 860ms/step - loss: 0.6730 - f1_score: 0.0000e+00 - mae: 0.3387 - acc: 0.7850 - val_loss: 0.6707 - val_f1_score: 0.0000e+00 - val_mae: 0.3372 - val_acc: 0.7862\n",
            "Epoch 94/200\n",
            "19/19 [==============================] - 16s 857ms/step - loss: 0.6729 - f1_score: 0.0000e+00 - mae: 0.3399 - acc: 0.7850 - val_loss: 0.6691 - val_f1_score: 0.0000e+00 - val_mae: 0.3366 - val_acc: 0.7862\n",
            "Epoch 95/200\n",
            "19/19 [==============================] - 16s 857ms/step - loss: 0.6712 - f1_score: 0.0000e+00 - mae: 0.3374 - acc: 0.7850 - val_loss: 0.6664 - val_f1_score: 0.0000e+00 - val_mae: 0.3379 - val_acc: 0.7862\n",
            "Epoch 96/200\n",
            "19/19 [==============================] - 16s 851ms/step - loss: 0.6702 - f1_score: 0.0000e+00 - mae: 0.3364 - acc: 0.7850 - val_loss: 0.6660 - val_f1_score: 0.0000e+00 - val_mae: 0.3343 - val_acc: 0.7862\n",
            "Epoch 97/200\n",
            "19/19 [==============================] - 15s 812ms/step - loss: 0.6666 - f1_score: 0.0000e+00 - mae: 0.3379 - acc: 0.7850 - val_loss: 0.6659 - val_f1_score: 0.0000e+00 - val_mae: 0.3434 - val_acc: 0.7862\n",
            "Epoch 98/200\n",
            "19/19 [==============================] - 16s 839ms/step - loss: 0.6670 - f1_score: 0.0000e+00 - mae: 0.3372 - acc: 0.7850 - val_loss: 0.6623 - val_f1_score: 0.0000e+00 - val_mae: 0.3360 - val_acc: 0.7862\n",
            "Epoch 99/200\n",
            "19/19 [==============================] - 17s 881ms/step - loss: 0.6625 - f1_score: 0.0000e+00 - mae: 0.3394 - acc: 0.7850 - val_loss: 0.6605 - val_f1_score: 0.0000e+00 - val_mae: 0.3354 - val_acc: 0.7862\n",
            "Epoch 100/200\n",
            "19/19 [==============================] - 16s 834ms/step - loss: 0.6612 - f1_score: 0.0000e+00 - mae: 0.3379 - acc: 0.7850 - val_loss: 0.6592 - val_f1_score: 0.0000e+00 - val_mae: 0.3372 - val_acc: 0.7862\n",
            "Epoch 101/200\n",
            "19/19 [==============================] - 16s 843ms/step - loss: 0.6670 - f1_score: 0.0000e+00 - mae: 0.3315 - acc: 0.7850 - val_loss: 0.6591 - val_f1_score: 0.0000e+00 - val_mae: 0.3444 - val_acc: 0.7862\n",
            "Epoch 102/200\n",
            "19/19 [==============================] - 16s 851ms/step - loss: 0.6628 - f1_score: 0.0000e+00 - mae: 0.3359 - acc: 0.7842 - val_loss: 0.6593 - val_f1_score: 0.0000e+00 - val_mae: 0.3317 - val_acc: 0.7862\n",
            "Epoch 103/200\n",
            "19/19 [==============================] - 16s 825ms/step - loss: 0.6613 - f1_score: 0.0000e+00 - mae: 0.3341 - acc: 0.7850 - val_loss: 0.6584 - val_f1_score: 0.0000e+00 - val_mae: 0.3383 - val_acc: 0.7862\n",
            "Epoch 104/200\n",
            "19/19 [==============================] - 16s 828ms/step - loss: 0.6661 - f1_score: 0.0162 - mae: 0.3423 - acc: 0.7801 - val_loss: 0.6596 - val_f1_score: 0.0000e+00 - val_mae: 0.3372 - val_acc: 0.7862\n",
            "Epoch 105/200\n",
            "19/19 [==============================] - 16s 825ms/step - loss: 0.6661 - f1_score: 0.0000e+00 - mae: 0.3396 - acc: 0.7850 - val_loss: 0.6619 - val_f1_score: 0.0000e+00 - val_mae: 0.3373 - val_acc: 0.7862\n",
            "Epoch 106/200\n",
            "19/19 [==============================] - 16s 837ms/step - loss: 0.6654 - f1_score: 0.0000e+00 - mae: 0.3413 - acc: 0.7850 - val_loss: 0.6601 - val_f1_score: 0.0000e+00 - val_mae: 0.3368 - val_acc: 0.7862\n",
            "Epoch 107/200\n",
            "19/19 [==============================] - 16s 827ms/step - loss: 0.6647 - f1_score: 0.0000e+00 - mae: 0.3359 - acc: 0.7850 - val_loss: 0.6580 - val_f1_score: 0.0000e+00 - val_mae: 0.3370 - val_acc: 0.7862\n",
            "Epoch 108/200\n",
            "19/19 [==============================] - 16s 819ms/step - loss: 0.6650 - f1_score: 0.0000e+00 - mae: 0.3370 - acc: 0.7850 - val_loss: 0.6564 - val_f1_score: 0.0000e+00 - val_mae: 0.3370 - val_acc: 0.7862\n",
            "Epoch 109/200\n",
            "19/19 [==============================] - 16s 821ms/step - loss: 0.6638 - f1_score: 0.0088 - mae: 0.3426 - acc: 0.7850 - val_loss: 0.6590 - val_f1_score: 0.0000e+00 - val_mae: 0.3362 - val_acc: 0.7862\n",
            "Epoch 110/200\n",
            "19/19 [==============================] - 16s 818ms/step - loss: 0.6707 - f1_score: 0.0000e+00 - mae: 0.3364 - acc: 0.7801 - val_loss: 0.6594 - val_f1_score: 0.0000e+00 - val_mae: 0.3360 - val_acc: 0.7862\n",
            "Epoch 111/200\n",
            "19/19 [==============================] - 16s 843ms/step - loss: 0.6614 - f1_score: 0.0000e+00 - mae: 0.3379 - acc: 0.7850 - val_loss: 0.6595 - val_f1_score: 0.0000e+00 - val_mae: 0.3322 - val_acc: 0.7862\n",
            "Epoch 112/200\n",
            "19/19 [==============================] - 16s 842ms/step - loss: 0.6635 - f1_score: 0.0000e+00 - mae: 0.3340 - acc: 0.7850 - val_loss: 0.6585 - val_f1_score: 0.0000e+00 - val_mae: 0.3307 - val_acc: 0.7862\n",
            "Epoch 113/200\n",
            "19/19 [==============================] - 16s 837ms/step - loss: 0.6656 - f1_score: 0.0000e+00 - mae: 0.3409 - acc: 0.7850 - val_loss: 0.6579 - val_f1_score: 0.0000e+00 - val_mae: 0.3403 - val_acc: 0.7862\n",
            "Epoch 114/200\n",
            "19/19 [==============================] - 16s 845ms/step - loss: 0.6623 - f1_score: 0.0000e+00 - mae: 0.3380 - acc: 0.7850 - val_loss: 0.6576 - val_f1_score: 0.0000e+00 - val_mae: 0.3340 - val_acc: 0.7862\n",
            "Epoch 115/200\n",
            "19/19 [==============================] - 16s 865ms/step - loss: 0.6608 - f1_score: 0.0000e+00 - mae: 0.3382 - acc: 0.7850 - val_loss: 0.6562 - val_f1_score: 0.0000e+00 - val_mae: 0.3373 - val_acc: 0.7862\n",
            "Epoch 116/200\n",
            "19/19 [==============================] - 16s 843ms/step - loss: 0.6599 - f1_score: 0.0000e+00 - mae: 0.3369 - acc: 0.7850 - val_loss: 0.6558 - val_f1_score: 0.0000e+00 - val_mae: 0.3359 - val_acc: 0.7862\n",
            "Epoch 117/200\n",
            "19/19 [==============================] - 16s 832ms/step - loss: 0.6588 - f1_score: 0.0000e+00 - mae: 0.3400 - acc: 0.7850 - val_loss: 0.6542 - val_f1_score: 0.0000e+00 - val_mae: 0.3360 - val_acc: 0.7862\n",
            "Epoch 118/200\n",
            "19/19 [==============================] - 16s 820ms/step - loss: 0.6563 - f1_score: 0.0000e+00 - mae: 0.3384 - acc: 0.7850 - val_loss: 0.6528 - val_f1_score: 0.0000e+00 - val_mae: 0.3356 - val_acc: 0.7862\n",
            "Epoch 119/200\n",
            "19/19 [==============================] - 17s 889ms/step - loss: 0.6555 - f1_score: 0.0000e+00 - mae: 0.3331 - acc: 0.7850 - val_loss: 0.6496 - val_f1_score: 0.0000e+00 - val_mae: 0.3364 - val_acc: 0.7862\n",
            "Epoch 120/200\n",
            "19/19 [==============================] - 16s 853ms/step - loss: 0.6518 - f1_score: 0.0000e+00 - mae: 0.3376 - acc: 0.7850 - val_loss: 0.6481 - val_f1_score: 0.0000e+00 - val_mae: 0.3369 - val_acc: 0.7862\n",
            "Epoch 121/200\n",
            "19/19 [==============================] - 16s 862ms/step - loss: 0.6489 - f1_score: 0.0000e+00 - mae: 0.3347 - acc: 0.7850 - val_loss: 0.6484 - val_f1_score: 0.0000e+00 - val_mae: 0.3385 - val_acc: 0.7862\n",
            "Epoch 122/200\n",
            "19/19 [==============================] - 16s 852ms/step - loss: 0.6549 - f1_score: 0.0000e+00 - mae: 0.3402 - acc: 0.7850 - val_loss: 0.6477 - val_f1_score: 0.0000e+00 - val_mae: 0.3402 - val_acc: 0.7862\n",
            "Epoch 123/200\n",
            "19/19 [==============================] - 16s 824ms/step - loss: 0.6516 - f1_score: 0.0000e+00 - mae: 0.3351 - acc: 0.7842 - val_loss: 0.6462 - val_f1_score: 0.0000e+00 - val_mae: 0.3371 - val_acc: 0.7862\n",
            "Epoch 124/200\n",
            "19/19 [==============================] - 16s 838ms/step - loss: 0.6515 - f1_score: 0.0000e+00 - mae: 0.3386 - acc: 0.7834 - val_loss: 0.6447 - val_f1_score: 0.0000e+00 - val_mae: 0.3372 - val_acc: 0.7862\n",
            "Epoch 125/200\n",
            "19/19 [==============================] - 16s 852ms/step - loss: 0.6530 - f1_score: 0.0000e+00 - mae: 0.3375 - acc: 0.7850 - val_loss: 0.6452 - val_f1_score: 0.0000e+00 - val_mae: 0.3396 - val_acc: 0.7862\n",
            "Epoch 126/200\n",
            "19/19 [==============================] - 16s 821ms/step - loss: 0.6487 - f1_score: 0.0000e+00 - mae: 0.3317 - acc: 0.7850 - val_loss: 0.6453 - val_f1_score: 0.0000e+00 - val_mae: 0.3405 - val_acc: 0.7862\n",
            "Epoch 127/200\n",
            "19/19 [==============================] - 16s 855ms/step - loss: 0.6537 - f1_score: 0.0000e+00 - mae: 0.3370 - acc: 0.7850 - val_loss: 0.6459 - val_f1_score: 0.0000e+00 - val_mae: 0.3419 - val_acc: 0.7862\n",
            "Epoch 128/200\n",
            "19/19 [==============================] - 16s 844ms/step - loss: 0.6485 - f1_score: 0.0193 - mae: 0.3441 - acc: 0.7858 - val_loss: 0.6473 - val_f1_score: 0.0000e+00 - val_mae: 0.3249 - val_acc: 0.7862\n",
            "Epoch 129/200\n",
            "19/19 [==============================] - 16s 826ms/step - loss: 0.6536 - f1_score: 0.0000e+00 - mae: 0.3295 - acc: 0.7850 - val_loss: 0.6462 - val_f1_score: 0.0000e+00 - val_mae: 0.3376 - val_acc: 0.7862\n",
            "Epoch 130/200\n",
            "19/19 [==============================] - 17s 868ms/step - loss: 0.6454 - f1_score: 0.0070 - mae: 0.3378 - acc: 0.7858 - val_loss: 0.6455 - val_f1_score: 0.0000e+00 - val_mae: 0.3426 - val_acc: 0.7862\n",
            "Epoch 131/200\n",
            "19/19 [==============================] - 16s 869ms/step - loss: 0.6555 - f1_score: 0.0000e+00 - mae: 0.3414 - acc: 0.7850 - val_loss: 0.6471 - val_f1_score: 0.0000e+00 - val_mae: 0.3354 - val_acc: 0.7862\n",
            "Epoch 132/200\n",
            "19/19 [==============================] - 16s 864ms/step - loss: 0.6489 - f1_score: 0.0000e+00 - mae: 0.3361 - acc: 0.7850 - val_loss: 0.6460 - val_f1_score: 0.0000e+00 - val_mae: 0.3375 - val_acc: 0.7862\n",
            "Epoch 133/200\n",
            "19/19 [==============================] - 16s 843ms/step - loss: 0.6472 - f1_score: 0.0000e+00 - mae: 0.3393 - acc: 0.7842 - val_loss: 0.6444 - val_f1_score: 0.0000e+00 - val_mae: 0.3334 - val_acc: 0.7862\n",
            "Epoch 134/200\n",
            "19/19 [==============================] - 16s 841ms/step - loss: 0.6501 - f1_score: 0.0000e+00 - mae: 0.3352 - acc: 0.7825 - val_loss: 0.6445 - val_f1_score: 0.0000e+00 - val_mae: 0.3392 - val_acc: 0.7862\n",
            "Epoch 135/200\n",
            "19/19 [==============================] - 16s 834ms/step - loss: 0.6510 - f1_score: 0.0000e+00 - mae: 0.3410 - acc: 0.7842 - val_loss: 0.6454 - val_f1_score: 0.0000e+00 - val_mae: 0.3376 - val_acc: 0.7862\n",
            "Epoch 136/200\n",
            "19/19 [==============================] - 16s 827ms/step - loss: 0.6515 - f1_score: 0.0000e+00 - mae: 0.3365 - acc: 0.7850 - val_loss: 0.6467 - val_f1_score: 0.0000e+00 - val_mae: 0.3374 - val_acc: 0.7862\n",
            "Epoch 137/200\n",
            "19/19 [==============================] - 16s 871ms/step - loss: 0.6476 - f1_score: 0.0000e+00 - mae: 0.3403 - acc: 0.7850 - val_loss: 0.6450 - val_f1_score: 0.0000e+00 - val_mae: 0.3410 - val_acc: 0.7862\n",
            "Epoch 138/200\n",
            "19/19 [==============================] - 16s 829ms/step - loss: 0.6460 - f1_score: 0.0000e+00 - mae: 0.3370 - acc: 0.7850 - val_loss: 0.6420 - val_f1_score: 0.0000e+00 - val_mae: 0.3417 - val_acc: 0.7862\n",
            "Epoch 139/200\n",
            "19/19 [==============================] - 16s 840ms/step - loss: 0.6439 - f1_score: 0.0000e+00 - mae: 0.3435 - acc: 0.7850 - val_loss: 0.6392 - val_f1_score: 0.0000e+00 - val_mae: 0.3362 - val_acc: 0.7862\n",
            "Epoch 140/200\n",
            "19/19 [==============================] - 16s 835ms/step - loss: 0.6426 - f1_score: 0.0000e+00 - mae: 0.3440 - acc: 0.7850 - val_loss: 0.6426 - val_f1_score: 0.0000e+00 - val_mae: 0.3145 - val_acc: 0.7862\n",
            "Epoch 141/200\n",
            "19/19 [==============================] - 16s 866ms/step - loss: 0.6455 - f1_score: 0.0000e+00 - mae: 0.3252 - acc: 0.7850 - val_loss: 0.6402 - val_f1_score: 0.0000e+00 - val_mae: 0.3373 - val_acc: 0.7862\n",
            "Epoch 142/200\n",
            "19/19 [==============================] - 16s 861ms/step - loss: 0.6483 - f1_score: 0.0000e+00 - mae: 0.3372 - acc: 0.7850 - val_loss: 0.6436 - val_f1_score: 0.0000e+00 - val_mae: 0.3395 - val_acc: 0.7862\n",
            "Epoch 143/200\n",
            "19/19 [==============================] - 16s 843ms/step - loss: 0.6457 - f1_score: 0.0000e+00 - mae: 0.3394 - acc: 0.7850 - val_loss: 0.6413 - val_f1_score: 0.0000e+00 - val_mae: 0.3342 - val_acc: 0.7862\n",
            "Epoch 144/200\n",
            "19/19 [==============================] - 17s 871ms/step - loss: 0.6480 - f1_score: 0.0000e+00 - mae: 0.3359 - acc: 0.7825 - val_loss: 0.6406 - val_f1_score: 0.0000e+00 - val_mae: 0.3479 - val_acc: 0.7862\n",
            "Epoch 145/200\n",
            "19/19 [==============================] - 16s 822ms/step - loss: 0.6482 - f1_score: 0.0000e+00 - mae: 0.3376 - acc: 0.7850 - val_loss: 0.6445 - val_f1_score: 0.0000e+00 - val_mae: 0.3380 - val_acc: 0.7862\n",
            "Epoch 146/200\n",
            "19/19 [==============================] - 16s 856ms/step - loss: 0.6458 - f1_score: 0.0000e+00 - mae: 0.3346 - acc: 0.7850 - val_loss: 0.6423 - val_f1_score: 0.0000e+00 - val_mae: 0.3348 - val_acc: 0.7862\n",
            "Epoch 147/200\n",
            "19/19 [==============================] - 16s 847ms/step - loss: 0.6441 - f1_score: 0.0000e+00 - mae: 0.3368 - acc: 0.7850 - val_loss: 0.6418 - val_f1_score: 0.0000e+00 - val_mae: 0.3391 - val_acc: 0.7862\n",
            "Epoch 148/200\n",
            "19/19 [==============================] - 16s 852ms/step - loss: 0.6469 - f1_score: 0.0000e+00 - mae: 0.3331 - acc: 0.7850 - val_loss: 0.6441 - val_f1_score: 0.0000e+00 - val_mae: 0.3286 - val_acc: 0.7862\n",
            "Epoch 149/200\n",
            "19/19 [==============================] - 16s 836ms/step - loss: 0.6563 - f1_score: 0.0000e+00 - mae: 0.3412 - acc: 0.7825 - val_loss: 0.6487 - val_f1_score: 0.0000e+00 - val_mae: 0.3362 - val_acc: 0.7862\n",
            "Epoch 150/200\n",
            "19/19 [==============================] - 16s 840ms/step - loss: 0.6593 - f1_score: 0.0000e+00 - mae: 0.3359 - acc: 0.7850 - val_loss: 0.6490 - val_f1_score: 0.0000e+00 - val_mae: 0.3378 - val_acc: 0.7862\n",
            "Epoch 151/200\n",
            "19/19 [==============================] - 16s 839ms/step - loss: 0.6540 - f1_score: 0.0000e+00 - mae: 0.3370 - acc: 0.7850 - val_loss: 0.6488 - val_f1_score: 0.0000e+00 - val_mae: 0.3379 - val_acc: 0.7862\n",
            "Epoch 152/200\n",
            "19/19 [==============================] - 16s 827ms/step - loss: 0.6534 - f1_score: 0.0177 - mae: 0.3360 - acc: 0.7850 - val_loss: 0.6475 - val_f1_score: 0.0000e+00 - val_mae: 0.3372 - val_acc: 0.7862\n",
            "Epoch 153/200\n",
            "19/19 [==============================] - 15s 816ms/step - loss: 0.6475 - f1_score: 0.0000e+00 - mae: 0.3378 - acc: 0.7850 - val_loss: 0.6442 - val_f1_score: 0.0000e+00 - val_mae: 0.3363 - val_acc: 0.7862\n",
            "Epoch 154/200\n",
            "19/19 [==============================] - 16s 819ms/step - loss: 0.6592 - f1_score: 0.0223 - mae: 0.3377 - acc: 0.7809 - val_loss: 0.6461 - val_f1_score: 0.0000e+00 - val_mae: 0.3375 - val_acc: 0.7862\n",
            "Epoch 155/200\n",
            "19/19 [==============================] - 16s 843ms/step - loss: 0.6537 - f1_score: 0.0000e+00 - mae: 0.3428 - acc: 0.7850 - val_loss: 0.6476 - val_f1_score: 0.0000e+00 - val_mae: 0.3380 - val_acc: 0.7862\n",
            "Epoch 156/200\n",
            "19/19 [==============================] - 16s 860ms/step - loss: 0.6519 - f1_score: 0.0000e+00 - mae: 0.3366 - acc: 0.7850 - val_loss: 0.6466 - val_f1_score: 0.0000e+00 - val_mae: 0.3365 - val_acc: 0.7862\n",
            "Epoch 157/200\n",
            "19/19 [==============================] - 16s 834ms/step - loss: 0.6625 - f1_score: 0.0000e+00 - mae: 0.3319 - acc: 0.7842 - val_loss: 0.6479 - val_f1_score: 0.0000e+00 - val_mae: 0.3368 - val_acc: 0.7862\n",
            "Epoch 158/200\n",
            "19/19 [==============================] - 16s 838ms/step - loss: 0.6498 - f1_score: 0.0000e+00 - mae: 0.3404 - acc: 0.7850 - val_loss: 0.6466 - val_f1_score: 0.0000e+00 - val_mae: 0.3394 - val_acc: 0.7862\n",
            "Epoch 159/200\n",
            "19/19 [==============================] - 16s 831ms/step - loss: 0.6500 - f1_score: 0.0000e+00 - mae: 0.3360 - acc: 0.7850 - val_loss: 0.6443 - val_f1_score: 0.0000e+00 - val_mae: 0.3367 - val_acc: 0.7862\n",
            "Epoch 160/200\n",
            "19/19 [==============================] - 16s 824ms/step - loss: 0.6474 - f1_score: 0.0000e+00 - mae: 0.3418 - acc: 0.7842 - val_loss: 0.6433 - val_f1_score: 0.0000e+00 - val_mae: 0.3368 - val_acc: 0.7862\n",
            "Epoch 161/200\n",
            "19/19 [==============================] - 16s 848ms/step - loss: 0.6471 - f1_score: 0.0000e+00 - mae: 0.3386 - acc: 0.7850 - val_loss: 0.6429 - val_f1_score: 0.0000e+00 - val_mae: 0.3368 - val_acc: 0.7862\n",
            "Epoch 162/200\n",
            "19/19 [==============================] - 16s 842ms/step - loss: 0.6452 - f1_score: 0.0000e+00 - mae: 0.3357 - acc: 0.7850 - val_loss: 0.6399 - val_f1_score: 0.0000e+00 - val_mae: 0.3368 - val_acc: 0.7862\n",
            "Epoch 163/200\n",
            "19/19 [==============================] - 16s 868ms/step - loss: 0.6420 - f1_score: 0.0000e+00 - mae: 0.3345 - acc: 0.7850 - val_loss: 0.6389 - val_f1_score: 0.0000e+00 - val_mae: 0.3354 - val_acc: 0.7862\n",
            "Epoch 164/200\n",
            "19/19 [==============================] - 16s 825ms/step - loss: 0.6414 - f1_score: 0.0000e+00 - mae: 0.3366 - acc: 0.7850 - val_loss: 0.6387 - val_f1_score: 0.0000e+00 - val_mae: 0.3376 - val_acc: 0.7862\n",
            "Epoch 165/200\n",
            "19/19 [==============================] - 16s 855ms/step - loss: 0.6418 - f1_score: 0.0000e+00 - mae: 0.3380 - acc: 0.7850 - val_loss: 0.6366 - val_f1_score: 0.0000e+00 - val_mae: 0.3377 - val_acc: 0.7862\n",
            "Epoch 166/200\n",
            "19/19 [==============================] - 16s 866ms/step - loss: 0.6378 - f1_score: 0.0000e+00 - mae: 0.3379 - acc: 0.7850 - val_loss: 0.6356 - val_f1_score: 0.0000e+00 - val_mae: 0.3365 - val_acc: 0.7862\n",
            "Epoch 167/200\n",
            "19/19 [==============================] - 16s 855ms/step - loss: 0.6381 - f1_score: 0.0058 - mae: 0.3413 - acc: 0.7850 - val_loss: 0.6338 - val_f1_score: 0.0000e+00 - val_mae: 0.3340 - val_acc: 0.7862\n",
            "Epoch 168/200\n",
            "19/19 [==============================] - 16s 839ms/step - loss: 0.6470 - f1_score: 0.0000e+00 - mae: 0.3363 - acc: 0.7850 - val_loss: 0.6377 - val_f1_score: 0.0000e+00 - val_mae: 0.3366 - val_acc: 0.7862\n",
            "Epoch 169/200\n",
            "19/19 [==============================] - 16s 815ms/step - loss: 0.6396 - f1_score: 0.0000e+00 - mae: 0.3368 - acc: 0.7850 - val_loss: 0.6374 - val_f1_score: 0.0000e+00 - val_mae: 0.3363 - val_acc: 0.7862\n",
            "Epoch 170/200\n",
            "19/19 [==============================] - 16s 826ms/step - loss: 0.6424 - f1_score: 0.0000e+00 - mae: 0.3381 - acc: 0.7850 - val_loss: 0.6359 - val_f1_score: 0.0000e+00 - val_mae: 0.3354 - val_acc: 0.7862\n",
            "Epoch 171/200\n",
            "19/19 [==============================] - 16s 817ms/step - loss: 0.6404 - f1_score: 0.0000e+00 - mae: 0.3377 - acc: 0.7850 - val_loss: 0.6373 - val_f1_score: 0.0000e+00 - val_mae: 0.3343 - val_acc: 0.7862\n",
            "Epoch 172/200\n",
            "19/19 [==============================] - 16s 823ms/step - loss: 0.6403 - f1_score: 0.0000e+00 - mae: 0.3320 - acc: 0.7850 - val_loss: 0.6369 - val_f1_score: 0.0000e+00 - val_mae: 0.3381 - val_acc: 0.7862\n",
            "Epoch 173/200\n",
            "19/19 [==============================] - 16s 862ms/step - loss: 0.6385 - f1_score: 0.0000e+00 - mae: 0.3400 - acc: 0.7850 - val_loss: 0.6352 - val_f1_score: 0.0000e+00 - val_mae: 0.3438 - val_acc: 0.7862\n",
            "Epoch 174/200\n",
            "19/19 [==============================] - 16s 850ms/step - loss: 0.6395 - f1_score: 0.0000e+00 - mae: 0.3411 - acc: 0.7850 - val_loss: 0.6333 - val_f1_score: 0.0000e+00 - val_mae: 0.3382 - val_acc: 0.7862\n",
            "Epoch 175/200\n",
            "19/19 [==============================] - 16s 830ms/step - loss: 0.6355 - f1_score: 0.0000e+00 - mae: 0.3387 - acc: 0.7850 - val_loss: 0.6320 - val_f1_score: 0.0000e+00 - val_mae: 0.3391 - val_acc: 0.7862\n",
            "Epoch 176/200\n",
            "19/19 [==============================] - 15s 805ms/step - loss: 0.6371 - f1_score: 0.0000e+00 - mae: 0.3387 - acc: 0.7850 - val_loss: 0.6334 - val_f1_score: 0.0000e+00 - val_mae: 0.3389 - val_acc: 0.7862\n",
            "Epoch 177/200\n",
            "19/19 [==============================] - 16s 851ms/step - loss: 0.6353 - f1_score: 0.0066 - mae: 0.3407 - acc: 0.7842 - val_loss: 0.6344 - val_f1_score: 0.0000e+00 - val_mae: 0.3431 - val_acc: 0.7862\n",
            "Epoch 178/200\n",
            "19/19 [==============================] - 16s 839ms/step - loss: 0.6354 - f1_score: 0.0000e+00 - mae: 0.3382 - acc: 0.7850 - val_loss: 0.6322 - val_f1_score: 0.0000e+00 - val_mae: 0.3383 - val_acc: 0.7862\n",
            "Epoch 179/200\n",
            "19/19 [==============================] - 15s 815ms/step - loss: 0.6350 - f1_score: 0.0000e+00 - mae: 0.3418 - acc: 0.7850 - val_loss: 0.6303 - val_f1_score: 0.0000e+00 - val_mae: 0.3378 - val_acc: 0.7862\n",
            "Epoch 180/200\n",
            "19/19 [==============================] - 16s 824ms/step - loss: 0.6335 - f1_score: 0.0000e+00 - mae: 0.3389 - acc: 0.7850 - val_loss: 0.6306 - val_f1_score: 0.0000e+00 - val_mae: 0.3369 - val_acc: 0.7862\n",
            "Epoch 181/200\n",
            "19/19 [==============================] - 16s 838ms/step - loss: 0.6365 - f1_score: 0.0000e+00 - mae: 0.3349 - acc: 0.7850 - val_loss: 0.6313 - val_f1_score: 0.0000e+00 - val_mae: 0.3365 - val_acc: 0.7862\n",
            "Epoch 182/200\n",
            "19/19 [==============================] - 16s 855ms/step - loss: 0.6346 - f1_score: 0.0000e+00 - mae: 0.3413 - acc: 0.7850 - val_loss: 0.6306 - val_f1_score: 0.0000e+00 - val_mae: 0.3365 - val_acc: 0.7862\n",
            "Epoch 183/200\n",
            "19/19 [==============================] - 16s 813ms/step - loss: 0.6322 - f1_score: 0.0000e+00 - mae: 0.3367 - acc: 0.7850 - val_loss: 0.6292 - val_f1_score: 0.0000e+00 - val_mae: 0.3357 - val_acc: 0.7862\n",
            "Epoch 184/200\n",
            "19/19 [==============================] - 16s 847ms/step - loss: 0.6322 - f1_score: 0.0000e+00 - mae: 0.3371 - acc: 0.7850 - val_loss: 0.6294 - val_f1_score: 0.0000e+00 - val_mae: 0.3365 - val_acc: 0.7862\n",
            "Epoch 185/200\n",
            "19/19 [==============================] - 16s 846ms/step - loss: 0.6309 - f1_score: 0.0000e+00 - mae: 0.3375 - acc: 0.7850 - val_loss: 0.6283 - val_f1_score: 0.0000e+00 - val_mae: 0.3369 - val_acc: 0.7862\n",
            "Epoch 186/200\n",
            "19/19 [==============================] - 16s 854ms/step - loss: 0.6337 - f1_score: 0.0000e+00 - mae: 0.3341 - acc: 0.7850 - val_loss: 0.6274 - val_f1_score: 0.0000e+00 - val_mae: 0.3410 - val_acc: 0.7862\n",
            "Epoch 187/200\n",
            "19/19 [==============================] - 16s 836ms/step - loss: 0.6303 - f1_score: 0.0000e+00 - mae: 0.3318 - acc: 0.7850 - val_loss: 0.6294 - val_f1_score: 0.0000e+00 - val_mae: 0.3294 - val_acc: 0.7862\n",
            "Epoch 188/200\n",
            "19/19 [==============================] - 15s 816ms/step - loss: 0.6378 - f1_score: 0.0000e+00 - mae: 0.3440 - acc: 0.7850 - val_loss: 0.6336 - val_f1_score: 0.0000e+00 - val_mae: 0.3424 - val_acc: 0.7862\n",
            "Epoch 189/200\n",
            "11/19 [================>.............] - ETA: 6s - loss: 0.6311 - f1_score: 0.0000e+00 - mae: 0.3376 - acc: 0.7884"
          ]
        }
      ],
      "source": [
        "# tbr_train, test_tbr, _ = get_tabular_dataset()\n",
        "# train_img, test_img, target = get_image_dataset()\n",
        "# train_text, test_text, target = get_text_dataset()\n",
        "\n",
        "# train_text, val_text, train_y, val_y, train_tbr, val_tbr, train_img, val_img = train_test_split(train_text, target, tbr_train, train_img, test_size=.2, stratify=target, random_state=42)\n",
        "\n",
        "# train_ids, train_ams, train_msk = bert_tokenize(list(train_text))\n",
        "# val_ids, val_ams, val_msk = bert_tokenize(list(val_text))\n",
        "# test_ids, test_ams, test_msk = bert_tokenize(list(test_text))\n",
        "\n",
        "# from keras import callbacks\n",
        "# val_mae_earlystopping = callbacks.EarlyStopping('val_f1_score', patience=40, restore_best_weights=True)\n",
        "\n",
        "hist = model.fit(\n",
        "    x = [train_ids, train_ams, train_msk, train_img, train_tbr],\n",
        "    y = train_y,\n",
        "    epochs = 200,\n",
        "    batch_size = 64,\n",
        "    validation_data = ([val_ids, val_ams, val_msk, val_img, val_tbr], val_y),\n",
        "    # callbacks=[val_mae_earlystopping]\n",
        ")"
      ]
    },
    {
      "cell_type": "code",
      "execution_count": 43,
      "metadata": {
        "id": "fam2oJiNeeP7",
        "colab": {
          "base_uri": "https://localhost:8080/"
        },
        "outputId": "e055d96c-aa41-45b5-8dc6-0d5e57835886"
      },
      "outputs": [
        {
          "output_type": "stream",
          "name": "stdout",
          "text": [
            "Training F1 :\t 0.0\n",
            "Validation F1 :\t 0.0\n"
          ]
        }
      ],
      "source": [
        "print(f\"{colored('Training F1 :', 'cyan')}\\t\", skMetrics.f1_score(train_y, [int(x>.5) for x in model.predict([train_ids, train_ams, train_msk, train_img, train_tbr], verbose=0)]))\n",
        "print(f\"{colored('Validation F1 :', 'red')}\\t\", skMetrics.f1_score(val_y, [int(x>.5) for x in model.predict([val_ids, val_ams, val_msk, val_img, val_tbr], verbose=0)]))"
      ]
    },
    {
      "cell_type": "code",
      "execution_count": null,
      "metadata": {
        "id": "wUGgu2s3m9m0"
      },
      "outputs": [],
      "source": [
        "pred = model.predict(test_tbr[train_tbr.columns])\n",
        "output = pd.DataFrame()\n",
        "output['id'] = test.id\n",
        "output['label'] = pred\n",
        "output"
      ]
    },
    {
      "cell_type": "code",
      "execution_count": null,
      "metadata": {
        "id": "t1Yo-CGLm9m2"
      },
      "outputs": [],
      "source": [
        "output['label'].value_counts()"
      ]
    },
    {
      "cell_type": "markdown",
      "source": [
        "* 711 300 -> 77.52%\n",
        "* 774 237\n",
        "* 780 231 -> 79%\n",
        "* 803 208 -> 77.51%\n",
        "* 813 198 -> 79_75.csv\n",
        "* 794 217 -> 77_76.csv\n",
        "* 824 187 -> 92_76.csv"
      ],
      "metadata": {
        "id": "kbS9dDjVm9m2"
      }
    },
    {
      "cell_type": "code",
      "execution_count": null,
      "metadata": {
        "id": "Wa5NWPdZm9m3"
      },
      "outputs": [],
      "source": [
        "output.to_csv('92_76_proba.csv', index=False)"
      ]
    },
    {
      "cell_type": "markdown",
      "source": [
        "##### Machine Learning Finishing Layer"
      ],
      "metadata": {
        "id": "h7R8F9vdsxuQ"
      }
    },
    {
      "cell_type": "code",
      "source": [
        "# # loss_fn = tfa.losses.\n",
        "# Text model ##############################################################\n",
        "input_ids_layer = tf.keras.layers.Input(shape=(MAX_WORD,), \n",
        "                                        name='input_ids', \n",
        "                                        dtype='int32')\n",
        "input_attention_mask = tf.keras.layers.Input(shape=(MAX_WORD,), \n",
        "                                             name='input_attention_mask', \n",
        "                                             dtype='int32')\n",
        "input_type_ids = tf.keras.layers.Input(shape=(MAX_WORD,), \n",
        "                                       name='input_type_ids', \n",
        "                                       dtype='int32')\n",
        "last_hidden_state = bert_model([input_ids_layer, input_attention_mask, input_type_ids]).last_hidden_state\n",
        "for layer in bert_model.layers:\n",
        "    layer.trainable = False\n",
        "cls_last_output = last_hidden_state[:, 0, :]\n",
        "dense_t_1 = layers.Dense(450, activation='relu', kernel_initializer = tf.keras.initializers.GlorotNormal(seed = 42),bias_initializer = 'zeros',\n",
        "                                   kernel_regularizer = tf.keras.regularizers.L1(l1=1e-3),\n",
        "                                   bias_regularizer = tf.keras.regularizers.L1(1e-3))(cls_last_output)\n",
        "dropout_t_1 = layers.Dropout(.5)(dense_t_1)\n",
        "output_text = tf.keras.layers.Dense(1, \n",
        "                              activation = 'sigmoid',\n",
        "                              bias_initializer = 'zeros',\n",
        "                              name = 'dense_classifier')(dropout_t_1)\n",
        "#\n",
        "text_model = tf.keras.Model([input_ids_layer, input_attention_mask, input_type_ids], output_text)\n",
        "text_model.compile('adam', \n",
        "              loss = losses.BinaryCrossentropy(),\n",
        "              metrics = [f1_score, 'acc', 'mae'])\n",
        "############################################################################\n",
        "\n",
        "# Image Model ##############################################################\n",
        "from keras.applications import EfficientNetB2\n",
        "from keras.applications.efficientnet import preprocess_input\n",
        "\n",
        "input_img = Input(shape=IMG_SHAPE, dtype=tf.float32)\n",
        "efficientNetB7_layer = EfficientNetB2()(preprocess_input(input_img))\n",
        "efficientNetB7_layer.trainable = False\n",
        "flatten_layer = layers.Flatten()(efficientNetB7_layer)\n",
        "dense_layer = layers.Dense(200, activation='relu', kernel_initializer = tf.keras.initializers.GlorotNormal(seed = 42), bias_initializer = 'zeros',\n",
        "                                   kernel_regularizer = tf.keras.regularizers.L1(l1=1e-3),\n",
        "                                   bias_regularizer = tf.keras.regularizers.L1(1e-3))(flatten_layer)\n",
        "dropout_layer = layers.Dropout(.5)(dense_layer)\n",
        "# dense_layer2 = layers.Dense(200, activation='relu', kernel_initializer = tf.keras.initializers.GlorotNormal(seed = 42), bias_initializer = 'zeros',  \n",
        "#                                    kernel_regularizer = tf.keras.regularizers.L1(l1=1e-3),\n",
        "#                                    bias_regularizer = tf.keras.regularizers.L1(1e-3))(dropout_layer)\n",
        "# dropout_layer2 = layers.Dropout(.5)(dense_layer2)\n",
        "output_img = tf.keras.layers.Dense(1, activation = 'sigmoid')(dropout_layer)\n",
        "#\n",
        "img_model = tf.keras.Model(input_img, output_img)\n",
        "img_model.compile('adam', loss = losses.BinaryCrossentropy(), metrics = [f1_score, 'acc', 'mae'])\n",
        "############################################################################\n",
        "\n",
        "# # Concat with tabular ###########################################\n",
        "tbr_train, test_tbr, _ = get_tabular_dataset()\n",
        "train_img, test_img, target = get_image_dataset()\n",
        "train_text, test_text, target = get_text_dataset()\n",
        "\n",
        "train_text, val_text, train_y, val_y, train_tbr, val_tbr, train_img, val_img  = train_test_split(train_text, target, tbr_train, train_img, test_size=.2, stratify=target, random_state=42)\n",
        "\n",
        "train_ids, train_ams, train_msk = bert_tokenize(list(train_text))\n",
        "val_ids, val_ams, val_msk = bert_tokenize(list(val_text))\n",
        "test_ids, test_ams, test_msk = bert_tokenize(list(test_text))\n",
        "############################################################################"
      ],
      "metadata": {
        "id": "oEOHvIzys0Vh"
      },
      "execution_count": 45,
      "outputs": []
    },
    {
      "cell_type": "code",
      "source": [
        "from keras import callbacks\n",
        "val_mae_earlystopping = callbacks.EarlyStopping('val_f1_score', patience=10, mode='max', restore_best_weights=True)\n",
        "hist = text_model.fit(\n",
        "    x = [train_ids, train_ams, train_msk],\n",
        "    y = tf.cast(train_y, tf.float32),\n",
        "    epochs = 300,\n",
        "    batch_size = 32,\n",
        "    validation_data = ([val_ids, val_ams, val_msk], tf.cast(val_y, tf.float32)),\n",
        "    callbacks=[val_mae_earlystopping]\n",
        ")\n",
        "hist2 = img_model.fit(\n",
        "    x = train_img,\n",
        "    y = tf.cast(train_y, tf.float32),\n",
        "    epochs = 300,\n",
        "    batch_size = 32,\n",
        "    validation_data = (val_img, tf.cast(val_y, tf.float32)),\n",
        "    callbacks=[val_mae_earlystopping]\n",
        ")\n",
        "clear_output()"
      ],
      "metadata": {
        "id": "tI3tUQy4xW4h"
      },
      "execution_count": 48,
      "outputs": []
    },
    {
      "cell_type": "code",
      "source": [
        "print('IMG Model')\n",
        "print(f\"{colored('Training F1 :', 'cyan')}\\t\", skMetrics.f1_score(train_y, [int(x>.5) for x in img_model.predict(train_img, verbose=0)]))\n",
        "print(f\"{colored('Validation F1 :', 'red')}\\t\", skMetrics.f1_score(val_y, [int(x>.5) for x in img_model.predict(val_img, verbose=0)]))\n",
        "print('TXT Model')\n",
        "print(f\"{colored('Training F1 :', 'cyan')}\\t\", skMetrics.f1_score(train_y, [int(x>.5) for x in text_model.predict([train_ids, train_ams, train_msk], verbose=0)]))\n",
        "print(f\"{colored('Validation F1 :', 'red')}\\t\", skMetrics.f1_score(val_y, [int(x>.5) for x in text_model.predict([val_ids, val_ams, val_msk], verbose=0)]))"
      ],
      "metadata": {
        "colab": {
          "base_uri": "https://localhost:8080/"
        },
        "id": "nl2WdNIs50Z0",
        "outputId": "7b460eb4-95a5-47d5-a3b8-056947caff84"
      },
      "execution_count": 49,
      "outputs": [
        {
          "output_type": "stream",
          "name": "stdout",
          "text": [
            "IMG Model\n",
            "Training F1 :\t 0.6455331412103748\n",
            "Validation F1 :\t 0.6585365853658536\n",
            "TXT Model\n",
            "Training F1 :\t 0.6710526315789475\n",
            "Validation F1 :\t 0.7189542483660131\n"
          ]
        }
      ]
    },
    {
      "cell_type": "code",
      "source": [
        "text_model.save(get_path('text_model_67:71[rnd42].h5'))\n",
        "img_model.save(get_path('img_model_64:65[rnd42].h5'))"
      ],
      "metadata": {
        "id": "oIAvsw3ehRU8"
      },
      "execution_count": 78,
      "outputs": []
    },
    {
      "cell_type": "code",
      "source": [
        "train_tbr['imgPred'] = img_model.predict(train_img, verbose = 0)\n",
        "val_tbr['imgPred'] = img_model.predict(val_img, verbose = 0)\n",
        "test_tbr['imgPred'] = img_model.predict(test_img, verbose = 0)\n",
        "\n",
        "train_tbr['textPred'] = text_model.predict([train_ids, train_ams, train_msk], verbose = 0)\n",
        "val_tbr['textPred'] = text_model.predict([val_ids, val_ams, val_msk], verbose = 0)\n",
        "test_tbr['textPred'] = text_model.predict([test_ids, test_ams, test_msk], verbose = 0)"
      ],
      "metadata": {
        "id": "sFmO9SR4yc4d"
      },
      "execution_count": 50,
      "outputs": []
    },
    {
      "cell_type": "code",
      "source": [
        "from xgboost import XGBClassifier\n",
        "from catboost import CatBoostClassifier\n",
        "from sklearn.ensemble import RandomForestClassifier\n",
        "from lightgbm import LGBMClassifier\n",
        "\n",
        "final_model = CatBoostClassifier(\n",
        "    n_estimators = 1000,\n",
        "    # max_depth=4\n",
        "    # learning_rate= 0.001,\n",
        "    # tree_method = 'gpu_hist'\n",
        ")\n",
        "final_model.fit(train_tbr, train_y)\n",
        "clear_output()\n",
        "print(f\"{colored('Training F1 :', 'cyan')}\\t\", skMetrics.f1_score(train_y, [int(x>.5) for x in final_model.predict(train_tbr)]))\n",
        "print(f\"{colored('Validation F1 :', 'red')}\\t\", skMetrics.f1_score(val_y, [int(x>.5) for x in final_model.predict(val_tbr)]))"
      ],
      "metadata": {
        "colab": {
          "base_uri": "https://localhost:8080/"
        },
        "id": "mS6ht3D9xn3L",
        "outputId": "832d73f6-f342-4e01-b504-6db00c8ef763"
      },
      "execution_count": 70,
      "outputs": [
        {
          "output_type": "stream",
          "name": "stdout",
          "text": [
            "Training F1 :\t 0.9200779727095517\n",
            "Validation F1 :\t 0.7603305785123968\n"
          ]
        }
      ]
    },
    {
      "cell_type": "code",
      "source": [
        "final_model.get_all_params()"
      ],
      "metadata": {
        "colab": {
          "base_uri": "https://localhost:8080/"
        },
        "id": "4W5BWMuhgVDx",
        "outputId": "a9158f50-e8cd-44ca-b8ec-ba02da3c615f"
      },
      "execution_count": 68,
      "outputs": [
        {
          "output_type": "execute_result",
          "data": {
            "text/plain": [
              "{'nan_mode': 'Min',\n",
              " 'eval_metric': 'Logloss',\n",
              " 'iterations': 1000,\n",
              " 'sampling_frequency': 'PerTree',\n",
              " 'leaf_estimation_method': 'Newton',\n",
              " 'grow_policy': 'SymmetricTree',\n",
              " 'penalties_coefficient': 1,\n",
              " 'boosting_type': 'Plain',\n",
              " 'model_shrink_mode': 'Constant',\n",
              " 'feature_border_type': 'GreedyLogSum',\n",
              " 'bayesian_matrix_reg': 0.10000000149011612,\n",
              " 'eval_fraction': 0,\n",
              " 'force_unit_auto_pair_weights': False,\n",
              " 'l2_leaf_reg': 3,\n",
              " 'random_strength': 1,\n",
              " 'rsm': 1,\n",
              " 'boost_from_average': False,\n",
              " 'model_size_reg': 0.5,\n",
              " 'pool_metainfo_options': {'tags': {}},\n",
              " 'subsample': 0.800000011920929,\n",
              " 'use_best_model': False,\n",
              " 'class_names': [0, 1],\n",
              " 'random_seed': 0,\n",
              " 'depth': 6,\n",
              " 'posterior_sampling': False,\n",
              " 'border_count': 254,\n",
              " 'classes_count': 0,\n",
              " 'auto_class_weights': 'None',\n",
              " 'sparse_features_conflict_fraction': 0,\n",
              " 'leaf_estimation_backtracking': 'AnyImprovement',\n",
              " 'best_model_min_trees': 1,\n",
              " 'model_shrink_rate': 0,\n",
              " 'min_data_in_leaf': 1,\n",
              " 'loss_function': 'Logloss',\n",
              " 'learning_rate': 0.011191999539732931,\n",
              " 'score_function': 'Cosine',\n",
              " 'task_type': 'CPU',\n",
              " 'leaf_estimation_iterations': 10,\n",
              " 'bootstrap_type': 'MVS',\n",
              " 'max_leaves': 64}"
            ]
          },
          "metadata": {},
          "execution_count": 68
        }
      ]
    },
    {
      "cell_type": "code",
      "source": [
        "plt.barh(final_model.feature_names_in_, final_model.feature_importances_)"
      ],
      "metadata": {
        "colab": {
          "base_uri": "https://localhost:8080/",
          "height": 166
        },
        "id": "YFT40Grl-THs",
        "outputId": "b38c221f-d225-4acc-91fe-3565d7772c5f"
      },
      "execution_count": 41,
      "outputs": [
        {
          "output_type": "error",
          "ename": "AttributeError",
          "evalue": "ignored",
          "traceback": [
            "\u001b[0;31m---------------------------------------------------------------------------\u001b[0m",
            "\u001b[0;31mAttributeError\u001b[0m                            Traceback (most recent call last)",
            "\u001b[0;32m<ipython-input-41-8b404def02e0>\u001b[0m in \u001b[0;36m<module>\u001b[0;34m\u001b[0m\n\u001b[0;32m----> 1\u001b[0;31m \u001b[0mplt\u001b[0m\u001b[0;34m.\u001b[0m\u001b[0mbarh\u001b[0m\u001b[0;34m(\u001b[0m\u001b[0mfinal_model\u001b[0m\u001b[0;34m.\u001b[0m\u001b[0mfeature_names_in_\u001b[0m\u001b[0;34m,\u001b[0m \u001b[0mfinal_model\u001b[0m\u001b[0;34m.\u001b[0m\u001b[0mfeature_importances_\u001b[0m\u001b[0;34m)\u001b[0m\u001b[0;34m\u001b[0m\u001b[0;34m\u001b[0m\u001b[0m\n\u001b[0m",
            "\u001b[0;31mAttributeError\u001b[0m: 'XGBClassifier' object has no attribute 'feature_names_in_'"
          ]
        }
      ]
    },
    {
      "cell_type": "code",
      "execution_count": 75,
      "metadata": {
        "colab": {
          "base_uri": "https://localhost:8080/",
          "height": 424
        },
        "id": "V6pzzitXwkW_",
        "outputId": "3f342761-7222-4cd5-d3fd-6bc57ddb1fd5"
      },
      "outputs": [
        {
          "output_type": "execute_result",
          "data": {
            "text/plain": [
              "                       id     label\n",
              "0     1213309429254250496  0.231689\n",
              "1     1216196702647939072  0.001033\n",
              "2     1216296533735309312  0.000554\n",
              "3     1234385081482956800  0.002113\n",
              "4     1214853229567041537  0.000329\n",
              "...                   ...       ...\n",
              "1006  1212371781350084608  0.006527\n",
              "1007  1232075152042541056  0.537787\n",
              "1008  1213315563595845633  0.018073\n",
              "1009  1212970781610663936  0.048986\n",
              "1010  1231973813132365825  0.012698\n",
              "\n",
              "[1011 rows x 2 columns]"
            ],
            "text/html": [
              "\n",
              "  <div id=\"df-9773def0-eb82-4925-8fdc-85a4a9c95363\">\n",
              "    <div class=\"colab-df-container\">\n",
              "      <div>\n",
              "<style scoped>\n",
              "    .dataframe tbody tr th:only-of-type {\n",
              "        vertical-align: middle;\n",
              "    }\n",
              "\n",
              "    .dataframe tbody tr th {\n",
              "        vertical-align: top;\n",
              "    }\n",
              "\n",
              "    .dataframe thead th {\n",
              "        text-align: right;\n",
              "    }\n",
              "</style>\n",
              "<table border=\"1\" class=\"dataframe\">\n",
              "  <thead>\n",
              "    <tr style=\"text-align: right;\">\n",
              "      <th></th>\n",
              "      <th>id</th>\n",
              "      <th>label</th>\n",
              "    </tr>\n",
              "  </thead>\n",
              "  <tbody>\n",
              "    <tr>\n",
              "      <th>0</th>\n",
              "      <td>1213309429254250496</td>\n",
              "      <td>0.231689</td>\n",
              "    </tr>\n",
              "    <tr>\n",
              "      <th>1</th>\n",
              "      <td>1216196702647939072</td>\n",
              "      <td>0.001033</td>\n",
              "    </tr>\n",
              "    <tr>\n",
              "      <th>2</th>\n",
              "      <td>1216296533735309312</td>\n",
              "      <td>0.000554</td>\n",
              "    </tr>\n",
              "    <tr>\n",
              "      <th>3</th>\n",
              "      <td>1234385081482956800</td>\n",
              "      <td>0.002113</td>\n",
              "    </tr>\n",
              "    <tr>\n",
              "      <th>4</th>\n",
              "      <td>1214853229567041537</td>\n",
              "      <td>0.000329</td>\n",
              "    </tr>\n",
              "    <tr>\n",
              "      <th>...</th>\n",
              "      <td>...</td>\n",
              "      <td>...</td>\n",
              "    </tr>\n",
              "    <tr>\n",
              "      <th>1006</th>\n",
              "      <td>1212371781350084608</td>\n",
              "      <td>0.006527</td>\n",
              "    </tr>\n",
              "    <tr>\n",
              "      <th>1007</th>\n",
              "      <td>1232075152042541056</td>\n",
              "      <td>0.537787</td>\n",
              "    </tr>\n",
              "    <tr>\n",
              "      <th>1008</th>\n",
              "      <td>1213315563595845633</td>\n",
              "      <td>0.018073</td>\n",
              "    </tr>\n",
              "    <tr>\n",
              "      <th>1009</th>\n",
              "      <td>1212970781610663936</td>\n",
              "      <td>0.048986</td>\n",
              "    </tr>\n",
              "    <tr>\n",
              "      <th>1010</th>\n",
              "      <td>1231973813132365825</td>\n",
              "      <td>0.012698</td>\n",
              "    </tr>\n",
              "  </tbody>\n",
              "</table>\n",
              "<p>1011 rows × 2 columns</p>\n",
              "</div>\n",
              "      <button class=\"colab-df-convert\" onclick=\"convertToInteractive('df-9773def0-eb82-4925-8fdc-85a4a9c95363')\"\n",
              "              title=\"Convert this dataframe to an interactive table.\"\n",
              "              style=\"display:none;\">\n",
              "        \n",
              "  <svg xmlns=\"http://www.w3.org/2000/svg\" height=\"24px\"viewBox=\"0 0 24 24\"\n",
              "       width=\"24px\">\n",
              "    <path d=\"M0 0h24v24H0V0z\" fill=\"none\"/>\n",
              "    <path d=\"M18.56 5.44l.94 2.06.94-2.06 2.06-.94-2.06-.94-.94-2.06-.94 2.06-2.06.94zm-11 1L8.5 8.5l.94-2.06 2.06-.94-2.06-.94L8.5 2.5l-.94 2.06-2.06.94zm10 10l.94 2.06.94-2.06 2.06-.94-2.06-.94-.94-2.06-.94 2.06-2.06.94z\"/><path d=\"M17.41 7.96l-1.37-1.37c-.4-.4-.92-.59-1.43-.59-.52 0-1.04.2-1.43.59L10.3 9.45l-7.72 7.72c-.78.78-.78 2.05 0 2.83L4 21.41c.39.39.9.59 1.41.59.51 0 1.02-.2 1.41-.59l7.78-7.78 2.81-2.81c.8-.78.8-2.07 0-2.86zM5.41 20L4 18.59l7.72-7.72 1.47 1.35L5.41 20z\"/>\n",
              "  </svg>\n",
              "      </button>\n",
              "      \n",
              "  <style>\n",
              "    .colab-df-container {\n",
              "      display:flex;\n",
              "      flex-wrap:wrap;\n",
              "      gap: 12px;\n",
              "    }\n",
              "\n",
              "    .colab-df-convert {\n",
              "      background-color: #E8F0FE;\n",
              "      border: none;\n",
              "      border-radius: 50%;\n",
              "      cursor: pointer;\n",
              "      display: none;\n",
              "      fill: #1967D2;\n",
              "      height: 32px;\n",
              "      padding: 0 0 0 0;\n",
              "      width: 32px;\n",
              "    }\n",
              "\n",
              "    .colab-df-convert:hover {\n",
              "      background-color: #E2EBFA;\n",
              "      box-shadow: 0px 1px 2px rgba(60, 64, 67, 0.3), 0px 1px 3px 1px rgba(60, 64, 67, 0.15);\n",
              "      fill: #174EA6;\n",
              "    }\n",
              "\n",
              "    [theme=dark] .colab-df-convert {\n",
              "      background-color: #3B4455;\n",
              "      fill: #D2E3FC;\n",
              "    }\n",
              "\n",
              "    [theme=dark] .colab-df-convert:hover {\n",
              "      background-color: #434B5C;\n",
              "      box-shadow: 0px 1px 3px 1px rgba(0, 0, 0, 0.15);\n",
              "      filter: drop-shadow(0px 1px 2px rgba(0, 0, 0, 0.3));\n",
              "      fill: #FFFFFF;\n",
              "    }\n",
              "  </style>\n",
              "\n",
              "      <script>\n",
              "        const buttonEl =\n",
              "          document.querySelector('#df-9773def0-eb82-4925-8fdc-85a4a9c95363 button.colab-df-convert');\n",
              "        buttonEl.style.display =\n",
              "          google.colab.kernel.accessAllowed ? 'block' : 'none';\n",
              "\n",
              "        async function convertToInteractive(key) {\n",
              "          const element = document.querySelector('#df-9773def0-eb82-4925-8fdc-85a4a9c95363');\n",
              "          const dataTable =\n",
              "            await google.colab.kernel.invokeFunction('convertToInteractive',\n",
              "                                                     [key], {});\n",
              "          if (!dataTable) return;\n",
              "\n",
              "          const docLinkHtml = 'Like what you see? Visit the ' +\n",
              "            '<a target=\"_blank\" href=https://colab.research.google.com/notebooks/data_table.ipynb>data table notebook</a>'\n",
              "            + ' to learn more about interactive tables.';\n",
              "          element.innerHTML = '';\n",
              "          dataTable['output_type'] = 'display_data';\n",
              "          await google.colab.output.renderOutput(dataTable, element);\n",
              "          const docLink = document.createElement('div');\n",
              "          docLink.innerHTML = docLinkHtml;\n",
              "          element.appendChild(docLink);\n",
              "        }\n",
              "      </script>\n",
              "    </div>\n",
              "  </div>\n",
              "  "
            ]
          },
          "metadata": {},
          "execution_count": 75
        }
      ],
      "source": [
        "pred = final_model.predict_proba(test_tbr[train_tbr.columns])\n",
        "output = pd.DataFrame()\n",
        "output['id'] = test.id\n",
        "output['label'] = [x[1] for x in pred]\n",
        "output"
      ]
    },
    {
      "cell_type": "code",
      "execution_count": 72,
      "metadata": {
        "outputId": "12818315-584e-430f-f163-af00555e0b2e",
        "colab": {
          "base_uri": "https://localhost:8080/"
        },
        "id": "9zhTnp2UwkXA"
      },
      "outputs": [
        {
          "output_type": "execute_result",
          "data": {
            "text/plain": [
              "0    824\n",
              "1    187\n",
              "Name: label, dtype: int64"
            ]
          },
          "metadata": {},
          "execution_count": 72
        }
      ],
      "source": [
        "output['label'].value_counts()"
      ]
    },
    {
      "cell_type": "markdown",
      "source": [
        "* 711 300 -> 77.52%\n",
        "* 774 237\n",
        "* 780 231 -> 79%\n",
        "* 803 208 -> 77.51%\n",
        "* 813 198 -> 79_75.csv\n",
        "* 794 217 -> 77_76.csv\n",
        "* 824 187 -> 92_76.csv"
      ],
      "metadata": {
        "id": "8xdI5-wxMOH3"
      }
    },
    {
      "cell_type": "code",
      "execution_count": 76,
      "metadata": {
        "id": "iaHgNGIcwkXA"
      },
      "outputs": [],
      "source": [
        "output.to_csv('92_76_proba.csv', index=False)"
      ]
    },
    {
      "cell_type": "markdown",
      "metadata": {
        "id": "rJYNdqUweeP8"
      },
      "source": [
        "##### Predictioning Ensembling"
      ]
    },
    {
      "cell_type": "code",
      "execution_count": null,
      "metadata": {
        "id": "8f1vKltIeeP9"
      },
      "outputs": [],
      "source": [
        "img_model = models.load_model('models/modelb2_400 .5 200 .5.h5', custom_objects={'f1_score':f1_score})\n",
        "txt_model = models.load_model('models/modelbert450 .5.h5', custom_objects={'TFBertModel':TFBertModel, 'f1_score':f1_score})\n",
        "\n",
        "# tbr_train, test_tbr, _ = get_tabular_dataset()\n",
        "train_img, test_img, target = get_image_dataset()\n",
        "train_txt, test_txt, target = get_text_dataset()\n",
        "\n",
        "train_img, test_img = img_model.predict(train_img), img_model.predict(test_img)\n",
        "\n",
        "train_ids, train_ams, train_msk = bert_tokenize(list(train_txt))\n",
        "test_ids, test_ams, test_msk = bert_tokenize(list(test_txt))\n",
        "\n",
        "train_txt, test_txt = txt_model.predict([train_ids, train_ams, train_msk]), txt_model.predict([test_ids, test_ams, test_msk])\n",
        "\n",
        "# train_tbr_x, val_tbr_x, train_img_x, val_img_x, train_txt_x, val_txt_x, train_y, val_y = train_test_split(tbr_train, train_img, train_txt, target)\n",
        "train_img_x, val_img_x, train_txt_x, val_txt_x, train_y, val_y = train_test_split(train_img, train_txt, target)\n",
        "\n",
        "from lightgbm import LGBMClassifier\n",
        "model = LGBMClassifier(\n",
        "    n_estimators = 500,\n",
        "    max_depth = 8\n",
        "    # tree_method = 'gpu_hist'\n",
        ")\n",
        "# train_concated = pd.concat([train_tbr_x.reset_index().drop(['index'], axis=1), pd.DataFrame({'img': train_img_x.ravel()}), pd.DataFrame({'txt': train_txt_x.ravel()})], axis=1)\n",
        "# val_concated = pd.concat([val_tbr_x.reset_index().drop(['index'], axis=1), pd.DataFrame({'img': val_img_x.ravel()}), pd.DataFrame({'txt': val_txt_x.ravel()})], axis=1)\n",
        "train_concated = pd.concat([pd.DataFrame({'img': train_img_x.ravel()}), pd.DataFrame({'txt': train_txt_x.ravel()})], axis=1)\n",
        "val_concated = pd.concat([pd.DataFrame({'img': val_img_x.ravel()}), pd.DataFrame({'txt': val_txt_x.ravel()})], axis=1)\n",
        "model.fit(train_concated, train_y)"
      ]
    },
    {
      "cell_type": "code",
      "execution_count": null,
      "metadata": {
        "id": "E0hK-S8EeeP9",
        "outputId": "63d19d00-e834-43c3-fb68-4fcaede3cc16"
      },
      "outputs": [
        {
          "name": "stdout",
          "output_type": "stream",
          "text": [
            "0.9701230228471002\n",
            "0.968421052631579\n"
          ]
        }
      ],
      "source": [
        "print(skMetrics.accuracy_score(train_y, ((train_img_x.ravel()+train_txt_x.ravel())/2) > .5))\n",
        "print(skMetrics.accuracy_score(val_y,((val_img_x.ravel()+val_txt_x.ravel())/2) > .5))"
      ]
    },
    {
      "cell_type": "code",
      "execution_count": null,
      "metadata": {
        "id": "kCcoQJDyeeP9",
        "outputId": "660eb65a-cf52-43dd-bc04-ef5dfe07f8a7"
      },
      "outputs": [
        {
          "name": "stdout",
          "output_type": "stream",
          "text": [
            "0.99581589958159\n",
            "0.9195402298850575\n"
          ]
        }
      ],
      "source": [
        "print(skMetrics.f1_score(train_y, model.predict(train_concated)))\n",
        "print(skMetrics.f1_score(val_y, model.predict(val_concated)))"
      ]
    },
    {
      "cell_type": "code",
      "execution_count": null,
      "metadata": {
        "id": "JQJgjyKxeeP9"
      },
      "outputs": [],
      "source": [
        "pred = model.predict(pd.concat([test_tbr, test_img, test_txt], axis=1))"
      ]
    },
    {
      "cell_type": "code",
      "execution_count": null,
      "metadata": {
        "id": "84T7rp0ieeP-",
        "outputId": "baa44caa-eb6a-4814-daa5-ed7d6403718e"
      },
      "outputs": [
        {
          "data": {
            "text/html": [
              "<div>\n",
              "<style scoped>\n",
              "    .dataframe tbody tr th:only-of-type {\n",
              "        vertical-align: middle;\n",
              "    }\n",
              "\n",
              "    .dataframe tbody tr th {\n",
              "        vertical-align: top;\n",
              "    }\n",
              "\n",
              "    .dataframe thead th {\n",
              "        text-align: right;\n",
              "    }\n",
              "</style>\n",
              "<table border=\"1\" class=\"dataframe\">\n",
              "  <thead>\n",
              "    <tr style=\"text-align: right;\">\n",
              "      <th></th>\n",
              "      <th>id</th>\n",
              "      <th>label</th>\n",
              "    </tr>\n",
              "  </thead>\n",
              "  <tbody>\n",
              "    <tr>\n",
              "      <th>0</th>\n",
              "      <td>1213309429254250496</td>\n",
              "      <td>0</td>\n",
              "    </tr>\n",
              "    <tr>\n",
              "      <th>1</th>\n",
              "      <td>1216196702647939072</td>\n",
              "      <td>0</td>\n",
              "    </tr>\n",
              "    <tr>\n",
              "      <th>2</th>\n",
              "      <td>1216296533735309312</td>\n",
              "      <td>0</td>\n",
              "    </tr>\n",
              "    <tr>\n",
              "      <th>3</th>\n",
              "      <td>1234385081482956800</td>\n",
              "      <td>0</td>\n",
              "    </tr>\n",
              "    <tr>\n",
              "      <th>4</th>\n",
              "      <td>1214853229567041537</td>\n",
              "      <td>0</td>\n",
              "    </tr>\n",
              "    <tr>\n",
              "      <th>...</th>\n",
              "      <td>...</td>\n",
              "      <td>...</td>\n",
              "    </tr>\n",
              "    <tr>\n",
              "      <th>1006</th>\n",
              "      <td>1212371781350084608</td>\n",
              "      <td>0</td>\n",
              "    </tr>\n",
              "    <tr>\n",
              "      <th>1007</th>\n",
              "      <td>1232075152042541056</td>\n",
              "      <td>1</td>\n",
              "    </tr>\n",
              "    <tr>\n",
              "      <th>1008</th>\n",
              "      <td>1213315563595845633</td>\n",
              "      <td>0</td>\n",
              "    </tr>\n",
              "    <tr>\n",
              "      <th>1009</th>\n",
              "      <td>1212970781610663936</td>\n",
              "      <td>0</td>\n",
              "    </tr>\n",
              "    <tr>\n",
              "      <th>1010</th>\n",
              "      <td>1231973813132365825</td>\n",
              "      <td>0</td>\n",
              "    </tr>\n",
              "  </tbody>\n",
              "</table>\n",
              "<p>1011 rows × 2 columns</p>\n",
              "</div>"
            ],
            "text/plain": [
              "                       id  label\n",
              "0     1213309429254250496      0\n",
              "1     1216196702647939072      0\n",
              "2     1216296533735309312      0\n",
              "3     1234385081482956800      0\n",
              "4     1214853229567041537      0\n",
              "...                   ...    ...\n",
              "1006  1212371781350084608      0\n",
              "1007  1232075152042541056      1\n",
              "1008  1213315563595845633      0\n",
              "1009  1212970781610663936      0\n",
              "1010  1231973813132365825      0\n",
              "\n",
              "[1011 rows x 2 columns]"
            ]
          },
          "execution_count": 94,
          "metadata": {},
          "output_type": "execute_result"
        }
      ],
      "source": [
        "output = pd.DataFrame()\n",
        "output['id'] = test.id\n",
        "output['label'] = pred\n",
        "output"
      ]
    },
    {
      "cell_type": "code",
      "execution_count": null,
      "metadata": {
        "id": "iTV1SFdkeeP-",
        "outputId": "0769a4fd-a65a-40e7-a3a0-fd146c2fa52a"
      },
      "outputs": [
        {
          "data": {
            "text/plain": [
              "0    831\n",
              "1    180\n",
              "Name: label, dtype: int64"
            ]
          },
          "execution_count": 96,
          "metadata": {},
          "output_type": "execute_result"
        }
      ],
      "source": [
        "output['label'].value_counts()"
      ]
    },
    {
      "cell_type": "code",
      "execution_count": null,
      "metadata": {
        "id": "C7Q1gIuSeeP-"
      },
      "outputs": [],
      "source": [
        "output.to_csv('Mean_TXT_IMG.csv', index=False)"
      ]
    },
    {
      "cell_type": "code",
      "execution_count": null,
      "metadata": {
        "id": "-cclBovXeeP_",
        "outputId": "d5ad1e75-bfe6-4b0c-d5dc-5b87a4060417"
      },
      "outputs": [
        {
          "data": {
            "text/plain": [
              "48"
            ]
          },
          "execution_count": 100,
          "metadata": {},
          "output_type": "execute_result"
        }
      ],
      "source": [
        "a = pd.read_csv('DLOutputLayer.XGBOOST.csv')\n",
        "b = pd.read_csv('Mean_TXT_IMG.csv')\n",
        "sum([x != y for x, y in zip(a['label'], b['label'])])"
      ]
    },
    {
      "cell_type": "markdown",
      "metadata": {
        "id": "pTBO_LQteeQA"
      },
      "source": [
        "##### Last Layer to Machine Learning"
      ]
    },
    {
      "cell_type": "code",
      "execution_count": null,
      "metadata": {
        "id": "rYeAeyfEeeQA"
      },
      "outputs": [],
      "source": [
        "# # Image Model Feature\n",
        "# img_model = models.load_model('models/modelb2_400 .5 200 .5.h5')\n",
        "# img_model_feature_extracter = keras.Model(inputs=img_model.input, outputs=img_model.layers[-2].output)\n",
        "\n",
        "# # GPU MEMORY LIMIT\n",
        "# # BATCHING PREDICTION TECHNIQUE REQUIRED\n",
        "# train_img, test_img, target = get_image_dataset()\n",
        "# train_feature_img = {}\n",
        "# for index, img in enumerate(tqdm(train_img)):\n",
        "#     nw_feature = img_model_feature_extracter(img.reshape(1, 260, 260, 3))\n",
        "#     for num, feature in enumerate(tf.squeeze(nw_feature)):\n",
        "#         if index == 0:\n",
        "#             train_feature_img[f\"img_{num}\"] = []\n",
        "#         train_feature_img[f\"img_{num}\"].append(np.array(feature))\n",
        "\n",
        "# test_feature_img = {}\n",
        "# for index, img in enumerate(tqdm(test_img)):\n",
        "#     nw_feature = img_model_feature_extracter(img.reshape(1, 260, 260, 3))\n",
        "#     for num, feature in enumerate(tf.squeeze(nw_feature)):\n",
        "#         if index == 0:\n",
        "#             test_feature_img[f\"img_{num}\"] = []\n",
        "#         test_feature_img[f\"img_{num}\"].append(np.array(feature))\n",
        "\n",
        "# train_feature_img = pd.DataFrame(train_feature_img)\n",
        "# test_feature_img = pd.DataFrame(test_feature_img)\n",
        "# train_feature_img.to_csv('checkpoints/train_feature_img.csv', index=False)\n",
        "# test_feature_img.to_csv('checkpoints/test_feature_img.csv', index=False)"
      ]
    },
    {
      "cell_type": "code",
      "execution_count": null,
      "metadata": {
        "id": "wsqmubNteeQA",
        "outputId": "c8e35a56-0b83-4c7c-beaa-84fbe07d10e3"
      },
      "outputs": [
        {
          "name": "stdout",
          "output_type": "stream",
          "text": [
            "WARNING:tensorflow:Error in loading the saved optimizer state. As a result, your model is starting with a freshly initialized optimizer.\n"
          ]
        },
        {
          "name": "stderr",
          "output_type": "stream",
          "text": [
            "100%|██████████| 1518/1518 [06:44<00:00,  3.75it/s]\n",
            "100%|██████████| 1011/1011 [04:24<00:00,  3.82it/s]\n"
          ]
        }
      ],
      "source": [
        "# # Text Model Feature\n",
        "# txt_model = models.load_model('models/modelbert450 .5.h5', custom_objects={'f1_score':f1_score, 'TFBertModel':TFBertModel})\n",
        "# txt_model_feature_extracter = keras.Model(inputs=txt_model.input, outputs=txt_model.layers[-2].output)\n",
        "\n",
        "# # GPU MEMORY LIMIT\n",
        "# # BATCHING PREDICTION TECHNIQUE REQUIRED\n",
        "# train_txt, test_txt, target = get_text_dataset()\n",
        "\n",
        "# train_feature_txt = {}\n",
        "# for index, text in enumerate(tqdm(train_txt)):\n",
        "#     ids, ams, msk = bert_tokenize(list([text]))\n",
        "#     nw_feature = txt_model_feature_extracter([ids, ams, msk])\n",
        "#     for num, feature in enumerate(tf.squeeze(nw_feature)):\n",
        "#         if index == 0:\n",
        "#             train_feature_txt[f\"txt_{num}\"] = []\n",
        "#         train_feature_txt[f\"txt_{num}\"].append(np.array(feature))\n",
        "\n",
        "# test_feature_txt = {}\n",
        "# for index, text in enumerate(tqdm(test_txt)):\n",
        "#     ids, ams, msk = bert_tokenize(list([text]))\n",
        "#     nw_feature = txt_model_feature_extracter([ids, ams, msk])\n",
        "#     for num, feature in enumerate(tf.squeeze(nw_feature)):\n",
        "#         if index == 0:\n",
        "#             test_feature_txt[f\"txt_{num}\"] = []\n",
        "#         test_feature_txt[f\"txt_{num}\"].append(np.array(feature))\n",
        "\n",
        "# train_feature_txt = pd.DataFrame(train_feature_txt)\n",
        "# test_feature_txt = pd.DataFrame(test_feature_txt)\n",
        "# train_feature_txt.to_csv('checkpoints/train_feature_txt.csv', index=False)\n",
        "# test_feature_txt.to_csv('checkpoints/test_feature_txt.csv', index=False)"
      ]
    },
    {
      "cell_type": "code",
      "execution_count": null,
      "metadata": {
        "id": "X1oQ7RrHwaDX"
      },
      "outputs": [],
      "source": [
        "pred = model.predict(pd.concat([test_tbr, test_img, test_txt], axis=1))\n",
        "output = pd.DataFrame()\n",
        "output['id'] = test.id\n",
        "output['label'] = pred\n",
        "output"
      ]
    },
    {
      "cell_type": "code",
      "execution_count": null,
      "metadata": {
        "outputId": "0769a4fd-a65a-40e7-a3a0-fd146c2fa52a",
        "id": "UMz-D5PswaDZ"
      },
      "outputs": [
        {
          "data": {
            "text/plain": [
              "0    831\n",
              "1    180\n",
              "Name: label, dtype: int64"
            ]
          },
          "execution_count": 96,
          "metadata": {},
          "output_type": "execute_result"
        }
      ],
      "source": [
        "output['label'].value_counts()"
      ]
    },
    {
      "cell_type": "code",
      "execution_count": null,
      "metadata": {
        "id": "EN0vCSApwaDa"
      },
      "outputs": [],
      "source": [
        "output.to_csv('Mean_TXT_IMG.csv', index=False)"
      ]
    }
  ],
  "metadata": {
    "accelerator": "GPU",
    "colab": {
      "machine_shape": "hm",
      "provenance": [],
      "toc_visible": true,
      "include_colab_link": true
    },
    "gpuClass": "premium",
    "kernelspec": {
      "display_name": "Python 3.10.7 64-bit",
      "language": "python",
      "name": "python3"
    },
    "language_info": {
      "codemirror_mode": {
        "name": "ipython",
        "version": 3
      },
      "file_extension": ".py",
      "mimetype": "text/x-python",
      "name": "python",
      "nbconvert_exporter": "python",
      "pygments_lexer": "ipython3",
      "version": "3.10.7"
    },
    "orig_nbformat": 4,
    "vscode": {
      "interpreter": {
        "hash": "26de051ba29f2982a8de78e945f0abaf191376122a1563185a90213a26c5da77"
      }
    }
  },
  "nbformat": 4,
  "nbformat_minor": 0
}