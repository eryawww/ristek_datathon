{
  "cells": [
    {
      "cell_type": "code",
      "execution_count": 1,
      "metadata": {
        "colab": {
          "base_uri": "https://localhost:8080/"
        },
        "id": "68ceTS8Jz7jz",
        "outputId": "b43f13f7-ea6b-4199-e037-4ad43fd887f7"
      },
      "outputs": [
        {
          "name": "stdout",
          "output_type": "stream",
          "text": [
            "Looking in indexes: https://pypi.org/simple, https://us-python.pkg.dev/colab-wheels/public/simple/\n",
            "Collecting emoji\n",
            "  Downloading emoji-2.2.0.tar.gz (240 kB)\n",
            "\u001b[K     |████████████████████████████████| 240 kB 4.7 MB/s \n",
            "\u001b[?25hCollecting nlp_id\n",
            "  Downloading nlp_id-0.1.13.0.tar.gz (7.9 MB)\n",
            "\u001b[K     |████████████████████████████████| 7.9 MB 61.6 MB/s \n",
            "\u001b[?25hCollecting transformers\n",
            "  Downloading transformers-4.25.1-py3-none-any.whl (5.8 MB)\n",
            "\u001b[K     |████████████████████████████████| 5.8 MB 77.9 MB/s \n",
            "\u001b[?25hCollecting tensorflow_addons\n",
            "  Downloading tensorflow_addons-0.18.0-cp38-cp38-manylinux_2_17_x86_64.manylinux2014_x86_64.whl (1.1 MB)\n",
            "\u001b[K     |████████████████████████████████| 1.1 MB 86.2 MB/s \n",
            "\u001b[?25hCollecting scikit-learn==1.1.0\n",
            "  Downloading scikit_learn-1.1.0-cp38-cp38-manylinux_2_17_x86_64.manylinux2014_x86_64.whl (31.0 MB)\n",
            "\u001b[K     |████████████████████████████████| 31.0 MB 1.2 MB/s \n",
            "\u001b[?25hCollecting nltk==3.4.5\n",
            "  Downloading nltk-3.4.5.zip (1.5 MB)\n",
            "\u001b[K     |████████████████████████████████| 1.5 MB 71.9 MB/s \n",
            "\u001b[?25hCollecting wget==3.2\n",
            "  Downloading wget-3.2.zip (10 kB)\n",
            "Requirement already satisfied: six in /usr/local/lib/python3.8/dist-packages (from nltk==3.4.5->nlp_id) (1.15.0)\n",
            "Requirement already satisfied: scipy>=1.3.2 in /usr/local/lib/python3.8/dist-packages (from scikit-learn==1.1.0->nlp_id) (1.7.3)\n",
            "Requirement already satisfied: joblib>=1.0.0 in /usr/local/lib/python3.8/dist-packages (from scikit-learn==1.1.0->nlp_id) (1.2.0)\n",
            "Requirement already satisfied: numpy>=1.17.3 in /usr/local/lib/python3.8/dist-packages (from scikit-learn==1.1.0->nlp_id) (1.21.6)\n",
            "Requirement already satisfied: threadpoolctl>=2.0.0 in /usr/local/lib/python3.8/dist-packages (from scikit-learn==1.1.0->nlp_id) (3.1.0)\n",
            "Requirement already satisfied: regex!=2019.12.17 in /usr/local/lib/python3.8/dist-packages (from transformers) (2022.6.2)\n",
            "Requirement already satisfied: packaging>=20.0 in /usr/local/lib/python3.8/dist-packages (from transformers) (21.3)\n",
            "Requirement already satisfied: tqdm>=4.27 in /usr/local/lib/python3.8/dist-packages (from transformers) (4.64.1)\n",
            "Collecting huggingface-hub<1.0,>=0.10.0\n",
            "  Downloading huggingface_hub-0.11.1-py3-none-any.whl (182 kB)\n",
            "\u001b[K     |████████████████████████████████| 182 kB 95.8 MB/s \n",
            "\u001b[?25hRequirement already satisfied: filelock in /usr/local/lib/python3.8/dist-packages (from transformers) (3.8.0)\n",
            "Requirement already satisfied: requests in /usr/local/lib/python3.8/dist-packages (from transformers) (2.23.0)\n",
            "Requirement already satisfied: pyyaml>=5.1 in /usr/local/lib/python3.8/dist-packages (from transformers) (6.0)\n",
            "Collecting tokenizers!=0.11.3,<0.14,>=0.11.1\n",
            "  Downloading tokenizers-0.13.2-cp38-cp38-manylinux_2_17_x86_64.manylinux2014_x86_64.whl (7.6 MB)\n",
            "\u001b[K     |████████████████████████████████| 7.6 MB 68.6 MB/s \n",
            "\u001b[?25hRequirement already satisfied: typing-extensions>=3.7.4.3 in /usr/local/lib/python3.8/dist-packages (from huggingface-hub<1.0,>=0.10.0->transformers) (4.1.1)\n",
            "Requirement already satisfied: pyparsing!=3.0.5,>=2.0.2 in /usr/local/lib/python3.8/dist-packages (from packaging>=20.0->transformers) (3.0.9)\n",
            "Requirement already satisfied: typeguard>=2.7 in /usr/local/lib/python3.8/dist-packages (from tensorflow_addons) (2.7.1)\n",
            "Requirement already satisfied: idna<3,>=2.5 in /usr/local/lib/python3.8/dist-packages (from requests->transformers) (2.10)\n",
            "Requirement already satisfied: urllib3!=1.25.0,!=1.25.1,<1.26,>=1.21.1 in /usr/local/lib/python3.8/dist-packages (from requests->transformers) (1.24.3)\n",
            "Requirement already satisfied: chardet<4,>=3.0.2 in /usr/local/lib/python3.8/dist-packages (from requests->transformers) (3.0.4)\n",
            "Requirement already satisfied: certifi>=2017.4.17 in /usr/local/lib/python3.8/dist-packages (from requests->transformers) (2022.9.24)\n",
            "Building wheels for collected packages: emoji, nlp-id, nltk, wget\n",
            "  Building wheel for emoji (setup.py) ... \u001b[?25l\u001b[?25hdone\n",
            "  Created wheel for emoji: filename=emoji-2.2.0-py3-none-any.whl size=234926 sha256=2e8044d09c24f34e39e51d041e554dc431fe6824e442b085e0c06674f7433419\n",
            "  Stored in directory: /root/.cache/pip/wheels/86/62/9e/a6b27a681abcde69970dbc0326ff51955f3beac72f15696984\n",
            "  Building wheel for nlp-id (setup.py) ... \u001b[?25l\u001b[?25hdone\n",
            "  Created wheel for nlp-id: filename=nlp_id-0.1.13.0-py3-none-any.whl size=8074943 sha256=8d469d12e562f31df0cfc40fc25a8ee37192a95ec3ef661ec537456624d52c1f\n",
            "  Stored in directory: /root/.cache/pip/wheels/c9/40/1e/1f65670842151a87e008b5df647bf5d8b034e762e1934fd7f3\n",
            "  Building wheel for nltk (setup.py) ... \u001b[?25l\u001b[?25hdone\n",
            "  Created wheel for nltk: filename=nltk-3.4.5-py3-none-any.whl size=1449921 sha256=dc98397cc08b91bfb47618fac9b7ca4da5239171c088431c66571bb8ab3f63bc\n",
            "  Stored in directory: /root/.cache/pip/wheels/23/18/48/8fd6ec11da38406b309470566d6f099c04805d2ec61d7829e7\n",
            "  Building wheel for wget (setup.py) ... \u001b[?25l\u001b[?25hdone\n",
            "  Created wheel for wget: filename=wget-3.2-py3-none-any.whl size=9674 sha256=ff26e0f463a1f596ad6d728af861e6ef5520c1073f9cdf00eac9ee1aa1f93131\n",
            "  Stored in directory: /root/.cache/pip/wheels/bd/a8/c3/3cf2c14a1837a4e04bd98631724e81f33f462d86a1d895fae0\n",
            "Successfully built emoji nlp-id nltk wget\n",
            "Installing collected packages: wget, tokenizers, scikit-learn, nltk, huggingface-hub, transformers, tensorflow-addons, nlp-id, emoji\n",
            "  Attempting uninstall: scikit-learn\n",
            "    Found existing installation: scikit-learn 1.0.2\n",
            "    Uninstalling scikit-learn-1.0.2:\n",
            "      Successfully uninstalled scikit-learn-1.0.2\n",
            "  Attempting uninstall: nltk\n",
            "    Found existing installation: nltk 3.7\n",
            "    Uninstalling nltk-3.7:\n",
            "      Successfully uninstalled nltk-3.7\n",
            "Successfully installed emoji-2.2.0 huggingface-hub-0.11.1 nlp-id-0.1.13.0 nltk-3.4.5 scikit-learn-1.1.0 tensorflow-addons-0.18.0 tokenizers-0.13.2 transformers-4.25.1 wget-3.2\n"
          ]
        }
      ],
      "source": [
        "!pip install emoji nlp_id transformers tensorflow_addons catboost"
      ]
    },
    {
      "cell_type": "code",
      "execution_count": 2,
      "metadata": {
        "colab": {
          "base_uri": "https://localhost:8080/"
        },
        "id": "78X9EeF4yuTA",
        "outputId": "8d24bcee-bcc1-416e-b2b7-9fa9e17fd88a"
      },
      "outputs": [
        {
          "name": "stdout",
          "output_type": "stream",
          "text": [
            "Mounted at /content/drive\n"
          ]
        }
      ],
      "source": [
        "import os\n",
        "from termcolor import colored\n",
        "from tqdm import tqdm\n",
        "import warnings\n",
        "from IPython.display import clear_output\n",
        "warnings.filterwarnings(\"ignore\", category=DeprecationWarning) \n",
        "\n",
        "import pandas as pd\n",
        "import random\n",
        "import numpy as np\n",
        "import seaborn as sns\n",
        "import matplotlib.pyplot as plt\n",
        "\n",
        "import cv2\n",
        "\n",
        "import re\n",
        "import emoji\n",
        "from nlp_id import Lemmatizer, StopWord\n",
        "import string\n",
        "\n",
        "from sklearn.model_selection import train_test_split\n",
        "\n",
        "import tensorflow as tf\n",
        "import tensorflow_addons as tfa\n",
        "import keras.backend as K\n",
        "\n",
        "from transformers import TFBertModel\n",
        "from transformers import AutoTokenizer\n",
        "\n",
        "import sys\n",
        "IN_COLAB = 'google.colab' in sys.modules\n",
        "if IN_COLAB:\n",
        "  from google.colab import drive\n",
        "  drive.mount('/content/drive', force_remount=True)\n",
        "\n",
        "RUN_OPTIONAL_CELLS = True"
      ]
    },
    {
      "cell_type": "code",
      "execution_count": 3,
      "metadata": {
        "id": "tUrWQEtuzba8"
      },
      "outputs": [],
      "source": [
        "def get_path(path:str):\n",
        "  '''\n",
        "  Dynamic Path Finding for cloud and local computing\n",
        "  '''\n",
        "  CLOUD_PATH = '/content/drive/MyDrive/Cloud Computing Data/datathon_2022/'\n",
        "  if IN_COLAB:\n",
        "    return (CLOUD_PATH+path).replace('//', '/')\n",
        "  return path\n",
        "    "
      ]
    },
    {
      "cell_type": "code",
      "execution_count": 4,
      "metadata": {
        "id": "BAtxCxdpyuTB"
      },
      "outputs": [],
      "source": [
        "train = pd.read_csv(get_path('data/train.csv'), parse_dates=['created_at'])\n",
        "test = pd.read_csv(get_path('data/test.csv'), parse_dates=['created_at'])\n",
        "target = pd.DataFrame({'label': train['label'].values})\n",
        "DROP = ['url', 'user_id']"
      ]
    },
    {
      "cell_type": "markdown",
      "metadata": {
        "id": "tVsrz6SPyuTC"
      },
      "source": [
        "# Image Data"
      ]
    },
    {
      "cell_type": "code",
      "execution_count": 5,
      "metadata": {
        "id": "mPWrL_b3yuTD"
      },
      "outputs": [],
      "source": [
        "IMG_SHAPE = (260, 260, 3)\n",
        "IMG_SOURCE = ['external', 'native'] # native, external, external_2"
      ]
    },
    {
      "cell_type": "code",
      "execution_count": 6,
      "metadata": {
        "id": "erubofOhyuTE"
      },
      "outputs": [],
      "source": [
        "def _load_img(file_path:str):\n",
        "    \"\"\"\n",
        "        convert file_path to numpy array image with shape: globals()['IMG_SHAPE']\n",
        "        param:\n",
        "            file_path: .csv or folder path of a image\n",
        "    \"\"\"\n",
        "    if file_path.endswith('.csv'):\n",
        "        data = pd.read_csv(file_path)\n",
        "        img_arr = None\n",
        "        for inx, row in tqdm(data.iterrows(), total=len(data)):\n",
        "            nw_img_path = row['media']\n",
        "            if img_arr is None:\n",
        "                img_arr = cv2.resize(cv2.cvtColor(cv2.imread(f'{get_path(\"data/media/\"+nw_img_path)}'), cv2.COLOR_RGB2BGR), IMG_SHAPE[:-1]).reshape(1, *IMG_SHAPE)\n",
        "            else:\n",
        "                img_arr = np.vstack([img_arr, cv2.resize(cv2.cvtColor(cv2.imread(f'{get_path(\"data/media/\"+nw_img_path)}'), cv2.COLOR_RGB2BGR), IMG_SHAPE[:-1]).reshape(1, *IMG_SHAPE)])\n",
        "        return img_arr\n",
        "    else:\n",
        "        img_arr = None\n",
        "        for current_file in os.listdir(file_path):\n",
        "            if not current_file.endswith('.jpg'):\n",
        "                continue\n",
        "            nw_img_path = os.path.join(file_path, current_file)\n",
        "            if img_arr is None:\n",
        "                img_arr = cv2.resize(cv2.cvtColor(cv2.imread(f'{get_path(\"data/media/\"+nw_img_path)}'), cv2.COLOR_RGB2BGR), IMG_SHAPE[:-1]).reshape(1, *IMG_SHAPE)\n",
        "            else:\n",
        "                img_arr = np.vstack([img_arr, cv2.resize(cv2.cvtColor(cv2.imread(f'{get_path(\"data/media/\"+nw_img_path)}'), cv2.COLOR_RGB2BGR), IMG_SHAPE[:-1]).reshape(1, *IMG_SHAPE)])\n",
        "        return img_arr"
      ]
    },
    {
      "cell_type": "markdown",
      "metadata": {
        "id": "hTPdDv1ByuTF"
      },
      "source": [
        "## Internal Data"
      ]
    },
    {
      "cell_type": "markdown",
      "metadata": {
        "id": "5yldGjHieePq"
      },
      "source": [
        "## Tabular"
      ]
    },
    {
      "cell_type": "code",
      "execution_count": 7,
      "metadata": {
        "id": "qXOBfgN0eePr"
      },
      "outputs": [],
      "source": [
        "def get_date_feature(df:pd.DataFrame, col:str) -> pd.DataFrame:\n",
        "    df['year'] = df[col].dt.year\n",
        "    df['month'] = df[col].dt.month\n",
        "    df['week'] = np.int32(df[col].dt.isocalendar().week)\n",
        "    df['weekday'] = df[col].dt.weekday\n",
        "    df['quarter'] = df[col].dt.quarter\n",
        "    df['day_of_year'] = df[col].dt.day_of_year\n",
        "    df['day'] = df[col].dt.day\n",
        "    df['day_of_week'] = df[col].dt.day_of_week\n",
        "    return df"
      ]
    },
    {
      "cell_type": "markdown",
      "metadata": {
        "id": "q93aNVsveePs"
      },
      "source": [
        "## Image"
      ]
    },
    {
      "cell_type": "code",
      "execution_count": 8,
      "metadata": {
        "id": "TK8SMaKayuTF"
      },
      "outputs": [],
      "source": [
        "def get_image_dataset():\n",
        "    \"\"\"\n",
        "        get original image dataset\n",
        "        return:\n",
        "            train_img\n",
        "            test_img\n",
        "            target\n",
        "    \"\"\"\n",
        "    target = pd.read_csv(get_path(f'checkpoints/img_arr_(600, 600, 3)_target.csv'))\n",
        "    file_name = get_path(f'checkpoints/img_arr_{IMG_SHAPE}')\n",
        "    if os.path.exists(file_name+'.npy'):\n",
        "        train_img = np.load(file_name+'.npy')\n",
        "    else:\n",
        "        train_img = _load_img(get_path('data/train.csv'))\n",
        "        np.save(file_name, train_img)\n",
        "    \n",
        "    test_name = get_path(f'checkpoints/test_img_arr_{IMG_SHAPE}')\n",
        "    if os.path.exists(test_name+'.npy'):\n",
        "        test_img = np.load(test_name+'.npy')\n",
        "    else:\n",
        "        test_img = _load_img(get_path('data/test.csv'))\n",
        "        np.save(test_name, test_img)\n",
        "    return train_img, test_img, target\n",
        "\n",
        "def get_oversampled_train_image_dataset(test_split_ratio:float = 0.2):\n",
        "    \"\"\"\n",
        "        return oversampled training data with validation split that avoid data leakage\n",
        "        return\n",
        "            train_x, val_x, train_y, val_y\n",
        "    \"\"\"\n",
        "    train_img, test_img, target = get_image_dataset()\n",
        "\n",
        "    train_x, val_x, train_y, val_y = train_test_split(train_img, target, test_size=test_split_ratio)\n",
        "    \n",
        "    pos_features = train_x[train_y['label'] == 1]\n",
        "    neg_features = train_x[~(train_y['label'] == 1)]\n",
        "\n",
        "    pos_labels = train_y[train_y['label'] == 1]\n",
        "    neg_labels = train_y[train_y['label'] == 0]\n",
        "\n",
        "    assert len(pos_features)+len(neg_features) == len(pos_labels)+len(neg_labels)\n",
        "\n",
        "    nw_features = pos_features[:]\n",
        "    nw_labels = pos_labels.copy(deep=True)\n",
        "\n",
        "    train_img = np.concatenate([pos_features, neg_features, nw_features, nw_features])\n",
        "    target = pd.concat([pos_labels, neg_labels, nw_labels, nw_labels], axis=0)\n",
        "    assert len(train_img) == len(target)\n",
        "    return train_img, val_x, target, val_y"
      ]
    },
    {
      "cell_type": "markdown",
      "metadata": {
        "id": "OlbhMsQmeePu"
      },
      "source": [
        "## Text"
      ]
    },
    {
      "cell_type": "code",
      "execution_count": 9,
      "metadata": {
        "id": "Wf3afSE4eePu"
      },
      "outputs": [],
      "source": [
        "MAX_WORD = 50"
      ]
    },
    {
      "cell_type": "markdown",
      "metadata": {
        "id": "XzktIgnjeePv"
      },
      "source": [
        "### Tokenization"
      ]
    },
    {
      "cell_type": "code",
      "execution_count": 10,
      "metadata": {
        "id": "ciom0m_ReePv"
      },
      "outputs": [],
      "source": [
        "emoticons_str = r\"\"\"\n",
        "    (?:\n",
        "        [:=;] # Eyes\n",
        "        [oO\\-]? # Nose (optional)\n",
        "        [D\\)\\]\\(\\]/\\\\OpP] # Mouth\n",
        "    )\"\"\"\n",
        "\n",
        "regex_str = []\n",
        "regex_str.append(emoticons_str)\n",
        "regex_str.append(r'<[^>]+>') # HTML tags\n",
        "regex_str.append(r'(?:@[\\w_]+)') # @-mentions\n",
        "regex_str.append(r'(?:&[\\w_]+)')\n",
        "regex_str.append(r\"(?:\\#+[\\w_]+[\\w\\'_\\-]*[\\w_]+)\") # hash-tags\n",
        "regex_str.append(r'http[s]?://(?:[a-z]|[0-9]|[$-_@.&amp;+]|[!*\\(\\),]|(?:%[0-9a-f][0-9a-f]))+') # URLs\n",
        "regex_str.append(r'(?:(?:\\d+,?)+(?:\\.?\\d+)?)') # numbers\n",
        "regex_str.append(r\"(?:[a-z][a-z'\\-_]+[a-z])\") # words with - and '\n",
        "regex_str.append(r'(?:[\\w_]+)') # other words\n",
        "regex_str.append(r'(?:\\S)') # anything else\n",
        "\n",
        "tokens_re = re.compile(r'('+'|'.join(regex_str)+')', re.VERBOSE | re.IGNORECASE)\n",
        "emoticon_re = re.compile(r'^'+emoticons_str+'$', re.VERBOSE | re.IGNORECASE)\n",
        "\n",
        "def tokenize(sentence):\n",
        "    return [emoji.demojize(term) for term in tokens_re.findall(sentence)]"
      ]
    },
    {
      "cell_type": "markdown",
      "metadata": {
        "id": "ZzaLQhOJeePv"
      },
      "source": [
        "### Stopwords and Lemmatisation"
      ]
    },
    {
      "cell_type": "code",
      "execution_count": 11,
      "metadata": {
        "id": "sCAOUJbUeePv"
      },
      "outputs": [],
      "source": [
        "lemmatizer = Lemmatizer()\n",
        "stopword = StopWord()\n",
        "\n",
        "punctuation = list(string.punctuation)\n",
        "stops = stopword.get_stopword() + punctuation + ['rt', 'via', '…','•','“']\n",
        "\n",
        "def stopwords_and_lemmatize(tokenized_sentence):\n",
        "  processed_words = []\n",
        "  for word in tokenized_sentence:\n",
        "    if word.lower() not in stops:\n",
        "      processed_words.append(lemmatizer.lemmatize(word))\n",
        "  return processed_words"
      ]
    },
    {
      "cell_type": "markdown",
      "metadata": {
        "id": "MmHrVlSPeePw"
      },
      "source": [
        "### Final Pipeline"
      ]
    },
    {
      "cell_type": "code",
      "execution_count": 12,
      "metadata": {
        "id": "Ob7I4Cu3eePw"
      },
      "outputs": [],
      "source": [
        "def preprocess_text(sentence):\n",
        "    return stopwords_and_lemmatize(tokenize(sentence))"
      ]
    },
    {
      "cell_type": "code",
      "execution_count": 13,
      "metadata": {
        "id": "Yyq2ek_heePx"
      },
      "outputs": [],
      "source": [
        "def get_vtext_dataset():\n",
        "    raise NotImplementedError\n",
        "    \"\"\"\n",
        "        get original text dataset\n",
        "        return:\n",
        "            train_vtext\n",
        "            test_vtext\n",
        "            target\n",
        "    \"\"\"\n",
        "    from gensim.models.fasttext import load_facebook_model\n",
        "    ft = load_facebook_model('pretrained/fastText/cc.id.300.bin')\n",
        "\n",
        "    target = pd.read_csv(get_path(f'checkpoints/img_arr_(600, 600, 3)_target.csv'))\n",
        "    file_name = get_path(f'checkpoints/text_vtext_{IMG_SHAPE}')\n",
        "    if os.path.exists(file_name+'.npy'):\n",
        "        train_text = np.load(file_name+'.npy')\n",
        "    else:\n",
        "        train_text = None\n",
        "        for inx, row in train.iterrows():\n",
        "            # Continue\n",
        "            if train_text is None:\n",
        "                train_text = np.array(preprocess_text(row['text']))\n",
        "            else:\n",
        "                pass\n",
        "            np.save(file_name, img_arr)\n",
        "    \n",
        "    test_name = get_path(f'checkpoints/test_img_arr_{IMG_SHAPE}')\n",
        "    if os.path.exists(test_name+'.npy'):\n",
        "        test_img_arr = np.load(test_name+'.npy')\n",
        "    else:\n",
        "        test_img_arr = _load_img(get_path('data/test.csv'))\n",
        "        np.save(test_name, test_img_arr)\n",
        "    return img_arr, test_img_arr, target\n",
        "\n",
        "def get_text_dataset():\n",
        "    return train['text'].copy(), test['text'].copy(), target.copy()"
      ]
    },
    {
      "cell_type": "markdown",
      "metadata": {
        "id": "63EomNjRyuTF"
      },
      "source": [
        "## External Data"
      ]
    },
    {
      "cell_type": "code",
      "execution_count": 14,
      "metadata": {
        "id": "g0_MkAsfyuTH"
      },
      "outputs": [],
      "source": [
        "pass\n",
        "if 'external' in IMG_SOURCE:\n",
        "    pass"
      ]
    },
    {
      "cell_type": "markdown",
      "metadata": {
        "id": "ISPiztGYeePx"
      },
      "source": [
        "# Metrics and Template"
      ]
    },
    {
      "cell_type": "code",
      "execution_count": 15,
      "metadata": {
        "id": "Xfch0_3IeePy"
      },
      "outputs": [],
      "source": [
        "def f1_score(y_true, y_pred):\n",
        "    true_positives = K.sum(K.round(K.clip(y_true * y_pred, 0, 1)))\n",
        "    possible_positives = K.sum(K.round(K.clip(y_true, 0, 1)))\n",
        "    predicted_positives = K.sum(K.round(K.clip(y_pred, 0, 1)))\n",
        "    precision = true_positives / (predicted_positives + K.epsilon())\n",
        "    recall = true_positives / (possible_positives + K.epsilon())\n",
        "    return 2 * (precision * recall) / (precision+recall + K.epsilon())"
      ]
    },
    {
      "cell_type": "markdown",
      "metadata": {
        "id": "XtoA6PbeyuTJ"
      },
      "source": [
        "# Modelling"
      ]
    },
    {
      "cell_type": "code",
      "execution_count": 16,
      "metadata": {
        "id": "arq-6rIeyuTJ"
      },
      "outputs": [],
      "source": [
        "import tensorflow as tf\n",
        "import keras\n",
        "from keras import layers, activations, losses, optimizers, initializers, regularizers, metrics, Input, models\n",
        "import sklearn.metrics as skMetrics\n",
        "from sklearn.model_selection import train_test_split\n",
        "\n",
        "def plot_hist(hist):\n",
        "    fig = plt.figure()\n",
        "    fig.add_subplot(1, 2, 1)\n",
        "    plt.plot(hist.history['acc'], label = 'train')\n",
        "    plt.plot(hist.history['val_acc'], label = 'validation')\n",
        "    plt.xlabel('acc')\n",
        "    plt.legend()\n",
        "    fig.add_subplot(1, 2, 2)\n",
        "    plt.plot(hist.history['mae'], label = 'train')\n",
        "    plt.plot(hist.history['val_mae'], label = 'validation')\n",
        "    plt.xlabel('mae')\n",
        "    plt.legend()"
      ]
    },
    {
      "cell_type": "markdown",
      "metadata": {
        "id": "BcvGbnUUyuTJ"
      },
      "source": [
        "## EfficientNetB"
      ]
    },
    {
      "cell_type": "code",
      "execution_count": 17,
      "metadata": {
        "id": "MI3K90_yDvnf"
      },
      "outputs": [],
      "source": [
        "# from sklearn.model_selection import train_test_split\n",
        "\n",
        "# img_arr, test_img_arr, target = get_image_dataset()\n",
        "\n",
        "# train_x, val_x, train_y, val_y = train_test_split(img_arr, target, test_size=0.2, stratify=target)"
      ]
    },
    {
      "cell_type": "code",
      "execution_count": 18,
      "metadata": {
        "id": "Qy4_DKRcyuTK"
      },
      "outputs": [],
      "source": [
        "# from keras.applications import EfficientNetB4\n",
        "# from keras.applications.efficientnet import preprocess_input\n",
        "\n",
        "# input_layer = Input(shape=IMG_SHAPE, dtype=tf.float32)\n",
        "# efficientNetB7_layer = EfficientNetB4()(preprocess_input(input_layer))\n",
        "# efficientNetB7_layer.trainable = False\n",
        "# flatten_layer = layers.Flatten()(efficientNetB7_layer)\n",
        "# dense_layer = layers.Dense(400, activation='relu')(flatten_layer)\n",
        "# dropout_layer = layers.Dropout(.2)(dense_layer)\n",
        "# dense_layer = layers.Dense(200, activation='relu')(flatten_layer)\n",
        "# dropout_layer = layers.Dropout(.2)(dense_layer)\n",
        "# output_layer = layers.Dense(1, activation='sigmoid')(dropout_layer)\n",
        "\n",
        "# model = keras.Model(inputs=input_layer, outputs=output_layer)\n",
        "\n",
        "# model.compile('adam', loss=losses.BinaryCrossentropy(), metrics=['mae', 'acc'])"
      ]
    },
    {
      "cell_type": "code",
      "execution_count": 19,
      "metadata": {
        "id": "MFln23cIyuTK"
      },
      "outputs": [],
      "source": [
        "# callback = tf.keras.callbacks.EarlyStopping(monitor='val_mae', patience=7, restore_best_weights=True)\n",
        "# hist = model.fit(train_x, train_y, validation_data=(val_x, val_y), batch_size=64, epochs=20, callbacks=[callback])"
      ]
    },
    {
      "cell_type": "code",
      "execution_count": 20,
      "metadata": {
        "id": "KO_knTjyA6hx"
      },
      "outputs": [],
      "source": [
        "# model.save(get_path('model2_150neuron.h5'))"
      ]
    },
    {
      "cell_type": "markdown",
      "metadata": {
        "id": "-xO-_se5eeP0"
      },
      "source": [
        "## Full Complex Model"
      ]
    },
    {
      "cell_type": "markdown",
      "metadata": {
        "id": "dUzWH6FzeeP0"
      },
      "source": [
        "### Data Analyst"
      ]
    },
    {
      "cell_type": "code",
      "execution_count": 21,
      "metadata": {
        "colab": {
          "base_uri": "https://localhost:8080/",
          "height": 296
        },
        "id": "CrE2xdemeeP1",
        "outputId": "bdf2ca02-325e-4c2a-9d92-359284342d6c"
      },
      "outputs": [
        {
          "name": "stdout",
          "output_type": "stream",
          "text": [
            "Maksimal kata pada variabel text : 56\n"
          ]
        },
        {
          "data": {
            "image/png": "[encoded data removed]",
            "text/plain": [
              "<Figure size 432x288 with 1 Axes>"
            ]
          },
          "metadata": {
            "needs_background": "light"
          },
          "output_type": "display_data"
        }
      ],
      "source": [
        "if RUN_OPTIONAL_CELLS:\n",
        "    sns.histplot(train['text'].map(lambda x: len(x.split())))\n",
        "    plt.axvline(MAX_WORD, color='green', label='max word')\n",
        "    plt.legend()\n",
        "    print(f'Maksimal kata pada variabel text :', colored(train['text'].map(lambda x: len(x.split())).max(), 'green'))"
      ]
    },
    {
      "cell_type": "markdown",
      "metadata": {
        "id": "PGTzrNk9eeP2"
      },
      "source": [
        "### Data Preparation"
      ]
    },
    {
      "cell_type": "markdown",
      "metadata": {
        "id": "BaDvcqyCeeP2"
      },
      "source": [
        "#### Plot Pos-Neg Words"
      ]
    },
    {
      "cell_type": "code",
      "execution_count": 22,
      "metadata": {
        "colab": {
          "base_uri": "https://localhost:8080/",
          "height": 279
        },
        "id": "BjaJUARIeeP2",
        "outputId": "9147752f-b5f8-46bc-b458-934ac7c4914f"
      },
      "outputs": [
        {
          "data": {
            "image/png": "[encoded data removed]",
            "text/plain": [
              "<Figure size 432x288 with 1 Axes>"
            ]
          },
          "metadata": {
            "needs_background": "light"
          },
          "output_type": "display_data"
        }
      ],
      "source": [
        "sentword_score = {}\n",
        "\n",
        "def load_sentword(filename):\n",
        "  file = open(get_path(filename), \"r\")\n",
        "  file.readline()\n",
        "  for line in file:\n",
        "    word, score = line.strip().split(\"\\t\")\n",
        "    score = int(score)\n",
        "    sentword_score[word] = score\n",
        "  file.close()\n",
        "\n",
        "load_sentword(\"tools/negative.tsv\")\n",
        "load_sentword(\"tools/positive.tsv\")\n",
        "\n",
        "import matplotlib.patches as mpatches\n",
        "\n",
        "num_pos = []\n",
        "num_neg = []\n",
        "scores  = []\n",
        "\n",
        "for _, row in train.iterrows():\n",
        "  tokens = tokenize(row[\"text\"])\n",
        "  label = row[target.columns[0]]\n",
        "  num_negative, num_positive = 0, 0\n",
        "\n",
        "  for token in tokens:\n",
        "    if token in sentword_score:\n",
        "      if (sentword_score[token] < 0):\n",
        "        num_negative += 1\n",
        "      elif (sentword_score[token] > 0):\n",
        "        num_positive += 1\n",
        "  num_pos.append(num_positive)\n",
        "  num_neg.append(num_negative)\n",
        "  scores.append(label)\n",
        "\n",
        "# tambahkan kolom di dataframe\n",
        "train[\"pos_words\"] = num_pos\n",
        "train[\"neg_words\"] = num_neg\n",
        "\n",
        "# add jitters\n",
        "num_pos = np.array(num_pos)\n",
        "num_neg = np.array(num_neg)\n",
        "num_pos = num_pos + np.random.normal(0, 0.2, len(num_pos))\n",
        "num_neg = num_neg + np.random.normal(0, 0.2, len(num_neg))\n",
        "\n",
        "if RUN_OPTIONAL_CELLS:\n",
        "  colors = ['g' if score == 1 else 'r' for score in scores]\n",
        "  plt.scatter(num_pos, num_neg, c = colors, alpha=0.3)\n",
        "  plt.xlabel('# positive words')\n",
        "  plt.ylabel('# negative words')\n",
        "\n",
        "  # Legend\n",
        "  red_patch = mpatches.Patch(color='red', label='Negative')\n",
        "  green_patch = mpatches.Patch(color='green', label='Positive')\n",
        "\n",
        "  plt.legend(handles=[red_patch, green_patch])\n",
        "  plt.show()"
      ]
    },
    {
      "cell_type": "markdown",
      "metadata": {
        "id": "WeoUY4a5eeP3"
      },
      "source": [
        "#### Tabular Data"
      ]
    },
    {
      "cell_type": "code",
      "execution_count": 23,
      "metadata": {
        "colab": {
          "base_uri": "https://localhost:8080/"
        },
        "id": "D-qh1Yd7eeP3",
        "outputId": "6aabfa1a-f712-4040-f324-a83e9c5ec145"
      },
      "outputs": [
        {
          "data": {
            "text/plain": [
              "Index(['created_at', 'id', 'user_id', 'user_name', 'url', 'text', 'media',\n",
              "       'label', 'pos_words', 'neg_words'],\n",
              "      dtype='object')"
            ]
          },
          "execution_count": 23,
          "metadata": {},
          "output_type": "execute_result"
        }
      ],
      "source": [
        "train.columns"
      ]
    },
    {
      "cell_type": "code",
      "execution_count": 24,
      "metadata": {
        "id": "s49S64VQeeP3"
      },
      "outputs": [],
      "source": [
        "def get_positive_negative_word(df, is_train):\n",
        "    def load_sentword(filename):\n",
        "        file = open(get_path(filename), \"r\")\n",
        "        file.readline()\n",
        "        for line in file:\n",
        "            word, score = line.strip().split(\"\\t\")\n",
        "            score = int(score)\n",
        "            sentword_score[word] = score\n",
        "        file.close()\n",
        "\n",
        "    load_sentword(\"tools/negative.tsv\")\n",
        "    load_sentword(\"tools/positive.tsv\")\n",
        "\n",
        "    num_pos = []\n",
        "    num_neg = []\n",
        "    tot_pos = []\n",
        "    tot_neg = []\n",
        "\n",
        "    if is_train:\n",
        "        temp = train\n",
        "    else:\n",
        "        temp = test\n",
        "\n",
        "    for _, row in temp.iterrows():\n",
        "        tokens = tokenize(row[\"text\"])\n",
        "        num_negative, num_positive, total_positive, total_negative = 0, 0, 0, 0\n",
        "\n",
        "        for token in tokens:\n",
        "            if token in sentword_score:\n",
        "                if (sentword_score[token] < 0):\n",
        "                    total_negative += sentword_score[token]\n",
        "                    num_negative += 1\n",
        "                    \n",
        "                elif (sentword_score[token] > 0):\n",
        "                    total_positive += sentword_score[token]\n",
        "                    num_positive += 1\n",
        "        num_pos.append(num_positive)\n",
        "        num_neg.append(num_negative)\n",
        "        tot_pos.append(total_positive)\n",
        "        tot_neg.append(total_negative)\n",
        "\n",
        "    # tambahkan kolom di dataframe\n",
        "    df[\"pos_words\"] = num_pos\n",
        "    df[\"neg_words\"] = num_neg\n",
        "    df[\"sum_pos_words\"] = tot_pos\n",
        "    df[\"sum_neg_words\"] = tot_neg\n",
        "    return df\n",
        "\n",
        "def get_tabular_dataset():\n",
        "    \"\"\"\n",
        "        return:\n",
        "            train\n",
        "            test\n",
        "            target\n",
        "    \"\"\"\n",
        "    tabular_train = train.copy()\n",
        "    tabular_test = test.copy()\n",
        "\n",
        "    tabular_train = get_date_feature(tabular_train, 'created_at')\n",
        "    tabular_test = get_date_feature(tabular_test, 'created_at')\n",
        "\n",
        "    tabular_train = tabular_train.drop(['created_at', 'id', 'user_id', 'user_name', 'url', 'text', 'media', 'label'], axis=1)\n",
        "    tabular_test = tabular_test.drop(['created_at', 'id', 'user_id', 'user_name', 'url', 'text', 'media'], axis=1)\n",
        "    \n",
        "    tabular_train = get_positive_negative_word(tabular_train, 1)\n",
        "    tabular_test = get_positive_negative_word(tabular_test, 0)\n",
        "    \n",
        "    iklim = pd.read_csv(get_path('data/iklim_cleaned.csv'))\n",
        "\n",
        "    tabular_train = pd.merge(tabular_train, iklim, left_on=['month', 'year'], right_on=['bulan', 'tahun'], validate='many_to_one')\n",
        "    tabular_test = pd.merge(tabular_test, iklim, left_on=['month', 'year'], right_on=['bulan', 'tahun'], validate='many_to_one')\n",
        "    return tabular_train, tabular_test, target.copy()"
      ]
    },
    {
      "cell_type": "markdown",
      "metadata": {
        "id": "9XxGPJLzeeP4"
      },
      "source": [
        "### Model Architecture"
      ]
    },
    {
      "cell_type": "markdown",
      "metadata": {
        "id": "ID8piNNieeP4"
      },
      "source": [
        "Image Pipeline"
      ]
    },
    {
      "cell_type": "code",
      "execution_count": 25,
      "metadata": {
        "id": "vm5ScRfieeP4"
      },
      "outputs": [],
      "source": [
        "# model = models.load_model('models/modelb2_400 .5 200 .5.h5')\n",
        "# img_output = model.layers[-2].output"
      ]
    },
    {
      "cell_type": "markdown",
      "metadata": {
        "id": "kN2X9CiweeP4"
      },
      "source": [
        "Text Pipeline"
      ]
    },
    {
      "cell_type": "code",
      "execution_count": 26,
      "metadata": {
        "id": "dV0Rhl5FeeP4"
      },
      "outputs": [],
      "source": [
        "tokenizer = AutoTokenizer.from_pretrained(\"indolem/indobertweet-base-uncased\")\n",
        "bert_model = TFBertModel.from_pretrained(\"indolem/indobertweet-base-uncased\", \\\n",
        "                                         output_attentions=True, \\\n",
        "                                         from_pt = True)\n",
        "\n",
        "def bert_tokenize(documents, is_tuple = False):\n",
        "  if not is_tuple:\n",
        "    tokenized = tokenizer(documents, padding='max_length', max_length=MAX_WORD, truncation=True)\n",
        "  else:\n",
        "    tokenized = tokenizer(documents[0], documents[1], padding='max_length', max_length=MAX_WORD, truncation=True)\n",
        "  ids = np.array(tokenized['input_ids'])\n",
        "  ams = np.array(tokenized['token_type_ids'])\n",
        "  msk = np.array(tokenized['attention_mask'])\n",
        "  return ids, ams, msk\n",
        "clear_output()"
      ]
    },
    {
      "cell_type": "code",
      "execution_count": 27,
      "metadata": {
        "id": "clyiYQq2eeP4"
      },
      "outputs": [],
      "source": [
        "input_ids_layer = tf.keras.layers.Input(shape=(MAX_WORD,), \n",
        "                                        name='input_ids', \n",
        "                                        dtype='int32')\n",
        "input_attention_mask = tf.keras.layers.Input(shape=(MAX_WORD,), \n",
        "                                             name='input_attention_mask', \n",
        "                                             dtype='int32')\n",
        "input_type_ids = tf.keras.layers.Input(shape=(MAX_WORD,), \n",
        "                                       name='input_type_ids', \n",
        "                                       dtype='int32')\n",
        "\n",
        "last_hidden_state = bert_model([input_ids_layer, input_attention_mask, input_type_ids]).last_hidden_state\n",
        "for layer in bert_model.layers:\n",
        "    layer.trainable = False\n",
        "cls_last_output = last_hidden_state[:, 0, :]\n",
        "\n",
        "dense_t_1 = layers.Dense(450, activation='relu')(cls_last_output)\n",
        "dropout_t_1 = layers.Dropout(.5)(dense_t_1)\n",
        "output_text = tf.keras.layers.Dense(1, \n",
        "                              activation = 'sigmoid',\n",
        "                              bias_initializer = 'zeros',\n",
        "                              name = 'dense_classifier')(dropout_t_1)\n",
        "\n",
        "model_2 = tf.keras.Model([input_ids_layer, input_attention_mask, input_type_ids], output_text)\n",
        "\n",
        "model_2.compile('adam', \n",
        "              loss = losses.BinaryCrossentropy(),\n",
        "              metrics = [f1_score, 'acc', 'mae'])"
      ]
    },
    {
      "cell_type": "code",
      "execution_count": 28,
      "metadata": {
        "colab": {
          "base_uri": "https://localhost:8080/"
        },
        "id": "K0Yrj3XheeP5",
        "outputId": "506acc42-35b9-44f0-c851-d5bb1dfb9f23"
      },
      "outputs": [
        {
          "name": "stdout",
          "output_type": "stream",
          "text": [
            "Epoch 1/100\n",
            "19/19 [==============================] - 19s 268ms/step - loss: 0.5513 - f1_score: 0.2184 - acc: 0.7562 - mae: 0.2829 - val_loss: 0.5171 - val_f1_score: 0.6050 - val_acc: 0.7500 - val_mae: 0.3157\n",
            "Epoch 2/100\n",
            "19/19 [==============================] - 1s 66ms/step - loss: 0.4234 - f1_score: 0.4381 - acc: 0.8040 - mae: 0.2466 - val_loss: 0.4288 - val_f1_score: 0.3298 - val_acc: 0.7928 - val_mae: 0.2368\n",
            "Epoch 3/100\n",
            "19/19 [==============================] - 1s 51ms/step - loss: 0.3690 - f1_score: 0.5248 - acc: 0.8287 - mae: 0.2281 - val_loss: 0.3824 - val_f1_score: 0.5646 - val_acc: 0.8092 - val_mae: 0.2439\n",
            "Epoch 4/100\n",
            "19/19 [==============================] - 1s 51ms/step - loss: 0.3470 - f1_score: 0.5040 - acc: 0.8377 - mae: 0.2210 - val_loss: 0.3889 - val_f1_score: 0.6145 - val_acc: 0.8158 - val_mae: 0.2462\n",
            "Epoch 5/100\n",
            "19/19 [==============================] - 1s 51ms/step - loss: 0.3442 - f1_score: 0.5325 - acc: 0.8394 - mae: 0.2125 - val_loss: 0.3876 - val_f1_score: 0.5695 - val_acc: 0.8158 - val_mae: 0.2371\n",
            "Epoch 6/100\n",
            "19/19 [==============================] - 1s 51ms/step - loss: 0.3255 - f1_score: 0.5191 - acc: 0.8484 - mae: 0.2066 - val_loss: 0.3996 - val_f1_score: 0.4555 - val_acc: 0.8059 - val_mae: 0.2240\n",
            "Epoch 7/100\n",
            "19/19 [==============================] - 1s 51ms/step - loss: 0.3256 - f1_score: 0.5664 - acc: 0.8484 - mae: 0.2048 - val_loss: 0.4354 - val_f1_score: 0.3873 - val_acc: 0.7961 - val_mae: 0.2246\n",
            "Epoch 8/100\n",
            "19/19 [==============================] - 1s 51ms/step - loss: 0.3414 - f1_score: 0.5189 - acc: 0.8402 - mae: 0.2116 - val_loss: 0.3815 - val_f1_score: 0.5741 - val_acc: 0.8191 - val_mae: 0.2289\n",
            "Epoch 9/100\n",
            "19/19 [==============================] - 1s 61ms/step - loss: 0.3098 - f1_score: 0.5839 - acc: 0.8517 - mae: 0.1969 - val_loss: 0.3890 - val_f1_score: 0.6120 - val_acc: 0.8158 - val_mae: 0.2303\n"
          ]
        }
      ],
      "source": [
        "train_text, test_text, target = get_text_dataset()\n",
        "train_x, val_x, train_y, val_y = train_test_split(train_text, target, test_size=.2)\n",
        "\n",
        "train_ids, train_ams, train_msk = bert_tokenize(list(train_x))\n",
        "val_ids, val_ams, val_msk = bert_tokenize(list(val_x))\n",
        "\n",
        "from keras import callbacks\n",
        "val_mae_earlystopping = callbacks.EarlyStopping('val_f1_score', patience=7, restore_best_weights=True)\n",
        "with tf.device('/device:GPU:0'):\n",
        "  hist = model_2.fit(\n",
        "      x = [train_ids, train_ams, train_msk],\n",
        "      y = train_y,\n",
        "      epochs = 100,\n",
        "      batch_size = 64,\n",
        "      validation_data = ([val_ids, val_ams, val_msk], val_y),\n",
        "      callbacks=[val_mae_earlystopping]\n",
        "  )"
      ]
    },
    {
      "cell_type": "code",
      "execution_count": 29,
      "metadata": {
        "colab": {
          "base_uri": "https://localhost:8080/"
        },
        "id": "L6lMuS9SeeP5",
        "outputId": "364daf25-29a0-4562-8e1b-cd7f67cf88aa"
      },
      "outputs": [
        {
          "name": "stdout",
          "output_type": "stream",
          "text": [
            "Training F1 :\t 0.39639639639639634\n",
            "Validation F1 :\t 0.3505154639175258\n"
          ]
        }
      ],
      "source": [
        "print(f\"{colored('Training F1 :', 'cyan')}\\t\", skMetrics.f1_score(train_y, [int(x>.5) for x in model_2.predict([train_ids, train_ams, train_msk], verbose=0)]))\n",
        "print(f\"{colored('Validation F1 :', 'red')}\\t\", skMetrics.f1_score(val_y, [int(x>.5) for x in model_2.predict([val_ids, val_ams, val_msk], verbose=0)]))"
      ]
    },
    {
      "cell_type": "code",
      "execution_count": 30,
      "metadata": {
        "id": "GJLc6kameeP5"
      },
      "outputs": [],
      "source": [
        "# plot_hist(hist)"
      ]
    },
    {
      "cell_type": "code",
      "execution_count": 31,
      "metadata": {
        "id": "C4kVUn1leeP5"
      },
      "outputs": [],
      "source": [
        "# model_2.save('models/modelbert450 .5.h5')"
      ]
    },
    {
      "cell_type": "markdown",
      "metadata": {
        "id": "7zlLsPdLeeP6"
      },
      "source": [
        "Tabular Pipeline"
      ]
    },
    {
      "cell_type": "markdown",
      "metadata": {
        "id": "L8mZW6fVeeP6"
      },
      "source": [
        "#### All In Model"
      ]
    },
    {
      "cell_type": "code",
      "execution_count": 148,
      "metadata": {
        "id": "Fmd2zTj_w8Di"
      },
      "outputs": [],
      "source": [
        "def f1_loss(y_true, y_pred):\n",
        "    \n",
        "    tp = K.sum(K.cast(y_true*y_pred, 'float'), axis=0)\n",
        "    tn = K.sum(K.cast((1-y_true)*(1-y_pred), 'float'), axis=0)\n",
        "    fp = K.sum(K.cast((1-y_true)*y_pred, 'float'), axis=0)\n",
        "    fn = K.sum(K.cast(y_true*(1-y_pred), 'float'), axis=0)\n",
        "\n",
        "    p = tp / (tp + fp + K.epsilon())\n",
        "    r = tp / (tp + fn + K.epsilon())\n",
        "\n",
        "    f1 = 2*p*r / (p+r+K.epsilon())\n",
        "    f1 = tf.where(tf.math.is_nan(f1), tf.zeros_like(f1), f1)\n",
        "    return 1 - K.mean(f1)"
      ]
    },
    {
      "cell_type": "markdown",
      "metadata": {
        "id": "GmLa_dnXsg-J"
      },
      "source": [
        "##### Deep Learning"
      ]
    },
    {
      "cell_type": "code",
      "execution_count": 33,
      "metadata": {
        "id": "xEULnPUqeeP6"
      },
      "outputs": [],
      "source": [
        "# Text model ##############################################################\n",
        "input_ids_layer = tf.keras.layers.Input(shape=(MAX_WORD,), \n",
        "                                        name='input_ids', \n",
        "                                        dtype='int32')\n",
        "input_attention_mask = tf.keras.layers.Input(shape=(MAX_WORD,), \n",
        "                                             name='input_attention_mask', \n",
        "                                             dtype='int32')\n",
        "input_type_ids = tf.keras.layers.Input(shape=(MAX_WORD,), \n",
        "                                       name='input_type_ids', \n",
        "                                       dtype='int32')\n",
        "\n",
        "last_hidden_state = bert_model([input_ids_layer, input_attention_mask, input_type_ids]).last_hidden_state\n",
        "for layer in bert_model.layers:\n",
        "    layer.trainable = False\n",
        "cls_last_output = last_hidden_state[:, 0, :]\n",
        "\n",
        "dense_t_1 = layers.Dense(450, activation='relu')(cls_last_output)\n",
        "dropout_t_1 = layers.Dropout(.5)(dense_t_1)\n",
        "############################################################################\n",
        "\n",
        "# Image Model ##############################################################\n",
        "from keras.applications import EfficientNetB2\n",
        "from keras.applications.efficientnet import preprocess_input\n",
        "\n",
        "input_img = Input(shape=IMG_SHAPE, dtype=tf.float32)\n",
        "efficientNetB7_layer = EfficientNetB2()(preprocess_input(input_img))\n",
        "efficientNetB7_layer.trainable = False\n",
        "flatten_layer = layers.Flatten()(efficientNetB7_layer)\n",
        "dense_layer = layers.Dense(400, activation='relu')(flatten_layer)\n",
        "dropout_layer = layers.Dropout(.5)(dense_layer)\n",
        "dense_layer2 = layers.Dense(200, activation='relu')(dropout_layer)\n",
        "dropout_layer2 = layers.Dropout(.5)(dense_layer2)\n",
        "############################################################################\n",
        "\n",
        "# Concat Last Layer with tabular ###########################################\n",
        "input_tabular = Input(shape=(18, ), dtype=tf.float32)\n",
        "concat_features = tf.keras.layers.concatenate([dropout_layer2, dropout_t_1, input_tabular], axis = 1)\n",
        "dense_concated_layer_1 = layers.Dense(500, activation='relu')(concat_features)\n",
        "dropout_concated_layer = layers.Dropout(.5)(dense_concated_layer_1)\n",
        "dense_concated_layer_2 = layers.Dense(250, activation='relu')(dropout_concated_layer)\n",
        "dropout_concated_layer2 = layers.Dropout(.5)(dense_concated_layer_2)\n",
        "output = layers.Dense(1, activation='sigmoid')(dropout_concated_layer2)\n",
        "############################################################################\n",
        "\n",
        "model = keras.Model(inputs=[input_ids_layer, input_attention_mask, input_type_ids, input_img, input_tabular], outputs=output)\n",
        "\n",
        "model.compile('adam', loss=losses.BinaryCrossentropy(), metrics=[f1_score, 'mae', 'acc'])"
      ]
    },
    {
      "cell_type": "code",
      "execution_count": 34,
      "metadata": {
        "id": "w8mGz8KeeeP7"
      },
      "outputs": [],
      "source": [
        "tbr_train, test_tbr, _ = get_tabular_dataset()\n",
        "train_img, test_img, target = get_image_dataset()\n",
        "train_text, test_text, target = get_text_dataset()\n",
        "\n",
        "train_text, val_text, train_y, val_y, train_tbr, val_tbr, train_img, val_img  = train_test_split(train_text, target, tbr_train, train_img, test_size=.2, random_state=42)\n",
        "\n",
        "train_ids, train_ams, train_msk = bert_tokenize(list(train_text))\n",
        "val_ids, val_ams, val_msk = bert_tokenize(list(val_text))\n",
        "\n",
        "from keras import callbacks\n",
        "val_mae_earlystopping = callbacks.EarlyStopping('val_f1_score', mode='max', patience=7, restore_best_weights=True)\n",
        "with tf.device('/device:GPU:0'):\n",
        "  hist = model.fit(\n",
        "      x = [train_ids, train_ams, train_msk, train_img, train_tbr],\n",
        "      y = train_y,\n",
        "      epochs = 100,\n",
        "      batch_size = 16,\n",
        "      validation_data = ([val_ids, val_ams, val_msk, val_img, val_tbr], val_y),\n",
        "      callbacks=[val_mae_earlystopping]\n",
        "  )"
      ]
    },
    {
      "cell_type": "code",
      "execution_count": 35,
      "metadata": {
        "id": "fam2oJiNeeP7"
      },
      "outputs": [],
      "source": [
        "print(f\"{colored('Training F1 :', 'cyan')}\\t\", skMetrics.f1_score(train_y, [int(x>.5) for x in model_2.predict([train_ids, train_ams, train_msk], verbose=0)]))\n",
        "print(f\"{colored('Validation F1 :', 'red')}\\t\", skMetrics.f1_score(val_y, [int(x>.5) for x in model_2.predict([val_ids, val_ams, val_msk], verbose=0)]))"
      ]
    },
    {
      "cell_type": "markdown",
      "metadata": {
        "id": "h7R8F9vdsxuQ"
      },
      "source": [
        "##### Machine Learning"
      ]
    },
    {
      "cell_type": "code",
      "execution_count": 161,
      "metadata": {
        "id": "oEOHvIzys0Vh"
      },
      "outputs": [],
      "source": [
        "# # loss_fn = tfa.losses.\n",
        "# # Text model ##############################################################\n",
        "# input_ids_layer = tf.keras.layers.Input(shape=(MAX_WORD,), \n",
        "#                                         name='input_ids', \n",
        "#                                         dtype='int32')\n",
        "# input_attention_mask = tf.keras.layers.Input(shape=(MAX_WORD,), \n",
        "#                                              name='input_attention_mask', \n",
        "#                                              dtype='int32')\n",
        "# input_type_ids = tf.keras.layers.Input(shape=(MAX_WORD,), \n",
        "#                                        name='input_type_ids', \n",
        "#                                        dtype='int32')\n",
        "# last_hidden_state = bert_model([input_ids_layer, input_attention_mask, input_type_ids]).last_hidden_state\n",
        "# for layer in bert_model.layers:\n",
        "#     layer.trainable = False\n",
        "# cls_last_output = last_hidden_state[:, 0, :]\n",
        "# dense_t_1 = layers.Dense(450, activation='relu', kernel_initializer = tf.keras.initializers.GlorotNormal(seed = 42),bias_initializer = 'zeros',\n",
        "#                                    kernel_regularizer = tf.keras.regularizers.L1(l1=1e-3),\n",
        "#                                    bias_regularizer = tf.keras.regularizers.L1(1e-3))(cls_last_output)\n",
        "# dropout_t_1 = layers.Dropout(.5)(dense_t_1)\n",
        "# output_text = tf.keras.layers.Dense(1, \n",
        "#                               activation = 'sigmoid',\n",
        "#                               bias_initializer = 'zeros',\n",
        "#                               name = 'dense_classifier')(dropout_t_1)\n",
        "# #\n",
        "# text_model = tf.keras.Model([input_ids_layer, input_attention_mask, input_type_ids], output_text)\n",
        "# text_model.compile('adam', \n",
        "#               loss = losses.BinaryCrossentropy(),\n",
        "#               metrics = [f1_score, 'acc', 'mae'])\n",
        "# ############################################################################\n",
        "\n",
        "# Image Model ##############################################################\n",
        "from keras.applications import EfficientNetB2\n",
        "from keras.applications.efficientnet import preprocess_input\n",
        "\n",
        "input_img = Input(shape=IMG_SHAPE, dtype=tf.float32)\n",
        "efficientNetB7_layer = EfficientNetB2()(preprocess_input(input_img))\n",
        "efficientNetB7_layer.trainable = False\n",
        "flatten_layer = layers.Flatten()(efficientNetB7_layer)\n",
        "dense_layer = layers.Dense(300, activation='relu', kernel_initializer = tf.keras.initializers.GlorotNormal(seed = 42), bias_initializer = 'zeros',\n",
        "                                   kernel_regularizer = tf.keras.regularizers.L1(l1=1e-3),\n",
        "                                   bias_regularizer = tf.keras.regularizers.L1(1e-3))(flatten_layer)\n",
        "dropout_layer = layers.Dropout(.5)(dense_layer)\n",
        "# dense_layer2 = layers.Dense(200, activation='relu', kernel_initializer = tf.keras.initializers.GlorotNormal(seed = 42), bias_initializer = 'zeros',  \n",
        "#                                    kernel_regularizer = tf.keras.regularizers.L1(l1=1e-3),\n",
        "#                                    bias_regularizer = tf.keras.regularizers.L1(1e-3))(dropout_layer)\n",
        "# dropout_layer2 = layers.Dropout(.5)(dense_layer2)\n",
        "output_img = tf.keras.layers.Dense(1, activation = 'sigmoid')(dropout_layer)\n",
        "#\n",
        "img_model = tf.keras.Model(input_img, output_img)\n",
        "img_model.compile('adam', loss = losses.BinaryCrossentropy(), metrics = [f1_score, 'acc', 'mae'])\n",
        "############################################################################\n",
        "\n",
        "# # Concat with tabular ###########################################\n",
        "# tbr_train, test_tbr, _ = get_tabular_dataset()\n",
        "# train_img, test_img, target = get_image_dataset()\n",
        "# train_text, test_text, target = get_text_dataset()\n",
        "\n",
        "# train_text, val_text, train_y, val_y, train_tbr, val_tbr, train_img, val_img  = train_test_split(train_text, target, tbr_train, train_img, test_size=.2, stratify=target)\n",
        "\n",
        "# train_ids, train_ams, train_msk = bert_tokenize(list(train_text))\n",
        "# val_ids, val_ams, val_msk = bert_tokenize(list(val_text))\n",
        "# test_ids, test_ams, test_msk = bert_tokenize(list(test_text))\n",
        "# ############################################################################"
      ]
    },
    {
      "cell_type": "code",
      "execution_count": 162,
      "metadata": {
        "id": "tI3tUQy4xW4h"
      },
      "outputs": [],
      "source": [
        "from keras import callbacks\n",
        "val_mae_earlystopping = callbacks.EarlyStopping('val_f1_score', patience=30, mode='max', restore_best_weights=True)\n",
        "# hist = text_model.fit(\n",
        "#     x = [train_ids, train_ams, train_msk],\n",
        "#     y = tf.cast(train_y, tf.float32),\n",
        "#     epochs = 300,\n",
        "#     batch_size = 32,\n",
        "#     validation_data = ([val_ids, val_ams, val_msk], tf.cast(val_y, tf.float32)),\n",
        "#     callbacks=[val_mae_earlystopping]\n",
        "# )\n",
        "hist2 = img_model.fit(\n",
        "    x = train_img,\n",
        "    y = tf.cast(train_y, tf.float32),\n",
        "    epochs = 300,\n",
        "    batch_size = 32,\n",
        "    validation_data = (val_img, tf.cast(val_y, tf.float32)),\n",
        "    callbacks=[val_mae_earlystopping]\n",
        ")\n",
        "clear_output()"
      ]
    },
    {
      "cell_type": "code",
      "execution_count": 163,
      "metadata": {
        "colab": {
          "base_uri": "https://localhost:8080/"
        },
        "id": "nl2WdNIs50Z0",
        "outputId": "27bc12e9-145e-48b3-dd6f-810647317c5c"
      },
      "outputs": [
        {
          "name": "stdout",
          "output_type": "stream",
          "text": [
            "IMG Model\n",
            "Training F1 :\t 0.902654867256637\n",
            "Validation F1 :\t 0.624113475177305\n",
            "TXT Model\n",
            "Training F1 :\t 0.6918238993710691\n",
            "Validation F1 :\t 0.6545454545454545\n"
          ]
        }
      ],
      "source": [
        "print('IMG Model')\n",
        "print(f\"{colored('Training F1 :', 'cyan')}\\t\", skMetrics.f1_score(train_y, [int(x>.5) for x in img_model.predict(train_img, verbose=0)]))\n",
        "print(f\"{colored('Validation F1 :', 'red')}\\t\", skMetrics.f1_score(val_y, [int(x>.5) for x in img_model.predict(val_img, verbose=0)]))\n",
        "print('TXT Model')\n",
        "print(f\"{colored('Training F1 :', 'cyan')}\\t\", skMetrics.f1_score(train_y, [int(x>.5) for x in text_model.predict([train_ids, train_ams, train_msk], verbose=0)]))\n",
        "print(f\"{colored('Validation F1 :', 'red')}\\t\", skMetrics.f1_score(val_y, [int(x>.5) for x in text_model.predict([val_ids, val_ams, val_msk], verbose=0)]))"
      ]
    },
    {
      "cell_type": "code",
      "execution_count": 164,
      "metadata": {
        "id": "sFmO9SR4yc4d"
      },
      "outputs": [],
      "source": [
        "train_tbr['imgPred'] = img_model.predict(train_img, verbose = 0)\n",
        "val_tbr['imgPred'] = img_model.predict(val_img, verbose = 0)\n",
        "test_tbr['imgPred'] = img_model.predict(test_img, verbose = 0)\n",
        "\n",
        "train_tbr['textPred'] = text_model.predict([train_ids, train_ams, train_msk], verbose = 0)\n",
        "val_tbr['textPred'] = text_model.predict([val_ids, val_ams, val_msk], verbose = 0)\n",
        "test_tbr['textPred'] = text_model.predict([test_ids, test_ams, test_msk], verbose = 0)"
      ]
    },
    {
      "cell_type": "code",
      "execution_count": 165,
      "metadata": {
        "colab": {
          "base_uri": "https://localhost:8080/"
        },
        "id": "mS6ht3D9xn3L",
        "outputId": "07bd515b-833a-4e4e-e7ac-5605478a878f"
      },
      "outputs": [
        {
          "name": "stdout",
          "output_type": "stream",
          "text": [
            "Training F1 :\t 0.9530956848030019\n",
            "Validation F1 :\t 0.6875\n"
          ]
        }
      ],
      "source": [
        "from xgboost import XGBClassifier\n",
        "from catboost import CatBoostClassifier\n",
        "from sklearn.ensemble import RandomForestClassifier\n",
        "\n",
        "final_model = XGBClassifier(\n",
        "    n_estimators = 1000,\n",
        "    # max_depth=5\n",
        "    learning_rate= 0.001,\n",
        "    tree_method = 'gpu_hist'\n",
        ")\n",
        "final_model.fit(train_tbr, train_y)\n",
        "clear_output()\n",
        "print(f\"{colored('Training F1 :', 'cyan')}\\t\", skMetrics.f1_score(train_y, [int(x>.5) for x in final_model.predict(train_tbr)]))\n",
        "print(f\"{colored('Validation F1 :', 'red')}\\t\", skMetrics.f1_score(val_y, [int(x>.5) for x in final_model.predict(val_tbr)]))"
      ]
    },
    {
      "cell_type": "code",
      "execution_count": null,
      "metadata": {
        "colab": {
          "base_uri": "https://localhost:8080/",
          "height": 166
        },
        "id": "YFT40Grl-THs",
        "outputId": "de72ce61-5c1f-41dc-eaf5-a88ba345859e"
      },
      "outputs": [],
      "source": [
        "plt.barh(final_model.feature_names_in_, final_model.feature_importances_)"
      ]
    },
    {
      "cell_type": "code",
      "execution_count": 166,
      "metadata": {
        "colab": {
          "base_uri": "https://localhost:8080/",
          "height": 424
        },
        "id": "V6pzzitXwkW_",
        "outputId": "848c63b5-2e2f-4af7-ece3-73d7ba6f1e4f"
      },
      "outputs": [
        {
          "data": {
            "text/html": [
              "\n",
              "  <div id=\"df-91ede682-578b-48a7-aa62-8b3f52b5de17\">\n",
              "    <div class=\"colab-df-container\">\n",
              "      <div>\n",
              "<style scoped>\n",
              "    .dataframe tbody tr th:only-of-type {\n",
              "        vertical-align: middle;\n",
              "    }\n",
              "\n",
              "    .dataframe tbody tr th {\n",
              "        vertical-align: top;\n",
              "    }\n",
              "\n",
              "    .dataframe thead th {\n",
              "        text-align: right;\n",
              "    }\n",
              "</style>\n",
              "<table border=\"1\" class=\"dataframe\">\n",
              "  <thead>\n",
              "    <tr style=\"text-align: right;\">\n",
              "      <th></th>\n",
              "      <th>id</th>\n",
              "      <th>label</th>\n",
              "    </tr>\n",
              "  </thead>\n",
              "  <tbody>\n",
              "    <tr>\n",
              "      <th>0</th>\n",
              "      <td>1213309429254250496</td>\n",
              "      <td>0</td>\n",
              "    </tr>\n",
              "    <tr>\n",
              "      <th>1</th>\n",
              "      <td>1216196702647939072</td>\n",
              "      <td>0</td>\n",
              "    </tr>\n",
              "    <tr>\n",
              "      <th>2</th>\n",
              "      <td>1216296533735309312</td>\n",
              "      <td>0</td>\n",
              "    </tr>\n",
              "    <tr>\n",
              "      <th>3</th>\n",
              "      <td>1234385081482956800</td>\n",
              "      <td>0</td>\n",
              "    </tr>\n",
              "    <tr>\n",
              "      <th>4</th>\n",
              "      <td>1214853229567041537</td>\n",
              "      <td>0</td>\n",
              "    </tr>\n",
              "    <tr>\n",
              "      <th>...</th>\n",
              "      <td>...</td>\n",
              "      <td>...</td>\n",
              "    </tr>\n",
              "    <tr>\n",
              "      <th>1006</th>\n",
              "      <td>1212371781350084608</td>\n",
              "      <td>0</td>\n",
              "    </tr>\n",
              "    <tr>\n",
              "      <th>1007</th>\n",
              "      <td>1232075152042541056</td>\n",
              "      <td>1</td>\n",
              "    </tr>\n",
              "    <tr>\n",
              "      <th>1008</th>\n",
              "      <td>1213315563595845633</td>\n",
              "      <td>0</td>\n",
              "    </tr>\n",
              "    <tr>\n",
              "      <th>1009</th>\n",
              "      <td>1212970781610663936</td>\n",
              "      <td>0</td>\n",
              "    </tr>\n",
              "    <tr>\n",
              "      <th>1010</th>\n",
              "      <td>1231973813132365825</td>\n",
              "      <td>0</td>\n",
              "    </tr>\n",
              "  </tbody>\n",
              "</table>\n",
              "<p>1011 rows × 2 columns</p>\n",
              "</div>\n",
              "      <button class=\"colab-df-convert\" onclick=\"convertToInteractive('df-91ede682-578b-48a7-aa62-8b3f52b5de17')\"\n",
              "              title=\"Convert this dataframe to an interactive table.\"\n",
              "              style=\"display:none;\">\n",
              "        \n",
              "  <svg xmlns=\"http://www.w3.org/2000/svg\" height=\"24px\"viewBox=\"0 0 24 24\"\n",
              "       width=\"24px\">\n",
              "    <path d=\"M0 0h24v24H0V0z\" fill=\"none\"/>\n",
              "    <path d=\"M18.56 5.44l.94 2.06.94-2.06 2.06-.94-2.06-.94-.94-2.06-.94 2.06-2.06.94zm-11 1L8.5 8.5l.94-2.06 2.06-.94-2.06-.94L8.5 2.5l-.94 2.06-2.06.94zm10 10l.94 2.06.94-2.06 2.06-.94-2.06-.94-.94-2.06-.94 2.06-2.06.94z\"/><path d=\"M17.41 7.96l-1.37-1.37c-.4-.4-.92-.59-1.43-.59-.52 0-1.04.2-1.43.59L10.3 9.45l-7.72 7.72c-.78.78-.78 2.05 0 2.83L4 21.41c.39.39.9.59 1.41.59.51 0 1.02-.2 1.41-.59l7.78-7.78 2.81-2.81c.8-.78.8-2.07 0-2.86zM5.41 20L4 18.59l7.72-7.72 1.47 1.35L5.41 20z\"/>\n",
              "  </svg>\n",
              "      </button>\n",
              "      \n",
              "  <style>\n",
              "    .colab-df-container {\n",
              "      display:flex;\n",
              "      flex-wrap:wrap;\n",
              "      gap: 12px;\n",
              "    }\n",
              "\n",
              "    .colab-df-convert {\n",
              "      background-color: #E8F0FE;\n",
              "      border: none;\n",
              "      border-radius: 50%;\n",
              "      cursor: pointer;\n",
              "      display: none;\n",
              "      fill: #1967D2;\n",
              "      height: 32px;\n",
              "      padding: 0 0 0 0;\n",
              "      width: 32px;\n",
              "    }\n",
              "\n",
              "    .colab-df-convert:hover {\n",
              "      background-color: #E2EBFA;\n",
              "      box-shadow: 0px 1px 2px rgba(60, 64, 67, 0.3), 0px 1px 3px 1px rgba(60, 64, 67, 0.15);\n",
              "      fill: #174EA6;\n",
              "    }\n",
              "\n",
              "    [theme=dark] .colab-df-convert {\n",
              "      background-color: #3B4455;\n",
              "      fill: #D2E3FC;\n",
              "    }\n",
              "\n",
              "    [theme=dark] .colab-df-convert:hover {\n",
              "      background-color: #434B5C;\n",
              "      box-shadow: 0px 1px 3px 1px rgba(0, 0, 0, 0.15);\n",
              "      filter: drop-shadow(0px 1px 2px rgba(0, 0, 0, 0.3));\n",
              "      fill: #FFFFFF;\n",
              "    }\n",
              "  </style>\n",
              "\n",
              "      <script>\n",
              "        const buttonEl =\n",
              "          document.querySelector('#df-91ede682-578b-48a7-aa62-8b3f52b5de17 button.colab-df-convert');\n",
              "        buttonEl.style.display =\n",
              "          google.colab.kernel.accessAllowed ? 'block' : 'none';\n",
              "\n",
              "        async function convertToInteractive(key) {\n",
              "          const element = document.querySelector('#df-91ede682-578b-48a7-aa62-8b3f52b5de17');\n",
              "          const dataTable =\n",
              "            await google.colab.kernel.invokeFunction('convertToInteractive',\n",
              "                                                     [key], {});\n",
              "          if (!dataTable) return;\n",
              "\n",
              "          const docLinkHtml = 'Like what you see? Visit the ' +\n",
              "            '<a target=\"_blank\" href=https://colab.research.google.com/notebooks/data_table.ipynb>data table notebook</a>'\n",
              "            + ' to learn more about interactive tables.';\n",
              "          element.innerHTML = '';\n",
              "          dataTable['output_type'] = 'display_data';\n",
              "          await google.colab.output.renderOutput(dataTable, element);\n",
              "          const docLink = document.createElement('div');\n",
              "          docLink.innerHTML = docLinkHtml;\n",
              "          element.appendChild(docLink);\n",
              "        }\n",
              "      </script>\n",
              "    </div>\n",
              "  </div>\n",
              "  "
            ],
            "text/plain": [
              "                       id  label\n",
              "0     1213309429254250496      0\n",
              "1     1216196702647939072      0\n",
              "2     1216296533735309312      0\n",
              "3     1234385081482956800      0\n",
              "4     1214853229567041537      0\n",
              "...                   ...    ...\n",
              "1006  1212371781350084608      0\n",
              "1007  1232075152042541056      1\n",
              "1008  1213315563595845633      0\n",
              "1009  1212970781610663936      0\n",
              "1010  1231973813132365825      0\n",
              "\n",
              "[1011 rows x 2 columns]"
            ]
          },
          "execution_count": 166,
          "metadata": {},
          "output_type": "execute_result"
        }
      ],
      "source": [
        "pred = final_model.predict(test_tbr[train_tbr.columns])\n",
        "output = pd.DataFrame()\n",
        "output['id'] = test.id\n",
        "output['label'] = pred\n",
        "output"
      ]
    },
    {
      "cell_type": "code",
      "execution_count": 167,
      "metadata": {
        "colab": {
          "base_uri": "https://localhost:8080/"
        },
        "id": "9zhTnp2UwkXA",
        "outputId": "f5e2610c-4f65-4d80-cae8-91309f8d767a"
      },
      "outputs": [
        {
          "data": {
            "text/plain": [
              "0    803\n",
              "1    208\n",
              "Name: label, dtype: int64"
            ]
          },
          "execution_count": 167,
          "metadata": {},
          "output_type": "execute_result"
        }
      ],
      "source": [
        "output['label'].value_counts()"
      ]
    },
    {
      "cell_type": "markdown",
      "metadata": {
        "id": "8xdI5-wxMOH3"
      },
      "source": [
        "* 774 237\n",
        "* 780 231\n",
        "* 803 208"
      ]
    },
    {
      "cell_type": "code",
      "execution_count": 168,
      "metadata": {
        "id": "iaHgNGIcwkXA"
      },
      "outputs": [],
      "source": [
        "output.to_csv('95_69.csv', index=False)"
      ]
    },
    {
      "cell_type": "markdown",
      "metadata": {
        "id": "DF_SOVyfeeP7"
      },
      "source": [
        "#### Ensembling"
      ]
    },
    {
      "cell_type": "markdown",
      "metadata": {
        "id": "rJYNdqUweeP8"
      },
      "source": [
        "##### Predictioning Ensembling"
      ]
    },
    {
      "cell_type": "code",
      "execution_count": null,
      "metadata": {
        "id": "8f1vKltIeeP9"
      },
      "outputs": [],
      "source": [
        "img_model = models.load_model('models/modelb2_400 .5 200 .5.h5', custom_objects={'f1_score':f1_score})\n",
        "txt_model = models.load_model('models/modelbert450 .5.h5', custom_objects={'TFBertModel':TFBertModel, 'f1_score':f1_score})\n",
        "\n",
        "# tbr_train, test_tbr, _ = get_tabular_dataset()\n",
        "train_img, test_img, target = get_image_dataset()\n",
        "train_txt, test_txt, target = get_text_dataset()\n",
        "\n",
        "train_img, test_img = img_model.predict(train_img), img_model.predict(test_img)\n",
        "\n",
        "train_ids, train_ams, train_msk = bert_tokenize(list(train_txt))\n",
        "test_ids, test_ams, test_msk = bert_tokenize(list(test_txt))\n",
        "\n",
        "train_txt, test_txt = txt_model.predict([train_ids, train_ams, train_msk]), txt_model.predict([test_ids, test_ams, test_msk])\n",
        "\n",
        "# train_tbr_x, val_tbr_x, train_img_x, val_img_x, train_txt_x, val_txt_x, train_y, val_y = train_test_split(tbr_train, train_img, train_txt, target)\n",
        "train_img_x, val_img_x, train_txt_x, val_txt_x, train_y, val_y = train_test_split(train_img, train_txt, target)\n",
        "\n",
        "from lightgbm import LGBMClassifier\n",
        "model = LGBMClassifier(\n",
        "    n_estimators = 500,\n",
        "    max_depth = 8\n",
        "    # tree_method = 'gpu_hist'\n",
        ")\n",
        "# train_concated = pd.concat([train_tbr_x.reset_index().drop(['index'], axis=1), pd.DataFrame({'img': train_img_x.ravel()}), pd.DataFrame({'txt': train_txt_x.ravel()})], axis=1)\n",
        "# val_concated = pd.concat([val_tbr_x.reset_index().drop(['index'], axis=1), pd.DataFrame({'img': val_img_x.ravel()}), pd.DataFrame({'txt': val_txt_x.ravel()})], axis=1)\n",
        "train_concated = pd.concat([pd.DataFrame({'img': train_img_x.ravel()}), pd.DataFrame({'txt': train_txt_x.ravel()})], axis=1)\n",
        "val_concated = pd.concat([pd.DataFrame({'img': val_img_x.ravel()}), pd.DataFrame({'txt': val_txt_x.ravel()})], axis=1)\n",
        "model.fit(train_concated, train_y)"
      ]
    },
    {
      "cell_type": "code",
      "execution_count": null,
      "metadata": {
        "id": "E0hK-S8EeeP9",
        "outputId": "63d19d00-e834-43c3-fb68-4fcaede3cc16"
      },
      "outputs": [
        {
          "name": "stdout",
          "output_type": "stream",
          "text": [
            "0.9701230228471002\n",
            "0.968421052631579\n"
          ]
        }
      ],
      "source": [
        "print(skMetrics.accuracy_score(train_y, ((train_img_x.ravel()+train_txt_x.ravel())/2) > .5))\n",
        "print(skMetrics.accuracy_score(val_y,((val_img_x.ravel()+val_txt_x.ravel())/2) > .5))"
      ]
    },
    {
      "cell_type": "code",
      "execution_count": null,
      "metadata": {
        "id": "kCcoQJDyeeP9",
        "outputId": "660eb65a-cf52-43dd-bc04-ef5dfe07f8a7"
      },
      "outputs": [
        {
          "name": "stdout",
          "output_type": "stream",
          "text": [
            "0.99581589958159\n",
            "0.9195402298850575\n"
          ]
        }
      ],
      "source": [
        "print(skMetrics.f1_score(train_y, model.predict(train_concated)))\n",
        "print(skMetrics.f1_score(val_y, model.predict(val_concated)))"
      ]
    },
    {
      "cell_type": "code",
      "execution_count": null,
      "metadata": {
        "id": "JQJgjyKxeeP9"
      },
      "outputs": [],
      "source": [
        "pred = model.predict(pd.concat([test_tbr, test_img, test_txt], axis=1))"
      ]
    },
    {
      "cell_type": "code",
      "execution_count": null,
      "metadata": {
        "id": "84T7rp0ieeP-",
        "outputId": "baa44caa-eb6a-4814-daa5-ed7d6403718e"
      },
      "outputs": [
        {
          "data": {
            "text/html": [
              "<div>\n",
              "<style scoped>\n",
              "    .dataframe tbody tr th:only-of-type {\n",
              "        vertical-align: middle;\n",
              "    }\n",
              "\n",
              "    .dataframe tbody tr th {\n",
              "        vertical-align: top;\n",
              "    }\n",
              "\n",
              "    .dataframe thead th {\n",
              "        text-align: right;\n",
              "    }\n",
              "</style>\n",
              "<table border=\"1\" class=\"dataframe\">\n",
              "  <thead>\n",
              "    <tr style=\"text-align: right;\">\n",
              "      <th></th>\n",
              "      <th>id</th>\n",
              "      <th>label</th>\n",
              "    </tr>\n",
              "  </thead>\n",
              "  <tbody>\n",
              "    <tr>\n",
              "      <th>0</th>\n",
              "      <td>1213309429254250496</td>\n",
              "      <td>0</td>\n",
              "    </tr>\n",
              "    <tr>\n",
              "      <th>1</th>\n",
              "      <td>1216196702647939072</td>\n",
              "      <td>0</td>\n",
              "    </tr>\n",
              "    <tr>\n",
              "      <th>2</th>\n",
              "      <td>1216296533735309312</td>\n",
              "      <td>0</td>\n",
              "    </tr>\n",
              "    <tr>\n",
              "      <th>3</th>\n",
              "      <td>1234385081482956800</td>\n",
              "      <td>0</td>\n",
              "    </tr>\n",
              "    <tr>\n",
              "      <th>4</th>\n",
              "      <td>1214853229567041537</td>\n",
              "      <td>0</td>\n",
              "    </tr>\n",
              "    <tr>\n",
              "      <th>...</th>\n",
              "      <td>...</td>\n",
              "      <td>...</td>\n",
              "    </tr>\n",
              "    <tr>\n",
              "      <th>1006</th>\n",
              "      <td>1212371781350084608</td>\n",
              "      <td>0</td>\n",
              "    </tr>\n",
              "    <tr>\n",
              "      <th>1007</th>\n",
              "      <td>1232075152042541056</td>\n",
              "      <td>1</td>\n",
              "    </tr>\n",
              "    <tr>\n",
              "      <th>1008</th>\n",
              "      <td>1213315563595845633</td>\n",
              "      <td>0</td>\n",
              "    </tr>\n",
              "    <tr>\n",
              "      <th>1009</th>\n",
              "      <td>1212970781610663936</td>\n",
              "      <td>0</td>\n",
              "    </tr>\n",
              "    <tr>\n",
              "      <th>1010</th>\n",
              "      <td>1231973813132365825</td>\n",
              "      <td>0</td>\n",
              "    </tr>\n",
              "  </tbody>\n",
              "</table>\n",
              "<p>1011 rows × 2 columns</p>\n",
              "</div>"
            ],
            "text/plain": [
              "                       id  label\n",
              "0     1213309429254250496      0\n",
              "1     1216196702647939072      0\n",
              "2     1216296533735309312      0\n",
              "3     1234385081482956800      0\n",
              "4     1214853229567041537      0\n",
              "...                   ...    ...\n",
              "1006  1212371781350084608      0\n",
              "1007  1232075152042541056      1\n",
              "1008  1213315563595845633      0\n",
              "1009  1212970781610663936      0\n",
              "1010  1231973813132365825      0\n",
              "\n",
              "[1011 rows x 2 columns]"
            ]
          },
          "execution_count": 94,
          "metadata": {},
          "output_type": "execute_result"
        }
      ],
      "source": [
        "output = pd.DataFrame()\n",
        "output['id'] = test.id\n",
        "output['label'] = pred\n",
        "output"
      ]
    },
    {
      "cell_type": "code",
      "execution_count": null,
      "metadata": {
        "id": "iTV1SFdkeeP-",
        "outputId": "0769a4fd-a65a-40e7-a3a0-fd146c2fa52a"
      },
      "outputs": [
        {
          "data": {
            "text/plain": [
              "0    831\n",
              "1    180\n",
              "Name: label, dtype: int64"
            ]
          },
          "execution_count": 96,
          "metadata": {},
          "output_type": "execute_result"
        }
      ],
      "source": [
        "output['label'].value_counts()"
      ]
    },
    {
      "cell_type": "code",
      "execution_count": null,
      "metadata": {
        "id": "C7Q1gIuSeeP-"
      },
      "outputs": [],
      "source": [
        "output.to_csv('Mean_TXT_IMG.csv', index=False)"
      ]
    },
    {
      "cell_type": "code",
      "execution_count": null,
      "metadata": {
        "id": "-cclBovXeeP_",
        "outputId": "d5ad1e75-bfe6-4b0c-d5dc-5b87a4060417"
      },
      "outputs": [
        {
          "data": {
            "text/plain": [
              "48"
            ]
          },
          "execution_count": 100,
          "metadata": {},
          "output_type": "execute_result"
        }
      ],
      "source": [
        "a = pd.read_csv('DLOutputLayer.XGBOOST.csv')\n",
        "b = pd.read_csv('Mean_TXT_IMG.csv')\n",
        "sum([x != y for x, y in zip(a['label'], b['label'])])"
      ]
    },
    {
      "cell_type": "markdown",
      "metadata": {
        "id": "-1lqkPXfeeP_"
      },
      "source": [
        "##### Prediction Ensembling"
      ]
    },
    {
      "cell_type": "code",
      "execution_count": null,
      "metadata": {
        "id": "q2smYnLUeeP_",
        "outputId": "cba17c7e-851b-47db-dfeb-66d9317373c3"
      },
      "outputs": [
        {
          "data": {
            "text/html": [
              "<style>#sk-container-id-4 {color: black;background-color: white;}#sk-container-id-4 pre{padding: 0;}#sk-container-id-4 div.sk-toggleable {background-color: white;}#sk-container-id-4 label.sk-toggleable__label {cursor: pointer;display: block;width: 100%;margin-bottom: 0;padding: 0.3em;box-sizing: border-box;text-align: center;}#sk-container-id-4 label.sk-toggleable__label-arrow:before {content: \"▸\";float: left;margin-right: 0.25em;color: #696969;}#sk-container-id-4 label.sk-toggleable__label-arrow:hover:before {color: black;}#sk-container-id-4 div.sk-estimator:hover label.sk-toggleable__label-arrow:before {color: black;}#sk-container-id-4 div.sk-toggleable__content {max-height: 0;max-width: 0;overflow: hidden;text-align: left;background-color: #f0f8ff;}#sk-container-id-4 div.sk-toggleable__content pre {margin: 0.2em;color: black;border-radius: 0.25em;background-color: #f0f8ff;}#sk-container-id-4 input.sk-toggleable__control:checked~div.sk-toggleable__content {max-height: 200px;max-width: 100%;overflow: auto;}#sk-container-id-4 input.sk-toggleable__control:checked~label.sk-toggleable__label-arrow:before {content: \"▾\";}#sk-container-id-4 div.sk-estimator input.sk-toggleable__control:checked~label.sk-toggleable__label {background-color: #d4ebff;}#sk-container-id-4 div.sk-label input.sk-toggleable__control:checked~label.sk-toggleable__label {background-color: #d4ebff;}#sk-container-id-4 input.sk-hidden--visually {border: 0;clip: rect(1px 1px 1px 1px);clip: rect(1px, 1px, 1px, 1px);height: 1px;margin: -1px;overflow: hidden;padding: 0;position: absolute;width: 1px;}#sk-container-id-4 div.sk-estimator {font-family: monospace;background-color: #f0f8ff;border: 1px dotted black;border-radius: 0.25em;box-sizing: border-box;margin-bottom: 0.5em;}#sk-container-id-4 div.sk-estimator:hover {background-color: #d4ebff;}#sk-container-id-4 div.sk-parallel-item::after {content: \"\";width: 100%;border-bottom: 1px solid gray;flex-grow: 1;}#sk-container-id-4 div.sk-label:hover label.sk-toggleable__label {background-color: #d4ebff;}#sk-container-id-4 div.sk-serial::before {content: \"\";position: absolute;border-left: 1px solid gray;box-sizing: border-box;top: 0;bottom: 0;left: 50%;z-index: 0;}#sk-container-id-4 div.sk-serial {display: flex;flex-direction: column;align-items: center;background-color: white;padding-right: 0.2em;padding-left: 0.2em;position: relative;}#sk-container-id-4 div.sk-item {position: relative;z-index: 1;}#sk-container-id-4 div.sk-parallel {display: flex;align-items: stretch;justify-content: center;background-color: white;position: relative;}#sk-container-id-4 div.sk-item::before, #sk-container-id-4 div.sk-parallel-item::before {content: \"\";position: absolute;border-left: 1px solid gray;box-sizing: border-box;top: 0;bottom: 0;left: 50%;z-index: -1;}#sk-container-id-4 div.sk-parallel-item {display: flex;flex-direction: column;z-index: 1;position: relative;background-color: white;}#sk-container-id-4 div.sk-parallel-item:first-child::after {align-self: flex-end;width: 50%;}#sk-container-id-4 div.sk-parallel-item:last-child::after {align-self: flex-start;width: 50%;}#sk-container-id-4 div.sk-parallel-item:only-child::after {width: 0;}#sk-container-id-4 div.sk-dashed-wrapped {border: 1px dashed gray;margin: 0 0.4em 0.5em 0.4em;box-sizing: border-box;padding-bottom: 0.4em;background-color: white;}#sk-container-id-4 div.sk-label label {font-family: monospace;font-weight: bold;display: inline-block;line-height: 1.2em;}#sk-container-id-4 div.sk-label-container {text-align: center;}#sk-container-id-4 div.sk-container {/* jupyter's `normalize.less` sets `[hidden] { display: none; }` but bootstrap.min.css set `[hidden] { display: none !important; }` so we also need the `!important` here to be able to override the default hidden behavior on the sphinx rendered scikit-learn.org. See: https://github.com/scikit-learn/scikit-learn/issues/21755 */display: inline-block !important;position: relative;}#sk-container-id-4 div.sk-text-repr-fallback {display: none;}</style><div id=\"sk-container-id-4\" class=\"sk-top-container\"><div class=\"sk-text-repr-fallback\"><pre>XGBClassifier(base_score=0.5, booster=&#x27;gbtree&#x27;, callbacks=None,\n",
              "              colsample_bylevel=1, colsample_bynode=1, colsample_bytree=1,\n",
              "              early_stopping_rounds=None, enable_categorical=False,\n",
              "              eval_metric=None, gamma=0, gpu_id=0, grow_policy=&#x27;depthwise&#x27;,\n",
              "              importance_type=None, interaction_constraints=&#x27;&#x27;,\n",
              "              learning_rate=0.300000012, max_bin=256, max_cat_to_onehot=4,\n",
              "              max_delta_step=0, max_depth=6, max_leaves=0, min_child_weight=1,\n",
              "              missing=nan, monotone_constraints=&#x27;()&#x27;, n_estimators=10000,\n",
              "              n_jobs=0, num_parallel_tree=1, predictor=&#x27;auto&#x27;, random_state=0,\n",
              "              reg_alpha=0, reg_lambda=1, ...)</pre><b>In a Jupyter environment, please rerun this cell to show the HTML representation or trust the notebook. <br />On GitHub, the HTML representation is unable to render, please try loading this page with nbviewer.org.</b></div><div class=\"sk-container\" hidden><div class=\"sk-item\"><div class=\"sk-estimator sk-toggleable\"><input class=\"sk-toggleable__control sk-hidden--visually\" id=\"sk-estimator-id-4\" type=\"checkbox\" checked><label for=\"sk-estimator-id-4\" class=\"sk-toggleable__label sk-toggleable__label-arrow\">XGBClassifier</label><div class=\"sk-toggleable__content\"><pre>XGBClassifier(base_score=0.5, booster=&#x27;gbtree&#x27;, callbacks=None,\n",
              "              colsample_bylevel=1, colsample_bynode=1, colsample_bytree=1,\n",
              "              early_stopping_rounds=None, enable_categorical=False,\n",
              "              eval_metric=None, gamma=0, gpu_id=0, grow_policy=&#x27;depthwise&#x27;,\n",
              "              importance_type=None, interaction_constraints=&#x27;&#x27;,\n",
              "              learning_rate=0.300000012, max_bin=256, max_cat_to_onehot=4,\n",
              "              max_delta_step=0, max_depth=6, max_leaves=0, min_child_weight=1,\n",
              "              missing=nan, monotone_constraints=&#x27;()&#x27;, n_estimators=10000,\n",
              "              n_jobs=0, num_parallel_tree=1, predictor=&#x27;auto&#x27;, random_state=0,\n",
              "              reg_alpha=0, reg_lambda=1, ...)</pre></div></div></div></div></div>"
            ],
            "text/plain": [
              "XGBClassifier(base_score=0.5, booster='gbtree', callbacks=None,\n",
              "              colsample_bylevel=1, colsample_bynode=1, colsample_bytree=1,\n",
              "              early_stopping_rounds=None, enable_categorical=False,\n",
              "              eval_metric=None, gamma=0, gpu_id=0, grow_policy='depthwise',\n",
              "              importance_type=None, interaction_constraints='',\n",
              "              learning_rate=0.300000012, max_bin=256, max_cat_to_onehot=4,\n",
              "              max_delta_step=0, max_depth=6, max_leaves=0, min_child_weight=1,\n",
              "              missing=nan, monotone_constraints='()', n_estimators=10000,\n",
              "              n_jobs=0, num_parallel_tree=1, predictor='auto', random_state=0,\n",
              "              reg_alpha=0, reg_lambda=1, ...)"
            ]
          },
          "execution_count": 131,
          "metadata": {},
          "output_type": "execute_result"
        }
      ],
      "source": [
        "# img_model = models.load_model('models/modelb2_400 .5 200 .5.h5')\n",
        "# txt_model = models.load_model('models/modelbert450 .5.h5', custom_objects={'TFBertModel':TFBertModel})\n",
        "\n",
        "tbr_train, test_tbr, _ = get_tabular_dataset()\n",
        "train_img, test_img = pd.read_csv('checkpoints/train_feature_img.csv'), pd.read_csv('checkpoints/test_feature_img.csv')\n",
        "train_txt, test_txt = pd.read_csv('checkpoints/train_feature_txt.csv'), pd.read_csv('checkpoints/test_feature_txt.csv')\n",
        "\n",
        "train_tbr_x, val_tbr_x, train_img_x, val_img_x, train_txt_x, val_txt_x, train_y, val_y = train_test_split(tbr_train, train_img, train_txt, target)\n",
        "\n",
        "from xgboost import XGBClassifier\n",
        "model = XGBClassifier(\n",
        "    n_estimators = 10000,\n",
        "    tree_method = 'gpu_hist'\n",
        ")\n",
        "train_concated = pd.concat([train_tbr_x, train_img_x, train_txt_x], axis=1)\n",
        "val_concated = pd.concat([val_tbr_x, val_img_x, val_txt_x], axis=1)\n",
        "model.fit(train_concated, train_y)"
      ]
    },
    {
      "cell_type": "code",
      "execution_count": null,
      "metadata": {
        "id": "KEgyC6_neeP_",
        "outputId": "c7a36961-0b27-4117-803c-38f3e8016bf7"
      },
      "outputs": [
        {
          "data": {
            "text/plain": [
              "0.9382716049382716"
            ]
          },
          "execution_count": 148,
          "metadata": {},
          "output_type": "execute_result"
        }
      ],
      "source": [
        "skMetrics.f1_score(val_y, model.predict(val_concated))"
      ]
    },
    {
      "cell_type": "code",
      "execution_count": null,
      "metadata": {
        "id": "Kzx5s6ybeeQA"
      },
      "outputs": [],
      "source": [
        "pred = model.predict(pd.concat([test_tbr, test_img, test_txt], axis=1))"
      ]
    },
    {
      "cell_type": "code",
      "execution_count": null,
      "metadata": {
        "id": "fgzFGXFBeeQA",
        "outputId": "9891776f-005a-490c-b121-55ceaa509334"
      },
      "outputs": [
        {
          "data": {
            "text/html": [
              "<div>\n",
              "<style scoped>\n",
              "    .dataframe tbody tr th:only-of-type {\n",
              "        vertical-align: middle;\n",
              "    }\n",
              "\n",
              "    .dataframe tbody tr th {\n",
              "        vertical-align: top;\n",
              "    }\n",
              "\n",
              "    .dataframe thead th {\n",
              "        text-align: right;\n",
              "    }\n",
              "</style>\n",
              "<table border=\"1\" class=\"dataframe\">\n",
              "  <thead>\n",
              "    <tr style=\"text-align: right;\">\n",
              "      <th></th>\n",
              "      <th>id</th>\n",
              "      <th>label</th>\n",
              "    </tr>\n",
              "  </thead>\n",
              "  <tbody>\n",
              "    <tr>\n",
              "      <th>0</th>\n",
              "      <td>1213309429254250496</td>\n",
              "      <td>0</td>\n",
              "    </tr>\n",
              "    <tr>\n",
              "      <th>1</th>\n",
              "      <td>1216196702647939072</td>\n",
              "      <td>0</td>\n",
              "    </tr>\n",
              "    <tr>\n",
              "      <th>2</th>\n",
              "      <td>1216296533735309312</td>\n",
              "      <td>0</td>\n",
              "    </tr>\n",
              "    <tr>\n",
              "      <th>3</th>\n",
              "      <td>1234385081482956800</td>\n",
              "      <td>0</td>\n",
              "    </tr>\n",
              "    <tr>\n",
              "      <th>4</th>\n",
              "      <td>1214853229567041537</td>\n",
              "      <td>0</td>\n",
              "    </tr>\n",
              "    <tr>\n",
              "      <th>...</th>\n",
              "      <td>...</td>\n",
              "      <td>...</td>\n",
              "    </tr>\n",
              "    <tr>\n",
              "      <th>1006</th>\n",
              "      <td>1212371781350084608</td>\n",
              "      <td>0</td>\n",
              "    </tr>\n",
              "    <tr>\n",
              "      <th>1007</th>\n",
              "      <td>1232075152042541056</td>\n",
              "      <td>1</td>\n",
              "    </tr>\n",
              "    <tr>\n",
              "      <th>1008</th>\n",
              "      <td>1213315563595845633</td>\n",
              "      <td>0</td>\n",
              "    </tr>\n",
              "    <tr>\n",
              "      <th>1009</th>\n",
              "      <td>1212970781610663936</td>\n",
              "      <td>0</td>\n",
              "    </tr>\n",
              "    <tr>\n",
              "      <th>1010</th>\n",
              "      <td>1231973813132365825</td>\n",
              "      <td>0</td>\n",
              "    </tr>\n",
              "  </tbody>\n",
              "</table>\n",
              "<p>1011 rows × 2 columns</p>\n",
              "</div>"
            ],
            "text/plain": [
              "                       id  label\n",
              "0     1213309429254250496      0\n",
              "1     1216196702647939072      0\n",
              "2     1216296533735309312      0\n",
              "3     1234385081482956800      0\n",
              "4     1214853229567041537      0\n",
              "...                   ...    ...\n",
              "1006  1212371781350084608      0\n",
              "1007  1232075152042541056      1\n",
              "1008  1213315563595845633      0\n",
              "1009  1212970781610663936      0\n",
              "1010  1231973813132365825      0\n",
              "\n",
              "[1011 rows x 2 columns]"
            ]
          },
          "execution_count": 141,
          "metadata": {},
          "output_type": "execute_result"
        }
      ],
      "source": [
        "output = pd.DataFrame()\n",
        "output['id'] = test.id\n",
        "output['label'] = pred\n",
        "output"
      ]
    },
    {
      "cell_type": "code",
      "execution_count": null,
      "metadata": {
        "id": "hLvOCv3eeeQA"
      },
      "outputs": [],
      "source": [
        "# output.to_csv('DLOutputLayer.XGBOOST.csv', index=False)"
      ]
    },
    {
      "cell_type": "markdown",
      "metadata": {
        "id": "pTBO_LQteeQA"
      },
      "source": [
        "##### Last Layer to Machine Learning"
      ]
    },
    {
      "cell_type": "code",
      "execution_count": null,
      "metadata": {
        "id": "rYeAeyfEeeQA"
      },
      "outputs": [],
      "source": [
        "# # Image Model Feature\n",
        "# img_model = models.load_model('models/modelb2_400 .5 200 .5.h5')\n",
        "# img_model_feature_extracter = keras.Model(inputs=img_model.input, outputs=img_model.layers[-2].output)\n",
        "\n",
        "# # GPU MEMORY LIMIT\n",
        "# # BATCHING PREDICTION TECHNIQUE REQUIRED\n",
        "# train_img, test_img, target = get_image_dataset()\n",
        "# train_feature_img = {}\n",
        "# for index, img in enumerate(tqdm(train_img)):\n",
        "#     nw_feature = img_model_feature_extracter(img.reshape(1, 260, 260, 3))\n",
        "#     for num, feature in enumerate(tf.squeeze(nw_feature)):\n",
        "#         if index == 0:\n",
        "#             train_feature_img[f\"img_{num}\"] = []\n",
        "#         train_feature_img[f\"img_{num}\"].append(np.array(feature))\n",
        "\n",
        "# test_feature_img = {}\n",
        "# for index, img in enumerate(tqdm(test_img)):\n",
        "#     nw_feature = img_model_feature_extracter(img.reshape(1, 260, 260, 3))\n",
        "#     for num, feature in enumerate(tf.squeeze(nw_feature)):\n",
        "#         if index == 0:\n",
        "#             test_feature_img[f\"img_{num}\"] = []\n",
        "#         test_feature_img[f\"img_{num}\"].append(np.array(feature))\n",
        "\n",
        "# train_feature_img = pd.DataFrame(train_feature_img)\n",
        "# test_feature_img = pd.DataFrame(test_feature_img)\n",
        "# train_feature_img.to_csv('checkpoints/train_feature_img.csv', index=False)\n",
        "# test_feature_img.to_csv('checkpoints/test_feature_img.csv', index=False)"
      ]
    },
    {
      "cell_type": "code",
      "execution_count": null,
      "metadata": {
        "id": "wsqmubNteeQA",
        "outputId": "c8e35a56-0b83-4c7c-beaa-84fbe07d10e3"
      },
      "outputs": [
        {
          "name": "stdout",
          "output_type": "stream",
          "text": [
            "WARNING:tensorflow:Error in loading the saved optimizer state. As a result, your model is starting with a freshly initialized optimizer.\n"
          ]
        },
        {
          "name": "stderr",
          "output_type": "stream",
          "text": [
            "100%|██████████| 1518/1518 [06:44<00:00,  3.75it/s]\n",
            "100%|██████████| 1011/1011 [04:24<00:00,  3.82it/s]\n"
          ]
        }
      ],
      "source": [
        "# # Text Model Feature\n",
        "# txt_model = models.load_model('models/modelbert450 .5.h5', custom_objects={'f1_score':f1_score, 'TFBertModel':TFBertModel})\n",
        "# txt_model_feature_extracter = keras.Model(inputs=txt_model.input, outputs=txt_model.layers[-2].output)\n",
        "\n",
        "# # GPU MEMORY LIMIT\n",
        "# # BATCHING PREDICTION TECHNIQUE REQUIRED\n",
        "# train_txt, test_txt, target = get_text_dataset()\n",
        "\n",
        "# train_feature_txt = {}\n",
        "# for index, text in enumerate(tqdm(train_txt)):\n",
        "#     ids, ams, msk = bert_tokenize(list([text]))\n",
        "#     nw_feature = txt_model_feature_extracter([ids, ams, msk])\n",
        "#     for num, feature in enumerate(tf.squeeze(nw_feature)):\n",
        "#         if index == 0:\n",
        "#             train_feature_txt[f\"txt_{num}\"] = []\n",
        "#         train_feature_txt[f\"txt_{num}\"].append(np.array(feature))\n",
        "\n",
        "# test_feature_txt = {}\n",
        "# for index, text in enumerate(tqdm(test_txt)):\n",
        "#     ids, ams, msk = bert_tokenize(list([text]))\n",
        "#     nw_feature = txt_model_feature_extracter([ids, ams, msk])\n",
        "#     for num, feature in enumerate(tf.squeeze(nw_feature)):\n",
        "#         if index == 0:\n",
        "#             test_feature_txt[f\"txt_{num}\"] = []\n",
        "#         test_feature_txt[f\"txt_{num}\"].append(np.array(feature))\n",
        "\n",
        "# train_feature_txt = pd.DataFrame(train_feature_txt)\n",
        "# test_feature_txt = pd.DataFrame(test_feature_txt)\n",
        "# train_feature_txt.to_csv('checkpoints/train_feature_txt.csv', index=False)\n",
        "# test_feature_txt.to_csv('checkpoints/test_feature_txt.csv', index=False)"
      ]
    },
    {
      "cell_type": "code",
      "execution_count": null,
      "metadata": {
        "id": "X1oQ7RrHwaDX"
      },
      "outputs": [],
      "source": [
        "pred = model.predict(pd.concat([test_tbr, test_img, test_txt], axis=1))\n",
        "output = pd.DataFrame()\n",
        "output['id'] = test.id\n",
        "output['label'] = pred\n",
        "output"
      ]
    },
    {
      "cell_type": "code",
      "execution_count": null,
      "metadata": {
        "id": "UMz-D5PswaDZ",
        "outputId": "0769a4fd-a65a-40e7-a3a0-fd146c2fa52a"
      },
      "outputs": [
        {
          "data": {
            "text/plain": [
              "0    831\n",
              "1    180\n",
              "Name: label, dtype: int64"
            ]
          },
          "execution_count": 96,
          "metadata": {},
          "output_type": "execute_result"
        }
      ],
      "source": [
        "output['label'].value_counts()"
      ]
    },
    {
      "cell_type": "code",
      "execution_count": null,
      "metadata": {
        "id": "EN0vCSApwaDa"
      },
      "outputs": [],
      "source": [
        "output.to_csv('Mean_TXT_IMG.csv', index=False)"
      ]
    }
  ],
  "metadata": {
    "accelerator": "GPU",
    "colab": {
      "machine_shape": "hm",
      "provenance": []
    },
    "gpuClass": "premium",
    "kernelspec": {
      "display_name": "Python 3.10.7 64-bit",
      "language": "python",
      "name": "python3"
    },
    "language_info": {
      "codemirror_mode": {
        "name": "ipython",
        "version": 3
      },
      "file_extension": ".py",
      "mimetype": "text/x-python",
      "name": "python",
      "nbconvert_exporter": "python",
      "pygments_lexer": "ipython3",
      "version": "3.10.7"
    },
    "orig_nbformat": 4,
    "vscode": {
      "interpreter": {
        "hash": "26de051ba29f2982a8de78e945f0abaf191376122a1563185a90213a26c5da77"
      }
    }
  },
  "nbformat": 4,
  "nbformat_minor": 0
}
