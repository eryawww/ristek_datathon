{
  "cells": [
    {
      "cell_type": "code",
      "execution_count": 1,
      "metadata": {
        "colab": {
          "base_uri": "https://localhost:8080/"
        },
        "id": "78X9EeF4yuTA",
        "outputId": "630d172f-c0c9-4567-ae30-4e2c1be3950a"
      },
      "outputs": [],
      "source": [
        "import os\n",
        "from termcolor import colored\n",
        "from tqdm import tqdm\n",
        "import warnings\n",
        "from IPython.display import clear_output\n",
        "warnings.filterwarnings(\"ignore\", category=DeprecationWarning) \n",
        "\n",
        "import pandas as pd\n",
        "import random\n",
        "import numpy as np\n",
        "import seaborn as sns\n",
        "import matplotlib.pyplot as plt\n",
        "\n",
        "import cv2\n",
        "\n",
        "import re\n",
        "import emoji\n",
        "from nlp_id import Lemmatizer, StopWord\n",
        "import string\n",
        "\n",
        "from sklearn.model_selection import train_test_split\n",
        "\n",
        "import tensorflow as tf\n",
        "import tensorflow_addons as tfa\n",
        "import keras.backend as K\n",
        "\n",
        "from transformers import TFBertModel\n",
        "from transformers import AutoTokenizer\n",
        "\n",
        "import sys\n",
        "IN_COLAB = 'google.colab' in sys.modules\n",
        "if IN_COLAB:\n",
        "  from google.colab import drive\n",
        "  drive.mount('/content/drive', force_remount=True)\n",
        "\n",
        "RUN_OPTIONAL_CELLS = True"
      ]
    },
    {
      "cell_type": "code",
      "execution_count": 2,
      "metadata": {
        "id": "tUrWQEtuzba8"
      },
      "outputs": [],
      "source": [
        "def get_path(path:str):\n",
        "  '''\n",
        "  Dynamic Path Finding for cloud and local computing\n",
        "  '''\n",
        "  CLOUD_PATH = '/content/drive/MyDrive/Cloud Computing Data/datathon_2022/'\n",
        "  if IN_COLAB:\n",
        "    return (CLOUD_PATH+path).replace('//', '/')\n",
        "  return path\n",
        "    "
      ]
    },
    {
      "cell_type": "code",
      "execution_count": 3,
      "metadata": {
        "id": "BAtxCxdpyuTB"
      },
      "outputs": [],
      "source": [
        "train = pd.read_csv(get_path('data/train.csv'), parse_dates=['created_at'])\n",
        "test = pd.read_csv(get_path('data/test.csv'), parse_dates=['created_at'])\n",
        "target = pd.DataFrame({'label': train['label'].values})\n",
        "DROP = ['url', 'user_id']"
      ]
    },
    {
      "cell_type": "markdown",
      "metadata": {
        "id": "tVsrz6SPyuTC"
      },
      "source": [
        "# Image Data"
      ]
    },
    {
      "cell_type": "code",
      "execution_count": 4,
      "metadata": {
        "id": "mPWrL_b3yuTD"
      },
      "outputs": [],
      "source": [
        "IMG_SHAPE = (260, 260, 3)\n",
        "IMG_SOURCE = ['external', 'native'] # native, external, external_2"
      ]
    },
    {
      "cell_type": "code",
      "execution_count": 5,
      "metadata": {
        "id": "erubofOhyuTE"
      },
      "outputs": [],
      "source": [
        "def _load_img(file_path:str):\n",
        "    \"\"\"\n",
        "        convert file_path to numpy array image with shape: globals()['IMG_SHAPE']\n",
        "        param:\n",
        "            file_path: .csv or folder path of a image\n",
        "    \"\"\"\n",
        "    if file_path.endswith('.csv'):\n",
        "        data = pd.read_csv(file_path)\n",
        "        img_arr = None\n",
        "        for inx, row in tqdm(data.iterrows(), total=len(data)):\n",
        "            nw_img_path = row['media']\n",
        "            if img_arr is None:\n",
        "                img_arr = cv2.resize(cv2.cvtColor(cv2.imread(f'{get_path(\"data/media/\"+nw_img_path)}'), cv2.COLOR_RGB2BGR), IMG_SHAPE[:-1]).reshape(1, *IMG_SHAPE)\n",
        "            else:\n",
        "                img_arr = np.vstack([img_arr, cv2.resize(cv2.cvtColor(cv2.imread(f'{get_path(\"data/media/\"+nw_img_path)}'), cv2.COLOR_RGB2BGR), IMG_SHAPE[:-1]).reshape(1, *IMG_SHAPE)])\n",
        "        return img_arr\n",
        "    else:\n",
        "        img_arr = None\n",
        "        for current_file in os.listdir(file_path):\n",
        "            if not current_file.endswith('.jpg'):\n",
        "                continue\n",
        "            nw_img_path = os.path.join(file_path, current_file)\n",
        "            if img_arr is None:\n",
        "                img_arr = cv2.resize(cv2.cvtColor(cv2.imread(f'{get_path(\"data/media/\"+nw_img_path)}'), cv2.COLOR_RGB2BGR), IMG_SHAPE[:-1]).reshape(1, *IMG_SHAPE)\n",
        "            else:\n",
        "                img_arr = np.vstack([img_arr, cv2.resize(cv2.cvtColor(cv2.imread(f'{get_path(\"data/media/\"+nw_img_path)}'), cv2.COLOR_RGB2BGR), IMG_SHAPE[:-1]).reshape(1, *IMG_SHAPE)])\n",
        "        return img_arr"
      ]
    },
    {
      "cell_type": "markdown",
      "metadata": {
        "id": "hTPdDv1ByuTF"
      },
      "source": [
        "## Internal Data"
      ]
    },
    {
      "cell_type": "markdown",
      "metadata": {},
      "source": [
        "## Tabular"
      ]
    },
    {
      "cell_type": "code",
      "execution_count": 6,
      "metadata": {},
      "outputs": [],
      "source": [
        "def get_date_feature(df:pd.DataFrame, col:str) -> pd.DataFrame:\n",
        "    df['year'] = df[col].dt.year\n",
        "    df['month'] = df[col].dt.month\n",
        "    df['week'] = np.int32(df[col].dt.isocalendar().week)\n",
        "    df['weekday'] = df[col].dt.weekday\n",
        "    df['quarter'] = df[col].dt.quarter\n",
        "    df['day_of_year'] = df[col].dt.day_of_year\n",
        "    df['day'] = df[col].dt.day\n",
        "    df['day_of_week'] = df[col].dt.day_of_week\n",
        "    return df"
      ]
    },
    {
      "cell_type": "markdown",
      "metadata": {},
      "source": [
        "## Image"
      ]
    },
    {
      "cell_type": "code",
      "execution_count": 7,
      "metadata": {
        "id": "TK8SMaKayuTF"
      },
      "outputs": [],
      "source": [
        "def get_image_dataset() -> tuple[np.ndarray, np.ndarray, pd.DataFrame]:\n",
        "    \"\"\"\n",
        "        get original image dataset\n",
        "        return:\n",
        "            train_img\n",
        "            test_img\n",
        "            target\n",
        "    \"\"\"\n",
        "    target = pd.read_csv(get_path(f'checkpoints/img_arr_(600, 600, 3)_target.csv'))\n",
        "    file_name = get_path(f'checkpoints/img_arr_{IMG_SHAPE}')\n",
        "    if os.path.exists(file_name+'.npy'):\n",
        "        train_img = np.load(file_name+'.npy')\n",
        "    else:\n",
        "        train_img = _load_img(get_path('data/train.csv'))\n",
        "        np.save(file_name, train_img)\n",
        "    \n",
        "    test_name = get_path(f'checkpoints/test_img_arr_{IMG_SHAPE}')\n",
        "    if os.path.exists(test_name+'.npy'):\n",
        "        test_img = np.load(test_name+'.npy')\n",
        "    else:\n",
        "        test_img = _load_img(get_path('data/test.csv'))\n",
        "        np.save(test_name, test_img)\n",
        "    return train_img, test_img, target\n",
        "\n",
        "def get_oversampled_train_image_dataset(test_split_ratio:float = 0.2) -> tuple[np.ndarray, pd.DataFrame]:\n",
        "    \"\"\"\n",
        "        return oversampled training data with validation split that avoid data leakage\n",
        "        return\n",
        "            train_x, val_x, train_y, val_y\n",
        "    \"\"\"\n",
        "    train_img, test_img, target = get_image_dataset()\n",
        "\n",
        "    train_x, val_x, train_y, val_y = train_test_split(train_img, target, test_size=test_split_ratio)\n",
        "    \n",
        "    pos_features = train_x[train_y['label'] == 1]\n",
        "    neg_features = train_x[~(train_y['label'] == 1)]\n",
        "\n",
        "    pos_labels = train_y[train_y['label'] == 1]\n",
        "    neg_labels = train_y[train_y['label'] == 0]\n",
        "\n",
        "    assert len(pos_features)+len(neg_features) == len(pos_labels)+len(neg_labels)\n",
        "\n",
        "    nw_features = pos_features[:]\n",
        "    nw_labels = pos_labels.copy(deep=True)\n",
        "\n",
        "    train_img = np.concatenate([pos_features, neg_features, nw_features, nw_features])\n",
        "    target = pd.concat([pos_labels, neg_labels, nw_labels, nw_labels], axis=0)\n",
        "    assert len(train_img) == len(target)\n",
        "    return train_img, val_x, target, val_y"
      ]
    },
    {
      "cell_type": "markdown",
      "metadata": {},
      "source": [
        "## Text"
      ]
    },
    {
      "cell_type": "code",
      "execution_count": 8,
      "metadata": {},
      "outputs": [],
      "source": [
        "MAX_WORD = 50"
      ]
    },
    {
      "cell_type": "markdown",
      "metadata": {},
      "source": [
        "### Tokenization"
      ]
    },
    {
      "cell_type": "code",
      "execution_count": 9,
      "metadata": {},
      "outputs": [],
      "source": [
        "emoticons_str = r\"\"\"\n",
        "    (?:\n",
        "        [:=;] # Eyes\n",
        "        [oO\\-]? # Nose (optional)\n",
        "        [D\\)\\]\\(\\]/\\\\OpP] # Mouth\n",
        "    )\"\"\"\n",
        "\n",
        "regex_str = []\n",
        "regex_str.append(emoticons_str)\n",
        "regex_str.append(r'<[^>]+>') # HTML tags\n",
        "regex_str.append(r'(?:@[\\w_]+)') # @-mentions\n",
        "regex_str.append(r'(?:&[\\w_]+)')\n",
        "regex_str.append(r\"(?:\\#+[\\w_]+[\\w\\'_\\-]*[\\w_]+)\") # hash-tags\n",
        "regex_str.append(r'http[s]?://(?:[a-z]|[0-9]|[$-_@.&amp;+]|[!*\\(\\),]|(?:%[0-9a-f][0-9a-f]))+') # URLs\n",
        "regex_str.append(r'(?:(?:\\d+,?)+(?:\\.?\\d+)?)') # numbers\n",
        "regex_str.append(r\"(?:[a-z][a-z'\\-_]+[a-z])\") # words with - and '\n",
        "regex_str.append(r'(?:[\\w_]+)') # other words\n",
        "regex_str.append(r'(?:\\S)') # anything else\n",
        "\n",
        "tokens_re = re.compile(r'('+'|'.join(regex_str)+')', re.VERBOSE | re.IGNORECASE)\n",
        "emoticon_re = re.compile(r'^'+emoticons_str+'$', re.VERBOSE | re.IGNORECASE)\n",
        "\n",
        "def tokenize(sentence):\n",
        "    return [emoji.demojize(term) for term in tokens_re.findall(sentence)]"
      ]
    },
    {
      "cell_type": "markdown",
      "metadata": {},
      "source": [
        "### Stopwords and Lemmatisation"
      ]
    },
    {
      "cell_type": "code",
      "execution_count": 10,
      "metadata": {},
      "outputs": [],
      "source": [
        "lemmatizer = Lemmatizer()\n",
        "stopword = StopWord()\n",
        "\n",
        "punctuation = list(string.punctuation)\n",
        "stops = stopword.get_stopword() + punctuation + ['rt', 'via', '…','•','“']\n",
        "\n",
        "def stopwords_and_lemmatize(tokenized_sentence):\n",
        "  processed_words = []\n",
        "  for word in tokenized_sentence:\n",
        "    if word.lower() not in stops:\n",
        "      processed_words.append(lemmatizer.lemmatize(word))\n",
        "  return processed_words"
      ]
    },
    {
      "cell_type": "markdown",
      "metadata": {},
      "source": [
        "### Final Pipeline"
      ]
    },
    {
      "cell_type": "code",
      "execution_count": 11,
      "metadata": {},
      "outputs": [],
      "source": [
        "def preprocess_text(sentence):\n",
        "    return stopwords_and_lemmatize(tokenize(sentence))"
      ]
    },
    {
      "cell_type": "code",
      "execution_count": 12,
      "metadata": {},
      "outputs": [],
      "source": [
        "def get_vtext_dataset() -> tuple[np.ndarray, np.ndarray, pd.DataFrame]:\n",
        "    raise NotImplementedError\n",
        "    \"\"\"\n",
        "        get original text dataset\n",
        "        return:\n",
        "            train_vtext\n",
        "            test_vtext\n",
        "            target\n",
        "    \"\"\"\n",
        "    from gensim.models.fasttext import load_facebook_model\n",
        "    ft = load_facebook_model('pretrained/fastText/cc.id.300.bin')\n",
        "\n",
        "    target = pd.read_csv(get_path(f'checkpoints/img_arr_(600, 600, 3)_target.csv'))\n",
        "    file_name = get_path(f'checkpoints/text_vtext_{IMG_SHAPE}')\n",
        "    if os.path.exists(file_name+'.npy'):\n",
        "        train_text = np.load(file_name+'.npy')\n",
        "    else:\n",
        "        train_text = None\n",
        "        for inx, row in train.iterrows():\n",
        "            # Continue\n",
        "            if train_text is None:\n",
        "                train_text = np.array(preprocess_text(row['text']))\n",
        "            else:\n",
        "                pass\n",
        "            np.save(file_name, img_arr)\n",
        "    \n",
        "    test_name = get_path(f'checkpoints/test_img_arr_{IMG_SHAPE}')\n",
        "    if os.path.exists(test_name+'.npy'):\n",
        "        test_img_arr = np.load(test_name+'.npy')\n",
        "    else:\n",
        "        test_img_arr = _load_img(get_path('data/test.csv'))\n",
        "        np.save(test_name, test_img_arr)\n",
        "    return img_arr, test_img_arr, target\n",
        "\n",
        "def get_text_dataset() -> tuple[np.ndarray, np.ndarray, pd.DataFrame]:\n",
        "    return train['text'].copy(), test['text'].copy(), target.copy()"
      ]
    },
    {
      "cell_type": "markdown",
      "metadata": {
        "id": "63EomNjRyuTF"
      },
      "source": [
        "## External Data"
      ]
    },
    {
      "cell_type": "code",
      "execution_count": 13,
      "metadata": {
        "id": "g0_MkAsfyuTH"
      },
      "outputs": [],
      "source": [
        "pass\n",
        "if 'external' in IMG_SOURCE:\n",
        "    pass"
      ]
    },
    {
      "cell_type": "markdown",
      "metadata": {},
      "source": [
        "# Metrics and Template"
      ]
    },
    {
      "cell_type": "code",
      "execution_count": 14,
      "metadata": {},
      "outputs": [],
      "source": [
        "def f1_score(y_true, y_pred):\n",
        "    true_positives = K.sum(K.round(K.clip(y_true * y_pred, 0, 1)))\n",
        "    possible_positives = K.sum(K.round(K.clip(y_true, 0, 1)))\n",
        "    predicted_positives = K.sum(K.round(K.clip(y_pred, 0, 1)))\n",
        "    precision = true_positives / (predicted_positives + K.epsilon())\n",
        "    recall = true_positives / (possible_positives + K.epsilon())\n",
        "    return 2 * (precision * recall) / (precision+recall + K.epsilon())"
      ]
    },
    {
      "cell_type": "markdown",
      "metadata": {
        "id": "XtoA6PbeyuTJ"
      },
      "source": [
        "# Modelling"
      ]
    },
    {
      "cell_type": "code",
      "execution_count": 15,
      "metadata": {
        "id": "arq-6rIeyuTJ"
      },
      "outputs": [],
      "source": [
        "import tensorflow as tf\n",
        "import keras\n",
        "from keras import layers, activations, losses, optimizers, initializers, regularizers, metrics, Input, models\n",
        "import sklearn.metrics as skMetrics\n",
        "from sklearn.model_selection import train_test_split\n",
        "\n",
        "def plot_hist(hist):\n",
        "    fig = plt.figure()\n",
        "    fig.add_subplot(1, 2, 1)\n",
        "    plt.plot(hist.history['acc'], label = 'train')\n",
        "    plt.plot(hist.history['val_acc'], label = 'validation')\n",
        "    plt.xlabel('acc')\n",
        "    plt.legend()\n",
        "    fig.add_subplot(1, 2, 2)\n",
        "    plt.plot(hist.history['mae'], label = 'train')\n",
        "    plt.plot(hist.history['val_mae'], label = 'validation')\n",
        "    plt.xlabel('mae')\n",
        "    plt.legend()"
      ]
    },
    {
      "cell_type": "markdown",
      "metadata": {
        "id": "BcvGbnUUyuTJ"
      },
      "source": [
        "## EfficientNetB"
      ]
    },
    {
      "cell_type": "code",
      "execution_count": 16,
      "metadata": {
        "id": "MI3K90_yDvnf"
      },
      "outputs": [],
      "source": [
        "# from sklearn.model_selection import train_test_split\n",
        "\n",
        "# img_arr, test_img_arr, target = get_image_dataset()\n",
        "\n",
        "# train_x, val_x, train_y, val_y = train_test_split(img_arr, target, test_size=0.2, stratify=target)"
      ]
    },
    {
      "cell_type": "code",
      "execution_count": 17,
      "metadata": {
        "id": "Qy4_DKRcyuTK"
      },
      "outputs": [],
      "source": [
        "# from keras.applications import EfficientNetB4\n",
        "# from keras.applications.efficientnet import preprocess_input\n",
        "\n",
        "# input_layer = Input(shape=IMG_SHAPE, dtype=tf.float32)\n",
        "# efficientNetB7_layer = EfficientNetB4()(preprocess_input(input_layer))\n",
        "# efficientNetB7_layer.trainable = False\n",
        "# flatten_layer = layers.Flatten()(efficientNetB7_layer)\n",
        "# dense_layer = layers.Dense(400, activation='relu')(flatten_layer)\n",
        "# dropout_layer = layers.Dropout(.2)(dense_layer)\n",
        "# dense_layer = layers.Dense(200, activation='relu')(flatten_layer)\n",
        "# dropout_layer = layers.Dropout(.2)(dense_layer)\n",
        "# output_layer = layers.Dense(1, activation='sigmoid')(dropout_layer)\n",
        "\n",
        "# model = keras.Model(inputs=input_layer, outputs=output_layer)\n",
        "\n",
        "# model.compile('adam', loss=losses.BinaryCrossentropy(), metrics=['mae', 'acc'])"
      ]
    },
    {
      "cell_type": "code",
      "execution_count": 18,
      "metadata": {
        "id": "MFln23cIyuTK"
      },
      "outputs": [],
      "source": [
        "# callback = tf.keras.callbacks.EarlyStopping(monitor='val_mae', patience=7, restore_best_weights=True)\n",
        "# hist = model.fit(train_x, train_y, validation_data=(val_x, val_y), batch_size=64, epochs=20, callbacks=[callback])"
      ]
    },
    {
      "cell_type": "code",
      "execution_count": 19,
      "metadata": {
        "id": "KO_knTjyA6hx"
      },
      "outputs": [],
      "source": [
        "# model.save(get_path('model2_150neuron.h5'))"
      ]
    },
    {
      "cell_type": "markdown",
      "metadata": {},
      "source": [
        "## Full Complex Model"
      ]
    },
    {
      "cell_type": "markdown",
      "metadata": {},
      "source": [
        "### Data Analyst"
      ]
    },
    {
      "cell_type": "code",
      "execution_count": 20,
      "metadata": {},
      "outputs": [
        {
          "name": "stdout",
          "output_type": "stream",
          "text": [
            "Maksimal kata pada variabel text : \u001b[32m56\u001b[0m\n"
          ]
        },
        {
          "data": {
            "image/png": "[encoded data removed]",
            "text/plain": [
              "<Figure size 640x480 with 1 Axes>"
            ]
          },
          "metadata": {},
          "output_type": "display_data"
        }
      ],
      "source": [
        "if RUN_OPTIONAL_CELLS:\n",
        "    sns.histplot(train['text'].map(lambda x: len(x.split())))\n",
        "    plt.axvline(MAX_WORD, color='green', label='max word')\n",
        "    plt.legend()\n",
        "    print(f'Maksimal kata pada variabel text :', colored(train['text'].map(lambda x: len(x.split())).max(), 'green'))"
      ]
    },
    {
      "cell_type": "markdown",
      "metadata": {},
      "source": [
        "### Data Preparation"
      ]
    },
    {
      "cell_type": "markdown",
      "metadata": {},
      "source": [
        "#### Plot Pos-Neg Words"
      ]
    },
    {
      "cell_type": "code",
      "execution_count": 21,
      "metadata": {},
      "outputs": [
        {
          "data": {
            "image/png": "[encoded data removed]",
            "text/plain": [
              "<Figure size 640x480 with 1 Axes>"
            ]
          },
          "metadata": {},
          "output_type": "display_data"
        }
      ],
      "source": [
        "# sentword_score = {}\n",
        "\n",
        "# def load_sentword(filename):\n",
        "#   file = open(filename, \"r\")\n",
        "#   file.readline()\n",
        "#   for line in file:\n",
        "#     word, score = line.strip().split(\"\\t\")\n",
        "#     score = int(score)\n",
        "#     sentword_score[word] = score\n",
        "#   file.close()\n",
        "\n",
        "# load_sentword(\"tools/negative.tsv\")\n",
        "# load_sentword(\"tools/positive.tsv\")\n",
        "\n",
        "# import matplotlib.patches as mpatches\n",
        "\n",
        "# num_pos = []\n",
        "# num_neg = []\n",
        "# scores  = []\n",
        "\n",
        "# for _, row in train.iterrows():\n",
        "#   tokens = tokenize(row[\"text\"])\n",
        "#   label = row[target.columns[0]]\n",
        "#   num_negative, num_positive = 0, 0\n",
        "\n",
        "#   for token in tokens:\n",
        "#     if token in sentword_score:\n",
        "#       if (sentword_score[token] < 0):\n",
        "#         num_negative += 1\n",
        "#       elif (sentword_score[token] > 0):\n",
        "#         num_positive += 1\n",
        "#   num_pos.append(num_positive)\n",
        "#   num_neg.append(num_negative)\n",
        "#   scores.append(label)\n",
        "\n",
        "# # tambahkan kolom di dataframe\n",
        "# train[\"pos_words\"] = num_pos\n",
        "# train[\"neg_words\"] = num_neg\n",
        "\n",
        "# # add jitters\n",
        "# num_pos = np.array(num_pos)\n",
        "# num_neg = np.array(num_neg)\n",
        "# num_pos = num_pos + np.random.normal(0, 0.2, len(num_pos))\n",
        "# num_neg = num_neg + np.random.normal(0, 0.2, len(num_neg))\n",
        "\n",
        "# if RUN_OPTIONAL_CELLS:\n",
        "#   colors = ['g' if score == 1 else 'r' for score in scores]\n",
        "#   plt.scatter(num_pos, num_neg, c = colors, alpha=0.3)\n",
        "#   plt.xlabel('# positive words')\n",
        "#   plt.ylabel('# negative words')\n",
        "\n",
        "#   # Legend\n",
        "#   red_patch = mpatches.Patch(color='red', label='Negative')\n",
        "#   green_patch = mpatches.Patch(color='green', label='Positive')\n",
        "\n",
        "#   plt.legend(handles=[red_patch, green_patch])\n",
        "#   plt.show()"
      ]
    },
    {
      "cell_type": "markdown",
      "metadata": {},
      "source": [
        "#### Tabular Data"
      ]
    },
    {
      "cell_type": "code",
      "execution_count": 22,
      "metadata": {},
      "outputs": [
        {
          "data": {
            "text/plain": [
              "Index(['created_at', 'id', 'user_id', 'user_name', 'url', 'text', 'media',\n",
              "       'label', 'pos_words', 'neg_words'],\n",
              "      dtype='object')"
            ]
          },
          "execution_count": 22,
          "metadata": {},
          "output_type": "execute_result"
        }
      ],
      "source": [
        "train.columns"
      ]
    },
    {
      "cell_type": "code",
      "execution_count": 23,
      "metadata": {},
      "outputs": [],
      "source": [
        "def get_positive_negative_word(df, is_train):\n",
        "    def load_sentword(filename):\n",
        "        file = open(filename, \"r\")\n",
        "        file.readline()\n",
        "        for line in file:\n",
        "            word, score = line.strip().split(\"\\t\")\n",
        "            score = int(score)\n",
        "            sentword_score[word] = score\n",
        "        file.close()\n",
        "\n",
        "    load_sentword(get_path(\"tools/negative.tsv\"))\n",
        "    load_sentword(get_path(\"tools/positive.tsv\"))\n",
        "\n",
        "    num_pos = []\n",
        "    num_neg = []\n",
        "    tot_pos = []\n",
        "    tot_neg = []\n",
        "\n",
        "    if is_train:\n",
        "        temp = train\n",
        "    else:\n",
        "        temp = test\n",
        "\n",
        "    for _, row in temp.iterrows():\n",
        "        tokens = tokenize(row[\"text\"])\n",
        "        num_negative, num_positive, total_positive, total_negative = 0, 0, 0, 0\n",
        "\n",
        "        for token in tokens:\n",
        "            if token in sentword_score:\n",
        "                if (sentword_score[token] < 0):\n",
        "                    total_negative += sentword_score[token]\n",
        "                    num_negative += 1\n",
        "                    \n",
        "                elif (sentword_score[token] > 0):\n",
        "                    total_positive += sentword_score[token]\n",
        "                    num_positive += 1\n",
        "        num_pos.append(num_positive)\n",
        "        num_neg.append(num_negative)\n",
        "        tot_pos.append(total_positive)\n",
        "        tot_neg.append(total_negative)\n",
        "\n",
        "    # tambahkan kolom di dataframe\n",
        "    df[\"pos_words\"] = num_pos\n",
        "    df[\"neg_words\"] = num_neg\n",
        "    df[\"sum_pos_words\"] = tot_pos\n",
        "    df[\"sum_neg_words\"] = tot_neg\n",
        "    return df\n",
        "\n",
        "def get_tabular_dataset() -> tuple[pd.DataFrame, pd.DataFrame]:\n",
        "    \"\"\"\n",
        "        return:\n",
        "            train\n",
        "            test\n",
        "            target\n",
        "    \"\"\"\n",
        "    tabular_train = train.copy()\n",
        "    tabular_test = test.copy()\n",
        "\n",
        "    tabular_train = get_date_feature(tabular_train, 'created_at')\n",
        "    tabular_test = get_date_feature(tabular_test, 'created_at')\n",
        "\n",
        "    tabular_train = tabular_train.drop(['created_at', 'id', 'user_id', 'user_name', 'url', 'text', 'media', 'label'], axis=1)\n",
        "    tabular_test = tabular_test.drop(['created_at', 'id', 'user_id', 'user_name', 'url', 'text', 'media'], axis=1)\n",
        "    \n",
        "    tabular_train = get_positive_negative_word(tabular_train, 1)\n",
        "    tabular_test = get_positive_negative_word(tabular_test, 0)\n",
        "    \n",
        "    iklim = pd.read_csv(get_path('data/iklim_cleaned.csv'))\n",
        "\n",
        "    tabular_train = pd.merge(tabular_train, iklim, left_on=['month', 'year'], right_on=['bulan', 'tahun'], validate='many_to_one')\n",
        "    tabular_test = pd.merge(tabular_test, iklim, left_on=['month', 'year'], right_on=['bulan', 'tahun'], validate='many_to_one')\n",
        "    return tabular_train, tabular_test, target.copy()"
      ]
    },
    {
      "cell_type": "markdown",
      "metadata": {},
      "source": [
        "### Model Architecture"
      ]
    },
    {
      "cell_type": "code",
      "execution_count": null,
      "metadata": {},
      "outputs": [],
      "source": []
    },
    {
      "cell_type": "markdown",
      "metadata": {},
      "source": [
        "Image Pipeline"
      ]
    },
    {
      "cell_type": "code",
      "execution_count": 24,
      "metadata": {},
      "outputs": [],
      "source": [
        "# model = models.load_model('models/modelb2_400 .5 200 .5.h5')\n",
        "# img_output = model.layers[-2].output"
      ]
    },
    {
      "cell_type": "markdown",
      "metadata": {},
      "source": [
        "Text Pipeline"
      ]
    },
    {
      "cell_type": "code",
      "execution_count": 25,
      "metadata": {},
      "outputs": [],
      "source": [
        "tokenizer = AutoTokenizer.from_pretrained(\"indolem/indobertweet-base-uncased\")\n",
        "bert_model = TFBertModel.from_pretrained(\"indolem/indobertweet-base-uncased\", \\\n",
        "                                         output_attentions=True, \\\n",
        "                                         from_pt = True)\n",
        "\n",
        "def bert_tokenize(documents, is_tuple = False):\n",
        "  if not is_tuple:\n",
        "    tokenized = tokenizer(documents, padding='max_length', max_length=MAX_WORD, truncation=True)\n",
        "  else:\n",
        "    tokenized = tokenizer(documents[0], documents[1], padding='max_length', max_length=MAX_WORD, truncation=True)\n",
        "  ids = np.array(tokenized['input_ids'])\n",
        "  ams = np.array(tokenized['token_type_ids'])\n",
        "  msk = np.array(tokenized['attention_mask'])\n",
        "  return ids, ams, msk\n",
        "clear_output()"
      ]
    },
    {
      "cell_type": "code",
      "execution_count": 26,
      "metadata": {},
      "outputs": [],
      "source": [
        "input_ids_layer = tf.keras.layers.Input(shape=(MAX_WORD,), \n",
        "                                        name='input_ids', \n",
        "                                        dtype='int32')\n",
        "input_attention_mask = tf.keras.layers.Input(shape=(MAX_WORD,), \n",
        "                                             name='input_attention_mask', \n",
        "                                             dtype='int32')\n",
        "input_type_ids = tf.keras.layers.Input(shape=(MAX_WORD,), \n",
        "                                       name='input_type_ids', \n",
        "                                       dtype='int32')\n",
        "\n",
        "last_hidden_state = bert_model([input_ids_layer, input_attention_mask, input_type_ids]).last_hidden_state\n",
        "for layer in bert_model.layers:\n",
        "    layer.trainable = False\n",
        "cls_last_output = last_hidden_state[:, 0, :]\n",
        "\n",
        "dense_t_1 = layers.Dense(450, activation='relu')(cls_last_output)\n",
        "dropout_t_1 = layers.Dropout(.5)(dense_t_1)\n",
        "output_text = tf.keras.layers.Dense(1, \n",
        "                              activation = 'sigmoid',\n",
        "                              bias_initializer = 'zeros',\n",
        "                              name = 'dense_classifier')(dropout_t_1)\n",
        "\n",
        "model_2 = tf.keras.Model([input_ids_layer, input_attention_mask, input_type_ids], output_text)\n",
        "\n",
        "model_2.compile('adam', \n",
        "              loss = losses.BinaryCrossentropy(),\n",
        "              metrics = [f1_score, 'acc', 'mae'])"
      ]
    },
    {
      "cell_type": "code",
      "execution_count": 29,
      "metadata": {},
      "outputs": [
        {
          "name": "stdout",
          "output_type": "stream",
          "text": [
            "Epoch 1/100\n",
            "19/19 [==============================] - 12s 601ms/step - loss: 0.4517 - f1_score: 0.2528 - acc: 0.7858 - mae: 0.2732 - val_loss: 0.3727 - val_f1_score: 0.5259 - val_acc: 0.8355 - val_mae: 0.2674\n",
            "Epoch 2/100\n",
            "19/19 [==============================] - 11s 575ms/step - loss: 0.4101 - f1_score: 0.4155 - acc: 0.8040 - mae: 0.2658 - val_loss: 0.3572 - val_f1_score: 0.4419 - val_acc: 0.8289 - val_mae: 0.2206\n",
            "Epoch 3/100\n",
            "19/19 [==============================] - 11s 560ms/step - loss: 0.3847 - f1_score: 0.4728 - acc: 0.8138 - mae: 0.2453 - val_loss: 0.3514 - val_f1_score: 0.4613 - val_acc: 0.8289 - val_mae: 0.2133\n",
            "Epoch 4/100\n",
            "19/19 [==============================] - 11s 566ms/step - loss: 0.3566 - f1_score: 0.5231 - acc: 0.8287 - mae: 0.2248 - val_loss: 0.3468 - val_f1_score: 0.5655 - val_acc: 0.8421 - val_mae: 0.2234\n",
            "Epoch 5/100\n",
            "19/19 [==============================] - 11s 570ms/step - loss: 0.3744 - f1_score: 0.5366 - acc: 0.8303 - mae: 0.2355 - val_loss: 0.3885 - val_f1_score: 0.6274 - val_acc: 0.8257 - val_mae: 0.2599\n",
            "Epoch 6/100\n",
            "19/19 [==============================] - 11s 585ms/step - loss: 0.3829 - f1_score: 0.4798 - acc: 0.8237 - mae: 0.2294 - val_loss: 0.3595 - val_f1_score: 0.3677 - val_acc: 0.8191 - val_mae: 0.2031\n",
            "Epoch 7/100\n",
            "19/19 [==============================] - 11s 567ms/step - loss: 0.3512 - f1_score: 0.5065 - acc: 0.8336 - mae: 0.2249 - val_loss: 0.3331 - val_f1_score: 0.5919 - val_acc: 0.8487 - val_mae: 0.2117\n",
            "Epoch 8/100\n",
            "19/19 [==============================] - 11s 566ms/step - loss: 0.3407 - f1_score: 0.5492 - acc: 0.8344 - mae: 0.2225 - val_loss: 0.3345 - val_f1_score: 0.5553 - val_acc: 0.8454 - val_mae: 0.2065\n",
            "Epoch 9/100\n",
            "19/19 [==============================] - 8s 442ms/step - loss: 0.3371 - f1_score: 0.5691 - acc: 0.8460 - mae: 0.2175 - val_loss: 0.3653 - val_f1_score: 0.6409 - val_acc: 0.8388 - val_mae: 0.2338\n",
            "Epoch 10/100\n",
            "19/19 [==============================] - 3s 154ms/step - loss: 0.3254 - f1_score: 0.6230 - acc: 0.8534 - mae: 0.2094 - val_loss: 0.3382 - val_f1_score: 0.6212 - val_acc: 0.8553 - val_mae: 0.2072\n",
            "Epoch 11/100\n",
            "19/19 [==============================] - 3s 148ms/step - loss: 0.3185 - f1_score: 0.6088 - acc: 0.8575 - mae: 0.2015 - val_loss: 0.3571 - val_f1_score: 0.6328 - val_acc: 0.8355 - val_mae: 0.2208\n",
            "Epoch 12/100\n",
            "19/19 [==============================] - 3s 159ms/step - loss: 0.3299 - f1_score: 0.5847 - acc: 0.8386 - mae: 0.2100 - val_loss: 0.4063 - val_f1_score: 0.2689 - val_acc: 0.8092 - val_mae: 0.1940\n",
            "Epoch 13/100\n",
            "19/19 [==============================] - 3s 139ms/step - loss: 0.3448 - f1_score: 0.5042 - acc: 0.8410 - mae: 0.2142 - val_loss: 0.3498 - val_f1_score: 0.4654 - val_acc: 0.8322 - val_mae: 0.1898\n",
            "Epoch 14/100\n",
            "19/19 [==============================] - 3s 139ms/step - loss: 0.3135 - f1_score: 0.5942 - acc: 0.8550 - mae: 0.2026 - val_loss: 0.3414 - val_f1_score: 0.6268 - val_acc: 0.8454 - val_mae: 0.2111\n",
            "Epoch 15/100\n",
            "19/19 [==============================] - 3s 139ms/step - loss: 0.3214 - f1_score: 0.5994 - acc: 0.8493 - mae: 0.2064 - val_loss: 0.3387 - val_f1_score: 0.6181 - val_acc: 0.8553 - val_mae: 0.1976\n",
            "Epoch 16/100\n",
            "19/19 [==============================] - 3s 140ms/step - loss: 0.3166 - f1_score: 0.6168 - acc: 0.8583 - mae: 0.2029 - val_loss: 0.3425 - val_f1_score: 0.5894 - val_acc: 0.8586 - val_mae: 0.1959\n",
            "Epoch 17/100\n",
            "19/19 [==============================] - 3s 139ms/step - loss: 0.3036 - f1_score: 0.6309 - acc: 0.8583 - mae: 0.1954 - val_loss: 0.3827 - val_f1_score: 0.6411 - val_acc: 0.8322 - val_mae: 0.2361\n",
            "Epoch 18/100\n",
            "19/19 [==============================] - 3s 140ms/step - loss: 0.3064 - f1_score: 0.6391 - acc: 0.8633 - mae: 0.1963 - val_loss: 0.3597 - val_f1_score: 0.5934 - val_acc: 0.8553 - val_mae: 0.1887\n",
            "Epoch 19/100\n",
            "19/19 [==============================] - 3s 146ms/step - loss: 0.2995 - f1_score: 0.6468 - acc: 0.8624 - mae: 0.1911 - val_loss: 0.3385 - val_f1_score: 0.6242 - val_acc: 0.8487 - val_mae: 0.2026\n"
          ]
        }
      ],
      "source": [
        "train_text, test_text, target = get_text_dataset()\n",
        "train_x, val_x, train_y, val_y = train_test_split(train_text, target, test_size=.2)\n",
        "\n",
        "train_ids, train_ams, train_msk = bert_tokenize(list(train_x))\n",
        "val_ids, val_ams, val_msk = bert_tokenize(list(val_x))\n",
        "\n",
        "from keras import callbacks\n",
        "val_mae_earlystopping = callbacks.EarlyStopping('val_f1_score', patience=7, restore_best_weights=True)\n",
        "with tf.device('/device:GPU:0'):\n",
        "  hist = model_2.fit(\n",
        "      x = [train_ids, train_ams, train_msk],\n",
        "      y = train_y,\n",
        "      epochs = 100,\n",
        "      batch_size = 64,\n",
        "      validation_data = ([val_ids, val_ams, val_msk], val_y),\n",
        "      callbacks=[val_mae_earlystopping]\n",
        "  )"
      ]
    },
    {
      "cell_type": "code",
      "execution_count": 30,
      "metadata": {},
      "outputs": [
        {
          "name": "stdout",
          "output_type": "stream",
          "text": [
            "\u001b[36mTraining F1 :\u001b[0m\t 0.31012658227848106\n",
            "\u001b[31mValidation F1 :\u001b[0m\t 0.2564102564102564\n"
          ]
        }
      ],
      "source": [
        "print(f\"{colored('Training F1 :', 'cyan')}\\t\", skMetrics.f1_score(train_y, [int(x>.5) for x in model_2.predict([train_ids, train_ams, train_msk], verbose=0)]))\n",
        "print(f\"{colored('Validation F1 :', 'red')}\\t\", skMetrics.f1_score(val_y, [int(x>.5) for x in model_2.predict([val_ids, val_ams, val_msk], verbose=0)]))"
      ]
    },
    {
      "cell_type": "code",
      "execution_count": 29,
      "metadata": {},
      "outputs": [],
      "source": [
        "# plot_hist(hist)"
      ]
    },
    {
      "cell_type": "code",
      "execution_count": 30,
      "metadata": {},
      "outputs": [],
      "source": [
        "# model_2.save('models/modelbert450 .5.h5')"
      ]
    },
    {
      "cell_type": "markdown",
      "metadata": {},
      "source": [
        "Tabular Pipeline"
      ]
    },
    {
      "cell_type": "markdown",
      "metadata": {},
      "source": [
        "#### All In Model"
      ]
    },
    {
      "cell_type": "code",
      "execution_count": 34,
      "metadata": {},
      "outputs": [
        {
          "name": "stdout",
          "output_type": "stream",
          "text": [
            "Downloading data from https://storage.googleapis.com/keras-applications/efficientnetb2.h5\n",
            "37432240/37432240 [==============================] - 243s 6us/step\n"
          ]
        }
      ],
      "source": [
        "# Text model ##############################################################\n",
        "input_ids_layer = tf.keras.layers.Input(shape=(MAX_WORD,), \n",
        "                                        name='input_ids', \n",
        "                                        dtype='int32')\n",
        "input_attention_mask = tf.keras.layers.Input(shape=(MAX_WORD,), \n",
        "                                             name='input_attention_mask', \n",
        "                                             dtype='int32')\n",
        "input_type_ids = tf.keras.layers.Input(shape=(MAX_WORD,), \n",
        "                                       name='input_type_ids', \n",
        "                                       dtype='int32')\n",
        "\n",
        "last_hidden_state = bert_model([input_ids_layer, input_attention_mask, input_type_ids]).last_hidden_state\n",
        "for layer in bert_model.layers:\n",
        "    layer.trainable = False\n",
        "cls_last_output = last_hidden_state[:, 0, :]\n",
        "\n",
        "dense_t_1 = layers.Dense(450, activation='relu')(cls_last_output)\n",
        "dropout_t_1 = layers.Dropout(.5)(dense_t_1)\n",
        "############################################################################\n",
        "\n",
        "# Image Model ##############################################################\n",
        "from keras.applications import EfficientNetB2\n",
        "from keras.applications.efficientnet import preprocess_input\n",
        "\n",
        "input_img = Input(shape=IMG_SHAPE, dtype=tf.float32)\n",
        "efficientNetB7_layer = EfficientNetB2()(preprocess_input(input_img))\n",
        "efficientNetB7_layer.trainable = False\n",
        "flatten_layer = layers.Flatten()(efficientNetB7_layer)\n",
        "dense_layer = layers.Dense(400, activation='relu')(flatten_layer)\n",
        "dropout_layer = layers.Dropout(.5)(dense_layer)\n",
        "dense_layer2 = layers.Dense(200, activation='relu')(dropout_layer)\n",
        "dropout_layer2 = layers.Dropout(.5)(dense_layer2)\n",
        "############################################################################\n",
        "\n",
        "# Concat Last Layer with tabular ###########################################\n",
        "input_tabular = Input(shape=(18, ), dtype=tf.float32)\n",
        "concat_features = tf.keras.layers.concatenate([dropout_layer2, dropout_t_1, input_tabular], axis = 1)\n",
        "dense_concated_layer_1 = layers.Dense(500, activation='relu')(concat_features)\n",
        "dropout_concated_layer = layers.Dropout(.5)(dense_concated_layer_1)\n",
        "dense_concated_layer_2 = layers.Dense(250, activation='relu')(dropout_concated_layer)\n",
        "dropout_concated_layer2 = layers.Dropout(.5)(dense_concated_layer_2)\n",
        "output = layers.Dense(1, activation='sigmoid')(dropout_concated_layer2)\n",
        "############################################################################\n",
        "\n",
        "model = keras.Model(inputs=[input_ids_layer, input_attention_mask, input_type_ids, input_img, input_tabular], outputs=output)\n",
        "\n",
        "model.compile('adam', loss=losses.BinaryCrossentropy(), metrics=[f1_score, 'mae', 'acc'])"
      ]
    },
    {
      "cell_type": "code",
      "execution_count": 37,
      "metadata": {},
      "outputs": [
        {
          "name": "stdout",
          "output_type": "stream",
          "text": [
            "Epoch 1/100\n",
            "76/76 [==============================] - 18s 236ms/step - loss: 1.4019 - f1_score: 0.2019 - mae: 0.3566 - acc: 0.6680 - val_loss: 0.5744 - val_f1_score: 0.0000e+00 - val_mae: 0.4290 - val_acc: 0.8158\n",
            "Epoch 2/100\n",
            "76/76 [==============================] - 17s 227ms/step - loss: 0.9291 - f1_score: 0.1400 - mae: 0.3557 - acc: 0.7018 - val_loss: 0.5239 - val_f1_score: 0.0000e+00 - val_mae: 0.3855 - val_acc: 0.8158\n",
            "Epoch 3/100\n",
            "76/76 [==============================] - 17s 230ms/step - loss: 0.7635 - f1_score: 0.0899 - mae: 0.3544 - acc: 0.7315 - val_loss: 0.5729 - val_f1_score: 0.0000e+00 - val_mae: 0.4280 - val_acc: 0.8158\n",
            "Epoch 4/100\n",
            "76/76 [==============================] - 17s 230ms/step - loss: 0.6794 - f1_score: 0.0665 - mae: 0.3677 - acc: 0.7339 - val_loss: 0.5975 - val_f1_score: 0.0000e+00 - val_mae: 0.4452 - val_acc: 0.8158\n",
            "Epoch 5/100\n",
            "76/76 [==============================] - 18s 231ms/step - loss: 0.6801 - f1_score: 0.0384 - mae: 0.3754 - acc: 0.7455 - val_loss: 0.5422 - val_f1_score: 0.0000e+00 - val_mae: 0.4029 - val_acc: 0.8158\n",
            "Epoch 6/100\n",
            "76/76 [==============================] - 18s 233ms/step - loss: 0.6233 - f1_score: 0.0407 - mae: 0.3499 - acc: 0.7636 - val_loss: 0.5711 - val_f1_score: 0.0000e+00 - val_mae: 0.4267 - val_acc: 0.8158\n",
            "Epoch 7/100\n",
            "76/76 [==============================] - 18s 235ms/step - loss: 0.6051 - f1_score: 0.0529 - mae: 0.3584 - acc: 0.7619 - val_loss: 0.5344 - val_f1_score: 0.0000e+00 - val_mae: 0.3978 - val_acc: 0.8158\n",
            "Epoch 8/100\n",
            "76/76 [==============================] - 18s 240ms/step - loss: 0.6092 - f1_score: 0.0257 - mae: 0.3626 - acc: 0.7652 - val_loss: 0.5228 - val_f1_score: 0.0000e+00 - val_mae: 0.3864 - val_acc: 0.8158\n"
          ]
        }
      ],
      "source": [
        "tbr_train, test_tbr, _ = get_tabular_dataset()\n",
        "train_img, test_img, target = get_image_dataset()\n",
        "train_text, test_text, target = get_text_dataset()\n",
        "\n",
        "train_text, val_text, train_y, val_y, train_tbr, val_tbr, train_img, val_img  = train_test_split(train_text, target, tbr_train, train_img, test_size=.2)\n",
        "\n",
        "train_ids, train_ams, train_msk = bert_tokenize(list(train_text))\n",
        "val_ids, val_ams, val_msk = bert_tokenize(list(val_text))\n",
        "\n",
        "from keras import callbacks\n",
        "val_mae_earlystopping = callbacks.EarlyStopping('val_f1_score', patience=7, restore_best_weights=True)\n",
        "with tf.device('/device:GPU:0'):\n",
        "  hist = model.fit(\n",
        "      x = [train_ids, train_ams, train_msk, train_img, train_tbr],\n",
        "      y = train_y,\n",
        "      epochs = 100,\n",
        "      batch_size = 16,\n",
        "      validation_data = ([val_ids, val_ams, val_msk, val_img, val_tbr], val_y),\n",
        "      callbacks=[val_mae_earlystopping]\n",
        "  )"
      ]
    },
    {
      "cell_type": "code",
      "execution_count": null,
      "metadata": {},
      "outputs": [],
      "source": [
        "print(f\"{colored('Training F1 :', 'cyan')}\\t\", skMetrics.f1_score(train_y, [int(x>.5) for x in model_2.predict([train_ids, train_ams, train_msk], verbose=0)]))\n",
        "print(f\"{colored('Validation F1 :', 'red')}\\t\", skMetrics.f1_score(val_y, [int(x>.5) for x in model_2.predict([val_ids, val_ams, val_msk], verbose=0)]))"
      ]
    },
    {
      "cell_type": "markdown",
      "metadata": {},
      "source": [
        "#### Ensembling"
      ]
    },
    {
      "cell_type": "markdown",
      "metadata": {},
      "source": [
        "##### Predictioning Ensembling"
      ]
    },
    {
      "cell_type": "code",
      "execution_count": null,
      "metadata": {},
      "outputs": [],
      "source": [
        "img_model = models.load_model('models/modelb2_400 .5 200 .5.h5', custom_objects={'f1_score':f1_score})\n",
        "txt_model = models.load_model('models/modelbert450 .5.h5', custom_objects={'TFBertModel':TFBertModel, 'f1_score':f1_score})\n",
        "\n",
        "# tbr_train, test_tbr, _ = get_tabular_dataset()\n",
        "train_img, test_img, target = get_image_dataset()\n",
        "train_txt, test_txt, target = get_text_dataset()\n",
        "\n",
        "train_img, test_img = img_model.predict(train_img), img_model.predict(test_img)\n",
        "\n",
        "train_ids, train_ams, train_msk = bert_tokenize(list(train_txt))\n",
        "test_ids, test_ams, test_msk = bert_tokenize(list(test_txt))\n",
        "\n",
        "train_txt, test_txt = txt_model.predict([train_ids, train_ams, train_msk]), txt_model.predict([test_ids, test_ams, test_msk])\n",
        "\n",
        "# train_tbr_x, val_tbr_x, train_img_x, val_img_x, train_txt_x, val_txt_x, train_y, val_y = train_test_split(tbr_train, train_img, train_txt, target)\n",
        "train_img_x, val_img_x, train_txt_x, val_txt_x, train_y, val_y = train_test_split(train_img, train_txt, target)\n",
        "\n",
        "from lightgbm import LGBMClassifier\n",
        "model = LGBMClassifier(\n",
        "    n_estimators = 500,\n",
        "    max_depth = 8\n",
        "    # tree_method = 'gpu_hist'\n",
        ")\n",
        "# train_concated = pd.concat([train_tbr_x.reset_index().drop(['index'], axis=1), pd.DataFrame({'img': train_img_x.ravel()}), pd.DataFrame({'txt': train_txt_x.ravel()})], axis=1)\n",
        "# val_concated = pd.concat([val_tbr_x.reset_index().drop(['index'], axis=1), pd.DataFrame({'img': val_img_x.ravel()}), pd.DataFrame({'txt': val_txt_x.ravel()})], axis=1)\n",
        "train_concated = pd.concat([pd.DataFrame({'img': train_img_x.ravel()}), pd.DataFrame({'txt': train_txt_x.ravel()})], axis=1)\n",
        "val_concated = pd.concat([pd.DataFrame({'img': val_img_x.ravel()}), pd.DataFrame({'txt': val_txt_x.ravel()})], axis=1)\n",
        "model.fit(train_concated, train_y)"
      ]
    },
    {
      "cell_type": "code",
      "execution_count": 73,
      "metadata": {},
      "outputs": [
        {
          "name": "stdout",
          "output_type": "stream",
          "text": [
            "0.9701230228471002\n",
            "0.968421052631579\n"
          ]
        }
      ],
      "source": [
        "print(skMetrics.accuracy_score(train_y, ((train_img_x.ravel()+train_txt_x.ravel())/2) > .5))\n",
        "print(skMetrics.accuracy_score(val_y,((val_img_x.ravel()+val_txt_x.ravel())/2) > .5))"
      ]
    },
    {
      "cell_type": "code",
      "execution_count": null,
      "metadata": {},
      "outputs": [
        {
          "name": "stdout",
          "output_type": "stream",
          "text": [
            "0.99581589958159\n",
            "0.9195402298850575\n"
          ]
        }
      ],
      "source": [
        "print(skMetrics.f1_score(train_y, model.predict(train_concated)))\n",
        "print(skMetrics.f1_score(val_y, model.predict(val_concated)))"
      ]
    },
    {
      "cell_type": "code",
      "execution_count": null,
      "metadata": {},
      "outputs": [],
      "source": [
        "pred = model.predict(pd.concat([test_tbr, test_img, test_txt], axis=1))"
      ]
    },
    {
      "cell_type": "code",
      "execution_count": 94,
      "metadata": {},
      "outputs": [
        {
          "data": {
            "text/html": [
              "<div>\n",
              "<style scoped>\n",
              "    .dataframe tbody tr th:only-of-type {\n",
              "        vertical-align: middle;\n",
              "    }\n",
              "\n",
              "    .dataframe tbody tr th {\n",
              "        vertical-align: top;\n",
              "    }\n",
              "\n",
              "    .dataframe thead th {\n",
              "        text-align: right;\n",
              "    }\n",
              "</style>\n",
              "<table border=\"1\" class=\"dataframe\">\n",
              "  <thead>\n",
              "    <tr style=\"text-align: right;\">\n",
              "      <th></th>\n",
              "      <th>id</th>\n",
              "      <th>label</th>\n",
              "    </tr>\n",
              "  </thead>\n",
              "  <tbody>\n",
              "    <tr>\n",
              "      <th>0</th>\n",
              "      <td>1213309429254250496</td>\n",
              "      <td>0</td>\n",
              "    </tr>\n",
              "    <tr>\n",
              "      <th>1</th>\n",
              "      <td>1216196702647939072</td>\n",
              "      <td>0</td>\n",
              "    </tr>\n",
              "    <tr>\n",
              "      <th>2</th>\n",
              "      <td>1216296533735309312</td>\n",
              "      <td>0</td>\n",
              "    </tr>\n",
              "    <tr>\n",
              "      <th>3</th>\n",
              "      <td>1234385081482956800</td>\n",
              "      <td>0</td>\n",
              "    </tr>\n",
              "    <tr>\n",
              "      <th>4</th>\n",
              "      <td>1214853229567041537</td>\n",
              "      <td>0</td>\n",
              "    </tr>\n",
              "    <tr>\n",
              "      <th>...</th>\n",
              "      <td>...</td>\n",
              "      <td>...</td>\n",
              "    </tr>\n",
              "    <tr>\n",
              "      <th>1006</th>\n",
              "      <td>1212371781350084608</td>\n",
              "      <td>0</td>\n",
              "    </tr>\n",
              "    <tr>\n",
              "      <th>1007</th>\n",
              "      <td>1232075152042541056</td>\n",
              "      <td>1</td>\n",
              "    </tr>\n",
              "    <tr>\n",
              "      <th>1008</th>\n",
              "      <td>1213315563595845633</td>\n",
              "      <td>0</td>\n",
              "    </tr>\n",
              "    <tr>\n",
              "      <th>1009</th>\n",
              "      <td>1212970781610663936</td>\n",
              "      <td>0</td>\n",
              "    </tr>\n",
              "    <tr>\n",
              "      <th>1010</th>\n",
              "      <td>1231973813132365825</td>\n",
              "      <td>0</td>\n",
              "    </tr>\n",
              "  </tbody>\n",
              "</table>\n",
              "<p>1011 rows × 2 columns</p>\n",
              "</div>"
            ],
            "text/plain": [
              "                       id  label\n",
              "0     1213309429254250496      0\n",
              "1     1216196702647939072      0\n",
              "2     1216296533735309312      0\n",
              "3     1234385081482956800      0\n",
              "4     1214853229567041537      0\n",
              "...                   ...    ...\n",
              "1006  1212371781350084608      0\n",
              "1007  1232075152042541056      1\n",
              "1008  1213315563595845633      0\n",
              "1009  1212970781610663936      0\n",
              "1010  1231973813132365825      0\n",
              "\n",
              "[1011 rows x 2 columns]"
            ]
          },
          "execution_count": 94,
          "metadata": {},
          "output_type": "execute_result"
        }
      ],
      "source": [
        "output = pd.DataFrame()\n",
        "output['id'] = test.id\n",
        "output['label'] = pred\n",
        "output"
      ]
    },
    {
      "cell_type": "code",
      "execution_count": 96,
      "metadata": {},
      "outputs": [
        {
          "data": {
            "text/plain": [
              "0    831\n",
              "1    180\n",
              "Name: label, dtype: int64"
            ]
          },
          "execution_count": 96,
          "metadata": {},
          "output_type": "execute_result"
        }
      ],
      "source": [
        "output['label'].value_counts()"
      ]
    },
    {
      "cell_type": "code",
      "execution_count": 97,
      "metadata": {},
      "outputs": [],
      "source": [
        "output.to_csv('Mean_TXT_IMG.csv', index=False)"
      ]
    },
    {
      "cell_type": "code",
      "execution_count": 100,
      "metadata": {},
      "outputs": [
        {
          "data": {
            "text/plain": [
              "48"
            ]
          },
          "execution_count": 100,
          "metadata": {},
          "output_type": "execute_result"
        }
      ],
      "source": [
        "a = pd.read_csv('DLOutputLayer.XGBOOST.csv')\n",
        "b = pd.read_csv('Mean_TXT_IMG.csv')\n",
        "sum([x != y for x, y in zip(a['label'], b['label'])])"
      ]
    },
    {
      "cell_type": "markdown",
      "metadata": {},
      "source": [
        "##### Prediction Ensembling"
      ]
    },
    {
      "cell_type": "code",
      "execution_count": 131,
      "metadata": {},
      "outputs": [
        {
          "data": {
            "text/html": [
              "<style>#sk-container-id-4 {color: black;background-color: white;}#sk-container-id-4 pre{padding: 0;}#sk-container-id-4 div.sk-toggleable {background-color: white;}#sk-container-id-4 label.sk-toggleable__label {cursor: pointer;display: block;width: 100%;margin-bottom: 0;padding: 0.3em;box-sizing: border-box;text-align: center;}#sk-container-id-4 label.sk-toggleable__label-arrow:before {content: \"▸\";float: left;margin-right: 0.25em;color: #696969;}#sk-container-id-4 label.sk-toggleable__label-arrow:hover:before {color: black;}#sk-container-id-4 div.sk-estimator:hover label.sk-toggleable__label-arrow:before {color: black;}#sk-container-id-4 div.sk-toggleable__content {max-height: 0;max-width: 0;overflow: hidden;text-align: left;background-color: #f0f8ff;}#sk-container-id-4 div.sk-toggleable__content pre {margin: 0.2em;color: black;border-radius: 0.25em;background-color: #f0f8ff;}#sk-container-id-4 input.sk-toggleable__control:checked~div.sk-toggleable__content {max-height: 200px;max-width: 100%;overflow: auto;}#sk-container-id-4 input.sk-toggleable__control:checked~label.sk-toggleable__label-arrow:before {content: \"▾\";}#sk-container-id-4 div.sk-estimator input.sk-toggleable__control:checked~label.sk-toggleable__label {background-color: #d4ebff;}#sk-container-id-4 div.sk-label input.sk-toggleable__control:checked~label.sk-toggleable__label {background-color: #d4ebff;}#sk-container-id-4 input.sk-hidden--visually {border: 0;clip: rect(1px 1px 1px 1px);clip: rect(1px, 1px, 1px, 1px);height: 1px;margin: -1px;overflow: hidden;padding: 0;position: absolute;width: 1px;}#sk-container-id-4 div.sk-estimator {font-family: monospace;background-color: #f0f8ff;border: 1px dotted black;border-radius: 0.25em;box-sizing: border-box;margin-bottom: 0.5em;}#sk-container-id-4 div.sk-estimator:hover {background-color: #d4ebff;}#sk-container-id-4 div.sk-parallel-item::after {content: \"\";width: 100%;border-bottom: 1px solid gray;flex-grow: 1;}#sk-container-id-4 div.sk-label:hover label.sk-toggleable__label {background-color: #d4ebff;}#sk-container-id-4 div.sk-serial::before {content: \"\";position: absolute;border-left: 1px solid gray;box-sizing: border-box;top: 0;bottom: 0;left: 50%;z-index: 0;}#sk-container-id-4 div.sk-serial {display: flex;flex-direction: column;align-items: center;background-color: white;padding-right: 0.2em;padding-left: 0.2em;position: relative;}#sk-container-id-4 div.sk-item {position: relative;z-index: 1;}#sk-container-id-4 div.sk-parallel {display: flex;align-items: stretch;justify-content: center;background-color: white;position: relative;}#sk-container-id-4 div.sk-item::before, #sk-container-id-4 div.sk-parallel-item::before {content: \"\";position: absolute;border-left: 1px solid gray;box-sizing: border-box;top: 0;bottom: 0;left: 50%;z-index: -1;}#sk-container-id-4 div.sk-parallel-item {display: flex;flex-direction: column;z-index: 1;position: relative;background-color: white;}#sk-container-id-4 div.sk-parallel-item:first-child::after {align-self: flex-end;width: 50%;}#sk-container-id-4 div.sk-parallel-item:last-child::after {align-self: flex-start;width: 50%;}#sk-container-id-4 div.sk-parallel-item:only-child::after {width: 0;}#sk-container-id-4 div.sk-dashed-wrapped {border: 1px dashed gray;margin: 0 0.4em 0.5em 0.4em;box-sizing: border-box;padding-bottom: 0.4em;background-color: white;}#sk-container-id-4 div.sk-label label {font-family: monospace;font-weight: bold;display: inline-block;line-height: 1.2em;}#sk-container-id-4 div.sk-label-container {text-align: center;}#sk-container-id-4 div.sk-container {/* jupyter's `normalize.less` sets `[hidden] { display: none; }` but bootstrap.min.css set `[hidden] { display: none !important; }` so we also need the `!important` here to be able to override the default hidden behavior on the sphinx rendered scikit-learn.org. See: https://github.com/scikit-learn/scikit-learn/issues/21755 */display: inline-block !important;position: relative;}#sk-container-id-4 div.sk-text-repr-fallback {display: none;}</style><div id=\"sk-container-id-4\" class=\"sk-top-container\"><div class=\"sk-text-repr-fallback\"><pre>XGBClassifier(base_score=0.5, booster=&#x27;gbtree&#x27;, callbacks=None,\n",
              "              colsample_bylevel=1, colsample_bynode=1, colsample_bytree=1,\n",
              "              early_stopping_rounds=None, enable_categorical=False,\n",
              "              eval_metric=None, gamma=0, gpu_id=0, grow_policy=&#x27;depthwise&#x27;,\n",
              "              importance_type=None, interaction_constraints=&#x27;&#x27;,\n",
              "              learning_rate=0.300000012, max_bin=256, max_cat_to_onehot=4,\n",
              "              max_delta_step=0, max_depth=6, max_leaves=0, min_child_weight=1,\n",
              "              missing=nan, monotone_constraints=&#x27;()&#x27;, n_estimators=10000,\n",
              "              n_jobs=0, num_parallel_tree=1, predictor=&#x27;auto&#x27;, random_state=0,\n",
              "              reg_alpha=0, reg_lambda=1, ...)</pre><b>In a Jupyter environment, please rerun this cell to show the HTML representation or trust the notebook. <br />On GitHub, the HTML representation is unable to render, please try loading this page with nbviewer.org.</b></div><div class=\"sk-container\" hidden><div class=\"sk-item\"><div class=\"sk-estimator sk-toggleable\"><input class=\"sk-toggleable__control sk-hidden--visually\" id=\"sk-estimator-id-4\" type=\"checkbox\" checked><label for=\"sk-estimator-id-4\" class=\"sk-toggleable__label sk-toggleable__label-arrow\">XGBClassifier</label><div class=\"sk-toggleable__content\"><pre>XGBClassifier(base_score=0.5, booster=&#x27;gbtree&#x27;, callbacks=None,\n",
              "              colsample_bylevel=1, colsample_bynode=1, colsample_bytree=1,\n",
              "              early_stopping_rounds=None, enable_categorical=False,\n",
              "              eval_metric=None, gamma=0, gpu_id=0, grow_policy=&#x27;depthwise&#x27;,\n",
              "              importance_type=None, interaction_constraints=&#x27;&#x27;,\n",
              "              learning_rate=0.300000012, max_bin=256, max_cat_to_onehot=4,\n",
              "              max_delta_step=0, max_depth=6, max_leaves=0, min_child_weight=1,\n",
              "              missing=nan, monotone_constraints=&#x27;()&#x27;, n_estimators=10000,\n",
              "              n_jobs=0, num_parallel_tree=1, predictor=&#x27;auto&#x27;, random_state=0,\n",
              "              reg_alpha=0, reg_lambda=1, ...)</pre></div></div></div></div></div>"
            ],
            "text/plain": [
              "XGBClassifier(base_score=0.5, booster='gbtree', callbacks=None,\n",
              "              colsample_bylevel=1, colsample_bynode=1, colsample_bytree=1,\n",
              "              early_stopping_rounds=None, enable_categorical=False,\n",
              "              eval_metric=None, gamma=0, gpu_id=0, grow_policy='depthwise',\n",
              "              importance_type=None, interaction_constraints='',\n",
              "              learning_rate=0.300000012, max_bin=256, max_cat_to_onehot=4,\n",
              "              max_delta_step=0, max_depth=6, max_leaves=0, min_child_weight=1,\n",
              "              missing=nan, monotone_constraints='()', n_estimators=10000,\n",
              "              n_jobs=0, num_parallel_tree=1, predictor='auto', random_state=0,\n",
              "              reg_alpha=0, reg_lambda=1, ...)"
            ]
          },
          "execution_count": 131,
          "metadata": {},
          "output_type": "execute_result"
        }
      ],
      "source": [
        "# img_model = models.load_model('models/modelb2_400 .5 200 .5.h5')\n",
        "# txt_model = models.load_model('models/modelbert450 .5.h5', custom_objects={'TFBertModel':TFBertModel})\n",
        "\n",
        "tbr_train, test_tbr, _ = get_tabular_dataset()\n",
        "train_img, test_img = pd.read_csv('checkpoints/train_feature_img.csv'), pd.read_csv('checkpoints/test_feature_img.csv')\n",
        "train_txt, test_txt = pd.read_csv('checkpoints/train_feature_txt.csv'), pd.read_csv('checkpoints/test_feature_txt.csv')\n",
        "\n",
        "train_tbr_x, val_tbr_x, train_img_x, val_img_x, train_txt_x, val_txt_x, train_y, val_y = train_test_split(tbr_train, train_img, train_txt, target)\n",
        "\n",
        "from xgboost import XGBClassifier\n",
        "model = XGBClassifier(\n",
        "    n_estimators = 10000,\n",
        "    tree_method = 'gpu_hist'\n",
        ")\n",
        "train_concated = pd.concat([train_tbr_x, train_img_x, train_txt_x], axis=1)\n",
        "val_concated = pd.concat([val_tbr_x, val_img_x, val_txt_x], axis=1)\n",
        "model.fit(train_concated, train_y)"
      ]
    },
    {
      "cell_type": "code",
      "execution_count": 148,
      "metadata": {},
      "outputs": [
        {
          "data": {
            "text/plain": [
              "0.9382716049382716"
            ]
          },
          "execution_count": 148,
          "metadata": {},
          "output_type": "execute_result"
        }
      ],
      "source": [
        "skMetrics.f1_score(val_y, model.predict(val_concated))"
      ]
    },
    {
      "cell_type": "code",
      "execution_count": 134,
      "metadata": {},
      "outputs": [],
      "source": [
        "pred = model.predict(pd.concat([test_tbr, test_img, test_txt], axis=1))"
      ]
    },
    {
      "cell_type": "code",
      "execution_count": 141,
      "metadata": {},
      "outputs": [
        {
          "data": {
            "text/html": [
              "<div>\n",
              "<style scoped>\n",
              "    .dataframe tbody tr th:only-of-type {\n",
              "        vertical-align: middle;\n",
              "    }\n",
              "\n",
              "    .dataframe tbody tr th {\n",
              "        vertical-align: top;\n",
              "    }\n",
              "\n",
              "    .dataframe thead th {\n",
              "        text-align: right;\n",
              "    }\n",
              "</style>\n",
              "<table border=\"1\" class=\"dataframe\">\n",
              "  <thead>\n",
              "    <tr style=\"text-align: right;\">\n",
              "      <th></th>\n",
              "      <th>id</th>\n",
              "      <th>label</th>\n",
              "    </tr>\n",
              "  </thead>\n",
              "  <tbody>\n",
              "    <tr>\n",
              "      <th>0</th>\n",
              "      <td>1213309429254250496</td>\n",
              "      <td>0</td>\n",
              "    </tr>\n",
              "    <tr>\n",
              "      <th>1</th>\n",
              "      <td>1216196702647939072</td>\n",
              "      <td>0</td>\n",
              "    </tr>\n",
              "    <tr>\n",
              "      <th>2</th>\n",
              "      <td>1216296533735309312</td>\n",
              "      <td>0</td>\n",
              "    </tr>\n",
              "    <tr>\n",
              "      <th>3</th>\n",
              "      <td>1234385081482956800</td>\n",
              "      <td>0</td>\n",
              "    </tr>\n",
              "    <tr>\n",
              "      <th>4</th>\n",
              "      <td>1214853229567041537</td>\n",
              "      <td>0</td>\n",
              "    </tr>\n",
              "    <tr>\n",
              "      <th>...</th>\n",
              "      <td>...</td>\n",
              "      <td>...</td>\n",
              "    </tr>\n",
              "    <tr>\n",
              "      <th>1006</th>\n",
              "      <td>1212371781350084608</td>\n",
              "      <td>0</td>\n",
              "    </tr>\n",
              "    <tr>\n",
              "      <th>1007</th>\n",
              "      <td>1232075152042541056</td>\n",
              "      <td>1</td>\n",
              "    </tr>\n",
              "    <tr>\n",
              "      <th>1008</th>\n",
              "      <td>1213315563595845633</td>\n",
              "      <td>0</td>\n",
              "    </tr>\n",
              "    <tr>\n",
              "      <th>1009</th>\n",
              "      <td>1212970781610663936</td>\n",
              "      <td>0</td>\n",
              "    </tr>\n",
              "    <tr>\n",
              "      <th>1010</th>\n",
              "      <td>1231973813132365825</td>\n",
              "      <td>0</td>\n",
              "    </tr>\n",
              "  </tbody>\n",
              "</table>\n",
              "<p>1011 rows × 2 columns</p>\n",
              "</div>"
            ],
            "text/plain": [
              "                       id  label\n",
              "0     1213309429254250496      0\n",
              "1     1216196702647939072      0\n",
              "2     1216296533735309312      0\n",
              "3     1234385081482956800      0\n",
              "4     1214853229567041537      0\n",
              "...                   ...    ...\n",
              "1006  1212371781350084608      0\n",
              "1007  1232075152042541056      1\n",
              "1008  1213315563595845633      0\n",
              "1009  1212970781610663936      0\n",
              "1010  1231973813132365825      0\n",
              "\n",
              "[1011 rows x 2 columns]"
            ]
          },
          "execution_count": 141,
          "metadata": {},
          "output_type": "execute_result"
        }
      ],
      "source": [
        "output = pd.DataFrame()\n",
        "output['id'] = test.id\n",
        "output['label'] = pred\n",
        "output"
      ]
    },
    {
      "cell_type": "code",
      "execution_count": 142,
      "metadata": {},
      "outputs": [],
      "source": [
        "# output.to_csv('DLOutputLayer.XGBOOST.csv', index=False)"
      ]
    },
    {
      "cell_type": "markdown",
      "metadata": {},
      "source": [
        "##### Last Layer to Machine Learning"
      ]
    },
    {
      "cell_type": "code",
      "execution_count": 31,
      "metadata": {},
      "outputs": [],
      "source": [
        "# # Image Model Feature\n",
        "# img_model = models.load_model('models/modelb2_400 .5 200 .5.h5')\n",
        "# img_model_feature_extracter = keras.Model(inputs=img_model.input, outputs=img_model.layers[-2].output)\n",
        "\n",
        "# # GPU MEMORY LIMIT\n",
        "# # BATCHING PREDICTION TECHNIQUE REQUIRED\n",
        "# train_img, test_img, target = get_image_dataset()\n",
        "# train_feature_img = {}\n",
        "# for index, img in enumerate(tqdm(train_img)):\n",
        "#     nw_feature = img_model_feature_extracter(img.reshape(1, 260, 260, 3))\n",
        "#     for num, feature in enumerate(tf.squeeze(nw_feature)):\n",
        "#         if index == 0:\n",
        "#             train_feature_img[f\"img_{num}\"] = []\n",
        "#         train_feature_img[f\"img_{num}\"].append(np.array(feature))\n",
        "\n",
        "# test_feature_img = {}\n",
        "# for index, img in enumerate(tqdm(test_img)):\n",
        "#     nw_feature = img_model_feature_extracter(img.reshape(1, 260, 260, 3))\n",
        "#     for num, feature in enumerate(tf.squeeze(nw_feature)):\n",
        "#         if index == 0:\n",
        "#             test_feature_img[f\"img_{num}\"] = []\n",
        "#         test_feature_img[f\"img_{num}\"].append(np.array(feature))\n",
        "\n",
        "# train_feature_img = pd.DataFrame(train_feature_img)\n",
        "# test_feature_img = pd.DataFrame(test_feature_img)\n",
        "# train_feature_img.to_csv('checkpoints/train_feature_img.csv', index=False)\n",
        "# test_feature_img.to_csv('checkpoints/test_feature_img.csv', index=False)"
      ]
    },
    {
      "cell_type": "code",
      "execution_count": 35,
      "metadata": {},
      "outputs": [
        {
          "name": "stdout",
          "output_type": "stream",
          "text": [
            "WARNING:tensorflow:Error in loading the saved optimizer state. As a result, your model is starting with a freshly initialized optimizer.\n"
          ]
        },
        {
          "name": "stderr",
          "output_type": "stream",
          "text": [
            "100%|██████████| 1518/1518 [06:44<00:00,  3.75it/s]\n",
            "100%|██████████| 1011/1011 [04:24<00:00,  3.82it/s]\n"
          ]
        }
      ],
      "source": [
        "# # Text Model Feature\n",
        "# txt_model = models.load_model('models/modelbert450 .5.h5', custom_objects={'f1_score':f1_score, 'TFBertModel':TFBertModel})\n",
        "# txt_model_feature_extracter = keras.Model(inputs=txt_model.input, outputs=txt_model.layers[-2].output)\n",
        "\n",
        "# # GPU MEMORY LIMIT\n",
        "# # BATCHING PREDICTION TECHNIQUE REQUIRED\n",
        "# train_txt, test_txt, target = get_text_dataset()\n",
        "\n",
        "# train_feature_txt = {}\n",
        "# for index, text in enumerate(tqdm(train_txt)):\n",
        "#     ids, ams, msk = bert_tokenize(list([text]))\n",
        "#     nw_feature = txt_model_feature_extracter([ids, ams, msk])\n",
        "#     for num, feature in enumerate(tf.squeeze(nw_feature)):\n",
        "#         if index == 0:\n",
        "#             train_feature_txt[f\"txt_{num}\"] = []\n",
        "#         train_feature_txt[f\"txt_{num}\"].append(np.array(feature))\n",
        "\n",
        "# test_feature_txt = {}\n",
        "# for index, text in enumerate(tqdm(test_txt)):\n",
        "#     ids, ams, msk = bert_tokenize(list([text]))\n",
        "#     nw_feature = txt_model_feature_extracter([ids, ams, msk])\n",
        "#     for num, feature in enumerate(tf.squeeze(nw_feature)):\n",
        "#         if index == 0:\n",
        "#             test_feature_txt[f\"txt_{num}\"] = []\n",
        "#         test_feature_txt[f\"txt_{num}\"].append(np.array(feature))\n",
        "\n",
        "# train_feature_txt = pd.DataFrame(train_feature_txt)\n",
        "# test_feature_txt = pd.DataFrame(test_feature_txt)\n",
        "# train_feature_txt.to_csv('checkpoints/train_feature_txt.csv', index=False)\n",
        "# test_feature_txt.to_csv('checkpoints/test_feature_txt.csv', index=False)"
      ]
    },
    {
      "cell_type": "code",
      "execution_count": 43,
      "metadata": {},
      "outputs": [
        {
          "data": {
            "text/html": [
              "<div>\n",
              "<style scoped>\n",
              "    .dataframe tbody tr th:only-of-type {\n",
              "        vertical-align: middle;\n",
              "    }\n",
              "\n",
              "    .dataframe tbody tr th {\n",
              "        vertical-align: top;\n",
              "    }\n",
              "\n",
              "    .dataframe thead th {\n",
              "        text-align: right;\n",
              "    }\n",
              "</style>\n",
              "<table border=\"1\" class=\"dataframe\">\n",
              "  <thead>\n",
              "    <tr style=\"text-align: right;\">\n",
              "      <th></th>\n",
              "      <th>pos_words</th>\n",
              "      <th>neg_words</th>\n",
              "      <th>year</th>\n",
              "      <th>month</th>\n",
              "      <th>week</th>\n",
              "      <th>weekday</th>\n",
              "      <th>quarter</th>\n",
              "      <th>day_of_year</th>\n",
              "      <th>day</th>\n",
              "      <th>day_of_week</th>\n",
              "      <th>bulan</th>\n",
              "      <th>tahun</th>\n",
              "      <th>curah_hujan</th>\n",
              "      <th>hari_hujan</th>\n",
              "      <th>suhu_udara</th>\n",
              "      <th>kelembapan</th>\n",
              "    </tr>\n",
              "  </thead>\n",
              "  <tbody>\n",
              "    <tr>\n",
              "      <th>0</th>\n",
              "      <td>2</td>\n",
              "      <td>0</td>\n",
              "      <td>2020</td>\n",
              "      <td>2</td>\n",
              "      <td>8</td>\n",
              "      <td>6</td>\n",
              "      <td>1</td>\n",
              "      <td>54</td>\n",
              "      <td>23</td>\n",
              "      <td>6</td>\n",
              "      <td>2</td>\n",
              "      <td>2020</td>\n",
              "      <td>154.0</td>\n",
              "      <td>17.0</td>\n",
              "      <td>26.7</td>\n",
              "      <td>86.0</td>\n",
              "    </tr>\n",
              "    <tr>\n",
              "      <th>1</th>\n",
              "      <td>1</td>\n",
              "      <td>0</td>\n",
              "      <td>2020</td>\n",
              "      <td>2</td>\n",
              "      <td>8</td>\n",
              "      <td>5</td>\n",
              "      <td>1</td>\n",
              "      <td>53</td>\n",
              "      <td>22</td>\n",
              "      <td>5</td>\n",
              "      <td>2</td>\n",
              "      <td>2020</td>\n",
              "      <td>154.0</td>\n",
              "      <td>17.0</td>\n",
              "      <td>26.7</td>\n",
              "      <td>86.0</td>\n",
              "    </tr>\n",
              "    <tr>\n",
              "      <th>2</th>\n",
              "      <td>1</td>\n",
              "      <td>0</td>\n",
              "      <td>2020</td>\n",
              "      <td>2</td>\n",
              "      <td>9</td>\n",
              "      <td>0</td>\n",
              "      <td>1</td>\n",
              "      <td>55</td>\n",
              "      <td>24</td>\n",
              "      <td>0</td>\n",
              "      <td>2</td>\n",
              "      <td>2020</td>\n",
              "      <td>154.0</td>\n",
              "      <td>17.0</td>\n",
              "      <td>26.7</td>\n",
              "      <td>86.0</td>\n",
              "    </tr>\n",
              "    <tr>\n",
              "      <th>3</th>\n",
              "      <td>4</td>\n",
              "      <td>3</td>\n",
              "      <td>2020</td>\n",
              "      <td>2</td>\n",
              "      <td>9</td>\n",
              "      <td>1</td>\n",
              "      <td>1</td>\n",
              "      <td>56</td>\n",
              "      <td>25</td>\n",
              "      <td>1</td>\n",
              "      <td>2</td>\n",
              "      <td>2020</td>\n",
              "      <td>154.0</td>\n",
              "      <td>17.0</td>\n",
              "      <td>26.7</td>\n",
              "      <td>86.0</td>\n",
              "    </tr>\n",
              "    <tr>\n",
              "      <th>4</th>\n",
              "      <td>4</td>\n",
              "      <td>3</td>\n",
              "      <td>2020</td>\n",
              "      <td>2</td>\n",
              "      <td>9</td>\n",
              "      <td>0</td>\n",
              "      <td>1</td>\n",
              "      <td>55</td>\n",
              "      <td>24</td>\n",
              "      <td>0</td>\n",
              "      <td>2</td>\n",
              "      <td>2020</td>\n",
              "      <td>154.0</td>\n",
              "      <td>17.0</td>\n",
              "      <td>26.7</td>\n",
              "      <td>86.0</td>\n",
              "    </tr>\n",
              "    <tr>\n",
              "      <th>...</th>\n",
              "      <td>...</td>\n",
              "      <td>...</td>\n",
              "      <td>...</td>\n",
              "      <td>...</td>\n",
              "      <td>...</td>\n",
              "      <td>...</td>\n",
              "      <td>...</td>\n",
              "      <td>...</td>\n",
              "      <td>...</td>\n",
              "      <td>...</td>\n",
              "      <td>...</td>\n",
              "      <td>...</td>\n",
              "      <td>...</td>\n",
              "      <td>...</td>\n",
              "      <td>...</td>\n",
              "      <td>...</td>\n",
              "    </tr>\n",
              "    <tr>\n",
              "      <th>1513</th>\n",
              "      <td>0</td>\n",
              "      <td>0</td>\n",
              "      <td>2020</td>\n",
              "      <td>4</td>\n",
              "      <td>15</td>\n",
              "      <td>6</td>\n",
              "      <td>2</td>\n",
              "      <td>103</td>\n",
              "      <td>12</td>\n",
              "      <td>6</td>\n",
              "      <td>4</td>\n",
              "      <td>2020</td>\n",
              "      <td>275.0</td>\n",
              "      <td>9.0</td>\n",
              "      <td>26.6</td>\n",
              "      <td>86.0</td>\n",
              "    </tr>\n",
              "    <tr>\n",
              "      <th>1514</th>\n",
              "      <td>2</td>\n",
              "      <td>3</td>\n",
              "      <td>2020</td>\n",
              "      <td>4</td>\n",
              "      <td>15</td>\n",
              "      <td>1</td>\n",
              "      <td>2</td>\n",
              "      <td>98</td>\n",
              "      <td>7</td>\n",
              "      <td>1</td>\n",
              "      <td>4</td>\n",
              "      <td>2020</td>\n",
              "      <td>275.0</td>\n",
              "      <td>9.0</td>\n",
              "      <td>26.6</td>\n",
              "      <td>86.0</td>\n",
              "    </tr>\n",
              "    <tr>\n",
              "      <th>1515</th>\n",
              "      <td>0</td>\n",
              "      <td>0</td>\n",
              "      <td>2020</td>\n",
              "      <td>4</td>\n",
              "      <td>16</td>\n",
              "      <td>2</td>\n",
              "      <td>2</td>\n",
              "      <td>106</td>\n",
              "      <td>15</td>\n",
              "      <td>2</td>\n",
              "      <td>4</td>\n",
              "      <td>2020</td>\n",
              "      <td>275.0</td>\n",
              "      <td>9.0</td>\n",
              "      <td>26.6</td>\n",
              "      <td>86.0</td>\n",
              "    </tr>\n",
              "    <tr>\n",
              "      <th>1516</th>\n",
              "      <td>3</td>\n",
              "      <td>1</td>\n",
              "      <td>2020</td>\n",
              "      <td>4</td>\n",
              "      <td>16</td>\n",
              "      <td>1</td>\n",
              "      <td>2</td>\n",
              "      <td>105</td>\n",
              "      <td>14</td>\n",
              "      <td>1</td>\n",
              "      <td>4</td>\n",
              "      <td>2020</td>\n",
              "      <td>275.0</td>\n",
              "      <td>9.0</td>\n",
              "      <td>26.6</td>\n",
              "      <td>86.0</td>\n",
              "    </tr>\n",
              "    <tr>\n",
              "      <th>1517</th>\n",
              "      <td>0</td>\n",
              "      <td>0</td>\n",
              "      <td>2020</td>\n",
              "      <td>4</td>\n",
              "      <td>16</td>\n",
              "      <td>2</td>\n",
              "      <td>2</td>\n",
              "      <td>106</td>\n",
              "      <td>15</td>\n",
              "      <td>2</td>\n",
              "      <td>4</td>\n",
              "      <td>2020</td>\n",
              "      <td>275.0</td>\n",
              "      <td>9.0</td>\n",
              "      <td>26.6</td>\n",
              "      <td>86.0</td>\n",
              "    </tr>\n",
              "  </tbody>\n",
              "</table>\n",
              "<p>1518 rows × 16 columns</p>\n",
              "</div>"
            ],
            "text/plain": [
              "      pos_words  neg_words  year  month  week  weekday  quarter  day_of_year  \\\n",
              "0             2          0  2020      2     8        6        1           54   \n",
              "1             1          0  2020      2     8        5        1           53   \n",
              "2             1          0  2020      2     9        0        1           55   \n",
              "3             4          3  2020      2     9        1        1           56   \n",
              "4             4          3  2020      2     9        0        1           55   \n",
              "...         ...        ...   ...    ...   ...      ...      ...          ...   \n",
              "1513          0          0  2020      4    15        6        2          103   \n",
              "1514          2          3  2020      4    15        1        2           98   \n",
              "1515          0          0  2020      4    16        2        2          106   \n",
              "1516          3          1  2020      4    16        1        2          105   \n",
              "1517          0          0  2020      4    16        2        2          106   \n",
              "\n",
              "      day  day_of_week  bulan  tahun  curah_hujan  hari_hujan  suhu_udara  \\\n",
              "0      23            6      2   2020        154.0        17.0        26.7   \n",
              "1      22            5      2   2020        154.0        17.0        26.7   \n",
              "2      24            0      2   2020        154.0        17.0        26.7   \n",
              "3      25            1      2   2020        154.0        17.0        26.7   \n",
              "4      24            0      2   2020        154.0        17.0        26.7   \n",
              "...   ...          ...    ...    ...          ...         ...         ...   \n",
              "1513   12            6      4   2020        275.0         9.0        26.6   \n",
              "1514    7            1      4   2020        275.0         9.0        26.6   \n",
              "1515   15            2      4   2020        275.0         9.0        26.6   \n",
              "1516   14            1      4   2020        275.0         9.0        26.6   \n",
              "1517   15            2      4   2020        275.0         9.0        26.6   \n",
              "\n",
              "      kelembapan  \n",
              "0           86.0  \n",
              "1           86.0  \n",
              "2           86.0  \n",
              "3           86.0  \n",
              "4           86.0  \n",
              "...          ...  \n",
              "1513        86.0  \n",
              "1514        86.0  \n",
              "1515        86.0  \n",
              "1516        86.0  \n",
              "1517        86.0  \n",
              "\n",
              "[1518 rows x 16 columns]"
            ]
          },
          "execution_count": 43,
          "metadata": {},
          "output_type": "execute_result"
        }
      ],
      "source": [
        "img_feature = pd.read_csv('')"
      ]
    }
  ],
  "metadata": {
    "accelerator": "GPU",
    "colab": {
      "machine_shape": "hm",
      "provenance": []
    },
    "gpuClass": "standard",
    "kernelspec": {
      "display_name": "Python 3.10.7 64-bit",
      "language": "python",
      "name": "python3"
    },
    "language_info": {
      "codemirror_mode": {
        "name": "ipython",
        "version": 3
      },
      "file_extension": ".py",
      "mimetype": "text/x-python",
      "name": "python",
      "nbconvert_exporter": "python",
      "pygments_lexer": "ipython3",
      "version": "3.10.7"
    },
    "orig_nbformat": 4,
    "vscode": {
      "interpreter": {
        "hash": "26de051ba29f2982a8de78e945f0abaf191376122a1563185a90213a26c5da77"
      }
    }
  },
  "nbformat": 4,
  "nbformat_minor": 0
}
