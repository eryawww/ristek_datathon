{
  "cells": [
    {
      "cell_type": "markdown",
      "metadata": {
        "id": "view-in-github",
        "colab_type": "text"
      },
      "source": [
        "<a href=\"https://colab.research.google.com/github/eryawww/ristek_datathon/blob/master/model.ipynb\" target=\"_parent\"><img src=\"https://colab.research.google.com/assets/colab-badge.svg\" alt=\"Open In Colab\"/></a>"
      ]
    },
    {
      "cell_type": "code",
      "execution_count": 1,
      "metadata": {
        "colab": {
          "base_uri": "https://localhost:8080/"
        },
        "id": "68ceTS8Jz7jz",
        "outputId": "bc8af04a-2b6e-48c9-dcb3-d9ddfff9d4a3"
      },
      "outputs": [
        {
          "name": "stdout",
          "output_type": "stream",
          "text": [
            "Looking in indexes: https://pypi.org/simple, https://us-python.pkg.dev/colab-wheels/public/simple/\n",
            "Collecting emoji\n",
            "  Downloading emoji-2.2.0.tar.gz (240 kB)\n",
            "\u001b[K     |████████████████████████████████| 240 kB 19.5 MB/s \n",
            "\u001b[?25hCollecting nlp_id\n",
            "  Downloading nlp_id-0.1.13.0.tar.gz (7.9 MB)\n",
            "\u001b[K     |████████████████████████████████| 7.9 MB 4.8 MB/s \n",
            "\u001b[?25hCollecting transformers\n",
            "  Downloading transformers-4.25.1-py3-none-any.whl (5.8 MB)\n",
            "\u001b[K     |████████████████████████████████| 5.8 MB 53.3 MB/s \n",
            "\u001b[?25hCollecting tensorflow_addons\n",
            "  Downloading tensorflow_addons-0.18.0-cp38-cp38-manylinux_2_17_x86_64.manylinux2014_x86_64.whl (1.1 MB)\n",
            "\u001b[K     |████████████████████████████████| 1.1 MB 76.6 MB/s \n",
            "\u001b[?25hCollecting catboost\n",
            "  Downloading catboost-1.1.1-cp38-none-manylinux1_x86_64.whl (76.6 MB)\n",
            "\u001b[K     |████████████████████████████████| 76.6 MB 3.0 MB/s \n",
            "\u001b[?25hCollecting scikit-learn==1.1.0\n",
            "  Downloading scikit_learn-1.1.0-cp38-cp38-manylinux_2_17_x86_64.manylinux2014_x86_64.whl (31.0 MB)\n",
            "\u001b[K     |████████████████████████████████| 31.0 MB 1.2 MB/s \n",
            "\u001b[?25hCollecting nltk==3.4.5\n",
            "  Downloading nltk-3.4.5.zip (1.5 MB)\n",
            "\u001b[K     |████████████████████████████████| 1.5 MB 83.1 MB/s \n",
            "\u001b[?25hCollecting wget==3.2\n",
            "  Downloading wget-3.2.zip (10 kB)\n",
            "Requirement already satisfied: six in /usr/local/lib/python3.8/dist-packages (from nltk==3.4.5->nlp_id) (1.15.0)\n",
            "Requirement already satisfied: threadpoolctl>=2.0.0 in /usr/local/lib/python3.8/dist-packages (from scikit-learn==1.1.0->nlp_id) (3.1.0)\n",
            "Requirement already satisfied: joblib>=1.0.0 in /usr/local/lib/python3.8/dist-packages (from scikit-learn==1.1.0->nlp_id) (1.2.0)\n",
            "Requirement already satisfied: numpy>=1.17.3 in /usr/local/lib/python3.8/dist-packages (from scikit-learn==1.1.0->nlp_id) (1.21.6)\n",
            "Requirement already satisfied: scipy>=1.3.2 in /usr/local/lib/python3.8/dist-packages (from scikit-learn==1.1.0->nlp_id) (1.7.3)\n",
            "Collecting huggingface-hub<1.0,>=0.10.0\n",
            "  Downloading huggingface_hub-0.11.1-py3-none-any.whl (182 kB)\n",
            "\u001b[K     |████████████████████████████████| 182 kB 84.2 MB/s \n",
            "\u001b[?25hCollecting tokenizers!=0.11.3,<0.14,>=0.11.1\n",
            "  Downloading tokenizers-0.13.2-cp38-cp38-manylinux_2_17_x86_64.manylinux2014_x86_64.whl (7.6 MB)\n",
            "\u001b[K     |████████████████████████████████| 7.6 MB 80.2 MB/s \n",
            "\u001b[?25hRequirement already satisfied: pyyaml>=5.1 in /usr/local/lib/python3.8/dist-packages (from transformers) (6.0)\n",
            "Requirement already satisfied: tqdm>=4.27 in /usr/local/lib/python3.8/dist-packages (from transformers) (4.64.1)\n",
            "Requirement already satisfied: packaging>=20.0 in /usr/local/lib/python3.8/dist-packages (from transformers) (21.3)\n",
            "Requirement already satisfied: filelock in /usr/local/lib/python3.8/dist-packages (from transformers) (3.8.0)\n",
            "Requirement already satisfied: regex!=2019.12.17 in /usr/local/lib/python3.8/dist-packages (from transformers) (2022.6.2)\n",
            "Requirement already satisfied: requests in /usr/local/lib/python3.8/dist-packages (from transformers) (2.23.0)\n",
            "Requirement already satisfied: typing-extensions>=3.7.4.3 in /usr/local/lib/python3.8/dist-packages (from huggingface-hub<1.0,>=0.10.0->transformers) (4.1.1)\n",
            "Requirement already satisfied: pyparsing!=3.0.5,>=2.0.2 in /usr/local/lib/python3.8/dist-packages (from packaging>=20.0->transformers) (3.0.9)\n",
            "Requirement already satisfied: typeguard>=2.7 in /usr/local/lib/python3.8/dist-packages (from tensorflow_addons) (2.7.1)\n",
            "Requirement already satisfied: graphviz in /usr/local/lib/python3.8/dist-packages (from catboost) (0.10.1)\n",
            "Requirement already satisfied: pandas>=0.24.0 in /usr/local/lib/python3.8/dist-packages (from catboost) (1.3.5)\n",
            "Requirement already satisfied: plotly in /usr/local/lib/python3.8/dist-packages (from catboost) (5.5.0)\n",
            "Requirement already satisfied: matplotlib in /usr/local/lib/python3.8/dist-packages (from catboost) (3.2.2)\n",
            "Requirement already satisfied: pytz>=2017.3 in /usr/local/lib/python3.8/dist-packages (from pandas>=0.24.0->catboost) (2022.6)\n",
            "Requirement already satisfied: python-dateutil>=2.7.3 in /usr/local/lib/python3.8/dist-packages (from pandas>=0.24.0->catboost) (2.8.2)\n",
            "Requirement already satisfied: cycler>=0.10 in /usr/local/lib/python3.8/dist-packages (from matplotlib->catboost) (0.11.0)\n",
            "Requirement already satisfied: kiwisolver>=1.0.1 in /usr/local/lib/python3.8/dist-packages (from matplotlib->catboost) (1.4.4)\n",
            "Requirement already satisfied: tenacity>=6.2.0 in /usr/local/lib/python3.8/dist-packages (from plotly->catboost) (8.1.0)\n",
            "Requirement already satisfied: idna<3,>=2.5 in /usr/local/lib/python3.8/dist-packages (from requests->transformers) (2.10)\n",
            "Requirement already satisfied: urllib3!=1.25.0,!=1.25.1,<1.26,>=1.21.1 in /usr/local/lib/python3.8/dist-packages (from requests->transformers) (1.24.3)\n",
            "Requirement already satisfied: chardet<4,>=3.0.2 in /usr/local/lib/python3.8/dist-packages (from requests->transformers) (3.0.4)\n",
            "Requirement already satisfied: certifi>=2017.4.17 in /usr/local/lib/python3.8/dist-packages (from requests->transformers) (2022.9.24)\n",
            "Building wheels for collected packages: emoji, nlp-id, nltk, wget\n",
            "  Building wheel for emoji (setup.py) ... \u001b[?25l\u001b[?25hdone\n",
            "  Created wheel for emoji: filename=emoji-2.2.0-py3-none-any.whl size=234926 sha256=717c0239878142d8cebe353c4d1927fe0d8d5ed43a64f925dc3068d996efc04a\n",
            "  Stored in directory: /root/.cache/pip/wheels/86/62/9e/a6b27a681abcde69970dbc0326ff51955f3beac72f15696984\n",
            "  Building wheel for nlp-id (setup.py) ... \u001b[?25l\u001b[?25hdone\n",
            "  Created wheel for nlp-id: filename=nlp_id-0.1.13.0-py3-none-any.whl size=8074943 sha256=cb0b2fe769a65068df5d3f126d6beb315a236cf7044828ebb8d4d336bd43b1f8\n",
            "  Stored in directory: /root/.cache/pip/wheels/c9/40/1e/1f65670842151a87e008b5df647bf5d8b034e762e1934fd7f3\n",
            "  Building wheel for nltk (setup.py) ... \u001b[?25l\u001b[?25hdone\n",
            "  Created wheel for nltk: filename=nltk-3.4.5-py3-none-any.whl size=1449920 sha256=05a9895649db9bae75c6b43a5a50e52b219017232973e6e26ead0d38d4d062c5\n",
            "  Stored in directory: /root/.cache/pip/wheels/23/18/48/8fd6ec11da38406b309470566d6f099c04805d2ec61d7829e7\n",
            "  Building wheel for wget (setup.py) ... \u001b[?25l\u001b[?25hdone\n",
            "  Created wheel for wget: filename=wget-3.2-py3-none-any.whl size=9674 sha256=0fdb0887ab0ef7068fbe115d0a27f115de012d232383b422095f7d5123635349\n",
            "  Stored in directory: /root/.cache/pip/wheels/bd/a8/c3/3cf2c14a1837a4e04bd98631724e81f33f462d86a1d895fae0\n",
            "Successfully built emoji nlp-id nltk wget\n",
            "Installing collected packages: wget, tokenizers, scikit-learn, nltk, huggingface-hub, transformers, tensorflow-addons, nlp-id, emoji, catboost\n",
            "  Attempting uninstall: scikit-learn\n",
            "    Found existing installation: scikit-learn 1.0.2\n",
            "    Uninstalling scikit-learn-1.0.2:\n",
            "      Successfully uninstalled scikit-learn-1.0.2\n",
            "  Attempting uninstall: nltk\n",
            "    Found existing installation: nltk 3.7\n",
            "    Uninstalling nltk-3.7:\n",
            "      Successfully uninstalled nltk-3.7\n",
            "Successfully installed catboost-1.1.1 emoji-2.2.0 huggingface-hub-0.11.1 nlp-id-0.1.13.0 nltk-3.4.5 scikit-learn-1.1.0 tensorflow-addons-0.18.0 tokenizers-0.13.2 transformers-4.25.1 wget-3.2\n"
          ]
        }
      ],
      "source": [
        "!pip install emoji nlp_id transformers tensorflow_addons catboost"
      ]
    },
    {
      "cell_type": "code",
      "execution_count": 2,
      "metadata": {
        "colab": {
          "base_uri": "https://localhost:8080/"
        },
        "id": "78X9EeF4yuTA",
        "outputId": "73038c5d-4176-4852-8082-f7d978105aea"
      },
      "outputs": [
        {
          "name": "stdout",
          "output_type": "stream",
          "text": [
            "Mounted at /content/drive\n"
          ]
        }
      ],
      "source": [
        "import os\n",
        "from termcolor import colored\n",
        "from tqdm import tqdm\n",
        "import warnings\n",
        "from IPython.display import clear_output\n",
        "warnings.filterwarnings(\"ignore\", category=DeprecationWarning) \n",
        "\n",
        "import pandas as pd\n",
        "import random\n",
        "import numpy as np\n",
        "import seaborn as sns\n",
        "import matplotlib.pyplot as plt\n",
        "\n",
        "import cv2\n",
        "\n",
        "import re\n",
        "import emoji\n",
        "from nlp_id import Lemmatizer, StopWord\n",
        "import string\n",
        "\n",
        "from sklearn.model_selection import train_test_split\n",
        "\n",
        "import tensorflow as tf\n",
        "import tensorflow_addons as tfa\n",
        "import keras.backend as K\n",
        "\n",
        "from transformers import TFBertModel\n",
        "from transformers import AutoTokenizer\n",
        "\n",
        "import sys\n",
        "IN_COLAB = 'google.colab' in sys.modules\n",
        "if IN_COLAB:\n",
        "  from google.colab import drive\n",
        "  drive.mount('/content/drive', force_remount=True)\n",
        "\n",
        "RUN_OPTIONAL_CELLS = True"
      ]
    },
    {
      "cell_type": "code",
      "execution_count": 3,
      "metadata": {
        "id": "tUrWQEtuzba8"
      },
      "outputs": [],
      "source": [
        "def get_path(path:str):\n",
        "  '''\n",
        "  Dynamic Path Finding for cloud and local computing\n",
        "  '''\n",
        "  CLOUD_PATH = '/content/drive/MyDrive/Cloud Computing Data/datathon_2022/'\n",
        "  if IN_COLAB:\n",
        "    return (CLOUD_PATH+path).replace('//', '/')\n",
        "  return path\n",
        "    "
      ]
    },
    {
      "cell_type": "code",
      "execution_count": 4,
      "metadata": {
        "id": "BAtxCxdpyuTB"
      },
      "outputs": [],
      "source": [
        "train = pd.read_csv(get_path('data/train.csv'), parse_dates=['created_at'])\n",
        "test = pd.read_csv(get_path('data/test.csv'), parse_dates=['created_at'])\n",
        "target = pd.DataFrame({'label': train['label'].values})\n",
        "DROP = ['url', 'user_id']"
      ]
    },
    {
      "cell_type": "markdown",
      "metadata": {
        "id": "tVsrz6SPyuTC"
      },
      "source": [
        "# Image Data"
      ]
    },
    {
      "cell_type": "code",
      "execution_count": 5,
      "metadata": {
        "id": "mPWrL_b3yuTD"
      },
      "outputs": [],
      "source": [
        "IMG_SHAPE = (260, 260, 3)\n",
        "IMG_SOURCE = ['external', 'native'] # native, external, external_2"
      ]
    },
    {
      "cell_type": "code",
      "execution_count": 6,
      "metadata": {
        "id": "erubofOhyuTE"
      },
      "outputs": [],
      "source": [
        "def _load_img(file_path:str):\n",
        "    \"\"\"\n",
        "        convert file_path to numpy array image with shape: globals()['IMG_SHAPE']\n",
        "        param:\n",
        "            file_path: .csv or folder path of a image\n",
        "    \"\"\"\n",
        "    if file_path.endswith('.csv'):\n",
        "        data = pd.read_csv(file_path)\n",
        "        img_arr = None\n",
        "        for inx, row in tqdm(data.iterrows(), total=len(data)):\n",
        "            nw_img_path = row['media']\n",
        "            if img_arr is None:\n",
        "                img_arr = cv2.resize(cv2.cvtColor(cv2.imread(f'{get_path(\"data/media/\"+nw_img_path)}'), cv2.COLOR_RGB2BGR), IMG_SHAPE[:-1]).reshape(1, *IMG_SHAPE)\n",
        "            else:\n",
        "                img_arr = np.vstack([img_arr, cv2.resize(cv2.cvtColor(cv2.imread(f'{get_path(\"data/media/\"+nw_img_path)}'), cv2.COLOR_RGB2BGR), IMG_SHAPE[:-1]).reshape(1, *IMG_SHAPE)])\n",
        "        return img_arr\n",
        "    else:\n",
        "        img_arr = None\n",
        "        for current_file in os.listdir(file_path):\n",
        "            if not current_file.endswith('.jpg'):\n",
        "                continue\n",
        "            nw_img_path = os.path.join(file_path, current_file)\n",
        "            if img_arr is None:\n",
        "                img_arr = cv2.resize(cv2.cvtColor(cv2.imread(f'{get_path(\"data/media/\"+nw_img_path)}'), cv2.COLOR_RGB2BGR), IMG_SHAPE[:-1]).reshape(1, *IMG_SHAPE)\n",
        "            else:\n",
        "                img_arr = np.vstack([img_arr, cv2.resize(cv2.cvtColor(cv2.imread(f'{get_path(\"data/media/\"+nw_img_path)}'), cv2.COLOR_RGB2BGR), IMG_SHAPE[:-1]).reshape(1, *IMG_SHAPE)])\n",
        "        return img_arr"
      ]
    },
    {
      "cell_type": "markdown",
      "metadata": {
        "id": "hTPdDv1ByuTF"
      },
      "source": [
        "## Internal Data"
      ]
    },
    {
      "cell_type": "markdown",
      "metadata": {
        "id": "5yldGjHieePq"
      },
      "source": [
        "## Tabular"
      ]
    },
    {
      "cell_type": "code",
      "execution_count": 7,
      "metadata": {
        "id": "qXOBfgN0eePr"
      },
      "outputs": [],
      "source": [
        "def get_date_feature(df:pd.DataFrame, col:str) -> pd.DataFrame:\n",
        "    df['year'] = df[col].dt.year\n",
        "    df['month'] = df[col].dt.month\n",
        "    df['week'] = np.int32(df[col].dt.isocalendar().week)\n",
        "    df['weekday'] = df[col].dt.weekday\n",
        "    df['quarter'] = df[col].dt.quarter\n",
        "    df['day_of_year'] = df[col].dt.day_of_year\n",
        "    df['day'] = df[col].dt.day\n",
        "    df['day_of_week'] = df[col].dt.day_of_week\n",
        "    return df"
      ]
    },
    {
      "cell_type": "markdown",
      "metadata": {
        "id": "q93aNVsveePs"
      },
      "source": [
        "## Image"
      ]
    },
    {
      "cell_type": "code",
      "execution_count": 8,
      "metadata": {
        "id": "TK8SMaKayuTF"
      },
      "outputs": [],
      "source": [
        "def get_image_dataset():\n",
        "    \"\"\"\n",
        "        get original image dataset\n",
        "        return:\n",
        "            train_img\n",
        "            test_img\n",
        "            target\n",
        "    \"\"\"\n",
        "    target = pd.read_csv(get_path(f'checkpoints/img_arr_(600, 600, 3)_target.csv'))\n",
        "    file_name = get_path(f'checkpoints/img_arr_{IMG_SHAPE}')\n",
        "    if os.path.exists(file_name+'.npy'):\n",
        "        train_img = np.load(file_name+'.npy')\n",
        "    else:\n",
        "        train_img = _load_img(get_path('data/train.csv'))\n",
        "        np.save(file_name, train_img)\n",
        "    \n",
        "    test_name = get_path(f'checkpoints/test_img_arr_{IMG_SHAPE}')\n",
        "    if os.path.exists(test_name+'.npy'):\n",
        "        test_img = np.load(test_name+'.npy')\n",
        "    else:\n",
        "        test_img = _load_img(get_path('data/test.csv'))\n",
        "        np.save(test_name, test_img)\n",
        "    return train_img, test_img, target\n",
        "\n",
        "def get_oversampled_train_image_dataset(test_split_ratio:float = 0.2):\n",
        "    \"\"\"\n",
        "        return oversampled training data with validation split that avoid data leakage\n",
        "        return\n",
        "            train_x, val_x, train_y, val_y\n",
        "    \"\"\"\n",
        "    train_img, test_img, target = get_image_dataset()\n",
        "\n",
        "    train_x, val_x, train_y, val_y = train_test_split(train_img, target, test_size=test_split_ratio)\n",
        "    \n",
        "    pos_features = train_x[train_y['label'] == 1]\n",
        "    neg_features = train_x[~(train_y['label'] == 1)]\n",
        "\n",
        "    pos_labels = train_y[train_y['label'] == 1]\n",
        "    neg_labels = train_y[train_y['label'] == 0]\n",
        "\n",
        "    assert len(pos_features)+len(neg_features) == len(pos_labels)+len(neg_labels)\n",
        "\n",
        "    nw_features = pos_features[:]\n",
        "    nw_labels = pos_labels.copy(deep=True)\n",
        "\n",
        "    train_img = np.concatenate([pos_features, neg_features, nw_features, nw_features])\n",
        "    target = pd.concat([pos_labels, neg_labels, nw_labels, nw_labels], axis=0)\n",
        "    assert len(train_img) == len(target)\n",
        "    return train_img, val_x, target, val_y"
      ]
    },
    {
      "cell_type": "markdown",
      "metadata": {
        "id": "OlbhMsQmeePu"
      },
      "source": [
        "## Text"
      ]
    },
    {
      "cell_type": "code",
      "execution_count": 9,
      "metadata": {
        "id": "Wf3afSE4eePu"
      },
      "outputs": [],
      "source": [
        "MAX_WORD = 50"
      ]
    },
    {
      "cell_type": "markdown",
      "metadata": {
        "id": "XzktIgnjeePv"
      },
      "source": [
        "### Tokenization"
      ]
    },
    {
      "cell_type": "code",
      "execution_count": 10,
      "metadata": {
        "id": "ciom0m_ReePv"
      },
      "outputs": [],
      "source": [
        "emoticons_str = r\"\"\"\n",
        "    (?:\n",
        "        [:=;] # Eyes\n",
        "        [oO\\-]? # Nose (optional)\n",
        "        [D\\)\\]\\(\\]/\\\\OpP] # Mouth\n",
        "    )\"\"\"\n",
        "\n",
        "regex_str = []\n",
        "regex_str.append(emoticons_str)\n",
        "regex_str.append(r'<[^>]+>') # HTML tags\n",
        "regex_str.append(r'(?:@[\\w_]+)') # @-mentions\n",
        "regex_str.append(r'(?:&[\\w_]+)')\n",
        "regex_str.append(r\"(?:\\#+[\\w_]+[\\w\\'_\\-]*[\\w_]+)\") # hash-tags\n",
        "regex_str.append(r'http[s]?://(?:[a-z]|[0-9]|[$-_@.&amp;+]|[!*\\(\\),]|(?:%[0-9a-f][0-9a-f]))+') # URLs\n",
        "regex_str.append(r'(?:(?:\\d+,?)+(?:\\.?\\d+)?)') # numbers\n",
        "regex_str.append(r\"(?:[a-z][a-z'\\-_]+[a-z])\") # words with - and '\n",
        "regex_str.append(r'(?:[\\w_]+)') # other words\n",
        "regex_str.append(r'(?:\\S)') # anything else\n",
        "\n",
        "tokens_re = re.compile(r'('+'|'.join(regex_str)+')', re.VERBOSE | re.IGNORECASE)\n",
        "emoticon_re = re.compile(r'^'+emoticons_str+'$', re.VERBOSE | re.IGNORECASE)\n",
        "\n",
        "def tokenize(sentence):\n",
        "    return [emoji.demojize(term) for term in tokens_re.findall(sentence)]"
      ]
    },
    {
      "cell_type": "markdown",
      "metadata": {
        "id": "ZzaLQhOJeePv"
      },
      "source": [
        "### Stopwords and Lemmatisation"
      ]
    },
    {
      "cell_type": "code",
      "execution_count": 11,
      "metadata": {
        "id": "sCAOUJbUeePv"
      },
      "outputs": [],
      "source": [
        "lemmatizer = Lemmatizer()\n",
        "stopword = StopWord()\n",
        "\n",
        "punctuation = list(string.punctuation)\n",
        "stops = stopword.get_stopword() + punctuation + ['rt', 'via', '…','•','“']\n",
        "\n",
        "def stopwords_and_lemmatize(tokenized_sentence):\n",
        "  processed_words = []\n",
        "  for word in tokenized_sentence:\n",
        "    if word.lower() not in stops:\n",
        "      processed_words.append(lemmatizer.lemmatize(word))\n",
        "  return processed_words"
      ]
    },
    {
      "cell_type": "markdown",
      "metadata": {
        "id": "MmHrVlSPeePw"
      },
      "source": [
        "### Final Pipeline"
      ]
    },
    {
      "cell_type": "code",
      "execution_count": 12,
      "metadata": {
        "id": "Ob7I4Cu3eePw"
      },
      "outputs": [],
      "source": [
        "def preprocess_text(sentence):\n",
        "    return stopwords_and_lemmatize(tokenize(sentence))"
      ]
    },
    {
      "cell_type": "code",
      "execution_count": 13,
      "metadata": {
        "id": "Yyq2ek_heePx"
      },
      "outputs": [],
      "source": [
        "def get_vtext_dataset():\n",
        "    raise NotImplementedError\n",
        "    \"\"\"\n",
        "        get original text dataset\n",
        "        return:\n",
        "            train_vtext\n",
        "            test_vtext\n",
        "            target\n",
        "    \"\"\"\n",
        "    from gensim.models.fasttext import load_facebook_model\n",
        "    ft = load_facebook_model('pretrained/fastText/cc.id.300.bin')\n",
        "\n",
        "    target = pd.read_csv(get_path(f'checkpoints/img_arr_(600, 600, 3)_target.csv'))\n",
        "    file_name = get_path(f'checkpoints/text_vtext_{IMG_SHAPE}')\n",
        "    if os.path.exists(file_name+'.npy'):\n",
        "        train_text = np.load(file_name+'.npy')\n",
        "    else:\n",
        "        train_text = None\n",
        "        for inx, row in train.iterrows():\n",
        "            # Continue\n",
        "            if train_text is None:\n",
        "                train_text = np.array(preprocess_text(row['text']))\n",
        "            else:\n",
        "                pass\n",
        "            np.save(file_name, img_arr)\n",
        "    \n",
        "    test_name = get_path(f'checkpoints/test_img_arr_{IMG_SHAPE}')\n",
        "    if os.path.exists(test_name+'.npy'):\n",
        "        test_img_arr = np.load(test_name+'.npy')\n",
        "    else:\n",
        "        test_img_arr = _load_img(get_path('data/test.csv'))\n",
        "        np.save(test_name, test_img_arr)\n",
        "    return img_arr, test_img_arr, target\n",
        "\n",
        "def get_text_dataset():\n",
        "    return train['text'].copy(), test['text'].copy(), target.copy()"
      ]
    },
    {
      "cell_type": "markdown",
      "metadata": {
        "id": "63EomNjRyuTF"
      },
      "source": [
        "## External Data"
      ]
    },
    {
      "cell_type": "code",
      "execution_count": 14,
      "metadata": {
        "id": "g0_MkAsfyuTH"
      },
      "outputs": [],
      "source": [
        "pass\n",
        "if 'external' in IMG_SOURCE:\n",
        "    pass"
      ]
    },
    {
      "cell_type": "markdown",
      "metadata": {
        "id": "ISPiztGYeePx"
      },
      "source": [
        "# Metrics and Template"
      ]
    },
    {
      "cell_type": "code",
      "execution_count": 15,
      "metadata": {
        "id": "Xfch0_3IeePy"
      },
      "outputs": [],
      "source": [
        "def f1_score(y_true, y_pred):\n",
        "    true_positives = K.sum(K.round(K.clip(y_true * y_pred, 0, 1)))\n",
        "    possible_positives = K.sum(K.round(K.clip(y_true, 0, 1)))\n",
        "    predicted_positives = K.sum(K.round(K.clip(y_pred, 0, 1)))\n",
        "    precision = true_positives / (predicted_positives + K.epsilon())\n",
        "    recall = true_positives / (possible_positives + K.epsilon())\n",
        "    return 2 * (precision * recall) / (precision+recall + K.epsilon())"
      ]
    },
    {
      "cell_type": "markdown",
      "metadata": {
        "id": "XtoA6PbeyuTJ"
      },
      "source": [
        "# Modelling"
      ]
    },
    {
      "cell_type": "code",
      "execution_count": 16,
      "metadata": {
        "id": "arq-6rIeyuTJ"
      },
      "outputs": [],
      "source": [
        "import tensorflow as tf\n",
        "import keras\n",
        "from keras import layers, activations, losses, optimizers, initializers, regularizers, metrics, Input, models\n",
        "import sklearn.metrics as skMetrics\n",
        "from sklearn.model_selection import train_test_split\n",
        "\n",
        "def plot_hist(hist):\n",
        "    fig = plt.figure()\n",
        "    fig.add_subplot(1, 2, 1)\n",
        "    plt.plot(hist.history['acc'], label = 'train')\n",
        "    plt.plot(hist.history['val_acc'], label = 'validation')\n",
        "    plt.xlabel('acc')\n",
        "    plt.legend()\n",
        "    fig.add_subplot(1, 2, 2)\n",
        "    plt.plot(hist.history['mae'], label = 'train')\n",
        "    plt.plot(hist.history['val_mae'], label = 'validation')\n",
        "    plt.xlabel('mae')\n",
        "    plt.legend()"
      ]
    },
    {
      "cell_type": "markdown",
      "metadata": {
        "id": "BcvGbnUUyuTJ"
      },
      "source": [
        "## EfficientNetB"
      ]
    },
    {
      "cell_type": "code",
      "execution_count": 17,
      "metadata": {
        "id": "MI3K90_yDvnf"
      },
      "outputs": [],
      "source": [
        "# from sklearn.model_selection import train_test_split\n",
        "\n",
        "# img_arr, test_img_arr, target = get_image_dataset()\n",
        "\n",
        "# train_x, val_x, train_y, val_y = train_test_split(img_arr, target, test_size=0.2, stratify=target)"
      ]
    },
    {
      "cell_type": "code",
      "execution_count": 18,
      "metadata": {
        "id": "Qy4_DKRcyuTK"
      },
      "outputs": [],
      "source": [
        "# from keras.applications import EfficientNetB4\n",
        "# from keras.applications.efficientnet import preprocess_input\n",
        "\n",
        "# input_layer = Input(shape=IMG_SHAPE, dtype=tf.float32)\n",
        "# efficientNetB7_layer = EfficientNetB4()(preprocess_input(input_layer))\n",
        "# efficientNetB7_layer.trainable = False\n",
        "# flatten_layer = layers.Flatten()(efficientNetB7_layer)\n",
        "# dense_layer = layers.Dense(400, activation='relu')(flatten_layer)\n",
        "# dropout_layer = layers.Dropout(.2)(dense_layer)\n",
        "# dense_layer = layers.Dense(200, activation='relu')(flatten_layer)\n",
        "# dropout_layer = layers.Dropout(.2)(dense_layer)\n",
        "# output_layer = layers.Dense(1, activation='sigmoid')(dropout_layer)\n",
        "\n",
        "# model = keras.Model(inputs=input_layer, outputs=output_layer)\n",
        "\n",
        "# model.compile('adam', loss=losses.BinaryCrossentropy(), metrics=['mae', 'acc'])"
      ]
    },
    {
      "cell_type": "code",
      "execution_count": 19,
      "metadata": {
        "id": "MFln23cIyuTK"
      },
      "outputs": [],
      "source": [
        "# callback = tf.keras.callbacks.EarlyStopping(monitor='val_mae', patience=7, restore_best_weights=True)\n",
        "# hist = model.fit(train_x, train_y, validation_data=(val_x, val_y), batch_size=64, epochs=20, callbacks=[callback])"
      ]
    },
    {
      "cell_type": "code",
      "execution_count": 20,
      "metadata": {
        "id": "KO_knTjyA6hx"
      },
      "outputs": [],
      "source": [
        "# model.save(get_path('model2_150neuron.h5'))"
      ]
    },
    {
      "cell_type": "markdown",
      "metadata": {
        "id": "-xO-_se5eeP0"
      },
      "source": [
        "## Full Complex Model"
      ]
    },
    {
      "cell_type": "markdown",
      "metadata": {
        "id": "dUzWH6FzeeP0"
      },
      "source": [
        "### Data Analyst"
      ]
    },
    {
      "cell_type": "code",
      "execution_count": 21,
      "metadata": {
        "colab": {
          "base_uri": "https://localhost:8080/",
          "height": 296
        },
        "id": "CrE2xdemeeP1",
        "outputId": "a0a1ae5e-c84a-49ce-e0d0-ff43acd409ec"
      },
      "outputs": [
        {
          "name": "stdout",
          "output_type": "stream",
          "text": [
            "Maksimal kata pada variabel text : 56\n"
          ]
        },
        {
          "data": {
            "image/png": "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",
            "text/plain": [
              "<Figure size 432x288 with 1 Axes>"
            ]
          },
          "metadata": {
            "needs_background": "light"
          },
          "output_type": "display_data"
        }
      ],
      "source": [
        "if RUN_OPTIONAL_CELLS:\n",
        "    sns.histplot(train['text'].map(lambda x: len(x.split())))\n",
        "    plt.axvline(MAX_WORD, color='green', label='max word')\n",
        "    plt.legend()\n",
        "    print(f'Maksimal kata pada variabel text :', colored(train['text'].map(lambda x: len(x.split())).max(), 'green'))"
      ]
    },
    {
      "cell_type": "markdown",
      "metadata": {
        "id": "PGTzrNk9eeP2"
      },
      "source": [
        "### Data Preparation"
      ]
    },
    {
      "cell_type": "markdown",
      "metadata": {
        "id": "BaDvcqyCeeP2"
      },
      "source": [
        "#### Plot Pos-Neg Words"
      ]
    },
    {
      "cell_type": "code",
      "execution_count": 22,
      "metadata": {
        "colab": {
          "base_uri": "https://localhost:8080/",
          "height": 54
        },
        "id": "BjaJUARIeeP2",
        "outputId": "96d7df22-71d8-4fed-e80e-ed0d3bed892c"
      },
      "outputs": [
        {
          "data": {
            "image/png": "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",
            "text/plain": [
              "<Figure size 432x288 with 1 Axes>"
<<<<<<< HEAD
            ]
=======
            ],
            "image/png": "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\n"
>>>>>>> d408c338a4879cfc39df85a207c464b93a72438a
          },
          "metadata": {
            "needs_background": "light"
          },
          "output_type": "display_data"
        }
      ],
      "source": [
        "sentword_score = {}\n",
        "\n",
        "def load_sentword(filename):\n",
        "  file = open(get_path(filename), \"r\")\n",
        "  file.readline()\n",
        "  for line in file:\n",
        "    word, score = line.strip().split(\"\\t\")\n",
        "    score = int(score)\n",
        "    sentword_score[word] = score\n",
        "  file.close()\n",
        "\n",
        "load_sentword(\"tools/negative.tsv\")\n",
        "load_sentword(\"tools/positive.tsv\")\n",
        "\n",
        "import matplotlib.patches as mpatches\n",
        "\n",
        "num_pos = []\n",
        "num_neg = []\n",
        "scores  = []\n",
        "\n",
        "for _, row in train.iterrows():\n",
        "  tokens = tokenize(row[\"text\"])\n",
        "  label = row[target.columns[0]]\n",
        "  num_negative, num_positive = 0, 0\n",
        "\n",
        "  for token in tokens:\n",
        "    if token in sentword_score:\n",
        "      if (sentword_score[token] < 0):\n",
        "        num_negative += 1\n",
        "      elif (sentword_score[token] > 0):\n",
        "        num_positive += 1\n",
        "  num_pos.append(num_positive)\n",
        "  num_neg.append(num_negative)\n",
        "  scores.append(label)\n",
        "\n",
        "# tambahkan kolom di dataframe\n",
        "train[\"pos_words\"] = num_pos\n",
        "train[\"neg_words\"] = num_neg\n",
        "\n",
        "# add jitters\n",
        "num_pos = np.array(num_pos)\n",
        "num_neg = np.array(num_neg)\n",
        "num_pos = num_pos + np.random.normal(0, 0.2, len(num_pos))\n",
        "num_neg = num_neg + np.random.normal(0, 0.2, len(num_neg))\n",
        "\n",
        "if RUN_OPTIONAL_CELLS:\n",
        "  colors = ['g' if score == 1 else 'r' for score in scores]\n",
        "  plt.scatter(num_pos, num_neg, c = colors, alpha=0.3)\n",
        "  plt.xlabel('# positive words')\n",
        "  plt.ylabel('# negative words')\n",
        "\n",
        "  # Legend\n",
        "  red_patch = mpatches.Patch(color='red', label='Negative')\n",
        "  green_patch = mpatches.Patch(color='green', label='Positive')\n",
        "\n",
        "  plt.legend(handles=[red_patch, green_patch])\n",
        "  plt.show()"
      ]
    },
    {
      "cell_type": "markdown",
      "metadata": {
        "id": "WeoUY4a5eeP3"
      },
      "source": [
        "#### Tabular Data"
      ]
    },
    {
      "cell_type": "code",
      "execution_count": 23,
      "metadata": {
        "colab": {
          "base_uri": "https://localhost:8080/"
        },
        "id": "D-qh1Yd7eeP3",
        "outputId": "868e67f4-848c-4f5e-f7f6-55feecfded19"
      },
      "outputs": [
        {
          "data": {
            "text/plain": [
              "Index(['created_at', 'id', 'user_id', 'user_name', 'url', 'text', 'media',\n",
              "       'label', 'pos_words', 'neg_words'],\n",
              "      dtype='object')"
            ]
          },
          "execution_count": 23,
          "metadata": {},
          "output_type": "execute_result"
        }
      ],
      "source": [
        "train.columns"
      ]
    },
    {
      "cell_type": "code",
      "execution_count": 24,
      "metadata": {
        "id": "s49S64VQeeP3"
      },
      "outputs": [],
      "source": [
        "def get_positive_negative_word(df, is_train):\n",
        "    def load_sentword(filename):\n",
        "        file = open(get_path(filename), \"r\")\n",
        "        file.readline()\n",
        "        for line in file:\n",
        "            word, score = line.strip().split(\"\\t\")\n",
        "            score = int(score)\n",
        "            sentword_score[word] = score\n",
        "        file.close()\n",
        "\n",
        "    load_sentword(\"tools/negative.tsv\")\n",
        "    load_sentword(\"tools/positive.tsv\")\n",
        "\n",
        "    num_pos = []\n",
        "    num_neg = []\n",
        "    tot_pos = []\n",
        "    tot_neg = []\n",
        "\n",
        "    if is_train:\n",
        "        temp = train\n",
        "    else:\n",
        "        temp = test\n",
        "\n",
        "    for _, row in temp.iterrows():\n",
        "        tokens = tokenize(row[\"text\"])\n",
        "        num_negative, num_positive, total_positive, total_negative = 0, 0, 0, 0\n",
        "\n",
        "        for token in tokens:\n",
        "            if token in sentword_score:\n",
        "                if (sentword_score[token] < 0):\n",
        "                    total_negative += sentword_score[token]\n",
        "                    num_negative += 1\n",
        "                    \n",
        "                elif (sentword_score[token] > 0):\n",
        "                    total_positive += sentword_score[token]\n",
        "                    num_positive += 1\n",
        "        num_pos.append(num_positive)\n",
        "        num_neg.append(num_negative)\n",
        "        tot_pos.append(total_positive)\n",
        "        tot_neg.append(total_negative)\n",
        "\n",
        "    # tambahkan kolom di dataframe\n",
        "    df[\"pos_words\"] = num_pos\n",
        "    df[\"neg_words\"] = num_neg\n",
        "    df[\"sum_pos_words\"] = tot_pos\n",
        "    df[\"sum_neg_words\"] = tot_neg\n",
        "    return df\n",
        "\n",
        "def get_tabular_dataset():\n",
        "    \"\"\"\n",
        "        return:\n",
        "            train\n",
        "            test\n",
        "            target\n",
        "    \"\"\"\n",
        "    tabular_train = train.copy()\n",
        "    tabular_test = test.copy()\n",
        "\n",
        "    tabular_train = get_date_feature(tabular_train, 'created_at')\n",
        "    tabular_test = get_date_feature(tabular_test, 'created_at')\n",
        "\n",
        "    tabular_train = tabular_train.drop(['created_at', 'id', 'user_id', 'user_name', 'url', 'text', 'media', 'label'], axis=1)\n",
        "    tabular_test = tabular_test.drop(['created_at', 'id', 'user_id', 'user_name', 'url', 'text', 'media'], axis=1)\n",
        "    \n",
        "    tabular_train = get_positive_negative_word(tabular_train, 1)\n",
        "    tabular_test = get_positive_negative_word(tabular_test, 0)\n",
        "    \n",
        "    iklim = pd.read_csv(get_path('data/iklim_cleaned.csv'))\n",
        "\n",
        "    tabular_train = pd.merge(tabular_train, iklim, left_on=['month', 'year'], right_on=['bulan', 'tahun'], validate='many_to_one')\n",
        "    tabular_test = pd.merge(tabular_test, iklim, left_on=['month', 'year'], right_on=['bulan', 'tahun'], validate='many_to_one')\n",
        "    return tabular_train, tabular_test, target.copy()"
      ]
    },
    {
      "cell_type": "markdown",
      "metadata": {
        "id": "9XxGPJLzeeP4"
      },
      "source": [
        "### Model Architecture"
      ]
    },
    {
      "cell_type": "markdown",
      "metadata": {
        "id": "ID8piNNieeP4"
      },
      "source": [
        "Image Pipeline"
      ]
    },
    {
      "cell_type": "code",
      "execution_count": 25,
      "metadata": {
        "id": "vm5ScRfieeP4"
      },
      "outputs": [],
      "source": [
        "# model = models.load_model('models/modelb2_400 .5 200 .5.h5')\n",
        "# img_output = model.layers[-2].output"
      ]
    },
    {
      "cell_type": "markdown",
      "metadata": {
        "id": "kN2X9CiweeP4"
      },
      "source": [
        "Text Pipeline"
      ]
    },
    {
      "cell_type": "code",
      "execution_count": 26,
      "metadata": {
        "id": "dV0Rhl5FeeP4"
      },
      "outputs": [],
      "source": [
        "tokenizer = AutoTokenizer.from_pretrained(\"indolem/indobertweet-base-uncased\")\n",
        "bert_model = TFBertModel.from_pretrained(\"indolem/indobertweet-base-uncased\", \\\n",
        "                                         output_attentions=True, \\\n",
        "                                         from_pt = True)\n",
        "\n",
        "def bert_tokenize(documents, is_tuple = False):\n",
        "  if not is_tuple:\n",
        "    tokenized = tokenizer(documents, padding='max_length', max_length=MAX_WORD, truncation=True)\n",
        "  else:\n",
        "    tokenized = tokenizer(documents[0], documents[1], padding='max_length', max_length=MAX_WORD, truncation=True)\n",
        "  ids = np.array(tokenized['input_ids'])\n",
        "  ams = np.array(tokenized['token_type_ids'])\n",
        "  msk = np.array(tokenized['attention_mask'])\n",
        "  return ids, ams, msk\n",
        "clear_output()"
      ]
    },
    {
      "cell_type": "code",
<<<<<<< HEAD
      "execution_count": 27,
      "metadata": {
        "id": "clyiYQq2eeP4"
      },
      "outputs": [],
      "source": [
        "input_ids_layer = tf.keras.layers.Input(shape=(MAX_WORD,), \n",
        "                                        name='input_ids', \n",
        "                                        dtype='int32')\n",
        "input_attention_mask = tf.keras.layers.Input(shape=(MAX_WORD,), \n",
        "                                             name='input_attention_mask', \n",
        "                                             dtype='int32')\n",
        "input_type_ids = tf.keras.layers.Input(shape=(MAX_WORD,), \n",
        "                                       name='input_type_ids', \n",
        "                                       dtype='int32')\n",
        "\n",
        "last_hidden_state = bert_model([input_ids_layer, input_attention_mask, input_type_ids]).last_hidden_state\n",
        "for layer in bert_model.layers:\n",
        "    layer.trainable = False\n",
        "cls_last_output = last_hidden_state[:, 0, :]\n",
        "\n",
        "dense_t_1 = layers.Dense(450, activation='relu')(cls_last_output)\n",
        "dropout_t_1 = layers.Dropout(.5)(dense_t_1)\n",
        "output_text = tf.keras.layers.Dense(1, \n",
        "                              activation = 'sigmoid',\n",
        "                              bias_initializer = 'zeros',\n",
        "                              name = 'dense_classifier')(dropout_t_1)\n",
        "\n",
        "model_2 = tf.keras.Model([input_ids_layer, input_attention_mask, input_type_ids], output_text)\n",
        "\n",
        "model_2.compile('adam', \n",
        "              loss = losses.BinaryCrossentropy(),\n",
        "              metrics = [f1_score, 'acc', 'mae'])"
      ]
    },
    {
      "cell_type": "code",
      "execution_count": 28,
      "metadata": {
        "colab": {
          "base_uri": "https://localhost:8080/"
        },
        "id": "K0Yrj3XheeP5",
        "outputId": "506acc42-35b9-44f0-c851-d5bb1dfb9f23"
      },
      "outputs": [
        {
          "name": "stdout",
          "output_type": "stream",
          "text": [
            "Epoch 1/100\n",
            "19/19 [==============================] - 19s 268ms/step - loss: 0.5513 - f1_score: 0.2184 - acc: 0.7562 - mae: 0.2829 - val_loss: 0.5171 - val_f1_score: 0.6050 - val_acc: 0.7500 - val_mae: 0.3157\n",
            "Epoch 2/100\n",
            "19/19 [==============================] - 1s 66ms/step - loss: 0.4234 - f1_score: 0.4381 - acc: 0.8040 - mae: 0.2466 - val_loss: 0.4288 - val_f1_score: 0.3298 - val_acc: 0.7928 - val_mae: 0.2368\n",
            "Epoch 3/100\n",
            "19/19 [==============================] - 1s 51ms/step - loss: 0.3690 - f1_score: 0.5248 - acc: 0.8287 - mae: 0.2281 - val_loss: 0.3824 - val_f1_score: 0.5646 - val_acc: 0.8092 - val_mae: 0.2439\n",
            "Epoch 4/100\n",
            "19/19 [==============================] - 1s 51ms/step - loss: 0.3470 - f1_score: 0.5040 - acc: 0.8377 - mae: 0.2210 - val_loss: 0.3889 - val_f1_score: 0.6145 - val_acc: 0.8158 - val_mae: 0.2462\n",
            "Epoch 5/100\n",
            "19/19 [==============================] - 1s 51ms/step - loss: 0.3442 - f1_score: 0.5325 - acc: 0.8394 - mae: 0.2125 - val_loss: 0.3876 - val_f1_score: 0.5695 - val_acc: 0.8158 - val_mae: 0.2371\n",
            "Epoch 6/100\n",
            "19/19 [==============================] - 1s 51ms/step - loss: 0.3255 - f1_score: 0.5191 - acc: 0.8484 - mae: 0.2066 - val_loss: 0.3996 - val_f1_score: 0.4555 - val_acc: 0.8059 - val_mae: 0.2240\n",
            "Epoch 7/100\n",
            "19/19 [==============================] - 1s 51ms/step - loss: 0.3256 - f1_score: 0.5664 - acc: 0.8484 - mae: 0.2048 - val_loss: 0.4354 - val_f1_score: 0.3873 - val_acc: 0.7961 - val_mae: 0.2246\n",
            "Epoch 8/100\n",
            "19/19 [==============================] - 1s 51ms/step - loss: 0.3414 - f1_score: 0.5189 - acc: 0.8402 - mae: 0.2116 - val_loss: 0.3815 - val_f1_score: 0.5741 - val_acc: 0.8191 - val_mae: 0.2289\n",
            "Epoch 9/100\n",
            "19/19 [==============================] - 1s 61ms/step - loss: 0.3098 - f1_score: 0.5839 - acc: 0.8517 - mae: 0.1969 - val_loss: 0.3890 - val_f1_score: 0.6120 - val_acc: 0.8158 - val_mae: 0.2303\n"
          ]
        }
      ],
      "source": [
        "train_text, test_text, target = get_text_dataset()\n",
        "train_x, val_x, train_y, val_y = train_test_split(train_text, target, test_size=.2)\n",
        "\n",
        "train_ids, train_ams, train_msk = bert_tokenize(list(train_x))\n",
        "val_ids, val_ams, val_msk = bert_tokenize(list(val_x))\n",
        "\n",
        "from keras import callbacks\n",
        "val_mae_earlystopping = callbacks.EarlyStopping('val_f1_score', patience=7, restore_best_weights=True)\n",
        "with tf.device('/device:GPU:0'):\n",
        "  hist = model_2.fit(\n",
        "      x = [train_ids, train_ams, train_msk],\n",
        "      y = train_y,\n",
        "      epochs = 100,\n",
        "      batch_size = 64,\n",
        "      validation_data = ([val_ids, val_ams, val_msk], val_y),\n",
        "      callbacks=[val_mae_earlystopping]\n",
        "  )"
      ]
    },
    {
      "cell_type": "code",
      "execution_count": 29,
      "metadata": {
        "colab": {
          "base_uri": "https://localhost:8080/"
        },
        "id": "L6lMuS9SeeP5",
        "outputId": "364daf25-29a0-4562-8e1b-cd7f67cf88aa"
      },
      "outputs": [
        {
          "name": "stdout",
          "output_type": "stream",
          "text": [
            "Training F1 :\t 0.39639639639639634\n",
            "Validation F1 :\t 0.3505154639175258\n"
          ]
        }
      ],
      "source": [
        "print(f\"{colored('Training F1 :', 'cyan')}\\t\", skMetrics.f1_score(train_y, [int(x>.5) for x in model_2.predict([train_ids, train_ams, train_msk], verbose=0)]))\n",
        "print(f\"{colored('Validation F1 :', 'red')}\\t\", skMetrics.f1_score(val_y, [int(x>.5) for x in model_2.predict([val_ids, val_ams, val_msk], verbose=0)]))"
      ]
    },
    {
      "cell_type": "code",
      "execution_count": 30,
      "metadata": {
        "id": "GJLc6kameeP5"
      },
      "outputs": [],
      "source": [
        "# plot_hist(hist)"
      ]
    },
    {
      "cell_type": "code",
      "execution_count": 31,
      "metadata": {
        "id": "C4kVUn1leeP5"
      },
      "outputs": [],
      "source": [
        "# model_2.save('models/modelbert450 .5.h5')"
      ]
    },
    {
      "cell_type": "markdown",
      "metadata": {
        "id": "7zlLsPdLeeP6"
      },
      "source": [
        "Tabular Pipeline"
      ]
    },
    {
      "cell_type": "markdown",
      "metadata": {
        "id": "L8mZW6fVeeP6"
      },
      "source": [
        "#### All In Model"
      ]
    },
    {
      "cell_type": "code",
      "execution_count": 148,
      "metadata": {
        "id": "Fmd2zTj_w8Di"
      },
      "outputs": [],
=======
>>>>>>> d408c338a4879cfc39df85a207c464b93a72438a
      "source": [
        "def f1_loss(y_true, y_pred):\n",
        "    \n",
        "    tp = K.sum(K.cast(y_true*y_pred, 'float'), axis=0)\n",
        "    tn = K.sum(K.cast((1-y_true)*(1-y_pred), 'float'), axis=0)\n",
        "    fp = K.sum(K.cast((1-y_true)*y_pred, 'float'), axis=0)\n",
        "    fn = K.sum(K.cast(y_true*(1-y_pred), 'float'), axis=0)\n",
        "\n",
        "    p = tp / (tp + fp + K.epsilon())\n",
        "    r = tp / (tp + fn + K.epsilon())\n",
        "\n",
        "    f1 = 2*p*r / (p+r+K.epsilon())\n",
        "    f1 = tf.where(tf.math.is_nan(f1), tf.zeros_like(f1), f1)\n",
        "    return 1 - K.mean(f1)"
<<<<<<< HEAD
      ]
    },
    {
      "cell_type": "markdown",
=======
      ],
      "metadata": {
        "id": "Fmd2zTj_w8Di"
      },
      "execution_count": 27,
      "outputs": []
    },
    {
      "cell_type": "markdown",
      "source": [
        "##### Deep Learning Finishing Layer"
      ],
>>>>>>> d408c338a4879cfc39df85a207c464b93a72438a
      "metadata": {
        "id": "GmLa_dnXsg-J"
      },
      "source": [
        "##### Deep Learning"
      ]
    },
    {
      "cell_type": "code",
      "execution_count": 33,
      "metadata": {
        "id": "xEULnPUqeeP6"
      },
      "outputs": [],
      "source": [
        "# Text model ##############################################################\n",
        "input_ids_layer = tf.keras.layers.Input(shape=(MAX_WORD,), \n",
        "                                        name='input_ids', \n",
        "                                        dtype='int32')\n",
        "input_attention_mask = tf.keras.layers.Input(shape=(MAX_WORD,), \n",
        "                                             name='input_attention_mask', \n",
        "                                             dtype='int32')\n",
        "input_type_ids = tf.keras.layers.Input(shape=(MAX_WORD,), \n",
        "                                       name='input_type_ids', \n",
        "                                       dtype='int32')\n",
<<<<<<< HEAD
        "\n",
=======
>>>>>>> d408c338a4879cfc39df85a207c464b93a72438a
        "last_hidden_state = bert_model([input_ids_layer, input_attention_mask, input_type_ids]).last_hidden_state\n",
        "for layer in bert_model.layers:\n",
        "    layer.trainable = False\n",
        "cls_last_output = last_hidden_state[:, 0, :]\n",
<<<<<<< HEAD
        "\n",
        "dense_t_1 = layers.Dense(450, activation='relu')(cls_last_output)\n",
        "dropout_t_1 = layers.Dropout(.5)(dense_t_1)\n",
        "############################################################################\n",
        "\n",
        "# Image Model ##############################################################\n",
        "from keras.applications import EfficientNetB2\n",
        "from keras.applications.efficientnet import preprocess_input\n",
        "\n",
        "input_img = Input(shape=IMG_SHAPE, dtype=tf.float32)\n",
        "efficientNetB7_layer = EfficientNetB2()(preprocess_input(input_img))\n",
        "efficientNetB7_layer.trainable = False\n",
        "flatten_layer = layers.Flatten()(efficientNetB7_layer)\n",
        "dense_layer = layers.Dense(400, activation='relu')(flatten_layer)\n",
        "dropout_layer = layers.Dropout(.5)(dense_layer)\n",
        "dense_layer2 = layers.Dense(200, activation='relu')(dropout_layer)\n",
        "dropout_layer2 = layers.Dropout(.5)(dense_layer2)\n",
        "############################################################################\n",
        "\n",
        "# Concat Last Layer with tabular ###########################################\n",
        "input_tabular = Input(shape=(18, ), dtype=tf.float32)\n",
        "concat_features = tf.keras.layers.concatenate([dropout_layer2, dropout_t_1, input_tabular], axis = 1)\n",
        "dense_concated_layer_1 = layers.Dense(500, activation='relu')(concat_features)\n",
        "dropout_concated_layer = layers.Dropout(.5)(dense_concated_layer_1)\n",
        "dense_concated_layer_2 = layers.Dense(250, activation='relu')(dropout_concated_layer)\n",
        "dropout_concated_layer2 = layers.Dropout(.5)(dense_concated_layer_2)\n",
        "output = layers.Dense(1, activation='sigmoid')(dropout_concated_layer2)\n",
        "############################################################################\n",
        "\n",
        "model = keras.Model(inputs=[input_ids_layer, input_attention_mask, input_type_ids, input_img, input_tabular], outputs=output)\n",
        "\n",
        "model.compile('adam', loss=losses.BinaryCrossentropy(), metrics=[f1_score, 'mae', 'acc'])"
      ]
    },
    {
      "cell_type": "code",
      "execution_count": 34,
      "metadata": {
        "id": "w8mGz8KeeeP7"
      },
      "outputs": [],
      "source": [
        "tbr_train, test_tbr, _ = get_tabular_dataset()\n",
        "train_img, test_img, target = get_image_dataset()\n",
        "train_text, test_text, target = get_text_dataset()\n",
        "\n",
        "train_text, val_text, train_y, val_y, train_tbr, val_tbr, train_img, val_img  = train_test_split(train_text, target, tbr_train, train_img, test_size=.2, random_state=42)\n",
        "\n",
        "train_ids, train_ams, train_msk = bert_tokenize(list(train_text))\n",
        "val_ids, val_ams, val_msk = bert_tokenize(list(val_text))\n",
        "\n",
        "from keras import callbacks\n",
        "val_mae_earlystopping = callbacks.EarlyStopping('val_f1_score', mode='max', patience=7, restore_best_weights=True)\n",
        "with tf.device('/device:GPU:0'):\n",
        "  hist = model.fit(\n",
        "      x = [train_ids, train_ams, train_msk, train_img, train_tbr],\n",
        "      y = train_y,\n",
        "      epochs = 100,\n",
        "      batch_size = 16,\n",
        "      validation_data = ([val_ids, val_ams, val_msk, val_img, val_tbr], val_y),\n",
        "      callbacks=[val_mae_earlystopping]\n",
        "  )"
      ]
    },
    {
      "cell_type": "code",
      "execution_count": 35,
      "metadata": {
        "id": "fam2oJiNeeP7"
      },
      "outputs": [],
      "source": [
        "print(f\"{colored('Training F1 :', 'cyan')}\\t\", skMetrics.f1_score(train_y, [int(x>.5) for x in model_2.predict([train_ids, train_ams, train_msk], verbose=0)]))\n",
        "print(f\"{colored('Validation F1 :', 'red')}\\t\", skMetrics.f1_score(val_y, [int(x>.5) for x in model_2.predict([val_ids, val_ams, val_msk], verbose=0)]))"
      ]
    },
    {
      "cell_type": "markdown",
      "metadata": {
        "id": "h7R8F9vdsxuQ"
      },
      "source": [
        "##### Machine Learning"
      ]
    },
    {
      "cell_type": "code",
      "execution_count": 161,
      "metadata": {
        "id": "oEOHvIzys0Vh"
      },
      "outputs": [],
      "source": [
        "# # loss_fn = tfa.losses.\n",
        "# # Text model ##############################################################\n",
        "# input_ids_layer = tf.keras.layers.Input(shape=(MAX_WORD,), \n",
        "#                                         name='input_ids', \n",
        "#                                         dtype='int32')\n",
        "# input_attention_mask = tf.keras.layers.Input(shape=(MAX_WORD,), \n",
        "#                                              name='input_attention_mask', \n",
        "#                                              dtype='int32')\n",
        "# input_type_ids = tf.keras.layers.Input(shape=(MAX_WORD,), \n",
        "#                                        name='input_type_ids', \n",
        "#                                        dtype='int32')\n",
        "# last_hidden_state = bert_model([input_ids_layer, input_attention_mask, input_type_ids]).last_hidden_state\n",
        "# for layer in bert_model.layers:\n",
        "#     layer.trainable = False\n",
        "# cls_last_output = last_hidden_state[:, 0, :]\n",
        "# dense_t_1 = layers.Dense(450, activation='relu', kernel_initializer = tf.keras.initializers.GlorotNormal(seed = 42),bias_initializer = 'zeros',\n",
        "#                                    kernel_regularizer = tf.keras.regularizers.L1(l1=1e-3),\n",
        "#                                    bias_regularizer = tf.keras.regularizers.L1(1e-3))(cls_last_output)\n",
        "# dropout_t_1 = layers.Dropout(.5)(dense_t_1)\n",
        "# output_text = tf.keras.layers.Dense(1, \n",
        "#                               activation = 'sigmoid',\n",
        "#                               bias_initializer = 'zeros',\n",
        "#                               name = 'dense_classifier')(dropout_t_1)\n",
        "# #\n",
        "# text_model = tf.keras.Model([input_ids_layer, input_attention_mask, input_type_ids], output_text)\n",
        "# text_model.compile('adam', \n",
        "#               loss = losses.BinaryCrossentropy(),\n",
        "#               metrics = [f1_score, 'acc', 'mae'])\n",
        "# ############################################################################\n",
=======
        "dense_t_1 = layers.Dense(450, activation='relu', kernel_initializer = tf.keras.initializers.GlorotNormal(seed = 42),bias_initializer = 'zeros',\n",
        "                                   kernel_regularizer = tf.keras.regularizers.L1(l1=1e-3),\n",
        "                                   bias_regularizer = tf.keras.regularizers.L1(1e-3))(cls_last_output)\n",
        "dropout_t_1 = layers.Dropout(.5)(dense_t_1)\n",
        "############################################################################\n",
>>>>>>> d408c338a4879cfc39df85a207c464b93a72438a
        "\n",
        "# Image Model ##############################################################\n",
        "from keras.applications import EfficientNetB2\n",
        "from keras.applications.efficientnet import preprocess_input\n",
        "\n",
        "input_img = Input(shape=IMG_SHAPE, dtype=tf.float32)\n",
        "efficientNetB7_layer = EfficientNetB2()(preprocess_input(input_img))\n",
        "efficientNetB7_layer.trainable = False\n",
        "flatten_layer = layers.Flatten()(efficientNetB7_layer)\n",
        "dense_layer = layers.Dense(200, activation='relu', kernel_initializer = tf.keras.initializers.GlorotNormal(seed = 42), bias_initializer = 'zeros',\n",
        "                                   kernel_regularizer = tf.keras.regularizers.L1(l1=1e-3),\n",
        "                                   bias_regularizer = tf.keras.regularizers.L1(1e-3))(flatten_layer)\n",
        "dropout_layer = layers.Dropout(.5)(dense_layer)\n",
        "############################################################################\n",
        "\n",
        "# Concat Last Layer with tabular ###########################################\n",
        "input_tabular = Input(shape=(18, ), dtype=tf.float32)\n",
        "concat_features = tf.keras.layers.concatenate([dropout_layer, dropout_t_1, input_tabular], axis = 1)\n",
        "dense_concated_layer_1 = layers.Dense(300, activation='relu', kernel_initializer = tf.keras.initializers.GlorotNormal(seed = 42), bias_initializer = 'zeros',\n",
        "                                   kernel_regularizer = tf.keras.regularizers.L1(l1=1e-3),\n",
        "                                   bias_regularizer = tf.keras.regularizers.L1(1e-3))(concat_features)\n",
        "dropout_concated_layer = layers.Dropout(.5)(dense_concated_layer_1)\n",
        "dense_concated_layer_2 = layers.Dense(150, activation='relu', kernel_initializer = tf.keras.initializers.GlorotNormal(seed = 42), bias_initializer = 'zeros',\n",
        "                                   kernel_regularizer = tf.keras.regularizers.L1(l1=1e-3),\n",
        "                                   bias_regularizer = tf.keras.regularizers.L1(1e-3))(dropout_concated_layer)\n",
        "dropout_concated_layer2 = layers.Dropout(.5)(dense_concated_layer_2)\n",
        "output = layers.Dense(1, activation='sigmoid')(dropout_concated_layer2)\n",
        "############################################################################\n",
        "\n",
        "###################### RELEASE THE BEAST ###################################\n",
        "model = keras.Model(inputs=[input_ids_layer, input_attention_mask, input_type_ids, input_img, input_tabular], outputs=output)\n",
        "model.compile('adam', loss=losses.BinaryCrossentropy(), metrics=[f1_score, 'mae', 'acc'])"
      ]
    },
    {
      "cell_type": "code",
      "execution_count": null,
      "metadata": {
        "id": "w8mGz8KeeeP7",
        "colab": {
          "base_uri": "https://localhost:8080/"
        },
        "outputId": "0dacf8ce-eb57-4d7c-ef9d-0de9b94fe01e"
      },
      "outputs": [
        {
          "output_type": "stream",
          "name": "stdout",
          "text": [
            "Epoch 1/200\n",
            "19/19 [==============================] - 16s 853ms/step - loss: 0.8472 - f1_score: 0.0000e+00 - mae: 0.3435 - acc: 0.7842 - val_loss: 0.8399 - val_f1_score: 0.0000e+00 - val_mae: 0.3443 - val_acc: 0.7862\n",
            "Epoch 2/200\n",
            "19/19 [==============================] - 16s 856ms/step - loss: 0.8444 - f1_score: 0.0000e+00 - mae: 0.3420 - acc: 0.7842 - val_loss: 0.8374 - val_f1_score: 0.0000e+00 - val_mae: 0.3441 - val_acc: 0.7862\n",
            "Epoch 3/200\n",
            "19/19 [==============================] - 16s 841ms/step - loss: 0.8411 - f1_score: 0.0000e+00 - mae: 0.3506 - acc: 0.7842 - val_loss: 0.8339 - val_f1_score: 0.0000e+00 - val_mae: 0.3404 - val_acc: 0.7862\n",
            "Epoch 4/200\n",
            "19/19 [==============================] - 16s 839ms/step - loss: 0.8372 - f1_score: 0.0058 - mae: 0.3397 - acc: 0.7858 - val_loss: 0.8311 - val_f1_score: 0.0000e+00 - val_mae: 0.3415 - val_acc: 0.7862\n",
            "Epoch 5/200\n",
            "19/19 [==============================] - 16s 845ms/step - loss: 0.8317 - f1_score: 0.0000e+00 - mae: 0.3412 - acc: 0.7850 - val_loss: 0.8272 - val_f1_score: 0.0000e+00 - val_mae: 0.3407 - val_acc: 0.7862\n",
            "Epoch 6/200\n",
            "19/19 [==============================] - 16s 841ms/step - loss: 0.8292 - f1_score: 0.0000e+00 - mae: 0.3361 - acc: 0.7842 - val_loss: 0.8238 - val_f1_score: 0.0000e+00 - val_mae: 0.3361 - val_acc: 0.7862\n",
            "Epoch 7/200\n",
            "19/19 [==============================] - 15s 814ms/step - loss: 0.8258 - f1_score: 0.0212 - mae: 0.3445 - acc: 0.7850 - val_loss: 0.8211 - val_f1_score: 0.0000e+00 - val_mae: 0.3408 - val_acc: 0.7862\n",
            "Epoch 8/200\n",
            "19/19 [==============================] - 16s 827ms/step - loss: 0.8275 - f1_score: 0.0000e+00 - mae: 0.3415 - acc: 0.7842 - val_loss: 0.8203 - val_f1_score: 0.0000e+00 - val_mae: 0.3354 - val_acc: 0.7862\n",
            "Epoch 9/200\n",
            "19/19 [==============================] - 16s 836ms/step - loss: 0.8255 - f1_score: 0.0000e+00 - mae: 0.3386 - acc: 0.7834 - val_loss: 0.8191 - val_f1_score: 0.0000e+00 - val_mae: 0.3413 - val_acc: 0.7862\n",
            "Epoch 10/200\n",
            "19/19 [==============================] - 16s 845ms/step - loss: 0.8229 - f1_score: 0.0000e+00 - mae: 0.3403 - acc: 0.7842 - val_loss: 0.8161 - val_f1_score: 0.0000e+00 - val_mae: 0.3416 - val_acc: 0.7862\n",
            "Epoch 11/200\n",
            "19/19 [==============================] - 16s 850ms/step - loss: 0.8167 - f1_score: 0.0000e+00 - mae: 0.3431 - acc: 0.7842 - val_loss: 0.8118 - val_f1_score: 0.0000e+00 - val_mae: 0.3424 - val_acc: 0.7862\n",
            "Epoch 12/200\n",
            "19/19 [==============================] - 16s 821ms/step - loss: 0.8140 - f1_score: 0.0000e+00 - mae: 0.3435 - acc: 0.7842 - val_loss: 0.8089 - val_f1_score: 0.0000e+00 - val_mae: 0.3386 - val_acc: 0.7862\n",
            "Epoch 13/200\n",
            "19/19 [==============================] - 16s 834ms/step - loss: 0.8136 - f1_score: 0.0000e+00 - mae: 0.3431 - acc: 0.7850 - val_loss: 0.8067 - val_f1_score: 0.0000e+00 - val_mae: 0.3400 - val_acc: 0.7862\n",
            "Epoch 14/200\n",
            "19/19 [==============================] - 16s 856ms/step - loss: 0.8062 - f1_score: 0.0000e+00 - mae: 0.3440 - acc: 0.7850 - val_loss: 0.8028 - val_f1_score: 0.0000e+00 - val_mae: 0.3374 - val_acc: 0.7862\n",
            "Epoch 15/200\n",
            "19/19 [==============================] - 16s 825ms/step - loss: 0.8074 - f1_score: 0.0000e+00 - mae: 0.3382 - acc: 0.7850 - val_loss: 0.8006 - val_f1_score: 0.0000e+00 - val_mae: 0.3347 - val_acc: 0.7862\n",
            "Epoch 16/200\n",
            "19/19 [==============================] - 16s 854ms/step - loss: 0.8024 - f1_score: 0.0000e+00 - mae: 0.3378 - acc: 0.7850 - val_loss: 0.7987 - val_f1_score: 0.0000e+00 - val_mae: 0.3399 - val_acc: 0.7862\n",
            "Epoch 17/200\n",
            "19/19 [==============================] - 16s 869ms/step - loss: 0.8003 - f1_score: 0.0000e+00 - mae: 0.3349 - acc: 0.7850 - val_loss: 0.7950 - val_f1_score: 0.0000e+00 - val_mae: 0.3402 - val_acc: 0.7862\n",
            "Epoch 18/200\n",
            "19/19 [==============================] - 16s 872ms/step - loss: 0.7934 - f1_score: 0.0000e+00 - mae: 0.3404 - acc: 0.7850 - val_loss: 0.7896 - val_f1_score: 0.0000e+00 - val_mae: 0.3449 - val_acc: 0.7862\n",
            "Epoch 19/200\n",
            "19/19 [==============================] - 16s 865ms/step - loss: 0.7934 - f1_score: 0.0081 - mae: 0.3449 - acc: 0.7809 - val_loss: 0.7865 - val_f1_score: 0.0000e+00 - val_mae: 0.3396 - val_acc: 0.7862\n",
            "Epoch 20/200\n",
            "19/19 [==============================] - 16s 854ms/step - loss: 0.7930 - f1_score: 0.0000e+00 - mae: 0.3418 - acc: 0.7801 - val_loss: 0.7848 - val_f1_score: 0.0000e+00 - val_mae: 0.3385 - val_acc: 0.7862\n",
            "Epoch 21/200\n",
            "19/19 [==============================] - 16s 864ms/step - loss: 0.7875 - f1_score: 0.0000e+00 - mae: 0.3397 - acc: 0.7850 - val_loss: 0.7822 - val_f1_score: 0.0000e+00 - val_mae: 0.3392 - val_acc: 0.7862\n",
            "Epoch 22/200\n",
            "19/19 [==============================] - 16s 833ms/step - loss: 0.7855 - f1_score: 0.0000e+00 - mae: 0.3331 - acc: 0.7842 - val_loss: 0.7810 - val_f1_score: 0.0000e+00 - val_mae: 0.3335 - val_acc: 0.7862\n",
            "Epoch 23/200\n",
            "19/19 [==============================] - 16s 836ms/step - loss: 0.7846 - f1_score: 0.0000e+00 - mae: 0.3386 - acc: 0.7842 - val_loss: 0.7800 - val_f1_score: 0.0000e+00 - val_mae: 0.3400 - val_acc: 0.7862\n",
            "Epoch 24/200\n",
            "19/19 [==============================] - 16s 856ms/step - loss: 0.7820 - f1_score: 0.0000e+00 - mae: 0.3392 - acc: 0.7850 - val_loss: 0.7780 - val_f1_score: 0.0000e+00 - val_mae: 0.3397 - val_acc: 0.7862\n",
            "Epoch 25/200\n",
            "19/19 [==============================] - 16s 846ms/step - loss: 0.7813 - f1_score: 0.0096 - mae: 0.3412 - acc: 0.7850 - val_loss: 0.7768 - val_f1_score: 0.0000e+00 - val_mae: 0.3396 - val_acc: 0.7862\n",
            "Epoch 26/200\n",
            "19/19 [==============================] - 16s 844ms/step - loss: 0.7779 - f1_score: 0.0000e+00 - mae: 0.3381 - acc: 0.7850 - val_loss: 0.7739 - val_f1_score: 0.0000e+00 - val_mae: 0.3347 - val_acc: 0.7862\n",
            "Epoch 27/200\n",
            "19/19 [==============================] - 15s 811ms/step - loss: 0.7748 - f1_score: 0.0000e+00 - mae: 0.3387 - acc: 0.7850 - val_loss: 0.7706 - val_f1_score: 0.0000e+00 - val_mae: 0.3393 - val_acc: 0.7862\n",
            "Epoch 28/200\n",
            "19/19 [==============================] - 15s 818ms/step - loss: 0.7705 - f1_score: 0.0000e+00 - mae: 0.3402 - acc: 0.7850 - val_loss: 0.7662 - val_f1_score: 0.0000e+00 - val_mae: 0.3395 - val_acc: 0.7862\n",
            "Epoch 29/200\n",
            "19/19 [==============================] - 16s 831ms/step - loss: 0.7673 - f1_score: 0.0000e+00 - mae: 0.3419 - acc: 0.7850 - val_loss: 0.7630 - val_f1_score: 0.0000e+00 - val_mae: 0.3392 - val_acc: 0.7862\n",
            "Epoch 30/200\n",
            "19/19 [==============================] - 16s 825ms/step - loss: 0.7751 - f1_score: 0.0088 - mae: 0.3393 - acc: 0.7850 - val_loss: 0.7629 - val_f1_score: 0.0000e+00 - val_mae: 0.3392 - val_acc: 0.7862\n",
            "Epoch 31/200\n",
            "19/19 [==============================] - 15s 808ms/step - loss: 0.7655 - f1_score: 0.0000e+00 - mae: 0.3412 - acc: 0.7842 - val_loss: 0.7631 - val_f1_score: 0.0000e+00 - val_mae: 0.3390 - val_acc: 0.7862\n",
            "Epoch 32/200\n",
            "19/19 [==============================] - 16s 835ms/step - loss: 0.7681 - f1_score: 0.0000e+00 - mae: 0.3412 - acc: 0.7850 - val_loss: 0.7633 - val_f1_score: 0.0000e+00 - val_mae: 0.3316 - val_acc: 0.7862\n",
            "Epoch 33/200\n",
            "19/19 [==============================] - 16s 844ms/step - loss: 0.7660 - f1_score: 0.0000e+00 - mae: 0.3369 - acc: 0.7850 - val_loss: 0.7593 - val_f1_score: 0.0000e+00 - val_mae: 0.3410 - val_acc: 0.7862\n",
            "Epoch 34/200\n",
            "19/19 [==============================] - 16s 837ms/step - loss: 0.7600 - f1_score: 0.0000e+00 - mae: 0.3429 - acc: 0.7842 - val_loss: 0.7550 - val_f1_score: 0.0000e+00 - val_mae: 0.3425 - val_acc: 0.7862\n",
            "Epoch 35/200\n",
            "19/19 [==============================] - 16s 853ms/step - loss: 0.7556 - f1_score: 0.0000e+00 - mae: 0.3402 - acc: 0.7842 - val_loss: 0.7505 - val_f1_score: 0.0000e+00 - val_mae: 0.3383 - val_acc: 0.7862\n",
            "Epoch 36/200\n",
            "19/19 [==============================] - 16s 849ms/step - loss: 0.7516 - f1_score: 0.0000e+00 - mae: 0.3395 - acc: 0.7850 - val_loss: 0.7478 - val_f1_score: 0.0000e+00 - val_mae: 0.3393 - val_acc: 0.7862\n",
            "Epoch 37/200\n",
            "19/19 [==============================] - 16s 829ms/step - loss: 0.7496 - f1_score: 0.0137 - mae: 0.3391 - acc: 0.7867 - val_loss: 0.7474 - val_f1_score: 0.0000e+00 - val_mae: 0.3295 - val_acc: 0.7862\n",
            "Epoch 38/200\n",
            "19/19 [==============================] - 16s 825ms/step - loss: 0.7501 - f1_score: 0.0000e+00 - mae: 0.3404 - acc: 0.7850 - val_loss: 0.7456 - val_f1_score: 0.0000e+00 - val_mae: 0.3432 - val_acc: 0.7862\n",
            "Epoch 39/200\n",
            "19/19 [==============================] - 15s 815ms/step - loss: 0.7523 - f1_score: 0.0000e+00 - mae: 0.3425 - acc: 0.7817 - val_loss: 0.7442 - val_f1_score: 0.0000e+00 - val_mae: 0.3360 - val_acc: 0.7862\n",
            "Epoch 40/200\n",
            "19/19 [==============================] - 16s 831ms/step - loss: 0.7473 - f1_score: 0.0000e+00 - mae: 0.3318 - acc: 0.7850 - val_loss: 0.7443 - val_f1_score: 0.0000e+00 - val_mae: 0.3376 - val_acc: 0.7862\n",
            "Epoch 41/200\n",
            "19/19 [==============================] - 16s 845ms/step - loss: 0.7474 - f1_score: 0.0000e+00 - mae: 0.3391 - acc: 0.7842 - val_loss: 0.7431 - val_f1_score: 0.0000e+00 - val_mae: 0.3375 - val_acc: 0.7862\n",
            "Epoch 42/200\n",
            "19/19 [==============================] - 16s 841ms/step - loss: 0.7465 - f1_score: 0.0000e+00 - mae: 0.3336 - acc: 0.7850 - val_loss: 0.7417 - val_f1_score: 0.0000e+00 - val_mae: 0.3495 - val_acc: 0.7862\n",
            "Epoch 43/200\n",
            "19/19 [==============================] - 16s 836ms/step - loss: 0.7457 - f1_score: 0.0000e+00 - mae: 0.3421 - acc: 0.7850 - val_loss: 0.7387 - val_f1_score: 0.0000e+00 - val_mae: 0.3378 - val_acc: 0.7862\n",
            "Epoch 44/200\n",
            "19/19 [==============================] - 16s 830ms/step - loss: 0.7472 - f1_score: 0.0088 - mae: 0.3356 - acc: 0.7850 - val_loss: 0.7381 - val_f1_score: 0.0000e+00 - val_mae: 0.3283 - val_acc: 0.7862\n",
            "Epoch 45/200\n",
            "19/19 [==============================] - 15s 811ms/step - loss: 0.7461 - f1_score: 0.0053 - mae: 0.3385 - acc: 0.7817 - val_loss: 0.7368 - val_f1_score: 0.0000e+00 - val_mae: 0.3378 - val_acc: 0.7862\n",
            "Epoch 46/200\n",
            "19/19 [==============================] - 16s 856ms/step - loss: 0.7428 - f1_score: 0.0000e+00 - mae: 0.3350 - acc: 0.7834 - val_loss: 0.7387 - val_f1_score: 0.0000e+00 - val_mae: 0.3456 - val_acc: 0.7862\n",
            "Epoch 47/200\n",
            "19/19 [==============================] - 16s 867ms/step - loss: 0.7468 - f1_score: 0.0132 - mae: 0.3424 - acc: 0.7834 - val_loss: 0.7383 - val_f1_score: 0.0000e+00 - val_mae: 0.3352 - val_acc: 0.7862\n",
            "Epoch 48/200\n",
            "19/19 [==============================] - 16s 867ms/step - loss: 0.7466 - f1_score: 0.0000e+00 - mae: 0.3352 - acc: 0.7850 - val_loss: 0.7378 - val_f1_score: 0.0000e+00 - val_mae: 0.3365 - val_acc: 0.7862\n",
            "Epoch 49/200\n",
            "19/19 [==============================] - 16s 853ms/step - loss: 0.7404 - f1_score: 0.0000e+00 - mae: 0.3400 - acc: 0.7850 - val_loss: 0.7351 - val_f1_score: 0.0000e+00 - val_mae: 0.3337 - val_acc: 0.7862\n",
            "Epoch 50/200\n",
            "19/19 [==============================] - 16s 823ms/step - loss: 0.7363 - f1_score: 0.0000e+00 - mae: 0.3342 - acc: 0.7850 - val_loss: 0.7306 - val_f1_score: 0.0000e+00 - val_mae: 0.3378 - val_acc: 0.7862\n",
            "Epoch 51/200\n",
            "19/19 [==============================] - 16s 841ms/step - loss: 0.7358 - f1_score: 0.0062 - mae: 0.3427 - acc: 0.7792 - val_loss: 0.7288 - val_f1_score: 0.0000e+00 - val_mae: 0.3386 - val_acc: 0.7862\n",
            "Epoch 52/200\n",
            "19/19 [==============================] - 16s 845ms/step - loss: 0.7354 - f1_score: 0.0070 - mae: 0.3392 - acc: 0.7850 - val_loss: 0.7269 - val_f1_score: 0.0000e+00 - val_mae: 0.3375 - val_acc: 0.7862\n",
            "Epoch 53/200\n",
            "19/19 [==============================] - 16s 859ms/step - loss: 0.7331 - f1_score: 0.0000e+00 - mae: 0.3461 - acc: 0.7834 - val_loss: 0.7249 - val_f1_score: 0.0000e+00 - val_mae: 0.3373 - val_acc: 0.7862\n",
            "Epoch 54/200\n",
            "19/19 [==============================] - 16s 851ms/step - loss: 0.7267 - f1_score: 0.0000e+00 - mae: 0.3363 - acc: 0.7850 - val_loss: 0.7216 - val_f1_score: 0.0000e+00 - val_mae: 0.3370 - val_acc: 0.7862\n",
            "Epoch 55/200\n",
            "19/19 [==============================] - 16s 832ms/step - loss: 0.7216 - f1_score: 0.0000e+00 - mae: 0.3309 - acc: 0.7850 - val_loss: 0.7201 - val_f1_score: 0.0000e+00 - val_mae: 0.3373 - val_acc: 0.7862\n",
            "Epoch 56/200\n",
            "19/19 [==============================] - 16s 859ms/step - loss: 0.7260 - f1_score: 0.0129 - mae: 0.3491 - acc: 0.7801 - val_loss: 0.7201 - val_f1_score: 0.0000e+00 - val_mae: 0.3342 - val_acc: 0.7862\n",
            "Epoch 57/200\n",
            "19/19 [==============================] - 16s 838ms/step - loss: 0.7220 - f1_score: 0.0000e+00 - mae: 0.3345 - acc: 0.7850 - val_loss: 0.7269 - val_f1_score: 0.0000e+00 - val_mae: 0.3663 - val_acc: 0.7862\n",
            "Epoch 58/200\n",
            "19/19 [==============================] - 16s 853ms/step - loss: 0.7239 - f1_score: 0.0000e+00 - mae: 0.3352 - acc: 0.7850 - val_loss: 0.7177 - val_f1_score: 0.0000e+00 - val_mae: 0.3455 - val_acc: 0.7862\n",
            "Epoch 59/200\n",
            "19/19 [==============================] - 15s 812ms/step - loss: 0.7265 - f1_score: 0.0096 - mae: 0.3396 - acc: 0.7842 - val_loss: 0.7152 - val_f1_score: 0.0000e+00 - val_mae: 0.3376 - val_acc: 0.7862\n",
            "Epoch 60/200\n",
            "19/19 [==============================] - 16s 845ms/step - loss: 0.7240 - f1_score: 0.0000e+00 - mae: 0.3389 - acc: 0.7842 - val_loss: 0.7148 - val_f1_score: 0.0000e+00 - val_mae: 0.3372 - val_acc: 0.7862\n",
            "Epoch 61/200\n",
            "19/19 [==============================] - 16s 859ms/step - loss: 0.7172 - f1_score: 0.0226 - mae: 0.3370 - acc: 0.7850 - val_loss: 0.7147 - val_f1_score: 0.0000e+00 - val_mae: 0.3304 - val_acc: 0.7862\n",
            "Epoch 62/200\n",
            "19/19 [==============================] - 16s 831ms/step - loss: 0.7176 - f1_score: 0.0000e+00 - mae: 0.3327 - acc: 0.7850 - val_loss: 0.7129 - val_f1_score: 0.0000e+00 - val_mae: 0.3367 - val_acc: 0.7862\n",
            "Epoch 63/200\n",
            "19/19 [==============================] - 16s 825ms/step - loss: 0.7121 - f1_score: 0.0000e+00 - mae: 0.3382 - acc: 0.7850 - val_loss: 0.7094 - val_f1_score: 0.0000e+00 - val_mae: 0.3403 - val_acc: 0.7862\n",
            "Epoch 64/200\n",
            "19/19 [==============================] - 16s 835ms/step - loss: 0.7110 - f1_score: 0.0000e+00 - mae: 0.3304 - acc: 0.7850 - val_loss: 0.7072 - val_f1_score: 0.0000e+00 - val_mae: 0.3370 - val_acc: 0.7862\n",
            "Epoch 65/200\n",
            "19/19 [==============================] - 16s 864ms/step - loss: 0.7130 - f1_score: 0.0000e+00 - mae: 0.3367 - acc: 0.7850 - val_loss: 0.7077 - val_f1_score: 0.0000e+00 - val_mae: 0.3409 - val_acc: 0.7862\n",
            "Epoch 66/200\n",
            "19/19 [==============================] - 15s 807ms/step - loss: 0.7116 - f1_score: 0.0070 - mae: 0.3366 - acc: 0.7850 - val_loss: 0.7070 - val_f1_score: 0.0000e+00 - val_mae: 0.3373 - val_acc: 0.7862\n",
            "Epoch 67/200\n",
            "19/19 [==============================] - 16s 848ms/step - loss: 0.7106 - f1_score: 0.0000e+00 - mae: 0.3399 - acc: 0.7850 - val_loss: 0.7055 - val_f1_score: 0.0000e+00 - val_mae: 0.3373 - val_acc: 0.7862\n",
            "Epoch 68/200\n",
            "19/19 [==============================] - 16s 869ms/step - loss: 0.7054 - f1_score: 0.0000e+00 - mae: 0.3390 - acc: 0.7850 - val_loss: 0.7045 - val_f1_score: 0.0000e+00 - val_mae: 0.3472 - val_acc: 0.7862\n",
            "Epoch 69/200\n",
            "19/19 [==============================] - 16s 838ms/step - loss: 0.7071 - f1_score: 0.0000e+00 - mae: 0.3412 - acc: 0.7850 - val_loss: 0.7011 - val_f1_score: 0.0000e+00 - val_mae: 0.3365 - val_acc: 0.7862\n",
            "Epoch 70/200\n",
            "19/19 [==============================] - 16s 859ms/step - loss: 0.7028 - f1_score: 0.0000e+00 - mae: 0.3391 - acc: 0.7850 - val_loss: 0.6988 - val_f1_score: 0.0000e+00 - val_mae: 0.3372 - val_acc: 0.7862\n",
            "Epoch 71/200\n",
            "19/19 [==============================] - 16s 823ms/step - loss: 0.6998 - f1_score: 0.0000e+00 - mae: 0.3379 - acc: 0.7850 - val_loss: 0.6949 - val_f1_score: 0.0000e+00 - val_mae: 0.3337 - val_acc: 0.7862\n",
            "Epoch 72/200\n",
            "19/19 [==============================] - 16s 854ms/step - loss: 0.6959 - f1_score: 0.0000e+00 - mae: 0.3330 - acc: 0.7850 - val_loss: 0.6921 - val_f1_score: 0.0000e+00 - val_mae: 0.3376 - val_acc: 0.7862\n",
            "Epoch 73/200\n",
            "19/19 [==============================] - 16s 820ms/step - loss: 0.6954 - f1_score: 0.0000e+00 - mae: 0.3399 - acc: 0.7825 - val_loss: 0.6916 - val_f1_score: 0.0000e+00 - val_mae: 0.3338 - val_acc: 0.7862\n",
            "Epoch 74/200\n",
            "19/19 [==============================] - 16s 852ms/step - loss: 0.6920 - f1_score: 0.0000e+00 - mae: 0.3327 - acc: 0.7850 - val_loss: 0.6888 - val_f1_score: 0.0000e+00 - val_mae: 0.3448 - val_acc: 0.7862\n",
            "Epoch 75/200\n",
            "19/19 [==============================] - 16s 823ms/step - loss: 0.6915 - f1_score: 0.0000e+00 - mae: 0.3439 - acc: 0.7842 - val_loss: 0.6866 - val_f1_score: 0.0000e+00 - val_mae: 0.3337 - val_acc: 0.7862\n",
            "Epoch 76/200\n",
            "19/19 [==============================] - 16s 839ms/step - loss: 0.6874 - f1_score: 0.0000e+00 - mae: 0.3357 - acc: 0.7850 - val_loss: 0.6857 - val_f1_score: 0.0000e+00 - val_mae: 0.3391 - val_acc: 0.7862\n",
            "Epoch 77/200\n",
            "19/19 [==============================] - 15s 807ms/step - loss: 0.6913 - f1_score: 0.0000e+00 - mae: 0.3408 - acc: 0.7825 - val_loss: 0.6859 - val_f1_score: 0.0000e+00 - val_mae: 0.3355 - val_acc: 0.7862\n",
            "Epoch 78/200\n",
            "19/19 [==============================] - 16s 838ms/step - loss: 0.6885 - f1_score: 0.0000e+00 - mae: 0.3370 - acc: 0.7850 - val_loss: 0.6844 - val_f1_score: 0.0000e+00 - val_mae: 0.3366 - val_acc: 0.7862\n",
            "Epoch 79/200\n",
            "19/19 [==============================] - 16s 846ms/step - loss: 0.6886 - f1_score: 0.0208 - mae: 0.3385 - acc: 0.7768 - val_loss: 0.6854 - val_f1_score: 0.0000e+00 - val_mae: 0.3216 - val_acc: 0.7862\n",
            "Epoch 80/200\n",
            "19/19 [==============================] - 16s 827ms/step - loss: 0.6945 - f1_score: 0.0000e+00 - mae: 0.3347 - acc: 0.7842 - val_loss: 0.6855 - val_f1_score: 0.0000e+00 - val_mae: 0.3393 - val_acc: 0.7862\n",
            "Epoch 81/200\n",
            "19/19 [==============================] - 16s 840ms/step - loss: 0.6908 - f1_score: 0.0050 - mae: 0.3442 - acc: 0.7784 - val_loss: 0.6901 - val_f1_score: 0.0000e+00 - val_mae: 0.3170 - val_acc: 0.7862\n",
            "Epoch 82/200\n",
            "19/19 [==============================] - 16s 846ms/step - loss: 0.6922 - f1_score: 0.0000e+00 - mae: 0.3297 - acc: 0.7850 - val_loss: 0.6846 - val_f1_score: 0.0000e+00 - val_mae: 0.3399 - val_acc: 0.7862\n",
            "Epoch 83/200\n",
            "19/19 [==============================] - 16s 849ms/step - loss: 0.6841 - f1_score: 0.0000e+00 - mae: 0.3422 - acc: 0.7850 - val_loss: 0.6816 - val_f1_score: 0.0000e+00 - val_mae: 0.3472 - val_acc: 0.7862\n",
            "Epoch 84/200\n",
            "19/19 [==============================] - 16s 827ms/step - loss: 0.6823 - f1_score: 0.0000e+00 - mae: 0.3404 - acc: 0.7850 - val_loss: 0.6782 - val_f1_score: 0.0000e+00 - val_mae: 0.3339 - val_acc: 0.7862\n",
            "Epoch 85/200\n",
            "19/19 [==============================] - 16s 826ms/step - loss: 0.6797 - f1_score: 0.0000e+00 - mae: 0.3325 - acc: 0.7850 - val_loss: 0.6772 - val_f1_score: 0.0000e+00 - val_mae: 0.3464 - val_acc: 0.7862\n",
            "Epoch 86/200\n",
            "19/19 [==============================] - 16s 826ms/step - loss: 0.6810 - f1_score: 0.0000e+00 - mae: 0.3416 - acc: 0.7842 - val_loss: 0.6763 - val_f1_score: 0.0000e+00 - val_mae: 0.3364 - val_acc: 0.7862\n",
            "Epoch 87/200\n",
            "19/19 [==============================] - 16s 838ms/step - loss: 0.6810 - f1_score: 0.0212 - mae: 0.3383 - acc: 0.7809 - val_loss: 0.6776 - val_f1_score: 0.0000e+00 - val_mae: 0.3305 - val_acc: 0.7862\n",
            "Epoch 88/200\n",
            "19/19 [==============================] - 16s 841ms/step - loss: 0.6900 - f1_score: 0.0179 - mae: 0.3335 - acc: 0.7825 - val_loss: 0.6791 - val_f1_score: 0.0000e+00 - val_mae: 0.3324 - val_acc: 0.7862\n",
            "Epoch 89/200\n",
            "19/19 [==============================] - 16s 850ms/step - loss: 0.6819 - f1_score: 0.0000e+00 - mae: 0.3354 - acc: 0.7850 - val_loss: 0.6785 - val_f1_score: 0.0000e+00 - val_mae: 0.3362 - val_acc: 0.7862\n",
            "Epoch 90/200\n",
            "19/19 [==============================] - 16s 853ms/step - loss: 0.6791 - f1_score: 0.0000e+00 - mae: 0.3350 - acc: 0.7850 - val_loss: 0.6765 - val_f1_score: 0.0000e+00 - val_mae: 0.3245 - val_acc: 0.7862\n",
            "Epoch 91/200\n",
            "19/19 [==============================] - 17s 873ms/step - loss: 0.6782 - f1_score: 0.0000e+00 - mae: 0.3278 - acc: 0.7850 - val_loss: 0.6736 - val_f1_score: 0.0000e+00 - val_mae: 0.3392 - val_acc: 0.7862\n",
            "Epoch 92/200\n",
            "19/19 [==============================] - 16s 834ms/step - loss: 0.6791 - f1_score: 0.0000e+00 - mae: 0.3431 - acc: 0.7850 - val_loss: 0.6728 - val_f1_score: 0.0000e+00 - val_mae: 0.3376 - val_acc: 0.7862\n",
            "Epoch 93/200\n",
            "19/19 [==============================] - 16s 860ms/step - loss: 0.6730 - f1_score: 0.0000e+00 - mae: 0.3387 - acc: 0.7850 - val_loss: 0.6707 - val_f1_score: 0.0000e+00 - val_mae: 0.3372 - val_acc: 0.7862\n",
            "Epoch 94/200\n",
            "19/19 [==============================] - 16s 857ms/step - loss: 0.6729 - f1_score: 0.0000e+00 - mae: 0.3399 - acc: 0.7850 - val_loss: 0.6691 - val_f1_score: 0.0000e+00 - val_mae: 0.3366 - val_acc: 0.7862\n",
            "Epoch 95/200\n",
            "19/19 [==============================] - 16s 857ms/step - loss: 0.6712 - f1_score: 0.0000e+00 - mae: 0.3374 - acc: 0.7850 - val_loss: 0.6664 - val_f1_score: 0.0000e+00 - val_mae: 0.3379 - val_acc: 0.7862\n",
            "Epoch 96/200\n",
            "19/19 [==============================] - 16s 851ms/step - loss: 0.6702 - f1_score: 0.0000e+00 - mae: 0.3364 - acc: 0.7850 - val_loss: 0.6660 - val_f1_score: 0.0000e+00 - val_mae: 0.3343 - val_acc: 0.7862\n",
            "Epoch 97/200\n",
            "19/19 [==============================] - 15s 812ms/step - loss: 0.6666 - f1_score: 0.0000e+00 - mae: 0.3379 - acc: 0.7850 - val_loss: 0.6659 - val_f1_score: 0.0000e+00 - val_mae: 0.3434 - val_acc: 0.7862\n",
            "Epoch 98/200\n",
            "19/19 [==============================] - 16s 839ms/step - loss: 0.6670 - f1_score: 0.0000e+00 - mae: 0.3372 - acc: 0.7850 - val_loss: 0.6623 - val_f1_score: 0.0000e+00 - val_mae: 0.3360 - val_acc: 0.7862\n",
            "Epoch 99/200\n",
            "19/19 [==============================] - 17s 881ms/step - loss: 0.6625 - f1_score: 0.0000e+00 - mae: 0.3394 - acc: 0.7850 - val_loss: 0.6605 - val_f1_score: 0.0000e+00 - val_mae: 0.3354 - val_acc: 0.7862\n",
            "Epoch 100/200\n",
            "19/19 [==============================] - 16s 834ms/step - loss: 0.6612 - f1_score: 0.0000e+00 - mae: 0.3379 - acc: 0.7850 - val_loss: 0.6592 - val_f1_score: 0.0000e+00 - val_mae: 0.3372 - val_acc: 0.7862\n",
            "Epoch 101/200\n",
            "19/19 [==============================] - 16s 843ms/step - loss: 0.6670 - f1_score: 0.0000e+00 - mae: 0.3315 - acc: 0.7850 - val_loss: 0.6591 - val_f1_score: 0.0000e+00 - val_mae: 0.3444 - val_acc: 0.7862\n",
            "Epoch 102/200\n",
            "19/19 [==============================] - 16s 851ms/step - loss: 0.6628 - f1_score: 0.0000e+00 - mae: 0.3359 - acc: 0.7842 - val_loss: 0.6593 - val_f1_score: 0.0000e+00 - val_mae: 0.3317 - val_acc: 0.7862\n",
            "Epoch 103/200\n",
            "19/19 [==============================] - 16s 825ms/step - loss: 0.6613 - f1_score: 0.0000e+00 - mae: 0.3341 - acc: 0.7850 - val_loss: 0.6584 - val_f1_score: 0.0000e+00 - val_mae: 0.3383 - val_acc: 0.7862\n",
            "Epoch 104/200\n",
            "19/19 [==============================] - 16s 828ms/step - loss: 0.6661 - f1_score: 0.0162 - mae: 0.3423 - acc: 0.7801 - val_loss: 0.6596 - val_f1_score: 0.0000e+00 - val_mae: 0.3372 - val_acc: 0.7862\n",
            "Epoch 105/200\n",
            "19/19 [==============================] - 16s 825ms/step - loss: 0.6661 - f1_score: 0.0000e+00 - mae: 0.3396 - acc: 0.7850 - val_loss: 0.6619 - val_f1_score: 0.0000e+00 - val_mae: 0.3373 - val_acc: 0.7862\n",
            "Epoch 106/200\n",
            "19/19 [==============================] - 16s 837ms/step - loss: 0.6654 - f1_score: 0.0000e+00 - mae: 0.3413 - acc: 0.7850 - val_loss: 0.6601 - val_f1_score: 0.0000e+00 - val_mae: 0.3368 - val_acc: 0.7862\n",
            "Epoch 107/200\n",
            "19/19 [==============================] - 16s 827ms/step - loss: 0.6647 - f1_score: 0.0000e+00 - mae: 0.3359 - acc: 0.7850 - val_loss: 0.6580 - val_f1_score: 0.0000e+00 - val_mae: 0.3370 - val_acc: 0.7862\n",
            "Epoch 108/200\n",
            "19/19 [==============================] - 16s 819ms/step - loss: 0.6650 - f1_score: 0.0000e+00 - mae: 0.3370 - acc: 0.7850 - val_loss: 0.6564 - val_f1_score: 0.0000e+00 - val_mae: 0.3370 - val_acc: 0.7862\n",
            "Epoch 109/200\n",
            "19/19 [==============================] - 16s 821ms/step - loss: 0.6638 - f1_score: 0.0088 - mae: 0.3426 - acc: 0.7850 - val_loss: 0.6590 - val_f1_score: 0.0000e+00 - val_mae: 0.3362 - val_acc: 0.7862\n",
            "Epoch 110/200\n",
            "19/19 [==============================] - 16s 818ms/step - loss: 0.6707 - f1_score: 0.0000e+00 - mae: 0.3364 - acc: 0.7801 - val_loss: 0.6594 - val_f1_score: 0.0000e+00 - val_mae: 0.3360 - val_acc: 0.7862\n",
            "Epoch 111/200\n",
            "19/19 [==============================] - 16s 843ms/step - loss: 0.6614 - f1_score: 0.0000e+00 - mae: 0.3379 - acc: 0.7850 - val_loss: 0.6595 - val_f1_score: 0.0000e+00 - val_mae: 0.3322 - val_acc: 0.7862\n",
            "Epoch 112/200\n",
            "19/19 [==============================] - 16s 842ms/step - loss: 0.6635 - f1_score: 0.0000e+00 - mae: 0.3340 - acc: 0.7850 - val_loss: 0.6585 - val_f1_score: 0.0000e+00 - val_mae: 0.3307 - val_acc: 0.7862\n",
            "Epoch 113/200\n",
            "19/19 [==============================] - 16s 837ms/step - loss: 0.6656 - f1_score: 0.0000e+00 - mae: 0.3409 - acc: 0.7850 - val_loss: 0.6579 - val_f1_score: 0.0000e+00 - val_mae: 0.3403 - val_acc: 0.7862\n",
            "Epoch 114/200\n",
            "19/19 [==============================] - 16s 845ms/step - loss: 0.6623 - f1_score: 0.0000e+00 - mae: 0.3380 - acc: 0.7850 - val_loss: 0.6576 - val_f1_score: 0.0000e+00 - val_mae: 0.3340 - val_acc: 0.7862\n",
            "Epoch 115/200\n",
            "19/19 [==============================] - 16s 865ms/step - loss: 0.6608 - f1_score: 0.0000e+00 - mae: 0.3382 - acc: 0.7850 - val_loss: 0.6562 - val_f1_score: 0.0000e+00 - val_mae: 0.3373 - val_acc: 0.7862\n",
            "Epoch 116/200\n",
            "19/19 [==============================] - 16s 843ms/step - loss: 0.6599 - f1_score: 0.0000e+00 - mae: 0.3369 - acc: 0.7850 - val_loss: 0.6558 - val_f1_score: 0.0000e+00 - val_mae: 0.3359 - val_acc: 0.7862\n",
            "Epoch 117/200\n",
            "19/19 [==============================] - 16s 832ms/step - loss: 0.6588 - f1_score: 0.0000e+00 - mae: 0.3400 - acc: 0.7850 - val_loss: 0.6542 - val_f1_score: 0.0000e+00 - val_mae: 0.3360 - val_acc: 0.7862\n",
            "Epoch 118/200\n",
            "19/19 [==============================] - 16s 820ms/step - loss: 0.6563 - f1_score: 0.0000e+00 - mae: 0.3384 - acc: 0.7850 - val_loss: 0.6528 - val_f1_score: 0.0000e+00 - val_mae: 0.3356 - val_acc: 0.7862\n",
            "Epoch 119/200\n",
            "19/19 [==============================] - 17s 889ms/step - loss: 0.6555 - f1_score: 0.0000e+00 - mae: 0.3331 - acc: 0.7850 - val_loss: 0.6496 - val_f1_score: 0.0000e+00 - val_mae: 0.3364 - val_acc: 0.7862\n",
            "Epoch 120/200\n",
            "19/19 [==============================] - 16s 853ms/step - loss: 0.6518 - f1_score: 0.0000e+00 - mae: 0.3376 - acc: 0.7850 - val_loss: 0.6481 - val_f1_score: 0.0000e+00 - val_mae: 0.3369 - val_acc: 0.7862\n",
            "Epoch 121/200\n",
            "19/19 [==============================] - 16s 862ms/step - loss: 0.6489 - f1_score: 0.0000e+00 - mae: 0.3347 - acc: 0.7850 - val_loss: 0.6484 - val_f1_score: 0.0000e+00 - val_mae: 0.3385 - val_acc: 0.7862\n",
            "Epoch 122/200\n",
            "19/19 [==============================] - 16s 852ms/step - loss: 0.6549 - f1_score: 0.0000e+00 - mae: 0.3402 - acc: 0.7850 - val_loss: 0.6477 - val_f1_score: 0.0000e+00 - val_mae: 0.3402 - val_acc: 0.7862\n",
            "Epoch 123/200\n",
            "19/19 [==============================] - 16s 824ms/step - loss: 0.6516 - f1_score: 0.0000e+00 - mae: 0.3351 - acc: 0.7842 - val_loss: 0.6462 - val_f1_score: 0.0000e+00 - val_mae: 0.3371 - val_acc: 0.7862\n",
            "Epoch 124/200\n",
            "19/19 [==============================] - 16s 838ms/step - loss: 0.6515 - f1_score: 0.0000e+00 - mae: 0.3386 - acc: 0.7834 - val_loss: 0.6447 - val_f1_score: 0.0000e+00 - val_mae: 0.3372 - val_acc: 0.7862\n",
            "Epoch 125/200\n",
            "19/19 [==============================] - 16s 852ms/step - loss: 0.6530 - f1_score: 0.0000e+00 - mae: 0.3375 - acc: 0.7850 - val_loss: 0.6452 - val_f1_score: 0.0000e+00 - val_mae: 0.3396 - val_acc: 0.7862\n",
            "Epoch 126/200\n",
            "19/19 [==============================] - 16s 821ms/step - loss: 0.6487 - f1_score: 0.0000e+00 - mae: 0.3317 - acc: 0.7850 - val_loss: 0.6453 - val_f1_score: 0.0000e+00 - val_mae: 0.3405 - val_acc: 0.7862\n",
            "Epoch 127/200\n",
            "19/19 [==============================] - 16s 855ms/step - loss: 0.6537 - f1_score: 0.0000e+00 - mae: 0.3370 - acc: 0.7850 - val_loss: 0.6459 - val_f1_score: 0.0000e+00 - val_mae: 0.3419 - val_acc: 0.7862\n",
            "Epoch 128/200\n",
            "19/19 [==============================] - 16s 844ms/step - loss: 0.6485 - f1_score: 0.0193 - mae: 0.3441 - acc: 0.7858 - val_loss: 0.6473 - val_f1_score: 0.0000e+00 - val_mae: 0.3249 - val_acc: 0.7862\n",
            "Epoch 129/200\n",
            "19/19 [==============================] - 16s 826ms/step - loss: 0.6536 - f1_score: 0.0000e+00 - mae: 0.3295 - acc: 0.7850 - val_loss: 0.6462 - val_f1_score: 0.0000e+00 - val_mae: 0.3376 - val_acc: 0.7862\n",
            "Epoch 130/200\n",
            "19/19 [==============================] - 17s 868ms/step - loss: 0.6454 - f1_score: 0.0070 - mae: 0.3378 - acc: 0.7858 - val_loss: 0.6455 - val_f1_score: 0.0000e+00 - val_mae: 0.3426 - val_acc: 0.7862\n",
            "Epoch 131/200\n",
            "19/19 [==============================] - 16s 869ms/step - loss: 0.6555 - f1_score: 0.0000e+00 - mae: 0.3414 - acc: 0.7850 - val_loss: 0.6471 - val_f1_score: 0.0000e+00 - val_mae: 0.3354 - val_acc: 0.7862\n",
            "Epoch 132/200\n",
            "19/19 [==============================] - 16s 864ms/step - loss: 0.6489 - f1_score: 0.0000e+00 - mae: 0.3361 - acc: 0.7850 - val_loss: 0.6460 - val_f1_score: 0.0000e+00 - val_mae: 0.3375 - val_acc: 0.7862\n",
            "Epoch 133/200\n",
            "19/19 [==============================] - 16s 843ms/step - loss: 0.6472 - f1_score: 0.0000e+00 - mae: 0.3393 - acc: 0.7842 - val_loss: 0.6444 - val_f1_score: 0.0000e+00 - val_mae: 0.3334 - val_acc: 0.7862\n",
            "Epoch 134/200\n",
            "19/19 [==============================] - 16s 841ms/step - loss: 0.6501 - f1_score: 0.0000e+00 - mae: 0.3352 - acc: 0.7825 - val_loss: 0.6445 - val_f1_score: 0.0000e+00 - val_mae: 0.3392 - val_acc: 0.7862\n",
            "Epoch 135/200\n",
            "19/19 [==============================] - 16s 834ms/step - loss: 0.6510 - f1_score: 0.0000e+00 - mae: 0.3410 - acc: 0.7842 - val_loss: 0.6454 - val_f1_score: 0.0000e+00 - val_mae: 0.3376 - val_acc: 0.7862\n",
            "Epoch 136/200\n",
            "19/19 [==============================] - 16s 827ms/step - loss: 0.6515 - f1_score: 0.0000e+00 - mae: 0.3365 - acc: 0.7850 - val_loss: 0.6467 - val_f1_score: 0.0000e+00 - val_mae: 0.3374 - val_acc: 0.7862\n",
            "Epoch 137/200\n",
            "19/19 [==============================] - 16s 871ms/step - loss: 0.6476 - f1_score: 0.0000e+00 - mae: 0.3403 - acc: 0.7850 - val_loss: 0.6450 - val_f1_score: 0.0000e+00 - val_mae: 0.3410 - val_acc: 0.7862\n",
            "Epoch 138/200\n",
            "19/19 [==============================] - 16s 829ms/step - loss: 0.6460 - f1_score: 0.0000e+00 - mae: 0.3370 - acc: 0.7850 - val_loss: 0.6420 - val_f1_score: 0.0000e+00 - val_mae: 0.3417 - val_acc: 0.7862\n",
            "Epoch 139/200\n",
            "19/19 [==============================] - 16s 840ms/step - loss: 0.6439 - f1_score: 0.0000e+00 - mae: 0.3435 - acc: 0.7850 - val_loss: 0.6392 - val_f1_score: 0.0000e+00 - val_mae: 0.3362 - val_acc: 0.7862\n",
            "Epoch 140/200\n",
            "19/19 [==============================] - 16s 835ms/step - loss: 0.6426 - f1_score: 0.0000e+00 - mae: 0.3440 - acc: 0.7850 - val_loss: 0.6426 - val_f1_score: 0.0000e+00 - val_mae: 0.3145 - val_acc: 0.7862\n",
            "Epoch 141/200\n",
            "19/19 [==============================] - 16s 866ms/step - loss: 0.6455 - f1_score: 0.0000e+00 - mae: 0.3252 - acc: 0.7850 - val_loss: 0.6402 - val_f1_score: 0.0000e+00 - val_mae: 0.3373 - val_acc: 0.7862\n",
            "Epoch 142/200\n",
            "19/19 [==============================] - 16s 861ms/step - loss: 0.6483 - f1_score: 0.0000e+00 - mae: 0.3372 - acc: 0.7850 - val_loss: 0.6436 - val_f1_score: 0.0000e+00 - val_mae: 0.3395 - val_acc: 0.7862\n",
            "Epoch 143/200\n",
            "19/19 [==============================] - 16s 843ms/step - loss: 0.6457 - f1_score: 0.0000e+00 - mae: 0.3394 - acc: 0.7850 - val_loss: 0.6413 - val_f1_score: 0.0000e+00 - val_mae: 0.3342 - val_acc: 0.7862\n",
            "Epoch 144/200\n",
            "19/19 [==============================] - 17s 871ms/step - loss: 0.6480 - f1_score: 0.0000e+00 - mae: 0.3359 - acc: 0.7825 - val_loss: 0.6406 - val_f1_score: 0.0000e+00 - val_mae: 0.3479 - val_acc: 0.7862\n",
            "Epoch 145/200\n",
            "19/19 [==============================] - 16s 822ms/step - loss: 0.6482 - f1_score: 0.0000e+00 - mae: 0.3376 - acc: 0.7850 - val_loss: 0.6445 - val_f1_score: 0.0000e+00 - val_mae: 0.3380 - val_acc: 0.7862\n",
            "Epoch 146/200\n",
            "19/19 [==============================] - 16s 856ms/step - loss: 0.6458 - f1_score: 0.0000e+00 - mae: 0.3346 - acc: 0.7850 - val_loss: 0.6423 - val_f1_score: 0.0000e+00 - val_mae: 0.3348 - val_acc: 0.7862\n",
            "Epoch 147/200\n",
            "19/19 [==============================] - 16s 847ms/step - loss: 0.6441 - f1_score: 0.0000e+00 - mae: 0.3368 - acc: 0.7850 - val_loss: 0.6418 - val_f1_score: 0.0000e+00 - val_mae: 0.3391 - val_acc: 0.7862\n",
            "Epoch 148/200\n",
            "19/19 [==============================] - 16s 852ms/step - loss: 0.6469 - f1_score: 0.0000e+00 - mae: 0.3331 - acc: 0.7850 - val_loss: 0.6441 - val_f1_score: 0.0000e+00 - val_mae: 0.3286 - val_acc: 0.7862\n",
            "Epoch 149/200\n",
            "19/19 [==============================] - 16s 836ms/step - loss: 0.6563 - f1_score: 0.0000e+00 - mae: 0.3412 - acc: 0.7825 - val_loss: 0.6487 - val_f1_score: 0.0000e+00 - val_mae: 0.3362 - val_acc: 0.7862\n",
            "Epoch 150/200\n",
            "19/19 [==============================] - 16s 840ms/step - loss: 0.6593 - f1_score: 0.0000e+00 - mae: 0.3359 - acc: 0.7850 - val_loss: 0.6490 - val_f1_score: 0.0000e+00 - val_mae: 0.3378 - val_acc: 0.7862\n",
            "Epoch 151/200\n",
            "19/19 [==============================] - 16s 839ms/step - loss: 0.6540 - f1_score: 0.0000e+00 - mae: 0.3370 - acc: 0.7850 - val_loss: 0.6488 - val_f1_score: 0.0000e+00 - val_mae: 0.3379 - val_acc: 0.7862\n",
            "Epoch 152/200\n",
            "19/19 [==============================] - 16s 827ms/step - loss: 0.6534 - f1_score: 0.0177 - mae: 0.3360 - acc: 0.7850 - val_loss: 0.6475 - val_f1_score: 0.0000e+00 - val_mae: 0.3372 - val_acc: 0.7862\n",
            "Epoch 153/200\n",
            "19/19 [==============================] - 15s 816ms/step - loss: 0.6475 - f1_score: 0.0000e+00 - mae: 0.3378 - acc: 0.7850 - val_loss: 0.6442 - val_f1_score: 0.0000e+00 - val_mae: 0.3363 - val_acc: 0.7862\n",
            "Epoch 154/200\n",
            "19/19 [==============================] - 16s 819ms/step - loss: 0.6592 - f1_score: 0.0223 - mae: 0.3377 - acc: 0.7809 - val_loss: 0.6461 - val_f1_score: 0.0000e+00 - val_mae: 0.3375 - val_acc: 0.7862\n",
            "Epoch 155/200\n",
            "19/19 [==============================] - 16s 843ms/step - loss: 0.6537 - f1_score: 0.0000e+00 - mae: 0.3428 - acc: 0.7850 - val_loss: 0.6476 - val_f1_score: 0.0000e+00 - val_mae: 0.3380 - val_acc: 0.7862\n",
            "Epoch 156/200\n",
            "19/19 [==============================] - 16s 860ms/step - loss: 0.6519 - f1_score: 0.0000e+00 - mae: 0.3366 - acc: 0.7850 - val_loss: 0.6466 - val_f1_score: 0.0000e+00 - val_mae: 0.3365 - val_acc: 0.7862\n",
            "Epoch 157/200\n",
            "19/19 [==============================] - 16s 834ms/step - loss: 0.6625 - f1_score: 0.0000e+00 - mae: 0.3319 - acc: 0.7842 - val_loss: 0.6479 - val_f1_score: 0.0000e+00 - val_mae: 0.3368 - val_acc: 0.7862\n",
            "Epoch 158/200\n",
            "19/19 [==============================] - 16s 838ms/step - loss: 0.6498 - f1_score: 0.0000e+00 - mae: 0.3404 - acc: 0.7850 - val_loss: 0.6466 - val_f1_score: 0.0000e+00 - val_mae: 0.3394 - val_acc: 0.7862\n",
            "Epoch 159/200\n",
            "19/19 [==============================] - 16s 831ms/step - loss: 0.6500 - f1_score: 0.0000e+00 - mae: 0.3360 - acc: 0.7850 - val_loss: 0.6443 - val_f1_score: 0.0000e+00 - val_mae: 0.3367 - val_acc: 0.7862\n",
            "Epoch 160/200\n",
            "19/19 [==============================] - 16s 824ms/step - loss: 0.6474 - f1_score: 0.0000e+00 - mae: 0.3418 - acc: 0.7842 - val_loss: 0.6433 - val_f1_score: 0.0000e+00 - val_mae: 0.3368 - val_acc: 0.7862\n",
            "Epoch 161/200\n",
            "19/19 [==============================] - 16s 848ms/step - loss: 0.6471 - f1_score: 0.0000e+00 - mae: 0.3386 - acc: 0.7850 - val_loss: 0.6429 - val_f1_score: 0.0000e+00 - val_mae: 0.3368 - val_acc: 0.7862\n",
            "Epoch 162/200\n",
            "19/19 [==============================] - 16s 842ms/step - loss: 0.6452 - f1_score: 0.0000e+00 - mae: 0.3357 - acc: 0.7850 - val_loss: 0.6399 - val_f1_score: 0.0000e+00 - val_mae: 0.3368 - val_acc: 0.7862\n",
            "Epoch 163/200\n",
            "19/19 [==============================] - 16s 868ms/step - loss: 0.6420 - f1_score: 0.0000e+00 - mae: 0.3345 - acc: 0.7850 - val_loss: 0.6389 - val_f1_score: 0.0000e+00 - val_mae: 0.3354 - val_acc: 0.7862\n",
            "Epoch 164/200\n",
            "19/19 [==============================] - 16s 825ms/step - loss: 0.6414 - f1_score: 0.0000e+00 - mae: 0.3366 - acc: 0.7850 - val_loss: 0.6387 - val_f1_score: 0.0000e+00 - val_mae: 0.3376 - val_acc: 0.7862\n",
            "Epoch 165/200\n",
            "19/19 [==============================] - 16s 855ms/step - loss: 0.6418 - f1_score: 0.0000e+00 - mae: 0.3380 - acc: 0.7850 - val_loss: 0.6366 - val_f1_score: 0.0000e+00 - val_mae: 0.3377 - val_acc: 0.7862\n",
            "Epoch 166/200\n",
            "19/19 [==============================] - 16s 866ms/step - loss: 0.6378 - f1_score: 0.0000e+00 - mae: 0.3379 - acc: 0.7850 - val_loss: 0.6356 - val_f1_score: 0.0000e+00 - val_mae: 0.3365 - val_acc: 0.7862\n",
            "Epoch 167/200\n",
            "19/19 [==============================] - 16s 855ms/step - loss: 0.6381 - f1_score: 0.0058 - mae: 0.3413 - acc: 0.7850 - val_loss: 0.6338 - val_f1_score: 0.0000e+00 - val_mae: 0.3340 - val_acc: 0.7862\n",
            "Epoch 168/200\n",
            "19/19 [==============================] - 16s 839ms/step - loss: 0.6470 - f1_score: 0.0000e+00 - mae: 0.3363 - acc: 0.7850 - val_loss: 0.6377 - val_f1_score: 0.0000e+00 - val_mae: 0.3366 - val_acc: 0.7862\n",
            "Epoch 169/200\n",
            "19/19 [==============================] - 16s 815ms/step - loss: 0.6396 - f1_score: 0.0000e+00 - mae: 0.3368 - acc: 0.7850 - val_loss: 0.6374 - val_f1_score: 0.0000e+00 - val_mae: 0.3363 - val_acc: 0.7862\n",
            "Epoch 170/200\n",
            "19/19 [==============================] - 16s 826ms/step - loss: 0.6424 - f1_score: 0.0000e+00 - mae: 0.3381 - acc: 0.7850 - val_loss: 0.6359 - val_f1_score: 0.0000e+00 - val_mae: 0.3354 - val_acc: 0.7862\n",
            "Epoch 171/200\n",
            "19/19 [==============================] - 16s 817ms/step - loss: 0.6404 - f1_score: 0.0000e+00 - mae: 0.3377 - acc: 0.7850 - val_loss: 0.6373 - val_f1_score: 0.0000e+00 - val_mae: 0.3343 - val_acc: 0.7862\n",
            "Epoch 172/200\n",
            "19/19 [==============================] - 16s 823ms/step - loss: 0.6403 - f1_score: 0.0000e+00 - mae: 0.3320 - acc: 0.7850 - val_loss: 0.6369 - val_f1_score: 0.0000e+00 - val_mae: 0.3381 - val_acc: 0.7862\n",
            "Epoch 173/200\n",
            "19/19 [==============================] - 16s 862ms/step - loss: 0.6385 - f1_score: 0.0000e+00 - mae: 0.3400 - acc: 0.7850 - val_loss: 0.6352 - val_f1_score: 0.0000e+00 - val_mae: 0.3438 - val_acc: 0.7862\n",
            "Epoch 174/200\n",
            "19/19 [==============================] - 16s 850ms/step - loss: 0.6395 - f1_score: 0.0000e+00 - mae: 0.3411 - acc: 0.7850 - val_loss: 0.6333 - val_f1_score: 0.0000e+00 - val_mae: 0.3382 - val_acc: 0.7862\n",
            "Epoch 175/200\n",
            "19/19 [==============================] - 16s 830ms/step - loss: 0.6355 - f1_score: 0.0000e+00 - mae: 0.3387 - acc: 0.7850 - val_loss: 0.6320 - val_f1_score: 0.0000e+00 - val_mae: 0.3391 - val_acc: 0.7862\n",
            "Epoch 176/200\n",
            "19/19 [==============================] - 15s 805ms/step - loss: 0.6371 - f1_score: 0.0000e+00 - mae: 0.3387 - acc: 0.7850 - val_loss: 0.6334 - val_f1_score: 0.0000e+00 - val_mae: 0.3389 - val_acc: 0.7862\n",
            "Epoch 177/200\n",
            "19/19 [==============================] - 16s 851ms/step - loss: 0.6353 - f1_score: 0.0066 - mae: 0.3407 - acc: 0.7842 - val_loss: 0.6344 - val_f1_score: 0.0000e+00 - val_mae: 0.3431 - val_acc: 0.7862\n",
            "Epoch 178/200\n",
            "19/19 [==============================] - 16s 839ms/step - loss: 0.6354 - f1_score: 0.0000e+00 - mae: 0.3382 - acc: 0.7850 - val_loss: 0.6322 - val_f1_score: 0.0000e+00 - val_mae: 0.3383 - val_acc: 0.7862\n",
            "Epoch 179/200\n",
            "19/19 [==============================] - 15s 815ms/step - loss: 0.6350 - f1_score: 0.0000e+00 - mae: 0.3418 - acc: 0.7850 - val_loss: 0.6303 - val_f1_score: 0.0000e+00 - val_mae: 0.3378 - val_acc: 0.7862\n",
            "Epoch 180/200\n",
            "19/19 [==============================] - 16s 824ms/step - loss: 0.6335 - f1_score: 0.0000e+00 - mae: 0.3389 - acc: 0.7850 - val_loss: 0.6306 - val_f1_score: 0.0000e+00 - val_mae: 0.3369 - val_acc: 0.7862\n",
            "Epoch 181/200\n",
            "19/19 [==============================] - 16s 838ms/step - loss: 0.6365 - f1_score: 0.0000e+00 - mae: 0.3349 - acc: 0.7850 - val_loss: 0.6313 - val_f1_score: 0.0000e+00 - val_mae: 0.3365 - val_acc: 0.7862\n",
            "Epoch 182/200\n",
            "19/19 [==============================] - 16s 855ms/step - loss: 0.6346 - f1_score: 0.0000e+00 - mae: 0.3413 - acc: 0.7850 - val_loss: 0.6306 - val_f1_score: 0.0000e+00 - val_mae: 0.3365 - val_acc: 0.7862\n",
            "Epoch 183/200\n",
            "19/19 [==============================] - 16s 813ms/step - loss: 0.6322 - f1_score: 0.0000e+00 - mae: 0.3367 - acc: 0.7850 - val_loss: 0.6292 - val_f1_score: 0.0000e+00 - val_mae: 0.3357 - val_acc: 0.7862\n",
            "Epoch 184/200\n",
            "19/19 [==============================] - 16s 847ms/step - loss: 0.6322 - f1_score: 0.0000e+00 - mae: 0.3371 - acc: 0.7850 - val_loss: 0.6294 - val_f1_score: 0.0000e+00 - val_mae: 0.3365 - val_acc: 0.7862\n",
            "Epoch 185/200\n",
            "19/19 [==============================] - 16s 846ms/step - loss: 0.6309 - f1_score: 0.0000e+00 - mae: 0.3375 - acc: 0.7850 - val_loss: 0.6283 - val_f1_score: 0.0000e+00 - val_mae: 0.3369 - val_acc: 0.7862\n",
            "Epoch 186/200\n",
            "19/19 [==============================] - 16s 854ms/step - loss: 0.6337 - f1_score: 0.0000e+00 - mae: 0.3341 - acc: 0.7850 - val_loss: 0.6274 - val_f1_score: 0.0000e+00 - val_mae: 0.3410 - val_acc: 0.7862\n",
            "Epoch 187/200\n",
            "19/19 [==============================] - 16s 836ms/step - loss: 0.6303 - f1_score: 0.0000e+00 - mae: 0.3318 - acc: 0.7850 - val_loss: 0.6294 - val_f1_score: 0.0000e+00 - val_mae: 0.3294 - val_acc: 0.7862\n",
            "Epoch 188/200\n",
            "19/19 [==============================] - 15s 816ms/step - loss: 0.6378 - f1_score: 0.0000e+00 - mae: 0.3440 - acc: 0.7850 - val_loss: 0.6336 - val_f1_score: 0.0000e+00 - val_mae: 0.3424 - val_acc: 0.7862\n",
            "Epoch 189/200\n",
            "11/19 [================>.............] - ETA: 6s - loss: 0.6311 - f1_score: 0.0000e+00 - mae: 0.3376 - acc: 0.7884"
          ]
        }
      ],
      "source": [
        "# tbr_train, test_tbr, _ = get_tabular_dataset()\n",
        "# train_img, test_img, target = get_image_dataset()\n",
        "# train_text, test_text, target = get_text_dataset()\n",
        "\n",
        "# train_text, val_text, train_y, val_y, train_tbr, val_tbr, train_img, val_img = train_test_split(train_text, target, tbr_train, train_img, test_size=.2, stratify=target, random_state=42)\n",
        "\n",
        "# train_ids, train_ams, train_msk = bert_tokenize(list(train_text))\n",
        "# val_ids, val_ams, val_msk = bert_tokenize(list(val_text))\n",
        "# test_ids, test_ams, test_msk = bert_tokenize(list(test_text))\n",
        "\n",
        "# from keras import callbacks\n",
        "# val_mae_earlystopping = callbacks.EarlyStopping('val_f1_score', patience=40, restore_best_weights=True)\n",
        "\n",
        "hist = model.fit(\n",
        "    x = [train_ids, train_ams, train_msk, train_img, train_tbr],\n",
        "    y = train_y,\n",
        "    epochs = 200,\n",
        "    batch_size = 64,\n",
        "    validation_data = ([val_ids, val_ams, val_msk, val_img, val_tbr], val_y),\n",
        "    # callbacks=[val_mae_earlystopping]\n",
        ")"
      ]
    },
    {
      "cell_type": "code",
      "execution_count": 43,
      "metadata": {
        "id": "fam2oJiNeeP7",
        "colab": {
          "base_uri": "https://localhost:8080/"
        },
        "outputId": "e055d96c-aa41-45b5-8dc6-0d5e57835886"
      },
      "outputs": [
        {
          "output_type": "stream",
          "name": "stdout",
          "text": [
            "Training F1 :\t 0.0\n",
            "Validation F1 :\t 0.0\n"
          ]
        }
      ],
      "source": [
        "print(f\"{colored('Training F1 :', 'cyan')}\\t\", skMetrics.f1_score(train_y, [int(x>.5) for x in model.predict([train_ids, train_ams, train_msk, train_img, train_tbr], verbose=0)]))\n",
        "print(f\"{colored('Validation F1 :', 'red')}\\t\", skMetrics.f1_score(val_y, [int(x>.5) for x in model.predict([val_ids, val_ams, val_msk, val_img, val_tbr], verbose=0)]))"
      ]
    },
    {
      "cell_type": "code",
      "execution_count": null,
      "metadata": {
        "id": "wUGgu2s3m9m0"
      },
      "outputs": [],
      "source": [
        "pred = model.predict(test_tbr[train_tbr.columns])\n",
        "output = pd.DataFrame()\n",
        "output['id'] = test.id\n",
        "output['label'] = pred\n",
        "output"
      ]
    },
    {
      "cell_type": "code",
      "execution_count": null,
      "metadata": {
        "id": "t1Yo-CGLm9m2"
      },
      "outputs": [],
      "source": [
        "output['label'].value_counts()"
      ]
    },
    {
      "cell_type": "markdown",
      "source": [
        "* 711 300 -> 77.52%\n",
        "* 774 237\n",
        "* 780 231 -> 79%\n",
        "* 803 208 -> 77.51%\n",
        "* 813 198 -> 79_75.csv\n",
        "* 794 217 -> 77_76.csv\n",
        "* 824 187 -> 92_76.csv"
      ],
      "metadata": {
        "id": "kbS9dDjVm9m2"
      }
    },
    {
      "cell_type": "code",
      "execution_count": null,
      "metadata": {
        "id": "Wa5NWPdZm9m3"
      },
      "outputs": [],
      "source": [
        "output.to_csv('92_76_proba.csv', index=False)"
      ]
    },
    {
      "cell_type": "markdown",
      "source": [
        "##### Machine Learning Finishing Layer"
      ],
      "metadata": {
        "id": "h7R8F9vdsxuQ"
      }
    },
    {
      "cell_type": "code",
      "source": [
        "# # loss_fn = tfa.losses.\n",
        "# Text model ##############################################################\n",
        "input_ids_layer = tf.keras.layers.Input(shape=(MAX_WORD,), \n",
        "                                        name='input_ids', \n",
        "                                        dtype='int32')\n",
        "input_attention_mask = tf.keras.layers.Input(shape=(MAX_WORD,), \n",
        "                                             name='input_attention_mask', \n",
        "                                             dtype='int32')\n",
        "input_type_ids = tf.keras.layers.Input(shape=(MAX_WORD,), \n",
        "                                       name='input_type_ids', \n",
        "                                       dtype='int32')\n",
        "last_hidden_state = bert_model([input_ids_layer, input_attention_mask, input_type_ids]).last_hidden_state\n",
        "for layer in bert_model.layers:\n",
        "    layer.trainable = False\n",
        "cls_last_output = last_hidden_state[:, 0, :]\n",
        "dense_t_1 = layers.Dense(450, activation='relu', kernel_initializer = tf.keras.initializers.GlorotNormal(seed = 42),bias_initializer = 'zeros',\n",
        "                                   kernel_regularizer = tf.keras.regularizers.L1(l1=1e-3),\n",
        "                                   bias_regularizer = tf.keras.regularizers.L1(1e-3))(cls_last_output)\n",
        "dropout_t_1 = layers.Dropout(.5)(dense_t_1)\n",
        "output_text = tf.keras.layers.Dense(1, \n",
        "                              activation = 'sigmoid',\n",
        "                              bias_initializer = 'zeros',\n",
        "                              name = 'dense_classifier')(dropout_t_1)\n",
        "#\n",
        "text_model = tf.keras.Model([input_ids_layer, input_attention_mask, input_type_ids], output_text)\n",
        "text_model.compile('adam', \n",
        "              loss = losses.BinaryCrossentropy(),\n",
        "              metrics = [f1_score, 'acc', 'mae'])\n",
        "############################################################################\n",
        "\n",
        "# Image Model ##############################################################\n",
        "from keras.applications import EfficientNetB2\n",
        "from keras.applications.efficientnet import preprocess_input\n",
        "\n",
        "input_img = Input(shape=IMG_SHAPE, dtype=tf.float32)\n",
        "efficientNetB7_layer = EfficientNetB2()(preprocess_input(input_img))\n",
        "efficientNetB7_layer.trainable = False\n",
        "flatten_layer = layers.Flatten()(efficientNetB7_layer)\n",
        "dense_layer = layers.Dense(200, activation='relu', kernel_initializer = tf.keras.initializers.GlorotNormal(seed = 42), bias_initializer = 'zeros',\n",
        "                                   kernel_regularizer = tf.keras.regularizers.L1(l1=1e-3),\n",
        "                                   bias_regularizer = tf.keras.regularizers.L1(1e-3))(flatten_layer)\n",
        "dropout_layer = layers.Dropout(.5)(dense_layer)\n",
        "# dense_layer2 = layers.Dense(200, activation='relu', kernel_initializer = tf.keras.initializers.GlorotNormal(seed = 42), bias_initializer = 'zeros',  \n",
        "#                                    kernel_regularizer = tf.keras.regularizers.L1(l1=1e-3),\n",
        "#                                    bias_regularizer = tf.keras.regularizers.L1(1e-3))(dropout_layer)\n",
        "# dropout_layer2 = layers.Dropout(.5)(dense_layer2)\n",
        "output_img = tf.keras.layers.Dense(1, activation = 'sigmoid')(dropout_layer)\n",
        "#\n",
        "img_model = tf.keras.Model(input_img, output_img)\n",
        "img_model.compile('adam', loss = losses.BinaryCrossentropy(), metrics = [f1_score, 'acc', 'mae'])\n",
        "############################################################################\n",
        "\n",
        "# # Concat with tabular ###########################################\n",
        "tbr_train, test_tbr, _ = get_tabular_dataset()\n",
        "train_img, test_img, target = get_image_dataset()\n",
        "train_text, test_text, target = get_text_dataset()\n",
        "\n",
        "train_text, val_text, train_y, val_y, train_tbr, val_tbr, train_img, val_img  = train_test_split(train_text, target, tbr_train, train_img, test_size=.2, stratify=target, random_state=42)\n",
        "\n",
<<<<<<< HEAD
        "# train_ids, train_ams, train_msk = bert_tokenize(list(train_text))\n",
        "# val_ids, val_ams, val_msk = bert_tokenize(list(val_text))\n",
        "# test_ids, test_ams, test_msk = bert_tokenize(list(test_text))\n",
        "# ############################################################################"
      ]
=======
        "train_ids, train_ams, train_msk = bert_tokenize(list(train_text))\n",
        "val_ids, val_ams, val_msk = bert_tokenize(list(val_text))\n",
        "test_ids, test_ams, test_msk = bert_tokenize(list(test_text))\n",
        "############################################################################"
      ],
      "metadata": {
        "id": "oEOHvIzys0Vh"
      },
      "execution_count": 45,
      "outputs": []
>>>>>>> d408c338a4879cfc39df85a207c464b93a72438a
    },
    {
      "cell_type": "code",
      "execution_count": 162,
      "metadata": {
        "id": "tI3tUQy4xW4h"
      },
      "outputs": [],
      "source": [
        "from keras import callbacks\n",
        "val_mae_earlystopping = callbacks.EarlyStopping('val_f1_score', patience=10, mode='max', restore_best_weights=True)\n",
        "hist = text_model.fit(\n",
        "    x = [train_ids, train_ams, train_msk],\n",
        "    y = tf.cast(train_y, tf.float32),\n",
        "    epochs = 300,\n",
        "    batch_size = 32,\n",
        "    validation_data = ([val_ids, val_ams, val_msk], tf.cast(val_y, tf.float32)),\n",
        "    callbacks=[val_mae_earlystopping]\n",
        ")\n",
        "hist2 = img_model.fit(\n",
        "    x = train_img,\n",
        "    y = tf.cast(train_y, tf.float32),\n",
        "    epochs = 300,\n",
        "    batch_size = 32,\n",
        "    validation_data = (val_img, tf.cast(val_y, tf.float32)),\n",
        "    callbacks=[val_mae_earlystopping]\n",
        ")\n",
        "clear_output()"
<<<<<<< HEAD
      ]
=======
      ],
      "metadata": {
        "id": "tI3tUQy4xW4h"
      },
      "execution_count": 48,
      "outputs": []
>>>>>>> d408c338a4879cfc39df85a207c464b93a72438a
    },
    {
      "cell_type": "code",
      "execution_count": 163,
      "metadata": {
        "colab": {
          "base_uri": "https://localhost:8080/"
        },
        "id": "nl2WdNIs50Z0",
        "outputId": "7b460eb4-95a5-47d5-a3b8-056947caff84"
      },
<<<<<<< HEAD
=======
      "execution_count": 49,
>>>>>>> d408c338a4879cfc39df85a207c464b93a72438a
      "outputs": [
        {
          "name": "stdout",
          "output_type": "stream",
          "text": [
            "IMG Model\n",
            "Training F1 :\t 0.6455331412103748\n",
            "Validation F1 :\t 0.6585365853658536\n",
            "TXT Model\n",
            "Training F1 :\t 0.6710526315789475\n",
            "Validation F1 :\t 0.7189542483660131\n"
          ]
        }
      ],
      "source": [
        "print('IMG Model')\n",
        "print(f\"{colored('Training F1 :', 'cyan')}\\t\", skMetrics.f1_score(train_y, [int(x>.5) for x in img_model.predict(train_img, verbose=0)]))\n",
        "print(f\"{colored('Validation F1 :', 'red')}\\t\", skMetrics.f1_score(val_y, [int(x>.5) for x in img_model.predict(val_img, verbose=0)]))\n",
        "print('TXT Model')\n",
        "print(f\"{colored('Training F1 :', 'cyan')}\\t\", skMetrics.f1_score(train_y, [int(x>.5) for x in text_model.predict([train_ids, train_ams, train_msk], verbose=0)]))\n",
        "print(f\"{colored('Validation F1 :', 'red')}\\t\", skMetrics.f1_score(val_y, [int(x>.5) for x in text_model.predict([val_ids, val_ams, val_msk], verbose=0)]))"
      ]
    },
    {
      "cell_type": "code",
      "execution_count": 164,
      "metadata": {
        "id": "sFmO9SR4yc4d"
      },
      "outputs": [],
      "source": [
        "text_model.save(get_path('text_model_67:71[rnd42].h5'))\n",
        "img_model.save(get_path('img_model_64:65[rnd42].h5'))"
      ],
      "metadata": {
        "id": "oIAvsw3ehRU8"
      },
      "execution_count": 78,
      "outputs": []
    },
    {
      "cell_type": "code",
      "source": [
        "train_tbr['imgPred'] = img_model.predict(train_img, verbose = 0)\n",
        "val_tbr['imgPred'] = img_model.predict(val_img, verbose = 0)\n",
        "test_tbr['imgPred'] = img_model.predict(test_img, verbose = 0)\n",
        "\n",
        "train_tbr['textPred'] = text_model.predict([train_ids, train_ams, train_msk], verbose = 0)\n",
        "val_tbr['textPred'] = text_model.predict([val_ids, val_ams, val_msk], verbose = 0)\n",
        "test_tbr['textPred'] = text_model.predict([test_ids, test_ams, test_msk], verbose = 0)"
<<<<<<< HEAD
      ]
=======
      ],
      "metadata": {
        "id": "sFmO9SR4yc4d"
      },
      "execution_count": 50,
      "outputs": []
>>>>>>> d408c338a4879cfc39df85a207c464b93a72438a
    },
    {
      "cell_type": "code",
      "execution_count": 165,
      "metadata": {
        "colab": {
          "base_uri": "https://localhost:8080/"
        },
        "id": "mS6ht3D9xn3L",
        "outputId": "07bd515b-833a-4e4e-e7ac-5605478a878f"
      },
      "outputs": [
        {
          "name": "stdout",
          "output_type": "stream",
          "text": [
            "Training F1 :\t 0.9530956848030019\n",
            "Validation F1 :\t 0.6875\n"
          ]
        }
      ],
      "source": [
        "from xgboost import XGBClassifier\n",
        "from catboost import CatBoostClassifier\n",
        "from sklearn.ensemble import RandomForestClassifier\n",
        "from lightgbm import LGBMClassifier\n",
        "\n",
        "final_model = CatBoostClassifier(\n",
        "    n_estimators = 1000,\n",
        "    # max_depth=4\n",
        "    # learning_rate= 0.001,\n",
        "    # tree_method = 'gpu_hist'\n",
        ")\n",
        "final_model.fit(train_tbr, train_y)\n",
        "clear_output()\n",
        "print(f\"{colored('Training F1 :', 'cyan')}\\t\", skMetrics.f1_score(train_y, [int(x>.5) for x in final_model.predict(train_tbr)]))\n",
        "print(f\"{colored('Validation F1 :', 'red')}\\t\", skMetrics.f1_score(val_y, [int(x>.5) for x in final_model.predict(val_tbr)]))"
<<<<<<< HEAD
=======
      ],
      "metadata": {
        "colab": {
          "base_uri": "https://localhost:8080/"
        },
        "id": "mS6ht3D9xn3L",
        "outputId": "832d73f6-f342-4e01-b504-6db00c8ef763"
      },
      "execution_count": 70,
      "outputs": [
        {
          "output_type": "stream",
          "name": "stdout",
          "text": [
            "Training F1 :\t 0.9200779727095517\n",
            "Validation F1 :\t 0.7603305785123968\n"
          ]
        }
>>>>>>> d408c338a4879cfc39df85a207c464b93a72438a
      ]
    },
    {
      "cell_type": "code",
<<<<<<< HEAD
      "execution_count": null,
=======
      "source": [
        "final_model.get_all_params()"
      ],
      "metadata": {
        "colab": {
          "base_uri": "https://localhost:8080/"
        },
        "id": "4W5BWMuhgVDx",
        "outputId": "a9158f50-e8cd-44ca-b8ec-ba02da3c615f"
      },
      "execution_count": 68,
      "outputs": [
        {
          "output_type": "execute_result",
          "data": {
            "text/plain": [
              "{'nan_mode': 'Min',\n",
              " 'eval_metric': 'Logloss',\n",
              " 'iterations': 1000,\n",
              " 'sampling_frequency': 'PerTree',\n",
              " 'leaf_estimation_method': 'Newton',\n",
              " 'grow_policy': 'SymmetricTree',\n",
              " 'penalties_coefficient': 1,\n",
              " 'boosting_type': 'Plain',\n",
              " 'model_shrink_mode': 'Constant',\n",
              " 'feature_border_type': 'GreedyLogSum',\n",
              " 'bayesian_matrix_reg': 0.10000000149011612,\n",
              " 'eval_fraction': 0,\n",
              " 'force_unit_auto_pair_weights': False,\n",
              " 'l2_leaf_reg': 3,\n",
              " 'random_strength': 1,\n",
              " 'rsm': 1,\n",
              " 'boost_from_average': False,\n",
              " 'model_size_reg': 0.5,\n",
              " 'pool_metainfo_options': {'tags': {}},\n",
              " 'subsample': 0.800000011920929,\n",
              " 'use_best_model': False,\n",
              " 'class_names': [0, 1],\n",
              " 'random_seed': 0,\n",
              " 'depth': 6,\n",
              " 'posterior_sampling': False,\n",
              " 'border_count': 254,\n",
              " 'classes_count': 0,\n",
              " 'auto_class_weights': 'None',\n",
              " 'sparse_features_conflict_fraction': 0,\n",
              " 'leaf_estimation_backtracking': 'AnyImprovement',\n",
              " 'best_model_min_trees': 1,\n",
              " 'model_shrink_rate': 0,\n",
              " 'min_data_in_leaf': 1,\n",
              " 'loss_function': 'Logloss',\n",
              " 'learning_rate': 0.011191999539732931,\n",
              " 'score_function': 'Cosine',\n",
              " 'task_type': 'CPU',\n",
              " 'leaf_estimation_iterations': 10,\n",
              " 'bootstrap_type': 'MVS',\n",
              " 'max_leaves': 64}"
            ]
          },
          "metadata": {},
          "execution_count": 68
        }
      ]
    },
    {
      "cell_type": "code",
      "source": [
        "plt.barh(final_model.feature_names_in_, final_model.feature_importances_)"
      ],
>>>>>>> d408c338a4879cfc39df85a207c464b93a72438a
      "metadata": {
        "colab": {
          "base_uri": "https://localhost:8080/",
          "height": 166
        },
        "id": "YFT40Grl-THs",
        "outputId": "b38c221f-d225-4acc-91fe-3565d7772c5f"
      },
<<<<<<< HEAD
      "outputs": [],
      "source": [
        "plt.barh(final_model.feature_names_in_, final_model.feature_importances_)"
=======
      "execution_count": 41,
      "outputs": [
        {
          "output_type": "error",
          "ename": "AttributeError",
          "evalue": "ignored",
          "traceback": [
            "\u001b[0;31m---------------------------------------------------------------------------\u001b[0m",
            "\u001b[0;31mAttributeError\u001b[0m                            Traceback (most recent call last)",
            "\u001b[0;32m<ipython-input-41-8b404def02e0>\u001b[0m in \u001b[0;36m<module>\u001b[0;34m\u001b[0m\n\u001b[0;32m----> 1\u001b[0;31m \u001b[0mplt\u001b[0m\u001b[0;34m.\u001b[0m\u001b[0mbarh\u001b[0m\u001b[0;34m(\u001b[0m\u001b[0mfinal_model\u001b[0m\u001b[0;34m.\u001b[0m\u001b[0mfeature_names_in_\u001b[0m\u001b[0;34m,\u001b[0m \u001b[0mfinal_model\u001b[0m\u001b[0;34m.\u001b[0m\u001b[0mfeature_importances_\u001b[0m\u001b[0;34m)\u001b[0m\u001b[0;34m\u001b[0m\u001b[0;34m\u001b[0m\u001b[0m\n\u001b[0m",
            "\u001b[0;31mAttributeError\u001b[0m: 'XGBClassifier' object has no attribute 'feature_names_in_'"
          ]
        }
>>>>>>> d408c338a4879cfc39df85a207c464b93a72438a
      ]
    },
    {
      "cell_type": "code",
      "execution_count": 75,
      "metadata": {
        "colab": {
          "base_uri": "https://localhost:8080/",
          "height": 424
        },
        "id": "V6pzzitXwkW_",
        "outputId": "3f342761-7222-4cd5-d3fd-6bc57ddb1fd5"
      },
      "outputs": [
        {
          "data": {
<<<<<<< HEAD
=======
            "text/plain": [
              "                       id     label\n",
              "0     1213309429254250496  0.231689\n",
              "1     1216196702647939072  0.001033\n",
              "2     1216296533735309312  0.000554\n",
              "3     1234385081482956800  0.002113\n",
              "4     1214853229567041537  0.000329\n",
              "...                   ...       ...\n",
              "1006  1212371781350084608  0.006527\n",
              "1007  1232075152042541056  0.537787\n",
              "1008  1213315563595845633  0.018073\n",
              "1009  1212970781610663936  0.048986\n",
              "1010  1231973813132365825  0.012698\n",
              "\n",
              "[1011 rows x 2 columns]"
            ],
>>>>>>> d408c338a4879cfc39df85a207c464b93a72438a
            "text/html": [
              "\n",
              "  <div id=\"df-9773def0-eb82-4925-8fdc-85a4a9c95363\">\n",
              "    <div class=\"colab-df-container\">\n",
              "      <div>\n",
              "<style scoped>\n",
              "    .dataframe tbody tr th:only-of-type {\n",
              "        vertical-align: middle;\n",
              "    }\n",
              "\n",
              "    .dataframe tbody tr th {\n",
              "        vertical-align: top;\n",
              "    }\n",
              "\n",
              "    .dataframe thead th {\n",
              "        text-align: right;\n",
              "    }\n",
              "</style>\n",
              "<table border=\"1\" class=\"dataframe\">\n",
              "  <thead>\n",
              "    <tr style=\"text-align: right;\">\n",
              "      <th></th>\n",
              "      <th>id</th>\n",
              "      <th>label</th>\n",
              "    </tr>\n",
              "  </thead>\n",
              "  <tbody>\n",
              "    <tr>\n",
              "      <th>0</th>\n",
              "      <td>1213309429254250496</td>\n",
              "      <td>0.231689</td>\n",
              "    </tr>\n",
              "    <tr>\n",
              "      <th>1</th>\n",
              "      <td>1216196702647939072</td>\n",
              "      <td>0.001033</td>\n",
              "    </tr>\n",
              "    <tr>\n",
              "      <th>2</th>\n",
              "      <td>1216296533735309312</td>\n",
              "      <td>0.000554</td>\n",
              "    </tr>\n",
              "    <tr>\n",
              "      <th>3</th>\n",
              "      <td>1234385081482956800</td>\n",
              "      <td>0.002113</td>\n",
              "    </tr>\n",
              "    <tr>\n",
              "      <th>4</th>\n",
              "      <td>1214853229567041537</td>\n",
              "      <td>0.000329</td>\n",
              "    </tr>\n",
              "    <tr>\n",
              "      <th>...</th>\n",
              "      <td>...</td>\n",
              "      <td>...</td>\n",
              "    </tr>\n",
              "    <tr>\n",
              "      <th>1006</th>\n",
              "      <td>1212371781350084608</td>\n",
              "      <td>0.006527</td>\n",
              "    </tr>\n",
              "    <tr>\n",
              "      <th>1007</th>\n",
              "      <td>1232075152042541056</td>\n",
              "      <td>0.537787</td>\n",
              "    </tr>\n",
              "    <tr>\n",
              "      <th>1008</th>\n",
              "      <td>1213315563595845633</td>\n",
              "      <td>0.018073</td>\n",
              "    </tr>\n",
              "    <tr>\n",
              "      <th>1009</th>\n",
              "      <td>1212970781610663936</td>\n",
              "      <td>0.048986</td>\n",
              "    </tr>\n",
              "    <tr>\n",
              "      <th>1010</th>\n",
              "      <td>1231973813132365825</td>\n",
              "      <td>0.012698</td>\n",
              "    </tr>\n",
              "  </tbody>\n",
              "</table>\n",
              "<p>1011 rows × 2 columns</p>\n",
              "</div>\n",
              "      <button class=\"colab-df-convert\" onclick=\"convertToInteractive('df-9773def0-eb82-4925-8fdc-85a4a9c95363')\"\n",
              "              title=\"Convert this dataframe to an interactive table.\"\n",
              "              style=\"display:none;\">\n",
              "        \n",
              "  <svg xmlns=\"http://www.w3.org/2000/svg\" height=\"24px\"viewBox=\"0 0 24 24\"\n",
              "       width=\"24px\">\n",
              "    <path d=\"M0 0h24v24H0V0z\" fill=\"none\"/>\n",
              "    <path d=\"M18.56 5.44l.94 2.06.94-2.06 2.06-.94-2.06-.94-.94-2.06-.94 2.06-2.06.94zm-11 1L8.5 8.5l.94-2.06 2.06-.94-2.06-.94L8.5 2.5l-.94 2.06-2.06.94zm10 10l.94 2.06.94-2.06 2.06-.94-2.06-.94-.94-2.06-.94 2.06-2.06.94z\"/><path d=\"M17.41 7.96l-1.37-1.37c-.4-.4-.92-.59-1.43-.59-.52 0-1.04.2-1.43.59L10.3 9.45l-7.72 7.72c-.78.78-.78 2.05 0 2.83L4 21.41c.39.39.9.59 1.41.59.51 0 1.02-.2 1.41-.59l7.78-7.78 2.81-2.81c.8-.78.8-2.07 0-2.86zM5.41 20L4 18.59l7.72-7.72 1.47 1.35L5.41 20z\"/>\n",
              "  </svg>\n",
              "      </button>\n",
              "      \n",
              "  <style>\n",
              "    .colab-df-container {\n",
              "      display:flex;\n",
              "      flex-wrap:wrap;\n",
              "      gap: 12px;\n",
              "    }\n",
              "\n",
              "    .colab-df-convert {\n",
              "      background-color: #E8F0FE;\n",
              "      border: none;\n",
              "      border-radius: 50%;\n",
              "      cursor: pointer;\n",
              "      display: none;\n",
              "      fill: #1967D2;\n",
              "      height: 32px;\n",
              "      padding: 0 0 0 0;\n",
              "      width: 32px;\n",
              "    }\n",
              "\n",
              "    .colab-df-convert:hover {\n",
              "      background-color: #E2EBFA;\n",
              "      box-shadow: 0px 1px 2px rgba(60, 64, 67, 0.3), 0px 1px 3px 1px rgba(60, 64, 67, 0.15);\n",
              "      fill: #174EA6;\n",
              "    }\n",
              "\n",
              "    [theme=dark] .colab-df-convert {\n",
              "      background-color: #3B4455;\n",
              "      fill: #D2E3FC;\n",
              "    }\n",
              "\n",
              "    [theme=dark] .colab-df-convert:hover {\n",
              "      background-color: #434B5C;\n",
              "      box-shadow: 0px 1px 3px 1px rgba(0, 0, 0, 0.15);\n",
              "      filter: drop-shadow(0px 1px 2px rgba(0, 0, 0, 0.3));\n",
              "      fill: #FFFFFF;\n",
              "    }\n",
              "  </style>\n",
              "\n",
              "      <script>\n",
              "        const buttonEl =\n",
              "          document.querySelector('#df-9773def0-eb82-4925-8fdc-85a4a9c95363 button.colab-df-convert');\n",
              "        buttonEl.style.display =\n",
              "          google.colab.kernel.accessAllowed ? 'block' : 'none';\n",
              "\n",
              "        async function convertToInteractive(key) {\n",
              "          const element = document.querySelector('#df-9773def0-eb82-4925-8fdc-85a4a9c95363');\n",
              "          const dataTable =\n",
              "            await google.colab.kernel.invokeFunction('convertToInteractive',\n",
              "                                                     [key], {});\n",
              "          if (!dataTable) return;\n",
              "\n",
              "          const docLinkHtml = 'Like what you see? Visit the ' +\n",
              "            '<a target=\"_blank\" href=https://colab.research.google.com/notebooks/data_table.ipynb>data table notebook</a>'\n",
              "            + ' to learn more about interactive tables.';\n",
              "          element.innerHTML = '';\n",
              "          dataTable['output_type'] = 'display_data';\n",
              "          await google.colab.output.renderOutput(dataTable, element);\n",
              "          const docLink = document.createElement('div');\n",
              "          docLink.innerHTML = docLinkHtml;\n",
              "          element.appendChild(docLink);\n",
              "        }\n",
              "      </script>\n",
              "    </div>\n",
              "  </div>\n",
              "  "
            ],
            "text/plain": [
              "                       id  label\n",
              "0     1213309429254250496      0\n",
              "1     1216196702647939072      0\n",
              "2     1216296533735309312      0\n",
              "3     1234385081482956800      0\n",
              "4     1214853229567041537      0\n",
              "...                   ...    ...\n",
              "1006  1212371781350084608      0\n",
              "1007  1232075152042541056      1\n",
              "1008  1213315563595845633      0\n",
              "1009  1212970781610663936      0\n",
              "1010  1231973813132365825      0\n",
              "\n",
              "[1011 rows x 2 columns]"
            ]
          },
          "execution_count": 166,
          "metadata": {},
<<<<<<< HEAD
          "output_type": "execute_result"
=======
          "execution_count": 75
>>>>>>> d408c338a4879cfc39df85a207c464b93a72438a
        }
      ],
      "source": [
        "pred = final_model.predict_proba(test_tbr[train_tbr.columns])\n",
        "output = pd.DataFrame()\n",
        "output['id'] = test.id\n",
        "output['label'] = [x[1] for x in pred]\n",
        "output"
      ]
    },
    {
      "cell_type": "code",
      "execution_count": 72,
      "metadata": {
<<<<<<< HEAD
=======
        "outputId": "12818315-584e-430f-f163-af00555e0b2e",
>>>>>>> d408c338a4879cfc39df85a207c464b93a72438a
        "colab": {
          "base_uri": "https://localhost:8080/"
        },
        "id": "9zhTnp2UwkXA",
        "outputId": "f5e2610c-4f65-4d80-cae8-91309f8d767a"
      },
      "outputs": [
        {
          "data": {
            "text/plain": [
              "0    824\n",
              "1    187\n",
              "Name: label, dtype: int64"
            ]
          },
          "execution_count": 167,
          "metadata": {},
<<<<<<< HEAD
          "output_type": "execute_result"
=======
          "execution_count": 72
>>>>>>> d408c338a4879cfc39df85a207c464b93a72438a
        }
      ],
      "source": [
        "output['label'].value_counts()"
      ]
    },
    {
      "cell_type": "markdown",
      "metadata": {
        "id": "8xdI5-wxMOH3"
      },
      "source": [
        "* 711 300 -> 77.52%\n",
        "* 774 237\n",
<<<<<<< HEAD
        "* 780 231\n",
        "* 803 208"
      ]
=======
        "* 780 231 -> 79%\n",
        "* 803 208 -> 77.51%\n",
        "* 813 198 -> 79_75.csv\n",
        "* 794 217 -> 77_76.csv\n",
        "* 824 187 -> 92_76.csv"
      ],
      "metadata": {
        "id": "8xdI5-wxMOH3"
      }
>>>>>>> d408c338a4879cfc39df85a207c464b93a72438a
    },
    {
      "cell_type": "code",
      "execution_count": 76,
      "metadata": {
        "id": "iaHgNGIcwkXA"
      },
      "outputs": [],
      "source": [
        "output.to_csv('92_76_proba.csv', index=False)"
      ]
    },
    {
      "cell_type": "markdown",
      "metadata": {
        "id": "rJYNdqUweeP8"
      },
      "source": [
        "##### Predictioning Ensembling"
      ]
    },
    {
      "cell_type": "code",
      "execution_count": null,
      "metadata": {
        "id": "8f1vKltIeeP9"
      },
      "outputs": [],
      "source": [
        "img_model = models.load_model('models/modelb2_400 .5 200 .5.h5', custom_objects={'f1_score':f1_score})\n",
        "txt_model = models.load_model('models/modelbert450 .5.h5', custom_objects={'TFBertModel':TFBertModel, 'f1_score':f1_score})\n",
        "\n",
        "# tbr_train, test_tbr, _ = get_tabular_dataset()\n",
        "train_img, test_img, target = get_image_dataset()\n",
        "train_txt, test_txt, target = get_text_dataset()\n",
        "\n",
        "train_img, test_img = img_model.predict(train_img), img_model.predict(test_img)\n",
        "\n",
        "train_ids, train_ams, train_msk = bert_tokenize(list(train_txt))\n",
        "test_ids, test_ams, test_msk = bert_tokenize(list(test_txt))\n",
        "\n",
        "train_txt, test_txt = txt_model.predict([train_ids, train_ams, train_msk]), txt_model.predict([test_ids, test_ams, test_msk])\n",
        "\n",
        "# train_tbr_x, val_tbr_x, train_img_x, val_img_x, train_txt_x, val_txt_x, train_y, val_y = train_test_split(tbr_train, train_img, train_txt, target)\n",
        "train_img_x, val_img_x, train_txt_x, val_txt_x, train_y, val_y = train_test_split(train_img, train_txt, target)\n",
        "\n",
        "from lightgbm import LGBMClassifier\n",
        "model = LGBMClassifier(\n",
        "    n_estimators = 500,\n",
        "    max_depth = 8\n",
        "    # tree_method = 'gpu_hist'\n",
        ")\n",
        "# train_concated = pd.concat([train_tbr_x.reset_index().drop(['index'], axis=1), pd.DataFrame({'img': train_img_x.ravel()}), pd.DataFrame({'txt': train_txt_x.ravel()})], axis=1)\n",
        "# val_concated = pd.concat([val_tbr_x.reset_index().drop(['index'], axis=1), pd.DataFrame({'img': val_img_x.ravel()}), pd.DataFrame({'txt': val_txt_x.ravel()})], axis=1)\n",
        "train_concated = pd.concat([pd.DataFrame({'img': train_img_x.ravel()}), pd.DataFrame({'txt': train_txt_x.ravel()})], axis=1)\n",
        "val_concated = pd.concat([pd.DataFrame({'img': val_img_x.ravel()}), pd.DataFrame({'txt': val_txt_x.ravel()})], axis=1)\n",
        "model.fit(train_concated, train_y)"
      ]
    },
    {
      "cell_type": "code",
      "execution_count": null,
      "metadata": {
        "id": "E0hK-S8EeeP9",
        "outputId": "63d19d00-e834-43c3-fb68-4fcaede3cc16"
      },
      "outputs": [
        {
          "name": "stdout",
          "output_type": "stream",
          "text": [
            "0.9701230228471002\n",
            "0.968421052631579\n"
          ]
        }
      ],
      "source": [
        "print(skMetrics.accuracy_score(train_y, ((train_img_x.ravel()+train_txt_x.ravel())/2) > .5))\n",
        "print(skMetrics.accuracy_score(val_y,((val_img_x.ravel()+val_txt_x.ravel())/2) > .5))"
      ]
    },
    {
      "cell_type": "code",
      "execution_count": null,
      "metadata": {
        "id": "kCcoQJDyeeP9",
        "outputId": "660eb65a-cf52-43dd-bc04-ef5dfe07f8a7"
      },
      "outputs": [
        {
          "name": "stdout",
          "output_type": "stream",
          "text": [
            "0.99581589958159\n",
            "0.9195402298850575\n"
          ]
        }
      ],
      "source": [
        "print(skMetrics.f1_score(train_y, model.predict(train_concated)))\n",
        "print(skMetrics.f1_score(val_y, model.predict(val_concated)))"
      ]
    },
    {
      "cell_type": "code",
      "execution_count": null,
      "metadata": {
        "id": "JQJgjyKxeeP9"
      },
      "outputs": [],
      "source": [
        "pred = model.predict(pd.concat([test_tbr, test_img, test_txt], axis=1))"
      ]
    },
    {
      "cell_type": "code",
      "execution_count": null,
      "metadata": {
        "id": "84T7rp0ieeP-",
        "outputId": "baa44caa-eb6a-4814-daa5-ed7d6403718e"
      },
      "outputs": [
        {
          "data": {
            "text/html": [
              "<div>\n",
              "<style scoped>\n",
              "    .dataframe tbody tr th:only-of-type {\n",
              "        vertical-align: middle;\n",
              "    }\n",
              "\n",
              "    .dataframe tbody tr th {\n",
              "        vertical-align: top;\n",
              "    }\n",
              "\n",
              "    .dataframe thead th {\n",
              "        text-align: right;\n",
              "    }\n",
              "</style>\n",
              "<table border=\"1\" class=\"dataframe\">\n",
              "  <thead>\n",
              "    <tr style=\"text-align: right;\">\n",
              "      <th></th>\n",
              "      <th>id</th>\n",
              "      <th>label</th>\n",
              "    </tr>\n",
              "  </thead>\n",
              "  <tbody>\n",
              "    <tr>\n",
              "      <th>0</th>\n",
              "      <td>1213309429254250496</td>\n",
              "      <td>0</td>\n",
              "    </tr>\n",
              "    <tr>\n",
              "      <th>1</th>\n",
              "      <td>1216196702647939072</td>\n",
              "      <td>0</td>\n",
              "    </tr>\n",
              "    <tr>\n",
              "      <th>2</th>\n",
              "      <td>1216296533735309312</td>\n",
              "      <td>0</td>\n",
              "    </tr>\n",
              "    <tr>\n",
              "      <th>3</th>\n",
              "      <td>1234385081482956800</td>\n",
              "      <td>0</td>\n",
              "    </tr>\n",
              "    <tr>\n",
              "      <th>4</th>\n",
              "      <td>1214853229567041537</td>\n",
              "      <td>0</td>\n",
              "    </tr>\n",
              "    <tr>\n",
              "      <th>...</th>\n",
              "      <td>...</td>\n",
              "      <td>...</td>\n",
              "    </tr>\n",
              "    <tr>\n",
              "      <th>1006</th>\n",
              "      <td>1212371781350084608</td>\n",
              "      <td>0</td>\n",
              "    </tr>\n",
              "    <tr>\n",
              "      <th>1007</th>\n",
              "      <td>1232075152042541056</td>\n",
              "      <td>1</td>\n",
              "    </tr>\n",
              "    <tr>\n",
              "      <th>1008</th>\n",
              "      <td>1213315563595845633</td>\n",
              "      <td>0</td>\n",
              "    </tr>\n",
              "    <tr>\n",
              "      <th>1009</th>\n",
              "      <td>1212970781610663936</td>\n",
              "      <td>0</td>\n",
              "    </tr>\n",
              "    <tr>\n",
              "      <th>1010</th>\n",
              "      <td>1231973813132365825</td>\n",
              "      <td>0</td>\n",
              "    </tr>\n",
              "  </tbody>\n",
              "</table>\n",
              "<p>1011 rows × 2 columns</p>\n",
              "</div>"
            ],
            "text/plain": [
              "                       id  label\n",
              "0     1213309429254250496      0\n",
              "1     1216196702647939072      0\n",
              "2     1216296533735309312      0\n",
              "3     1234385081482956800      0\n",
              "4     1214853229567041537      0\n",
              "...                   ...    ...\n",
              "1006  1212371781350084608      0\n",
              "1007  1232075152042541056      1\n",
              "1008  1213315563595845633      0\n",
              "1009  1212970781610663936      0\n",
              "1010  1231973813132365825      0\n",
              "\n",
              "[1011 rows x 2 columns]"
            ]
          },
          "execution_count": 94,
          "metadata": {},
          "output_type": "execute_result"
        }
      ],
      "source": [
        "output = pd.DataFrame()\n",
        "output['id'] = test.id\n",
        "output['label'] = pred\n",
        "output"
      ]
    },
    {
      "cell_type": "code",
      "execution_count": null,
      "metadata": {
        "id": "iTV1SFdkeeP-",
        "outputId": "0769a4fd-a65a-40e7-a3a0-fd146c2fa52a"
      },
      "outputs": [
        {
          "data": {
            "text/plain": [
              "0    831\n",
              "1    180\n",
              "Name: label, dtype: int64"
            ]
          },
          "execution_count": 96,
          "metadata": {},
          "output_type": "execute_result"
        }
      ],
      "source": [
        "output['label'].value_counts()"
      ]
    },
    {
      "cell_type": "code",
      "execution_count": null,
      "metadata": {
        "id": "C7Q1gIuSeeP-"
      },
      "outputs": [],
      "source": [
        "output.to_csv('Mean_TXT_IMG.csv', index=False)"
      ]
    },
    {
      "cell_type": "code",
      "execution_count": null,
      "metadata": {
        "id": "-cclBovXeeP_",
        "outputId": "d5ad1e75-bfe6-4b0c-d5dc-5b87a4060417"
      },
      "outputs": [
        {
          "data": {
            "text/plain": [
              "48"
            ]
          },
          "execution_count": 100,
          "metadata": {},
          "output_type": "execute_result"
        }
      ],
      "source": [
        "a = pd.read_csv('DLOutputLayer.XGBOOST.csv')\n",
        "b = pd.read_csv('Mean_TXT_IMG.csv')\n",
        "sum([x != y for x, y in zip(a['label'], b['label'])])"
      ]
    },
    {
      "cell_type": "markdown",
      "metadata": {
        "id": "pTBO_LQteeQA"
      },
      "source": [
        "##### Last Layer to Machine Learning"
      ]
    },
    {
      "cell_type": "code",
      "execution_count": null,
      "metadata": {
        "id": "rYeAeyfEeeQA"
      },
      "outputs": [],
      "source": [
        "# # Image Model Feature\n",
        "# img_model = models.load_model('models/modelb2_400 .5 200 .5.h5')\n",
        "# img_model_feature_extracter = keras.Model(inputs=img_model.input, outputs=img_model.layers[-2].output)\n",
        "\n",
        "# # GPU MEMORY LIMIT\n",
        "# # BATCHING PREDICTION TECHNIQUE REQUIRED\n",
        "# train_img, test_img, target = get_image_dataset()\n",
        "# train_feature_img = {}\n",
        "# for index, img in enumerate(tqdm(train_img)):\n",
        "#     nw_feature = img_model_feature_extracter(img.reshape(1, 260, 260, 3))\n",
        "#     for num, feature in enumerate(tf.squeeze(nw_feature)):\n",
        "#         if index == 0:\n",
        "#             train_feature_img[f\"img_{num}\"] = []\n",
        "#         train_feature_img[f\"img_{num}\"].append(np.array(feature))\n",
        "\n",
        "# test_feature_img = {}\n",
        "# for index, img in enumerate(tqdm(test_img)):\n",
        "#     nw_feature = img_model_feature_extracter(img.reshape(1, 260, 260, 3))\n",
        "#     for num, feature in enumerate(tf.squeeze(nw_feature)):\n",
        "#         if index == 0:\n",
        "#             test_feature_img[f\"img_{num}\"] = []\n",
        "#         test_feature_img[f\"img_{num}\"].append(np.array(feature))\n",
        "\n",
        "# train_feature_img = pd.DataFrame(train_feature_img)\n",
        "# test_feature_img = pd.DataFrame(test_feature_img)\n",
        "# train_feature_img.to_csv('checkpoints/train_feature_img.csv', index=False)\n",
        "# test_feature_img.to_csv('checkpoints/test_feature_img.csv', index=False)"
      ]
    },
    {
      "cell_type": "code",
      "execution_count": null,
      "metadata": {
        "id": "wsqmubNteeQA",
        "outputId": "c8e35a56-0b83-4c7c-beaa-84fbe07d10e3"
      },
      "outputs": [
        {
          "name": "stdout",
          "output_type": "stream",
          "text": [
            "WARNING:tensorflow:Error in loading the saved optimizer state. As a result, your model is starting with a freshly initialized optimizer.\n"
          ]
        },
        {
          "name": "stderr",
          "output_type": "stream",
          "text": [
            "100%|██████████| 1518/1518 [06:44<00:00,  3.75it/s]\n",
            "100%|██████████| 1011/1011 [04:24<00:00,  3.82it/s]\n"
          ]
        }
      ],
      "source": [
        "# # Text Model Feature\n",
        "# txt_model = models.load_model('models/modelbert450 .5.h5', custom_objects={'f1_score':f1_score, 'TFBertModel':TFBertModel})\n",
        "# txt_model_feature_extracter = keras.Model(inputs=txt_model.input, outputs=txt_model.layers[-2].output)\n",
        "\n",
        "# # GPU MEMORY LIMIT\n",
        "# # BATCHING PREDICTION TECHNIQUE REQUIRED\n",
        "# train_txt, test_txt, target = get_text_dataset()\n",
        "\n",
        "# train_feature_txt = {}\n",
        "# for index, text in enumerate(tqdm(train_txt)):\n",
        "#     ids, ams, msk = bert_tokenize(list([text]))\n",
        "#     nw_feature = txt_model_feature_extracter([ids, ams, msk])\n",
        "#     for num, feature in enumerate(tf.squeeze(nw_feature)):\n",
        "#         if index == 0:\n",
        "#             train_feature_txt[f\"txt_{num}\"] = []\n",
        "#         train_feature_txt[f\"txt_{num}\"].append(np.array(feature))\n",
        "\n",
        "# test_feature_txt = {}\n",
        "# for index, text in enumerate(tqdm(test_txt)):\n",
        "#     ids, ams, msk = bert_tokenize(list([text]))\n",
        "#     nw_feature = txt_model_feature_extracter([ids, ams, msk])\n",
        "#     for num, feature in enumerate(tf.squeeze(nw_feature)):\n",
        "#         if index == 0:\n",
        "#             test_feature_txt[f\"txt_{num}\"] = []\n",
        "#         test_feature_txt[f\"txt_{num}\"].append(np.array(feature))\n",
        "\n",
        "# train_feature_txt = pd.DataFrame(train_feature_txt)\n",
        "# test_feature_txt = pd.DataFrame(test_feature_txt)\n",
        "# train_feature_txt.to_csv('checkpoints/train_feature_txt.csv', index=False)\n",
        "# test_feature_txt.to_csv('checkpoints/test_feature_txt.csv', index=False)"
      ]
    },
    {
      "cell_type": "code",
      "execution_count": null,
      "metadata": {
        "id": "X1oQ7RrHwaDX"
      },
      "outputs": [],
      "source": [
        "pred = model.predict(pd.concat([test_tbr, test_img, test_txt], axis=1))\n",
        "output = pd.DataFrame()\n",
        "output['id'] = test.id\n",
        "output['label'] = pred\n",
        "output"
      ]
    },
    {
      "cell_type": "code",
      "execution_count": null,
      "metadata": {
        "id": "UMz-D5PswaDZ",
        "outputId": "0769a4fd-a65a-40e7-a3a0-fd146c2fa52a"
      },
      "outputs": [
        {
          "data": {
            "text/plain": [
              "0    831\n",
              "1    180\n",
              "Name: label, dtype: int64"
            ]
          },
          "execution_count": 96,
          "metadata": {},
          "output_type": "execute_result"
        }
      ],
      "source": [
        "output['label'].value_counts()"
      ]
    },
    {
      "cell_type": "code",
      "execution_count": null,
      "metadata": {
        "id": "EN0vCSApwaDa"
      },
      "outputs": [],
      "source": [
        "output.to_csv('Mean_TXT_IMG.csv', index=False)"
      ]
    }
  ],
  "metadata": {
    "accelerator": "GPU",
    "colab": {
      "machine_shape": "hm",
      "provenance": [],
      "toc_visible": true,
      "include_colab_link": true
    },
    "gpuClass": "premium",
    "kernelspec": {
      "display_name": "Python 3.10.7 64-bit",
      "language": "python",
      "name": "python3"
    },
    "language_info": {
      "codemirror_mode": {
        "name": "ipython",
        "version": 3
      },
      "file_extension": ".py",
      "mimetype": "text/x-python",
      "name": "python",
      "nbconvert_exporter": "python",
      "pygments_lexer": "ipython3",
      "version": "3.10.7"
    },
    "orig_nbformat": 4,
    "vscode": {
      "interpreter": {
        "hash": "26de051ba29f2982a8de78e945f0abaf191376122a1563185a90213a26c5da77"
      }
    }
  },
  "nbformat": 4,
  "nbformat_minor": 0
}
